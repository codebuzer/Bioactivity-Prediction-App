{
  "cells": [
    {
      "cell_type": "markdown",
      "metadata": {
        "id": "view-in-github",
        "colab_type": "text"
      },
      "source": [
        "<a href=\"https://colab.research.google.com/github/codebuzer/Bioactivity-Prediction-App/blob/main/regressionplot.ipynb\" target=\"_parent\"><img src=\"https://colab.research.google.com/assets/colab-badge.svg\" alt=\"Open In Colab\"/></a>"
      ]
    },
    {
      "cell_type": "code",
      "execution_count": 283,
      "metadata": {
        "id": "1Vs-tmVJZvVe"
      },
      "outputs": [],
      "source": [
        "import numpy as np\n",
        "import pandas as pd\n",
        "import matplotlib.pyplot as plt\n",
        "from sklearn.metrics import mean_squared_error"
      ]
    },
    {
      "cell_type": "code",
      "execution_count": 239,
      "metadata": {
        "id": "3DpAAl5faFeO"
      },
      "outputs": [],
      "source": [
        "test = pd.read_csv(\"/content/drive/MyDrive/test (1).csv\", index_col = 0)"
      ]
    },
    {
      "cell_type": "code",
      "execution_count": 240,
      "metadata": {
        "id": "NfKbGNnRaXBh"
      },
      "outputs": [],
      "source": [
        "train = pd.read_csv(\"/content/drive/MyDrive/train (2).csv\", index_col = 0)"
      ]
    },
    {
      "cell_type": "code",
      "execution_count": 241,
      "metadata": {
        "colab": {
          "base_uri": "https://localhost:8080/"
        },
        "id": "LhAlHy52adPx",
        "outputId": "330abb45-51cc-4b77-a6a5-a61758afb3fc"
      },
      "outputs": [
        {
          "output_type": "execute_result",
          "data": {
            "text/plain": [
              "Index(['V1', 'V2', 'V3', 'V4', 'V5', 'V6', 'V7', 'V8', 'V9', 'V10', 'V11',\n",
              "       'V12', 'V13', 'V14', 'V15', 'V16', 'V17', 'V18', 'V20', 'V21', 'V22',\n",
              "       'V23', 'V24', 'V25', 'V26', 'V27', 'V28', 'V29', 'V30', 'V31', 'V32',\n",
              "       'V33', 'V34', 'V35', 'V36', 'V37', 'V38', 'V39', 'V40', 'V41', 'V42',\n",
              "       'V43', 'V44', 'V45', 'V46', 'V47', 'V48', 'V49', 'V50', 'agenum_random',\n",
              "       'ctnum_random', 'batch_A', 'batch_B', 'batch_C', 'batch_D', 'batch_E',\n",
              "       'batch_F', 'batch_G', 'batch_H', 'batch_I', 'batch_J', 'batch_K',\n",
              "       'batch_L', 'batch_M', 'batch_N', 'batch_O', 'batch_P', 'batch_Q',\n",
              "       'batch_R', 'batch_S', 'batch_T', 'batch_U', 'ctnum_median_status',\n",
              "       'infection'],\n",
              "      dtype='object')"
            ]
          },
          "metadata": {},
          "execution_count": 241
        }
      ],
      "source": [
        "train.columns"
      ]
    },
    {
      "cell_type": "code",
      "execution_count": 242,
      "metadata": {
        "id": "S8mnpoFwaf1C"
      },
      "outputs": [],
      "source": [
        "test.columns\n",
        "test = test.drop(['V19'], axis = 1)\n",
        "train=train.drop(['batch_D'], axis = 1)"
      ]
    },
    {
      "cell_type": "code",
      "execution_count": 243,
      "metadata": {
        "colab": {
          "base_uri": "https://localhost:8080/"
        },
        "id": "PXVXw0BBa2OT",
        "outputId": "7c1fcd40-c8a4-4261-d580-3086b8b491d5"
      },
      "outputs": [
        {
          "output_type": "execute_result",
          "data": {
            "text/plain": [
              "Index(['V1', 'V2', 'V3', 'V4', 'V5', 'V6', 'V7', 'V8', 'V9', 'V10', 'V11',\n",
              "       'V12', 'V13', 'V14', 'V15', 'V16', 'V17', 'V18', 'V20', 'V21', 'V22',\n",
              "       'V23', 'V24', 'V25', 'V26', 'V27', 'V28', 'V29', 'V30', 'V31', 'V32',\n",
              "       'V33', 'V34', 'V35', 'V36', 'V37', 'V38', 'V39', 'V40', 'V41', 'V42',\n",
              "       'V43', 'V44', 'V45', 'V46', 'V47', 'V48', 'V49', 'V50', 'agenum_random',\n",
              "       'ctnum_random', 'batch_A', 'batch_B', 'batch_C', 'batch_E', 'batch_F',\n",
              "       'batch_G', 'batch_H', 'batch_I', 'batch_J', 'batch_K', 'batch_L',\n",
              "       'batch_M', 'batch_N', 'batch_O', 'batch_P', 'batch_Q', 'batch_R',\n",
              "       'batch_S', 'batch_T', 'batch_U', 'ctnum_median_status', 'infection'],\n",
              "      dtype='object')"
            ]
          },
          "metadata": {},
          "execution_count": 243
        }
      ],
      "source": [
        "test.columns"
      ]
    },
    {
      "cell_type": "code",
      "execution_count": 244,
      "metadata": {
        "colab": {
          "base_uri": "https://localhost:8080/"
        },
        "id": "BJFrj_p3ahHT",
        "outputId": "48a2ed95-b55d-45ef-ddb7-dcaf29bcc4dd"
      },
      "outputs": [
        {
          "output_type": "execute_result",
          "data": {
            "text/plain": [
              "Index(['V1', 'V2', 'V3', 'V4', 'V5', 'V6', 'V7', 'V8', 'V9', 'V10', 'V11',\n",
              "       'V12', 'V13', 'V14', 'V15', 'V16', 'V17', 'V18', 'V20', 'V21', 'V22',\n",
              "       'V23', 'V24', 'V25', 'V26', 'V27', 'V28', 'V29', 'V30', 'V31', 'V32',\n",
              "       'V33', 'V34', 'V35', 'V36', 'V37', 'V38', 'V39', 'V40', 'V41', 'V42',\n",
              "       'V43', 'V44', 'V45', 'V46', 'V47', 'V48', 'V49', 'V50', 'agenum_random',\n",
              "       'ctnum_random', 'batch_A', 'batch_B', 'batch_C', 'batch_E', 'batch_F',\n",
              "       'batch_G', 'batch_H', 'batch_I', 'batch_J', 'batch_K', 'batch_L',\n",
              "       'batch_M', 'batch_N', 'batch_O', 'batch_P', 'batch_Q', 'batch_R',\n",
              "       'batch_S', 'batch_T', 'batch_U', 'ctnum_median_status', 'infection'],\n",
              "      dtype='object')"
            ]
          },
          "metadata": {},
          "execution_count": 244
        }
      ],
      "source": [
        "train.columns"
      ]
    },
    {
      "cell_type": "code",
      "execution_count": 245,
      "metadata": {
        "colab": {
          "base_uri": "https://localhost:8080/"
        },
        "id": "y37hvezpa68W",
        "outputId": "2aa0ba05-0d04-437f-b805-a314141e50d0"
      },
      "outputs": [
        {
          "output_type": "stream",
          "name": "stdout",
          "text": [
            "<class 'pandas.core.frame.DataFrame'>\n",
            "Int64Index: 652 entries, 0 to 651\n",
            "Data columns (total 73 columns):\n",
            " #   Column               Non-Null Count  Dtype  \n",
            "---  ------               --------------  -----  \n",
            " 0   V1                   652 non-null    float64\n",
            " 1   V2                   652 non-null    float64\n",
            " 2   V3                   652 non-null    float64\n",
            " 3   V4                   652 non-null    float64\n",
            " 4   V5                   652 non-null    float64\n",
            " 5   V6                   652 non-null    float64\n",
            " 6   V7                   652 non-null    float64\n",
            " 7   V8                   652 non-null    float64\n",
            " 8   V9                   652 non-null    float64\n",
            " 9   V10                  652 non-null    float64\n",
            " 10  V11                  652 non-null    float64\n",
            " 11  V12                  652 non-null    float64\n",
            " 12  V13                  652 non-null    float64\n",
            " 13  V14                  652 non-null    float64\n",
            " 14  V15                  652 non-null    float64\n",
            " 15  V16                  652 non-null    float64\n",
            " 16  V17                  652 non-null    float64\n",
            " 17  V18                  652 non-null    float64\n",
            " 18  V20                  652 non-null    float64\n",
            " 19  V21                  652 non-null    float64\n",
            " 20  V22                  652 non-null    float64\n",
            " 21  V23                  652 non-null    float64\n",
            " 22  V24                  652 non-null    float64\n",
            " 23  V25                  652 non-null    float64\n",
            " 24  V26                  652 non-null    float64\n",
            " 25  V27                  652 non-null    float64\n",
            " 26  V28                  652 non-null    float64\n",
            " 27  V29                  652 non-null    float64\n",
            " 28  V30                  652 non-null    float64\n",
            " 29  V31                  652 non-null    float64\n",
            " 30  V32                  652 non-null    float64\n",
            " 31  V33                  652 non-null    float64\n",
            " 32  V34                  652 non-null    float64\n",
            " 33  V35                  652 non-null    float64\n",
            " 34  V36                  652 non-null    float64\n",
            " 35  V37                  652 non-null    float64\n",
            " 36  V38                  652 non-null    float64\n",
            " 37  V39                  652 non-null    float64\n",
            " 38  V40                  652 non-null    float64\n",
            " 39  V41                  652 non-null    float64\n",
            " 40  V42                  652 non-null    float64\n",
            " 41  V43                  652 non-null    float64\n",
            " 42  V44                  652 non-null    float64\n",
            " 43  V45                  652 non-null    float64\n",
            " 44  V46                  652 non-null    float64\n",
            " 45  V47                  652 non-null    float64\n",
            " 46  V48                  652 non-null    float64\n",
            " 47  V49                  652 non-null    float64\n",
            " 48  V50                  652 non-null    float64\n",
            " 49  agenum_random        652 non-null    float64\n",
            " 50  ctnum_random         652 non-null    float64\n",
            " 51  batch_A              652 non-null    int64  \n",
            " 52  batch_B              652 non-null    int64  \n",
            " 53  batch_C              652 non-null    int64  \n",
            " 54  batch_E              652 non-null    int64  \n",
            " 55  batch_F              652 non-null    int64  \n",
            " 56  batch_G              652 non-null    int64  \n",
            " 57  batch_H              652 non-null    int64  \n",
            " 58  batch_I              652 non-null    int64  \n",
            " 59  batch_J              652 non-null    int64  \n",
            " 60  batch_K              652 non-null    int64  \n",
            " 61  batch_L              652 non-null    int64  \n",
            " 62  batch_M              652 non-null    int64  \n",
            " 63  batch_N              652 non-null    int64  \n",
            " 64  batch_O              652 non-null    int64  \n",
            " 65  batch_P              652 non-null    int64  \n",
            " 66  batch_Q              652 non-null    int64  \n",
            " 67  batch_R              652 non-null    int64  \n",
            " 68  batch_S              652 non-null    int64  \n",
            " 69  batch_T              652 non-null    int64  \n",
            " 70  batch_U              652 non-null    int64  \n",
            " 71  ctnum_median_status  652 non-null    int64  \n",
            " 72  infection            652 non-null    int64  \n",
            "dtypes: float64(51), int64(22)\n",
            "memory usage: 376.9 KB\n"
          ]
        }
      ],
      "source": [
        "train.info()"
      ]
    },
    {
      "cell_type": "code",
      "execution_count": 246,
      "metadata": {
        "colab": {
          "base_uri": "https://localhost:8080/"
        },
        "id": "vSbKUJMwbRgL",
        "outputId": "cfd5f577-1eee-47bd-9dc8-c78d02ac3794"
      },
      "outputs": [
        {
          "output_type": "stream",
          "name": "stdout",
          "text": [
            "<class 'pandas.core.frame.DataFrame'>\n",
            "Int64Index: 121 entries, 418 to 395\n",
            "Data columns (total 73 columns):\n",
            " #   Column               Non-Null Count  Dtype  \n",
            "---  ------               --------------  -----  \n",
            " 0   V1                   121 non-null    float64\n",
            " 1   V2                   121 non-null    float64\n",
            " 2   V3                   121 non-null    float64\n",
            " 3   V4                   121 non-null    float64\n",
            " 4   V5                   121 non-null    float64\n",
            " 5   V6                   121 non-null    float64\n",
            " 6   V7                   121 non-null    float64\n",
            " 7   V8                   121 non-null    float64\n",
            " 8   V9                   121 non-null    float64\n",
            " 9   V10                  121 non-null    float64\n",
            " 10  V11                  121 non-null    float64\n",
            " 11  V12                  121 non-null    float64\n",
            " 12  V13                  121 non-null    float64\n",
            " 13  V14                  121 non-null    float64\n",
            " 14  V15                  121 non-null    float64\n",
            " 15  V16                  121 non-null    float64\n",
            " 16  V17                  121 non-null    float64\n",
            " 17  V18                  121 non-null    float64\n",
            " 18  V20                  121 non-null    float64\n",
            " 19  V21                  121 non-null    float64\n",
            " 20  V22                  121 non-null    float64\n",
            " 21  V23                  121 non-null    float64\n",
            " 22  V24                  121 non-null    float64\n",
            " 23  V25                  121 non-null    float64\n",
            " 24  V26                  121 non-null    float64\n",
            " 25  V27                  121 non-null    float64\n",
            " 26  V28                  121 non-null    float64\n",
            " 27  V29                  121 non-null    float64\n",
            " 28  V30                  121 non-null    float64\n",
            " 29  V31                  121 non-null    float64\n",
            " 30  V32                  121 non-null    float64\n",
            " 31  V33                  121 non-null    float64\n",
            " 32  V34                  121 non-null    float64\n",
            " 33  V35                  121 non-null    float64\n",
            " 34  V36                  121 non-null    float64\n",
            " 35  V37                  121 non-null    float64\n",
            " 36  V38                  121 non-null    float64\n",
            " 37  V39                  121 non-null    float64\n",
            " 38  V40                  121 non-null    float64\n",
            " 39  V41                  121 non-null    float64\n",
            " 40  V42                  121 non-null    float64\n",
            " 41  V43                  121 non-null    float64\n",
            " 42  V44                  121 non-null    float64\n",
            " 43  V45                  121 non-null    float64\n",
            " 44  V46                  121 non-null    float64\n",
            " 45  V47                  121 non-null    float64\n",
            " 46  V48                  121 non-null    float64\n",
            " 47  V49                  121 non-null    float64\n",
            " 48  V50                  121 non-null    float64\n",
            " 49  agenum_random        121 non-null    float64\n",
            " 50  ctnum_random         121 non-null    float64\n",
            " 51  batch_A              121 non-null    int64  \n",
            " 52  batch_B              121 non-null    int64  \n",
            " 53  batch_C              121 non-null    int64  \n",
            " 54  batch_E              121 non-null    int64  \n",
            " 55  batch_F              121 non-null    int64  \n",
            " 56  batch_G              121 non-null    int64  \n",
            " 57  batch_H              121 non-null    int64  \n",
            " 58  batch_I              121 non-null    int64  \n",
            " 59  batch_J              121 non-null    int64  \n",
            " 60  batch_K              121 non-null    int64  \n",
            " 61  batch_L              121 non-null    int64  \n",
            " 62  batch_M              121 non-null    int64  \n",
            " 63  batch_N              121 non-null    int64  \n",
            " 64  batch_O              121 non-null    int64  \n",
            " 65  batch_P              121 non-null    int64  \n",
            " 66  batch_Q              121 non-null    int64  \n",
            " 67  batch_R              121 non-null    int64  \n",
            " 68  batch_S              121 non-null    int64  \n",
            " 69  batch_T              121 non-null    int64  \n",
            " 70  batch_U              121 non-null    int64  \n",
            " 71  ctnum_median_status  121 non-null    int64  \n",
            " 72  infection            121 non-null    int64  \n",
            "dtypes: float64(51), int64(22)\n",
            "memory usage: 70.0 KB\n"
          ]
        }
      ],
      "source": [
        "test.info()"
      ]
    },
    {
      "cell_type": "code",
      "execution_count": 247,
      "metadata": {
        "colab": {
          "base_uri": "https://localhost:8080/"
        },
        "id": "Z659neTlbT9U",
        "outputId": "f5cb4af3-dcd7-4d42-fd84-edc7bf5066a9"
      },
      "outputs": [
        {
          "output_type": "execute_result",
          "data": {
            "text/plain": [
              "0"
            ]
          },
          "metadata": {},
          "execution_count": 247
        }
      ],
      "source": [
        "test.duplicated().sum()"
      ]
    },
    {
      "cell_type": "code",
      "execution_count": 248,
      "metadata": {
        "colab": {
          "base_uri": "https://localhost:8080/"
        },
        "id": "dLZlxHG5bd5o",
        "outputId": "b60d12ba-6f57-4b9a-dbdc-19d0839b6f7d"
      },
      "outputs": [
        {
          "output_type": "execute_result",
          "data": {
            "text/plain": [
              "0"
            ]
          },
          "metadata": {},
          "execution_count": 248
        }
      ],
      "source": [
        "train.duplicated().sum()"
      ]
    },
    {
      "cell_type": "code",
      "execution_count": 249,
      "metadata": {
        "colab": {
          "base_uri": "https://localhost:8080/"
        },
        "id": "m564865jbm2W",
        "outputId": "c9ee44b7-ebee-4a40-957f-c2785bd56716"
      },
      "outputs": [
        {
          "output_type": "execute_result",
          "data": {
            "text/plain": [
              "V1                     0\n",
              "V2                     0\n",
              "V3                     0\n",
              "V4                     0\n",
              "V5                     0\n",
              "V6                     0\n",
              "V7                     0\n",
              "V8                     0\n",
              "V9                     0\n",
              "V10                    0\n",
              "V11                    0\n",
              "V12                    0\n",
              "V13                    0\n",
              "V14                    0\n",
              "V15                    0\n",
              "V16                    0\n",
              "V17                    0\n",
              "V18                    0\n",
              "V20                    0\n",
              "V21                    0\n",
              "V22                    0\n",
              "V23                    0\n",
              "V24                    0\n",
              "V25                    0\n",
              "V26                    0\n",
              "V27                    0\n",
              "V28                    0\n",
              "V29                    0\n",
              "V30                    0\n",
              "V31                    0\n",
              "V32                    0\n",
              "V33                    0\n",
              "V34                    0\n",
              "V35                    0\n",
              "V36                    0\n",
              "V37                    0\n",
              "V38                    0\n",
              "V39                    0\n",
              "V40                    0\n",
              "V41                    0\n",
              "V42                    0\n",
              "V43                    0\n",
              "V44                    0\n",
              "V45                    0\n",
              "V46                    0\n",
              "V47                    0\n",
              "V48                    0\n",
              "V49                    0\n",
              "V50                    0\n",
              "agenum_random          0\n",
              "ctnum_random           0\n",
              "batch_A                0\n",
              "batch_B                0\n",
              "batch_C                0\n",
              "batch_E                0\n",
              "batch_F                0\n",
              "batch_G                0\n",
              "batch_H                0\n",
              "batch_I                0\n",
              "batch_J                0\n",
              "batch_K                0\n",
              "batch_L                0\n",
              "batch_M                0\n",
              "batch_N                0\n",
              "batch_O                0\n",
              "batch_P                0\n",
              "batch_Q                0\n",
              "batch_R                0\n",
              "batch_S                0\n",
              "batch_T                0\n",
              "batch_U                0\n",
              "ctnum_median_status    0\n",
              "infection              0\n",
              "dtype: int64"
            ]
          },
          "metadata": {},
          "execution_count": 249
        }
      ],
      "source": [
        "train.isnull().sum()"
      ]
    },
    {
      "cell_type": "code",
      "execution_count": 250,
      "metadata": {
        "colab": {
          "base_uri": "https://localhost:8080/"
        },
        "id": "xQj5E-Wqbr70",
        "outputId": "f2f2254b-1aa9-42b5-c6a0-82ffec0a41c0"
      },
      "outputs": [
        {
          "output_type": "execute_result",
          "data": {
            "text/plain": [
              "V1                     0\n",
              "V2                     0\n",
              "V3                     0\n",
              "V4                     0\n",
              "V5                     0\n",
              "V6                     0\n",
              "V7                     0\n",
              "V8                     0\n",
              "V9                     0\n",
              "V10                    0\n",
              "V11                    0\n",
              "V12                    0\n",
              "V13                    0\n",
              "V14                    0\n",
              "V15                    0\n",
              "V16                    0\n",
              "V17                    0\n",
              "V18                    0\n",
              "V20                    0\n",
              "V21                    0\n",
              "V22                    0\n",
              "V23                    0\n",
              "V24                    0\n",
              "V25                    0\n",
              "V26                    0\n",
              "V27                    0\n",
              "V28                    0\n",
              "V29                    0\n",
              "V30                    0\n",
              "V31                    0\n",
              "V32                    0\n",
              "V33                    0\n",
              "V34                    0\n",
              "V35                    0\n",
              "V36                    0\n",
              "V37                    0\n",
              "V38                    0\n",
              "V39                    0\n",
              "V40                    0\n",
              "V41                    0\n",
              "V42                    0\n",
              "V43                    0\n",
              "V44                    0\n",
              "V45                    0\n",
              "V46                    0\n",
              "V47                    0\n",
              "V48                    0\n",
              "V49                    0\n",
              "V50                    0\n",
              "agenum_random          0\n",
              "ctnum_random           0\n",
              "batch_A                0\n",
              "batch_B                0\n",
              "batch_C                0\n",
              "batch_E                0\n",
              "batch_F                0\n",
              "batch_G                0\n",
              "batch_H                0\n",
              "batch_I                0\n",
              "batch_J                0\n",
              "batch_K                0\n",
              "batch_L                0\n",
              "batch_M                0\n",
              "batch_N                0\n",
              "batch_O                0\n",
              "batch_P                0\n",
              "batch_Q                0\n",
              "batch_R                0\n",
              "batch_S                0\n",
              "batch_T                0\n",
              "batch_U                0\n",
              "ctnum_median_status    0\n",
              "infection              0\n",
              "dtype: int64"
            ]
          },
          "metadata": {},
          "execution_count": 250
        }
      ],
      "source": [
        "test.isnull().sum()"
      ]
    },
    {
      "cell_type": "code",
      "execution_count": 251,
      "metadata": {
        "id": "Y3KB31lKbuNt"
      },
      "outputs": [],
      "source": [
        "import seaborn as sns"
      ]
    },
    {
      "cell_type": "code",
      "execution_count": 252,
      "metadata": {
        "colab": {
          "base_uri": "https://localhost:8080/",
          "height": 355
        },
        "id": "Hx_KJebkb3dP",
        "outputId": "e989a8e2-7691-4b5f-e1eb-46849020518e"
      },
      "outputs": [
        {
          "output_type": "stream",
          "name": "stderr",
          "text": [
            "/usr/local/lib/python3.7/dist-packages/seaborn/distributions.py:2619: FutureWarning: `distplot` is a deprecated function and will be removed in a future version. Please adapt your code to use either `displot` (a figure-level function with similar flexibility) or `histplot` (an axes-level function for histograms).\n",
            "  warnings.warn(msg, FutureWarning)\n"
          ]
        },
        {
          "output_type": "execute_result",
          "data": {
            "text/plain": [
              "<matplotlib.axes._subplots.AxesSubplot at 0x7f03a9fab690>"
            ]
          },
          "metadata": {},
          "execution_count": 252
        },
        {
          "output_type": "display_data",
          "data": {
            "text/plain": [
              "<Figure size 432x288 with 1 Axes>"
            ],
            "image/png": "[encoded data removed]"
          },
          "metadata": {
            "needs_background": "light"
          }
        }
      ],
      "source": [
        "sns.distplot(train['ctnum_random'])"
      ]
    },
    {
      "cell_type": "code",
      "execution_count": 253,
      "metadata": {
        "colab": {
          "base_uri": "https://localhost:8080/",
          "height": 355
        },
        "id": "_JIaXTn8b8rV",
        "outputId": "5c236850-3790-48cd-fc90-1c8e09a92192"
      },
      "outputs": [
        {
          "output_type": "stream",
          "name": "stderr",
          "text": [
            "/usr/local/lib/python3.7/dist-packages/seaborn/distributions.py:2619: FutureWarning: `distplot` is a deprecated function and will be removed in a future version. Please adapt your code to use either `displot` (a figure-level function with similar flexibility) or `histplot` (an axes-level function for histograms).\n",
            "  warnings.warn(msg, FutureWarning)\n"
          ]
        },
        {
          "output_type": "execute_result",
          "data": {
            "text/plain": [
              "<matplotlib.axes._subplots.AxesSubplot at 0x7f03a6e9fed0>"
            ]
          },
          "metadata": {},
          "execution_count": 253
        },
        {
          "output_type": "display_data",
          "data": {
            "text/plain": [
              "<Figure size 432x288 with 1 Axes>"
            ],
            "image/png": "[encoded data removed]"
          },
          "metadata": {
            "needs_background": "light"
          }
        }
      ],
      "source": [
        "sns.distplot(test['ctnum_random'])"
      ]
    },
    {
      "cell_type": "code",
      "execution_count": 254,
      "metadata": {
        "colab": {
          "base_uri": "https://localhost:8080/",
          "height": 297
        },
        "id": "3JTt-9fucB6P",
        "outputId": "da34fb38-a98c-428f-8865-2041a41cf29e"
      },
      "outputs": [
        {
          "output_type": "execute_result",
          "data": {
            "text/plain": [
              "<matplotlib.axes._subplots.AxesSubplot at 0x7f03a6da5790>"
            ]
          },
          "metadata": {},
          "execution_count": 254
        },
        {
          "output_type": "display_data",
          "data": {
            "text/plain": [
              "<Figure size 432x288 with 1 Axes>"
            ],
            "image/png": "[encoded data removed]"
          },
          "metadata": {
            "needs_background": "light"
          }
        }
      ],
      "source": [
        "sns.barplot(x=train['infection'],y=train['ctnum_random'])"
      ]
    },
    {
      "cell_type": "code",
      "execution_count": 255,
      "metadata": {
        "colab": {
          "base_uri": "https://localhost:8080/"
        },
        "id": "GjiyQm6McuFE",
        "outputId": "0cb10e02-b180-469d-a544-ed86842a9378"
      },
      "outputs": [
        {
          "output_type": "execute_result",
          "data": {
            "text/plain": [
              "V1                    -0.025067\n",
              "V2                    -0.061585\n",
              "V3                    -0.098421\n",
              "V4                    -0.082355\n",
              "V5                     0.017850\n",
              "V6                    -0.164808\n",
              "V7                    -0.124930\n",
              "V8                    -0.069540\n",
              "V9                    -0.159292\n",
              "V10                   -0.100595\n",
              "V11                   -0.110652\n",
              "V12                    0.009389\n",
              "V13                    0.027725\n",
              "V14                    0.082271\n",
              "V15                   -0.193179\n",
              "V16                    0.165661\n",
              "V17                   -0.170170\n",
              "V18                   -0.333443\n",
              "V20                    0.024977\n",
              "V21                    0.134757\n",
              "V22                   -0.099449\n",
              "V23                   -0.126362\n",
              "V24                   -0.185747\n",
              "V25                   -0.197961\n",
              "V26                   -0.217404\n",
              "V27                   -0.094959\n",
              "V28                   -0.115258\n",
              "V29                   -0.115456\n",
              "V30                    0.161580\n",
              "V31                   -0.069217\n",
              "V32                    0.134918\n",
              "V33                   -0.108833\n",
              "V34                   -0.012179\n",
              "V35                    0.111153\n",
              "V36                    0.025272\n",
              "V37                   -0.046298\n",
              "V38                    0.040529\n",
              "V39                   -0.095200\n",
              "V40                    0.102058\n",
              "V41                   -0.057292\n",
              "V42                    0.156561\n",
              "V43                   -0.117739\n",
              "V44                    0.050698\n",
              "V45                   -0.048247\n",
              "V46                   -0.152180\n",
              "V47                    0.169486\n",
              "V48                   -0.052426\n",
              "V49                    0.179441\n",
              "V50                   -0.002749\n",
              "agenum_random         -0.011244\n",
              "ctnum_random           1.000000\n",
              "batch_A                0.207642\n",
              "batch_B                0.036052\n",
              "batch_C                0.003968\n",
              "batch_E               -0.062712\n",
              "batch_F               -0.065415\n",
              "batch_G               -0.009311\n",
              "batch_H               -0.027377\n",
              "batch_I                0.053440\n",
              "batch_J               -0.076451\n",
              "batch_K               -0.018212\n",
              "batch_L               -0.068981\n",
              "batch_M                0.011408\n",
              "batch_N                0.039444\n",
              "batch_O               -0.129346\n",
              "batch_P               -0.066738\n",
              "batch_Q               -0.077598\n",
              "batch_R                0.040858\n",
              "batch_S               -0.014340\n",
              "batch_T               -0.024370\n",
              "batch_U                0.069351\n",
              "ctnum_median_status    0.758797\n",
              "infection             -0.135144\n",
              "Name: ctnum_random, dtype: float64"
            ]
          },
          "metadata": {},
          "execution_count": 255
        }
      ],
      "source": [
        "pd.pandas.set_option('display.max_rows',None)\n",
        "train.corr()['ctnum_random']"
      ]
    },
    {
      "cell_type": "code",
      "source": [
        "X_train = train.drop(['ctnum_random'], axis = 1)\n",
        "y_train = train['ctnum_random']\n",
        "X_test = test.drop(['ctnum_random'], axis = 1)\n",
        "y_test = test['ctnum_random']"
      ],
      "metadata": {
        "id": "tv3E4Tz1Gmra"
      },
      "execution_count": 256,
      "outputs": []
    },
    {
      "cell_type": "code",
      "execution_count": 257,
      "metadata": {
        "id": "h5y89SvWX6ap"
      },
      "outputs": [],
      "source": [
        "X_train = X_train.drop(['batch_S','batch_M','batch_K','batch_G','batch_C','V34','agenum_random','V20','V17'], axis = 1)\n",
        "X_test = X_test.drop(['batch_S','batch_M','batch_K','batch_G','batch_C','V34','agenum_random','V20','V17'], axis = 1)"
      ]
    },
    {
      "cell_type": "code",
      "execution_count": 258,
      "metadata": {
        "id": "xBw9g5cyc8Xb"
      },
      "outputs": [],
      "source": [
        "from sklearn.pipeline import Pipeline\n",
        "from sklearn.compose import ColumnTransformer\n",
        "from sklearn.preprocessing import OneHotEncoder\n",
        "from sklearn.metrics import r2_score,mean_absolute_error"
      ]
    },
    {
      "cell_type": "code",
      "execution_count": 259,
      "metadata": {
        "colab": {
          "base_uri": "https://localhost:8080/",
          "height": 355
        },
        "id": "b7cBQCp_W35U",
        "outputId": "6080bc01-fd7b-442e-978b-a3d2ec198651"
      },
      "outputs": [
        {
          "output_type": "stream",
          "name": "stderr",
          "text": [
            "/usr/local/lib/python3.7/dist-packages/seaborn/distributions.py:2619: FutureWarning: `distplot` is a deprecated function and will be removed in a future version. Please adapt your code to use either `displot` (a figure-level function with similar flexibility) or `histplot` (an axes-level function for histograms).\n",
            "  warnings.warn(msg, FutureWarning)\n"
          ]
        },
        {
          "output_type": "execute_result",
          "data": {
            "text/plain": [
              "<matplotlib.axes._subplots.AxesSubplot at 0x7f03a6d2b6d0>"
            ]
          },
          "metadata": {},
          "execution_count": 259
        },
        {
          "output_type": "display_data",
          "data": {
            "text/plain": [
              "<Figure size 432x288 with 1 Axes>"
            ],
            "image/png": "[encoded data removed]"
          },
          "metadata": {
            "needs_background": "light"
          }
        }
      ],
      "source": [
        "sns.distplot(train.corr()['ctnum_random'])"
      ]
    },
    {
      "cell_type": "code",
      "execution_count": 260,
      "metadata": {
        "id": "lKuMR8P8d1if"
      },
      "outputs": [],
      "source": [
        "from sklearn.linear_model import LinearRegression,Ridge,Lasso\n",
        "from sklearn.neighbors import KNeighborsRegressor\n",
        "from sklearn.tree import DecisionTreeRegressor\n",
        "from sklearn.ensemble import RandomForestRegressor,GradientBoostingRegressor,AdaBoostRegressor,ExtraTreesRegressor\n",
        "from sklearn.svm import SVR\n",
        "from xgboost import XGBRegressor\n"
      ]
    },
    {
      "cell_type": "code",
      "execution_count": 261,
      "metadata": {
        "colab": {
          "base_uri": "https://localhost:8080/"
        },
        "id": "pEQreTc1d49q",
        "outputId": "c9883b94-3316-4e62-fff1-ae2323779b7f"
      },
      "outputs": [
        {
          "output_type": "stream",
          "name": "stdout",
          "text": [
            "R2 score 0.6536165953850464\n",
            "MAE 1.599971603877135\n"
          ]
        }
      ],
      "source": [
        "lr = LinearRegression()\n",
        "\n",
        "lr.fit(X_train, y_train)\n",
        "\n",
        "\n",
        "\n",
        "y_pred_lr = lr.predict(X_test)\n",
        "\n",
        "print('R2 score',r2_score(y_test,y_pred_lr))\n",
        "print('MAE',mean_absolute_error(y_test,y_pred_lr))\n",
        "r2_scr_lr = r2_score(y_test,y_pred_lr)\n",
        "mae_lr = mean_absolute_error(y_test,y_pred_lr)"
      ]
    },
    {
      "cell_type": "code",
      "execution_count": 262,
      "metadata": {
        "colab": {
          "base_uri": "https://localhost:8080/"
        },
        "id": "ZYH86TQoe3xw",
        "outputId": "8b42ba56-e452-412a-856d-0f206f215607"
      },
      "outputs": [
        {
          "output_type": "stream",
          "name": "stdout",
          "text": [
            "R2 score 0.6778018544923685\n",
            "MAE 1.5397763021438058\n"
          ]
        }
      ],
      "source": [
        "Rr = Ridge(alpha=4)\n",
        "\n",
        "\n",
        "Rr.fit(X_train,y_train)\n",
        "\n",
        "y_pred_Rr = Rr.predict(X_test)\n",
        "\n",
        "print('R2 score',r2_score(y_test,y_pred_Rr))\n",
        "print('MAE',mean_absolute_error(y_test,y_pred_Rr))\n",
        "r2_scr_Rr = r2_score(y_test,y_pred_Rr)\n",
        "mae_Rr = mean_absolute_error(y_test,y_pred_Rr)\n"
      ]
    },
    {
      "cell_type": "code",
      "execution_count": 263,
      "metadata": {
        "colab": {
          "base_uri": "https://localhost:8080/"
        },
        "id": "Q0pRjFCMfl5S",
        "outputId": "ac22054a-3969-49df-bede-bce875a8a4e2"
      },
      "outputs": [
        {
          "output_type": "stream",
          "name": "stdout",
          "text": [
            "R2 score 0.6867840599152291\n",
            "MAE 1.505479515397348\n"
          ]
        }
      ],
      "source": [
        "lsr = Lasso(alpha=0.008)\n",
        "\n",
        "\n",
        "lsr.fit(X_train,y_train)\n",
        "\n",
        "y_pred_lsr = lsr.predict(X_test)\n",
        "\n",
        "print('R2 score',r2_score(y_test,y_pred_lsr))\n",
        "print('MAE',mean_absolute_error(y_test,y_pred_lsr))\n",
        "r2_scr_lsr = r2_score(y_test,y_pred_lsr)\n",
        "mae_lsr = mean_absolute_error(y_test,y_pred_lsr)\n"
      ]
    },
    {
      "cell_type": "code",
      "execution_count": 264,
      "metadata": {
        "colab": {
          "base_uri": "https://localhost:8080/"
        },
        "id": "MdWK_Uegf4SF",
        "outputId": "6f488f97-7911-451f-c900-f2be32fbb40c"
      },
      "outputs": [
        {
          "output_type": "stream",
          "name": "stdout",
          "text": [
            "R2 score 0.43631312588089777\n"
          ]
        }
      ],
      "source": [
        "knn = KNeighborsRegressor(n_neighbors=3)\n",
        "\n",
        "knn.fit(X_train,y_train)\n",
        "\n",
        "y_pred_kn = knn.predict(X_test)\n",
        "\n",
        "print('R2 score',r2_score(y_test,y_pred_kn))\n",
        "r2_scr_kn = r2_score(y_test,y_pred_kn)\n",
        "mae_kn = mean_absolute_error(y_test,y_pred_kn)"
      ]
    },
    {
      "cell_type": "code",
      "execution_count": 265,
      "metadata": {
        "colab": {
          "base_uri": "https://localhost:8080/"
        },
        "id": "az-EJj5FgM6t",
        "outputId": "429c0d7c-c647-4ac0-a4f6-4c9a50f06b1e"
      },
      "outputs": [
        {
          "output_type": "stream",
          "name": "stdout",
          "text": [
            "R2 score 0.33619765928706313\n",
            "MAE 2.1963367028598886\n"
          ]
        }
      ],
      "source": [
        "dt = DecisionTreeRegressor(max_depth=42)\n",
        "\n",
        "\n",
        "dt.fit(X_train,y_train)\n",
        "\n",
        "y_pred_dt = dt.predict(X_test)\n",
        "\n",
        "print('R2 score',r2_score(y_test,y_pred_dt))\n",
        "print('MAE',mean_absolute_error(y_test,y_pred_dt))\n",
        "r2_scr_dt = r2_score(y_test,y_pred_dt)\n",
        "mae_dt = mean_absolute_error(y_test,y_pred_dt)"
      ]
    },
    {
      "cell_type": "code",
      "execution_count": 266,
      "metadata": {
        "colab": {
          "base_uri": "https://localhost:8080/"
        },
        "id": "mJsbeCh3fukh",
        "outputId": "07de8313-59d5-41d0-b1f8-c7e9bffc5297"
      },
      "outputs": [
        {
          "output_type": "stream",
          "name": "stdout",
          "text": [
            "R2 score 0.5991319120946275\n",
            "MAE 1.7226201908914542\n"
          ]
        }
      ],
      "source": [
        "svr = SVR(kernel='rbf',C=10000,epsilon=1.71)\n",
        "\n",
        "svr.fit(X_train,y_train)\n",
        "\n",
        "y_pred_svr = svr.predict(X_test)\n",
        "\n",
        "print('R2 score',r2_score(y_test,y_pred_svr))\n",
        "print('MAE',mean_absolute_error(y_test,y_pred_svr))\n",
        "r2_scr_svr = r2_score(y_test,y_pred_svr)\n",
        "mae_svr = mean_absolute_error(y_test,y_pred_svr)"
      ]
    },
    {
      "cell_type": "code",
      "execution_count": 267,
      "metadata": {
        "colab": {
          "base_uri": "https://localhost:8080/"
        },
        "id": "AhCzo0eNgUdj",
        "outputId": "3503e785-267e-44e0-c9a1-077dbf68c283"
      },
      "outputs": [
        {
          "output_type": "stream",
          "name": "stdout",
          "text": [
            "R2 score 0.6834555058245391\n",
            "MAE 1.5179870474955286\n"
          ]
        }
      ],
      "source": [
        "rf = RandomForestRegressor(n_estimators=100,\n",
        "                              random_state=3,\n",
        "                              max_samples=0.6,\n",
        "                              max_features=0.75,\n",
        "                              max_depth=4)\n",
        "\n",
        "\n",
        "rf.fit(X_train,y_train)\n",
        "\n",
        "y_pred_rf = rf.predict(X_test)\n",
        "\n",
        "print('R2 score',r2_score(y_test,y_pred_rf))\n",
        "print('MAE',mean_absolute_error(y_test,y_pred_rf))\n",
        "r2_scr_rf = r2_score(y_test,y_pred_rf)\n",
        "mae_rf = mean_absolute_error(y_test,y_pred_rf)"
      ]
    },
    {
      "cell_type": "code",
      "execution_count": 268,
      "metadata": {
        "colab": {
          "base_uri": "https://localhost:8080/"
        },
        "id": "7fEu-VunhgwB",
        "outputId": "962147e5-b982-4aa6-8e1c-8f2bfdd231eb"
      },
      "outputs": [
        {
          "output_type": "stream",
          "name": "stdout",
          "text": [
            "R2 score 0.6588659926261444\n",
            "MAE 1.5988913865485892\n"
          ]
        }
      ],
      "source": [
        "etr = ExtraTreesRegressor(n_estimators=100,\n",
        "                              random_state=3,\n",
        "                              max_samples=0.5,\n",
        "                              max_features=0.75,\n",
        "                              max_depth=10,\n",
        "                              bootstrap = True)\n",
        "\n",
        "\n",
        "etr.fit(X_train,y_train)\n",
        "\n",
        "y_pred_etr = etr.predict(X_test)\n",
        "\n",
        "print('R2 score',r2_score(y_test,y_pred_etr))\n",
        "print('MAE',mean_absolute_error(y_test,y_pred_etr))\n",
        "r2_scr_etr = r2_score(y_test,y_pred_etr)\n",
        "mae_etr = mean_absolute_error(y_test,y_pred_etr)"
      ]
    },
    {
      "cell_type": "code",
      "execution_count": 269,
      "metadata": {
        "colab": {
          "base_uri": "https://localhost:8080/"
        },
        "id": "Fk4fL5nIiMZh",
        "outputId": "5dd96969-821d-4ae6-fea7-a4a466ce9246"
      },
      "outputs": [
        {
          "output_type": "stream",
          "name": "stdout",
          "text": [
            "R2 score 0.6803960729302085\n",
            "MAE 1.5780418970151862\n"
          ]
        }
      ],
      "source": [
        "adb = AdaBoostRegressor(n_estimators=15,learning_rate=0.001)\n",
        "\n",
        "adb.fit(X_train,y_train)\n",
        "\n",
        "y_pred_adb = adb.predict(X_test)\n",
        "\n",
        "print('R2 score',r2_score(y_test,y_pred_adb))\n",
        "print('MAE',mean_absolute_error(y_test,y_pred_adb))\n",
        "r2_scr_adb = r2_score(y_test,y_pred_adb)\n",
        "mae_adb = mean_absolute_error(y_test,y_pred_adb)"
      ]
    },
    {
      "cell_type": "code",
      "source": [
        "gb = GradientBoostingRegressor(n_estimators=500)\n",
        "\n",
        "gb.fit(X_train,y_train)\n",
        "\n",
        "y_pred_gb = gb.predict(X_test)\n",
        "\n",
        "print('R2 score',r2_score(y_test,y_pred_gb))\n",
        "print('MAE',mean_absolute_error(y_test,y_pred_gb))\n",
        "r2_scr_gb = r2_score(y_test,y_pred_gb)\n",
        "mae_gb = mean_absolute_error(y_test,y_pred_gb)"
      ],
      "metadata": {
        "colab": {
          "base_uri": "https://localhost:8080/"
        },
        "id": "wgwGlUavHmnm",
        "outputId": "0813ccd6-3894-429f-c6e3-4179f3ad160a"
      },
      "execution_count": 270,
      "outputs": [
        {
          "output_type": "stream",
          "name": "stdout",
          "text": [
            "R2 score 0.6360940648193283\n",
            "MAE 1.6331826403509515\n"
          ]
        }
      ]
    },
    {
      "cell_type": "code",
      "source": [
        "xgb = XGBRegressor(n_estimators=45,max_depth=5,learning_rate=0.11)\n",
        "\n",
        "\n",
        "xgb.fit(X_train,y_train)\n",
        "\n",
        "y_pred_xgb = xgb.predict(X_test)\n",
        "\n",
        "print('R2 score',r2_score(y_test,y_pred_xgb))\n",
        "print('MAE',mean_absolute_error(y_test,y_pred_xgb))\n",
        "r2_scr_xgb = r2_score(y_test,y_pred_xgb)\n",
        "mae_xgb = mean_absolute_error(y_test,y_pred_xgb)"
      ],
      "metadata": {
        "colab": {
          "base_uri": "https://localhost:8080/"
        },
        "id": "rq8XWpAS6c7y",
        "outputId": "d49a6baf-a27f-44b6-e7a8-e374256b164f"
      },
      "execution_count": 271,
      "outputs": [
        {
          "output_type": "stream",
          "name": "stdout",
          "text": [
            "[16:37:19] WARNING: /workspace/src/objective/regression_obj.cu:152: reg:linear is now deprecated in favor of reg:squarederror.\n",
            "R2 score 0.6703887672321\n",
            "MAE 1.542414274887211\n"
          ]
        }
      ]
    },
    {
      "cell_type": "code",
      "source": [
        "from sklearn.ensemble import VotingRegressor,StackingRegressor\n",
        "\n",
        "rf = RandomForestRegressor(n_estimators=350,random_state=3,max_samples=0.5,max_features=0.75,max_depth=15)\n",
        "gbdt = GradientBoostingRegressor(n_estimators=100,max_features=0.5)\n",
        "xgb = XGBRegressor(n_estimators=25,learning_rate=0.11,max_depth=5, bootstrap = True)\n",
        "et = ExtraTreesRegressor(n_estimators=150,random_state=3,max_samples=0.5,max_features=0.75,max_depth=3, bootstrap = True)\n",
        "\n",
        "vtrg = VotingRegressor([('rf', rf), ('gbdt', gbdt), ('xgb',xgb), ('et',et)],weights=[5,1,1,1])\n",
        "\n",
        "\n",
        "\n",
        "vtrg.fit(X_train,y_train)\n",
        "\n",
        "y_pred_vtrg = vtrg.predict(X_test)\n",
        "\n",
        "print('R2 score',r2_score(y_test,y_pred_vtrg))\n",
        "print('MAE',mean_absolute_error(y_test,y_pred_vtrg))\n",
        "r2_scr_vtrg = r2_score(y_test,y_pred_vtrg)\n",
        "mae_vtrg = mean_absolute_error(y_test,y_pred_vtrg)"
      ],
      "metadata": {
        "colab": {
          "base_uri": "https://localhost:8080/"
        },
        "id": "aDiGwUlJ6wbj",
        "outputId": "1cdb319f-f457-4a85-c833-338943a12d38"
      },
      "execution_count": 272,
      "outputs": [
        {
          "output_type": "stream",
          "name": "stdout",
          "text": [
            "[16:37:25] WARNING: /workspace/src/objective/regression_obj.cu:152: reg:linear is now deprecated in favor of reg:squarederror.\n",
            "R2 score 0.6768516927837844\n",
            "MAE 1.5413115234842858\n"
          ]
        }
      ]
    },
    {
      "cell_type": "code",
      "source": [
        "from sklearn.ensemble import VotingRegressor,StackingRegressor\n",
        "\n",
        "estimators = [\n",
        "    ('rf', RandomForestRegressor(n_estimators=350,random_state=3,max_samples=0.5,max_features=0.75,max_depth=15)),\n",
        "    ('gbdt',GradientBoostingRegressor(n_estimators=100,max_features=0.5)),\n",
        "    ('xgb', XGBRegressor(n_estimators=25,learning_rate=0.3,max_depth=5))\n",
        "]\n",
        "\n",
        "stk = StackingRegressor(estimators=estimators, final_estimator=Ridge(alpha=100))\n",
        "\n",
        "stk.fit(X_train,y_train)\n",
        "\n",
        "y_pred_stk = stk.predict(X_test)\n",
        "\n",
        "print('R2 score',r2_score(y_test,y_pred_stk))\n",
        "print('MAE',mean_absolute_error(y_test,y_pred_stk))\n",
        "r2_scr_stk = r2_score(y_test,y_pred_stk)\n",
        "mae_stk = mean_absolute_error(y_test,y_pred_stk)"
      ],
      "metadata": {
        "colab": {
          "base_uri": "https://localhost:8080/"
        },
        "id": "HVXs01bC7uZL",
        "outputId": "550afc25-3f09-44af-acec-4c4a105f7d82"
      },
      "execution_count": 273,
      "outputs": [
        {
          "output_type": "stream",
          "name": "stdout",
          "text": [
            "[16:37:30] WARNING: /workspace/src/objective/regression_obj.cu:152: reg:linear is now deprecated in favor of reg:squarederror.\n",
            "[16:37:42] WARNING: /workspace/src/objective/regression_obj.cu:152: reg:linear is now deprecated in favor of reg:squarederror.\n",
            "[16:37:42] WARNING: /workspace/src/objective/regression_obj.cu:152: reg:linear is now deprecated in favor of reg:squarederror.\n",
            "[16:37:42] WARNING: /workspace/src/objective/regression_obj.cu:152: reg:linear is now deprecated in favor of reg:squarederror.\n",
            "[16:37:42] WARNING: /workspace/src/objective/regression_obj.cu:152: reg:linear is now deprecated in favor of reg:squarederror.\n",
            "[16:37:42] WARNING: /workspace/src/objective/regression_obj.cu:152: reg:linear is now deprecated in favor of reg:squarederror.\n",
            "R2 score 0.6776356687778711\n",
            "MAE 1.5173018105609848\n"
          ]
        }
      ]
    },
    {
      "cell_type": "code",
      "source": [
        "result = pd.DataFrame()\n",
        "result['Actual ctnum_random'] = y_test\n",
        "result['Linear Regression Prediction'] = y_pred_lr\n",
        "result['Extra Tree Prediction'] = y_pred_dt\n",
        "result['Stacking Prediction'] = y_pred_stk\n",
        "result['Random forest Prediction'] = y_pred_rf\n",
        "result['XgBoost Prediction'] = y_pred_xgb\n",
        "result['AdaBoost Prediction'] = y_pred_adb\n",
        "result['Voting Prediction'] = y_pred_vtrg\n",
        "result['Lasso Prediction'] = y_pred_lsr\n",
        "result['Knn Prediction'] = y_pred_kn\n",
        "result['Ridge Prediction'] = y_pred_Rr\n",
        "result['Decision Tree Prediction'] = y_pred_dt"
      ],
      "metadata": {
        "id": "JXKhYWPq8q-f"
      },
      "execution_count": 274,
      "outputs": []
    },
    {
      "cell_type": "code",
      "source": [
        "result = result.to_csv(\"result_reression.csv\")"
      ],
      "metadata": {
        "id": "fgBgWuC6-Joh"
      },
      "execution_count": 282,
      "outputs": []
    },
    {
      "cell_type": "code",
      "source": [
        "R2_score = pd.DataFrame()\n",
        "R2_score['Ideal r2_score'] = [1]\n",
        "R2_score['Linear Regression r2_score'] = r2_scr_lr\n",
        "R2_score['Extra Tree r2_score'] = r2_scr_etr\n",
        "R2_score['Stacking r2_score'] = r2_scr_stk\n",
        "R2_score['Random forest r2_score'] = r2_scr_rf\n",
        "R2_score['XgBoost r2_score'] = r2_scr_xgb\n",
        "R2_score['AdaBoost r2_score'] = r2_scr_adb\n",
        "R2_score['Voting r2_score'] = r2_scr_vtrg\n",
        "R2_score['Lasso r2_score'] = r2_scr_lsr\n",
        "R2_score['Knn r2_score'] = r2_scr_kn\n",
        "R2_score['Ridge r2_score'] = r2_scr_Rr\n",
        "R2_score['Decision Tree r2_score'] = r2_scr_dt"
      ],
      "metadata": {
        "id": "0dLZEUKw-MJH"
      },
      "execution_count": 276,
      "outputs": []
    },
    {
      "cell_type": "code",
      "source": [
        "R2_score.columns"
      ],
      "metadata": {
        "colab": {
          "base_uri": "https://localhost:8080/"
        },
        "id": "2zqC6f2tC5Rd",
        "outputId": "f679d7ee-7f2d-4b48-ba2b-d702e0c944bb"
      },
      "execution_count": 277,
      "outputs": [
        {
          "output_type": "execute_result",
          "data": {
            "text/plain": [
              "Index(['Ideal r2_score', 'Linear Regression r2_score', 'Extra Tree r2_score',\n",
              "       'Stacking r2_score', 'Random forest r2_score', 'XgBoost r2_score',\n",
              "       'AdaBoost r2_score', 'Voting r2_score', 'Lasso r2_score',\n",
              "       'Knn r2_score', 'Ridge r2_score', 'Decision Tree r2_score'],\n",
              "      dtype='object')"
            ]
          },
          "metadata": {},
          "execution_count": 277
        }
      ]
    },
    {
      "cell_type": "code",
      "source": [],
      "metadata": {
        "id": "IC8FmNMaDQvw"
      },
      "execution_count": 278,
      "outputs": []
    },
    {
      "cell_type": "code",
      "source": [
        "R2_score.columns"
      ],
      "metadata": {
        "colab": {
          "base_uri": "https://localhost:8080/"
        },
        "id": "IIMpWzcl9OCt",
        "outputId": "41b8df08-08e8-4b31-bb44-682ea848223c"
      },
      "execution_count": 289,
      "outputs": [
        {
          "output_type": "execute_result",
          "data": {
            "text/plain": [
              "Index(['Ideal r2_score', 'Linear Regression r2_score', 'Extra Tree r2_score',\n",
              "       'Stacking r2_score', 'Random forest r2_score', 'XgBoost r2_score',\n",
              "       'AdaBoost r2_score', 'Voting r2_score', 'Lasso r2_score',\n",
              "       'Knn r2_score', 'Ridge r2_score', 'Decision Tree r2_score'],\n",
              "      dtype='object')"
            ]
          },
          "metadata": {},
          "execution_count": 289
        }
      ]
    },
    {
      "cell_type": "code",
      "source": [
        "mse_lr = mean_squared_error(y_test,y_pred_lr)\n",
        "mse_etr = mean_squared_error(y_test,y_pred_etr)\n",
        "mse_stk = mean_squared_error(y_test,y_pred_stk)\n",
        "mse_rf = mean_squared_error(y_test,y_pred_rf)\n",
        "mse_xgb= mean_squared_error(y_test,y_pred_xgb)\n",
        "mse_adb = mean_squared_error(y_test,y_pred_adb)\n",
        "mse_vtrg = mean_squared_error(y_test,y_pred_vtrg)\n",
        "mse_lsr = mean_squared_error(y_test,y_pred_lsr)\n",
        "mse_kn = mean_squared_error(y_test,y_pred_kn)\n",
        "mse_Rr = mean_squared_error(y_test,y_pred_Rr)\n",
        "mse_dt = mean_squared_error(y_test,y_pred_dt)"
      ],
      "metadata": {
        "id": "ZnQ8HTkiEpax"
      },
      "execution_count": 291,
      "outputs": []
    },
    {
      "cell_type": "code",
      "source": [],
      "metadata": {
        "id": "ZRyQy9ZAF-sJ"
      },
      "execution_count": 292,
      "outputs": []
    },
    {
      "cell_type": "code",
      "source": [
        "Performance_metrics"
      ],
      "metadata": {
        "colab": {
          "base_uri": "https://localhost:8080/",
          "height": 394
        },
        "id": "7lXPFyHv6PBh",
        "outputId": "669ebae8-d8ae-42b6-dab4-d8f2f2167c52"
      },
      "execution_count": 294,
      "outputs": [
        {
          "output_type": "execute_result",
          "data": {
            "text/plain": [
              "                       Algorithms  R2 Score  Mean Absolute Error  \\\n",
              "0               Linear Regression  0.653617             1.599972   \n",
              "1            Extra Tree Regressor  0.658866             1.598891   \n",
              "2              Stacking Regressor  0.677636             1.517302   \n",
              "3         Random forest Regressor  0.683456             1.517987   \n",
              "4               XgBoost Regressor  0.677636             1.517302   \n",
              "5              AdaBoost Regressor  0.680396             1.578042   \n",
              "6               Voting Rregressor  0.676852             1.541312   \n",
              "7                 Lasso Regressor  0.686784             1.505480   \n",
              "8   K-Nearest Neighbour Regressor  0.436313             2.024066   \n",
              "9                 Ridge Regressor  0.677802             1.539776   \n",
              "10        Decision Tree Regressor  0.336198             2.196337   \n",
              "\n",
              "    Mean Squared Error  \n",
              "0             4.188991  \n",
              "1             4.125508  \n",
              "2             3.898516  \n",
              "3             3.828134  \n",
              "4             3.898516  \n",
              "5             3.865133  \n",
              "6             3.907997  \n",
              "7             3.787880  \n",
              "8             6.816953  \n",
              "9             3.896507  \n",
              "10            8.027701  "
            ],
            "text/html": [
              "\n",
              "  <div id=\"df-ef926a2a-acd1-4d1a-8e41-7bcc398ede59\">\n",
              "    <div class=\"colab-df-container\">\n",
              "      <div>\n",
              "<style scoped>\n",
              "    .dataframe tbody tr th:only-of-type {\n",
              "        vertical-align: middle;\n",
              "    }\n",
              "\n",
              "    .dataframe tbody tr th {\n",
              "        vertical-align: top;\n",
              "    }\n",
              "\n",
              "    .dataframe thead th {\n",
              "        text-align: right;\n",
              "    }\n",
              "</style>\n",
              "<table border=\"1\" class=\"dataframe\">\n",
              "  <thead>\n",
              "    <tr style=\"text-align: right;\">\n",
              "      <th></th>\n",
              "      <th>Algorithms</th>\n",
              "      <th>R2 Score</th>\n",
              "      <th>Mean Absolute Error</th>\n",
              "      <th>Mean Squared Error</th>\n",
              "    </tr>\n",
              "  </thead>\n",
              "  <tbody>\n",
              "    <tr>\n",
              "      <th>0</th>\n",
              "      <td>Linear Regression</td>\n",
              "      <td>0.653617</td>\n",
              "      <td>1.599972</td>\n",
              "      <td>4.188991</td>\n",
              "    </tr>\n",
              "    <tr>\n",
              "      <th>1</th>\n",
              "      <td>Extra Tree Regressor</td>\n",
              "      <td>0.658866</td>\n",
              "      <td>1.598891</td>\n",
              "      <td>4.125508</td>\n",
              "    </tr>\n",
              "    <tr>\n",
              "      <th>2</th>\n",
              "      <td>Stacking Regressor</td>\n",
              "      <td>0.677636</td>\n",
              "      <td>1.517302</td>\n",
              "      <td>3.898516</td>\n",
              "    </tr>\n",
              "    <tr>\n",
              "      <th>3</th>\n",
              "      <td>Random forest Regressor</td>\n",
              "      <td>0.683456</td>\n",
              "      <td>1.517987</td>\n",
              "      <td>3.828134</td>\n",
              "    </tr>\n",
              "    <tr>\n",
              "      <th>4</th>\n",
              "      <td>XgBoost Regressor</td>\n",
              "      <td>0.677636</td>\n",
              "      <td>1.517302</td>\n",
              "      <td>3.898516</td>\n",
              "    </tr>\n",
              "    <tr>\n",
              "      <th>5</th>\n",
              "      <td>AdaBoost Regressor</td>\n",
              "      <td>0.680396</td>\n",
              "      <td>1.578042</td>\n",
              "      <td>3.865133</td>\n",
              "    </tr>\n",
              "    <tr>\n",
              "      <th>6</th>\n",
              "      <td>Voting Rregressor</td>\n",
              "      <td>0.676852</td>\n",
              "      <td>1.541312</td>\n",
              "      <td>3.907997</td>\n",
              "    </tr>\n",
              "    <tr>\n",
              "      <th>7</th>\n",
              "      <td>Lasso Regressor</td>\n",
              "      <td>0.686784</td>\n",
              "      <td>1.505480</td>\n",
              "      <td>3.787880</td>\n",
              "    </tr>\n",
              "    <tr>\n",
              "      <th>8</th>\n",
              "      <td>K-Nearest Neighbour Regressor</td>\n",
              "      <td>0.436313</td>\n",
              "      <td>2.024066</td>\n",
              "      <td>6.816953</td>\n",
              "    </tr>\n",
              "    <tr>\n",
              "      <th>9</th>\n",
              "      <td>Ridge Regressor</td>\n",
              "      <td>0.677802</td>\n",
              "      <td>1.539776</td>\n",
              "      <td>3.896507</td>\n",
              "    </tr>\n",
              "    <tr>\n",
              "      <th>10</th>\n",
              "      <td>Decision Tree Regressor</td>\n",
              "      <td>0.336198</td>\n",
              "      <td>2.196337</td>\n",
              "      <td>8.027701</td>\n",
              "    </tr>\n",
              "  </tbody>\n",
              "</table>\n",
              "</div>\n",
              "      <button class=\"colab-df-convert\" onclick=\"convertToInteractive('df-ef926a2a-acd1-4d1a-8e41-7bcc398ede59')\"\n",
              "              title=\"Convert this dataframe to an interactive table.\"\n",
              "              style=\"display:none;\">\n",
              "        \n",
              "  <svg xmlns=\"http://www.w3.org/2000/svg\" height=\"24px\"viewBox=\"0 0 24 24\"\n",
              "       width=\"24px\">\n",
              "    <path d=\"M0 0h24v24H0V0z\" fill=\"none\"/>\n",
              "    <path d=\"M18.56 5.44l.94 2.06.94-2.06 2.06-.94-2.06-.94-.94-2.06-.94 2.06-2.06.94zm-11 1L8.5 8.5l.94-2.06 2.06-.94-2.06-.94L8.5 2.5l-.94 2.06-2.06.94zm10 10l.94 2.06.94-2.06 2.06-.94-2.06-.94-.94-2.06-.94 2.06-2.06.94z\"/><path d=\"M17.41 7.96l-1.37-1.37c-.4-.4-.92-.59-1.43-.59-.52 0-1.04.2-1.43.59L10.3 9.45l-7.72 7.72c-.78.78-.78 2.05 0 2.83L4 21.41c.39.39.9.59 1.41.59.51 0 1.02-.2 1.41-.59l7.78-7.78 2.81-2.81c.8-.78.8-2.07 0-2.86zM5.41 20L4 18.59l7.72-7.72 1.47 1.35L5.41 20z\"/>\n",
              "  </svg>\n",
              "      </button>\n",
              "      \n",
              "  <style>\n",
              "    .colab-df-container {\n",
              "      display:flex;\n",
              "      flex-wrap:wrap;\n",
              "      gap: 12px;\n",
              "    }\n",
              "\n",
              "    .colab-df-convert {\n",
              "      background-color: #E8F0FE;\n",
              "      border: none;\n",
              "      border-radius: 50%;\n",
              "      cursor: pointer;\n",
              "      display: none;\n",
              "      fill: #1967D2;\n",
              "      height: 32px;\n",
              "      padding: 0 0 0 0;\n",
              "      width: 32px;\n",
              "    }\n",
              "\n",
              "    .colab-df-convert:hover {\n",
              "      background-color: #E2EBFA;\n",
              "      box-shadow: 0px 1px 2px rgba(60, 64, 67, 0.3), 0px 1px 3px 1px rgba(60, 64, 67, 0.15);\n",
              "      fill: #174EA6;\n",
              "    }\n",
              "\n",
              "    [theme=dark] .colab-df-convert {\n",
              "      background-color: #3B4455;\n",
              "      fill: #D2E3FC;\n",
              "    }\n",
              "\n",
              "    [theme=dark] .colab-df-convert:hover {\n",
              "      background-color: #434B5C;\n",
              "      box-shadow: 0px 1px 3px 1px rgba(0, 0, 0, 0.15);\n",
              "      filter: drop-shadow(0px 1px 2px rgba(0, 0, 0, 0.3));\n",
              "      fill: #FFFFFF;\n",
              "    }\n",
              "  </style>\n",
              "\n",
              "      <script>\n",
              "        const buttonEl =\n",
              "          document.querySelector('#df-ef926a2a-acd1-4d1a-8e41-7bcc398ede59 button.colab-df-convert');\n",
              "        buttonEl.style.display =\n",
              "          google.colab.kernel.accessAllowed ? 'block' : 'none';\n",
              "\n",
              "        async function convertToInteractive(key) {\n",
              "          const element = document.querySelector('#df-ef926a2a-acd1-4d1a-8e41-7bcc398ede59');\n",
              "          const dataTable =\n",
              "            await google.colab.kernel.invokeFunction('convertToInteractive',\n",
              "                                                     [key], {});\n",
              "          if (!dataTable) return;\n",
              "\n",
              "          const docLinkHtml = 'Like what you see? Visit the ' +\n",
              "            '<a target=\"_blank\" href=https://colab.research.google.com/notebooks/data_table.ipynb>data table notebook</a>'\n",
              "            + ' to learn more about interactive tables.';\n",
              "          element.innerHTML = '';\n",
              "          dataTable['output_type'] = 'display_data';\n",
              "          await google.colab.output.renderOutput(dataTable, element);\n",
              "          const docLink = document.createElement('div');\n",
              "          docLink.innerHTML = docLinkHtml;\n",
              "          element.appendChild(docLink);\n",
              "        }\n",
              "      </script>\n",
              "    </div>\n",
              "  </div>\n",
              "  "
            ]
          },
          "metadata": {},
          "execution_count": 294
        }
      ]
    },
    {
      "cell_type": "code",
      "source": [
        "Performance_metrics.to_csv(\"performance.csv\")"
      ],
      "metadata": {
        "id": "qLkvM5qB6RxE"
      },
      "execution_count": 295,
      "outputs": []
    },
    {
      "cell_type": "code",
      "source": [
        "import math\n",
        "math.sqrt(10)"
      ],
      "metadata": {
        "colab": {
          "base_uri": "https://localhost:8080/"
        },
        "id": "8fqSFs-j8iw0",
        "outputId": "c6d0927d-b4bc-492a-f56a-bd09ffc1bfd6"
      },
      "execution_count": 301,
      "outputs": [
        {
          "output_type": "execute_result",
          "data": {
            "text/plain": [
              "3.1622776601683795"
            ]
          },
          "metadata": {},
          "execution_count": 301
        }
      ]
    },
    {
      "cell_type": "code",
      "source": [
        "\n",
        "rmse_lr = math.sqrt(mean_squared_error(y_test,y_pred_lr))\n",
        "rmse_etr = math.sqrt(mean_squared_error(y_test,y_pred_etr))\n",
        "rmse_stk = math.sqrt(mean_squared_error(y_test,y_pred_stk))\n",
        "rmse_rf = math.sqrt(mean_squared_error(y_test,y_pred_rf))\n",
        "rmse_xgb= math.sqrt(mean_squared_error(y_test,y_pred_xgb))\n",
        "rmse_adb = math.sqrt(mean_squared_error(y_test,y_pred_adb))\n",
        "rmse_vtrg = math.sqrt(mean_squared_error(y_test,y_pred_vtrg))\n",
        "rmse_lsr = math.sqrt(mean_squared_error(y_test,y_pred_lsr))\n",
        "rmse_kn = math.sqrt(mean_squared_error(y_test,y_pred_kn))\n",
        "rmse_Rr = math.sqrt(mean_squared_error(y_test,y_pred_Rr))\n",
        "rmse_dt = math.sqrt(mean_squared_error(y_test,y_pred_dt))"
      ],
      "metadata": {
        "id": "DBUdASrS6rah"
      },
      "execution_count": 303,
      "outputs": []
    },
    {
      "cell_type": "code",
      "source": [
        "math.sqrt(mse_dt)"
      ],
      "metadata": {
        "colab": {
          "base_uri": "https://localhost:8080/"
        },
        "id": "gqRhUPD1-C11",
        "outputId": "b203a371-b675-41d0-c627-5fbd5bb58b0e"
      },
      "execution_count": 308,
      "outputs": [
        {
          "output_type": "execute_result",
          "data": {
            "text/plain": [
              "1.6832467744517818"
            ]
          },
          "metadata": {},
          "execution_count": 308
        }
      ]
    },
    {
      "cell_type": "code",
      "source": [
        "Performance_metrics = pd.DataFrame()\n",
        "Performance_metrics['Algorithms'] = ['Linear Regression', 'Extra Tree Regressor','Stacking Regressor', 'Random forest Regressor', 'XgBoost Regressor','AdaBoost Regressor', 'Voting Rregressor', 'Lasso Regressor','K-Nearest Neighbour Regressor', 'Ridge Regressor', 'Decision Tree Regressor']\n",
        "Performance_metrics['R2 Score'] = [r2_scr_lr, r2_scr_etr, r2_scr_stk, r2_scr_rf, r2_scr_stk,r2_scr_adb, r2_scr_vtrg, r2_scr_lsr,r2_scr_kn, r2_scr_Rr, r2_scr_dt]\n",
        "Performance_metrics['Mean Absolute Error'] = [mae_lr, mae_etr, mae_stk, mae_rf, mae_stk,mae_adb, mae_vtrg, mae_lsr, mae_kn, mae_Rr, mae_dt]\n",
        "Performance_metrics['Mean Squared Error'] = [mse_lr, mse_etr, mse_stk, mse_rf, mse_stk,mse_adb, mse_vtrg, mse_lsr, mse_kn, mse_Rr, mse_dt]\n",
        "Performance_metrics['Root Mean Squared Error'] = [rmse_lr, rmse_etr, rmse_stk, rmse_rf, rmse_stk,rmse_adb, rmse_vtrg, rmse_lsr, rmse_kn, rmse_Rr, rmse_dt]"
      ],
      "metadata": {
        "id": "zkPkrMfh9iIN"
      },
      "execution_count": 304,
      "outputs": []
    },
    {
      "cell_type": "code",
      "source": [
        "Performance_metrics"
      ],
      "metadata": {
        "colab": {
          "base_uri": "https://localhost:8080/",
          "height": 394
        },
        "id": "NWbyWXHa95oK",
        "outputId": "fb1c6371-c72b-44a1-c616-b4db621fc241"
      },
      "execution_count": 305,
      "outputs": [
        {
          "output_type": "execute_result",
          "data": {
            "text/plain": [
              "                       Algorithms  R2 Score  Mean Absolute Error  \\\n",
              "0               Linear Regression  0.653617             1.599972   \n",
              "1            Extra Tree Regressor  0.658866             1.598891   \n",
              "2              Stacking Regressor  0.677636             1.517302   \n",
              "3         Random forest Regressor  0.683456             1.517987   \n",
              "4               XgBoost Regressor  0.677636             1.517302   \n",
              "5              AdaBoost Regressor  0.680396             1.578042   \n",
              "6               Voting Rregressor  0.676852             1.541312   \n",
              "7                 Lasso Regressor  0.686784             1.505480   \n",
              "8   K-Nearest Neighbour Regressor  0.436313             2.024066   \n",
              "9                 Ridge Regressor  0.677802             1.539776   \n",
              "10        Decision Tree Regressor  0.336198             2.196337   \n",
              "\n",
              "    Mean Squared Error  Root Mean Squared Error  \n",
              "0             2.046703                 2.046703  \n",
              "1             2.031135                 2.031135  \n",
              "2             1.974466                 1.974466  \n",
              "3             1.956562                 1.956562  \n",
              "4             1.974466                 1.974466  \n",
              "5             1.965994                 1.965994  \n",
              "6             1.976866                 1.976866  \n",
              "7             1.946248                 1.946248  \n",
              "8             2.610930                 2.610930  \n",
              "9             1.973957                 1.973957  \n",
              "10            2.833320                 2.833320  "
            ],
            "text/html": [
              "\n",
              "  <div id=\"df-aaf03585-8774-4fcc-a8f9-e8fbdea4c3ec\">\n",
              "    <div class=\"colab-df-container\">\n",
              "      <div>\n",
              "<style scoped>\n",
              "    .dataframe tbody tr th:only-of-type {\n",
              "        vertical-align: middle;\n",
              "    }\n",
              "\n",
              "    .dataframe tbody tr th {\n",
              "        vertical-align: top;\n",
              "    }\n",
              "\n",
              "    .dataframe thead th {\n",
              "        text-align: right;\n",
              "    }\n",
              "</style>\n",
              "<table border=\"1\" class=\"dataframe\">\n",
              "  <thead>\n",
              "    <tr style=\"text-align: right;\">\n",
              "      <th></th>\n",
              "      <th>Algorithms</th>\n",
              "      <th>R2 Score</th>\n",
              "      <th>Mean Absolute Error</th>\n",
              "      <th>Mean Squared Error</th>\n",
              "      <th>Root Mean Squared Error</th>\n",
              "    </tr>\n",
              "  </thead>\n",
              "  <tbody>\n",
              "    <tr>\n",
              "      <th>0</th>\n",
              "      <td>Linear Regression</td>\n",
              "      <td>0.653617</td>\n",
              "      <td>1.599972</td>\n",
              "      <td>2.046703</td>\n",
              "      <td>2.046703</td>\n",
              "    </tr>\n",
              "    <tr>\n",
              "      <th>1</th>\n",
              "      <td>Extra Tree Regressor</td>\n",
              "      <td>0.658866</td>\n",
              "      <td>1.598891</td>\n",
              "      <td>2.031135</td>\n",
              "      <td>2.031135</td>\n",
              "    </tr>\n",
              "    <tr>\n",
              "      <th>2</th>\n",
              "      <td>Stacking Regressor</td>\n",
              "      <td>0.677636</td>\n",
              "      <td>1.517302</td>\n",
              "      <td>1.974466</td>\n",
              "      <td>1.974466</td>\n",
              "    </tr>\n",
              "    <tr>\n",
              "      <th>3</th>\n",
              "      <td>Random forest Regressor</td>\n",
              "      <td>0.683456</td>\n",
              "      <td>1.517987</td>\n",
              "      <td>1.956562</td>\n",
              "      <td>1.956562</td>\n",
              "    </tr>\n",
              "    <tr>\n",
              "      <th>4</th>\n",
              "      <td>XgBoost Regressor</td>\n",
              "      <td>0.677636</td>\n",
              "      <td>1.517302</td>\n",
              "      <td>1.974466</td>\n",
              "      <td>1.974466</td>\n",
              "    </tr>\n",
              "    <tr>\n",
              "      <th>5</th>\n",
              "      <td>AdaBoost Regressor</td>\n",
              "      <td>0.680396</td>\n",
              "      <td>1.578042</td>\n",
              "      <td>1.965994</td>\n",
              "      <td>1.965994</td>\n",
              "    </tr>\n",
              "    <tr>\n",
              "      <th>6</th>\n",
              "      <td>Voting Rregressor</td>\n",
              "      <td>0.676852</td>\n",
              "      <td>1.541312</td>\n",
              "      <td>1.976866</td>\n",
              "      <td>1.976866</td>\n",
              "    </tr>\n",
              "    <tr>\n",
              "      <th>7</th>\n",
              "      <td>Lasso Regressor</td>\n",
              "      <td>0.686784</td>\n",
              "      <td>1.505480</td>\n",
              "      <td>1.946248</td>\n",
              "      <td>1.946248</td>\n",
              "    </tr>\n",
              "    <tr>\n",
              "      <th>8</th>\n",
              "      <td>K-Nearest Neighbour Regressor</td>\n",
              "      <td>0.436313</td>\n",
              "      <td>2.024066</td>\n",
              "      <td>2.610930</td>\n",
              "      <td>2.610930</td>\n",
              "    </tr>\n",
              "    <tr>\n",
              "      <th>9</th>\n",
              "      <td>Ridge Regressor</td>\n",
              "      <td>0.677802</td>\n",
              "      <td>1.539776</td>\n",
              "      <td>1.973957</td>\n",
              "      <td>1.973957</td>\n",
              "    </tr>\n",
              "    <tr>\n",
              "      <th>10</th>\n",
              "      <td>Decision Tree Regressor</td>\n",
              "      <td>0.336198</td>\n",
              "      <td>2.196337</td>\n",
              "      <td>2.833320</td>\n",
              "      <td>2.833320</td>\n",
              "    </tr>\n",
              "  </tbody>\n",
              "</table>\n",
              "</div>\n",
              "      <button class=\"colab-df-convert\" onclick=\"convertToInteractive('df-aaf03585-8774-4fcc-a8f9-e8fbdea4c3ec')\"\n",
              "              title=\"Convert this dataframe to an interactive table.\"\n",
              "              style=\"display:none;\">\n",
              "        \n",
              "  <svg xmlns=\"http://www.w3.org/2000/svg\" height=\"24px\"viewBox=\"0 0 24 24\"\n",
              "       width=\"24px\">\n",
              "    <path d=\"M0 0h24v24H0V0z\" fill=\"none\"/>\n",
              "    <path d=\"M18.56 5.44l.94 2.06.94-2.06 2.06-.94-2.06-.94-.94-2.06-.94 2.06-2.06.94zm-11 1L8.5 8.5l.94-2.06 2.06-.94-2.06-.94L8.5 2.5l-.94 2.06-2.06.94zm10 10l.94 2.06.94-2.06 2.06-.94-2.06-.94-.94-2.06-.94 2.06-2.06.94z\"/><path d=\"M17.41 7.96l-1.37-1.37c-.4-.4-.92-.59-1.43-.59-.52 0-1.04.2-1.43.59L10.3 9.45l-7.72 7.72c-.78.78-.78 2.05 0 2.83L4 21.41c.39.39.9.59 1.41.59.51 0 1.02-.2 1.41-.59l7.78-7.78 2.81-2.81c.8-.78.8-2.07 0-2.86zM5.41 20L4 18.59l7.72-7.72 1.47 1.35L5.41 20z\"/>\n",
              "  </svg>\n",
              "      </button>\n",
              "      \n",
              "  <style>\n",
              "    .colab-df-container {\n",
              "      display:flex;\n",
              "      flex-wrap:wrap;\n",
              "      gap: 12px;\n",
              "    }\n",
              "\n",
              "    .colab-df-convert {\n",
              "      background-color: #E8F0FE;\n",
              "      border: none;\n",
              "      border-radius: 50%;\n",
              "      cursor: pointer;\n",
              "      display: none;\n",
              "      fill: #1967D2;\n",
              "      height: 32px;\n",
              "      padding: 0 0 0 0;\n",
              "      width: 32px;\n",
              "    }\n",
              "\n",
              "    .colab-df-convert:hover {\n",
              "      background-color: #E2EBFA;\n",
              "      box-shadow: 0px 1px 2px rgba(60, 64, 67, 0.3), 0px 1px 3px 1px rgba(60, 64, 67, 0.15);\n",
              "      fill: #174EA6;\n",
              "    }\n",
              "\n",
              "    [theme=dark] .colab-df-convert {\n",
              "      background-color: #3B4455;\n",
              "      fill: #D2E3FC;\n",
              "    }\n",
              "\n",
              "    [theme=dark] .colab-df-convert:hover {\n",
              "      background-color: #434B5C;\n",
              "      box-shadow: 0px 1px 3px 1px rgba(0, 0, 0, 0.15);\n",
              "      filter: drop-shadow(0px 1px 2px rgba(0, 0, 0, 0.3));\n",
              "      fill: #FFFFFF;\n",
              "    }\n",
              "  </style>\n",
              "\n",
              "      <script>\n",
              "        const buttonEl =\n",
              "          document.querySelector('#df-aaf03585-8774-4fcc-a8f9-e8fbdea4c3ec button.colab-df-convert');\n",
              "        buttonEl.style.display =\n",
              "          google.colab.kernel.accessAllowed ? 'block' : 'none';\n",
              "\n",
              "        async function convertToInteractive(key) {\n",
              "          const element = document.querySelector('#df-aaf03585-8774-4fcc-a8f9-e8fbdea4c3ec');\n",
              "          const dataTable =\n",
              "            await google.colab.kernel.invokeFunction('convertToInteractive',\n",
              "                                                     [key], {});\n",
              "          if (!dataTable) return;\n",
              "\n",
              "          const docLinkHtml = 'Like what you see? Visit the ' +\n",
              "            '<a target=\"_blank\" href=https://colab.research.google.com/notebooks/data_table.ipynb>data table notebook</a>'\n",
              "            + ' to learn more about interactive tables.';\n",
              "          element.innerHTML = '';\n",
              "          dataTable['output_type'] = 'display_data';\n",
              "          await google.colab.output.renderOutput(dataTable, element);\n",
              "          const docLink = document.createElement('div');\n",
              "          docLink.innerHTML = docLinkHtml;\n",
              "          element.appendChild(docLink);\n",
              "        }\n",
              "      </script>\n",
              "    </div>\n",
              "  </div>\n",
              "  "
            ]
          },
          "metadata": {},
          "execution_count": 305
        }
      ]
    },
    {
      "cell_type": "code",
      "source": [
        "y_test.shape"
      ],
      "metadata": {
        "colab": {
          "base_uri": "https://localhost:8080/"
        },
        "id": "2u2F-qSw98GX",
        "outputId": "f4942086-f1bb-4b6a-974e-cef51bc737bd"
      },
      "execution_count": 310,
      "outputs": [
        {
          "output_type": "execute_result",
          "data": {
            "text/plain": [
              "(121,)"
            ]
          },
          "metadata": {},
          "execution_count": 310
        }
      ]
    },
    {
      "cell_type": "code",
      "source": [
        "plt.plot(y_test,y_pred_gb)"
      ],
      "metadata": {
        "colab": {
          "base_uri": "https://localhost:8080/",
          "height": 283
        },
        "id": "aOo8fWcm_RI7",
        "outputId": "95a6f0ec-e926-4bb5-ea12-b17c98665a25"
      },
      "execution_count": 312,
      "outputs": [
        {
          "output_type": "execute_result",
          "data": {
            "text/plain": [
              "[<matplotlib.lines.Line2D at 0x7f03a6b88310>]"
            ]
          },
          "metadata": {},
          "execution_count": 312
        },
        {
          "output_type": "display_data",
          "data": {
            "text/plain": [
              "<Figure size 432x288 with 1 Axes>"
            ],
            "image/png": "[encoded data removed]"
          },
          "metadata": {
            "needs_background": "light"
          }
        }
      ]
    },
    {
      "cell_type": "code",
      "source": [
        "y_list = list(y_test)"
      ],
      "metadata": {
        "id": "wgKJ3q9o_dTl"
      },
      "execution_count": 313,
      "outputs": []
    },
    {
      "cell_type": "code",
      "source": [
        "y_p_list = list(y_pred_xgb)"
      ],
      "metadata": {
        "id": "z83Qlkge_s_4"
      },
      "execution_count": 314,
      "outputs": []
    },
    {
      "cell_type": "code",
      "source": [
        "plt.plot(y_list,y_p_list)"
      ],
      "metadata": {
        "colab": {
          "base_uri": "https://localhost:8080/",
          "height": 283
        },
        "id": "9j6VKPwt_17u",
        "outputId": "d3d62f69-2a10-4e62-e9ae-5792b94b99d1"
      },
      "execution_count": 315,
      "outputs": [
        {
          "output_type": "execute_result",
          "data": {
            "text/plain": [
              "[<matplotlib.lines.Line2D at 0x7f03a6b56c90>]"
            ]
          },
          "metadata": {},
          "execution_count": 315
        },
        {
          "output_type": "display_data",
          "data": {
            "text/plain": [
              "<Figure size 432x288 with 1 Axes>"
            ],
            "image/png": "[encoded data removed]"
          },
          "metadata": {
            "needs_background": "light"
          }
        }
      ]
    },
    {
      "cell_type": "code",
      "source": [],
      "metadata": {
        "id": "Tj6jB-vz_7WN"
      },
      "execution_count": null,
      "outputs": []
    }
  ],
  "metadata": {
    "colab": {
      "collapsed_sections": [],
      "provenance": [],
      "mount_file_id": "1tg4KKqrV8MPGMa2wNgDrK_DqTIDUFllm",
      "authorship_tag": "ABX9TyOU/1/4BuOlIDQtGJc0FywY",
      "include_colab_link": true
    },
    "kernelspec": {
      "display_name": "Python 3",
      "name": "python3"
    },
    "language_info": {
      "name": "python"
    }
  },
  "nbformat": 4,
  "nbformat_minor": 0
}