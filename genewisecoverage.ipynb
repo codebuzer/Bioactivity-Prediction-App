{
  "nbformat": 4,
  "nbformat_minor": 0,
  "metadata": {
    "colab": {
      "provenance": [],
      "authorship_tag": "ABX9TyNge+34nIe6reAgAcqX0H+A",
      "include_colab_link": true
    },
    "kernelspec": {
      "name": "python3",
      "display_name": "Python 3"
    },
    "language_info": {
      "name": "python"
    }
  },
  "cells": [
    {
      "cell_type": "markdown",
      "metadata": {
        "id": "view-in-github",
        "colab_type": "text"
      },
      "source": [
        "<a href=\"https://colab.research.google.com/github/codebuzer/Bioactivity-Prediction-App/blob/main/genewisecoverage.ipynb\" target=\"_parent\"><img src=\"https://colab.research.google.com/assets/colab-badge.svg\" alt=\"Open In Colab\"/></a>"
      ]
    },
    {
      "cell_type": "code",
      "execution_count": 5,
      "metadata": {
        "id": "4neRO9WBNAIA"
      },
      "outputs": [],
      "source": [
        "import pysam\n",
        "from pybedtools import BedTool\n",
        "\n",
        "# Load the BAM file\n",
        "#bam_file = \"path/to/sequencing_data.bam\"\n",
        "#bam = pysam.AlignmentFile(bam_file, \"rb\")\n",
        "\n",
        "# Load the GTF file\n",
        "#gtf_file = \"path/to/gene_annotations.gtf\"\n",
        "#genes = BedTool(gtf_file)\n"
      ]
    },
    {
      "cell_type": "code",
      "source": [
        "gene_coverage = {}\n",
        "\n",
        "for gene in genes:\n",
        "    gene_name = gene.attrs[\"gene_name\"]\n",
        "    chrom = gene.chrom\n",
        "    start = gene.start\n",
        "    end = gene.end\n",
        "\n",
        "    # Calculate coverage using pysam\n",
        "    coverage = bam.count_coverage(reference=chrom, start=start, end=end)\n",
        "\n",
        "    # Sum the coverage across all bases in the region\n",
        "    total_coverage = sum(sum(base_counts) for base_counts in coverage)\n",
        "\n",
        "    # Update the gene-wise coverage dictionary\n",
        "    if gene_name in gene_coverage:\n",
        "        gene_coverage[gene_name] += total_coverage\n",
        "    else:\n",
        "        gene_coverage[gene_name] = total_coverage\n",
        "\n",
        "# Print the gene-wise coverage\n",
        "for gene_name, coverage in gene_coverage.items():\n",
        "    print(f\"Gene: {gene_name}\\tCoverage: {coverage}\")\n"
      ],
      "metadata": {
        "id": "hFHpqjuONOZd"
      },
      "execution_count": null,
      "outputs": []
    }
  ]
}