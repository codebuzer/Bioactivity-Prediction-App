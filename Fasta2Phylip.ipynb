{
  "nbformat": 4,
  "nbformat_minor": 0,
  "metadata": {
    "colab": {
      "provenance": [],
      "authorship_tag": "ABX9TyMcHIEDeQH/IfPk+nNj9cRK",
      "include_colab_link": true
    },
    "kernelspec": {
      "name": "python3",
      "display_name": "Python 3"
    },
    "language_info": {
      "name": "python"
    }
  },
  "cells": [
    {
      "cell_type": "markdown",
      "metadata": {
        "id": "view-in-github",
        "colab_type": "text"
      },
      "source": [
        "<a href=\"https://colab.research.google.com/github/codebuzer/Bioactivity-Prediction-App/blob/main/Fasta2Phylip.ipynb\" target=\"_parent\"><img src=\"https://colab.research.google.com/assets/colab-badge.svg\" alt=\"Open In Colab\"/></a>"
      ]
    },
    {
      "cell_type": "code",
      "source": [
        "from Bio import SeqIO\n",
        "\n",
        "records = SeqIO.parse(\"/content/Alpha.fasta\", \"fasta\")\n",
        "count = SeqIO.write(records, \"Alpha.phylip\", \"phylip\")\n",
        "print(\"Converted %i records\" % count)"
      ],
      "metadata": {
        "id": "m7arxxyjyrvR",
        "colab": {
          "base_uri": "https://localhost:8080/"
        },
        "outputId": "73abab79-f6cd-4769-9891-1f1557253d99"
      },
      "execution_count": 3,
      "outputs": [
        {
          "output_type": "stream",
          "name": "stdout",
          "text": [
            "Converted 30 records\n"
          ]
        }
      ]
    },
    {
      "cell_type": "code",
      "source": [],
      "metadata": {
        "id": "nwbPOoFddT9e"
      },
      "execution_count": null,
      "outputs": []
    }
  ]
}