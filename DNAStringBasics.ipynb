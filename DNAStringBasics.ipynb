{
  "nbformat": 4,
  "nbformat_minor": 0,
  "metadata": {
    "colab": {
      "name": "DNAStringBasics.ipynb",
      "provenance": [],
      "collapsed_sections": [],
      "authorship_tag": "ABX9TyMwJPlk0q0kKkQHoc9dgS77",
      "include_colab_link": true
    },
    "kernelspec": {
      "name": "python3",
      "display_name": "Python 3"
    },
    "language_info": {
      "name": "python"
    }
  },
  "cells": [
    {
      "cell_type": "markdown",
      "metadata": {
        "id": "view-in-github",
        "colab_type": "text"
      },
      "source": [
        "<a href=\"https://colab.research.google.com/github/codebuzer/Bioactivity-Prediction-App/blob/main/DNAStringBasics.ipynb\" target=\"_parent\"><img src=\"https://colab.research.google.com/assets/colab-badge.svg\" alt=\"Open In Colab\"/></a>"
      ]
    },
    {
      "cell_type": "code",
      "execution_count": 1,
      "metadata": {
        "id": "dT_O8_qm8PAU"
      },
      "outputs": [],
      "source": [
        "seq = 'ATGC'"
      ]
    },
    {
      "cell_type": "code",
      "source": [
        "seq[1]\n",
        "seq[3]\n",
        "seq[0]\n",
        "seq[2]"
      ],
      "metadata": {
        "colab": {
          "base_uri": "https://localhost:8080/",
          "height": 36
        },
        "id": "z569vlpH8VfT",
        "outputId": "66522324-d62f-426c-966a-5f000f98f29d"
      },
      "execution_count": 7,
      "outputs": [
        {
          "output_type": "execute_result",
          "data": {
            "text/plain": [
              "'G'"
            ],
            "application/vnd.google.colaboratory.intrinsic+json": {
              "type": "string"
            }
          },
          "metadata": {},
          "execution_count": 7
        }
      ]
    },
    {
      "cell_type": "markdown",
      "source": [
        "Concatenating two DNA Strings"
      ],
      "metadata": {
        "id": "708COmHO8uZ6"
      }
    },
    {
      "cell_type": "code",
      "source": [
        "seq1 = \"ATGC\"\n",
        "seq2 = \"ATGC\"\n",
        "print(seq1 + seq2)"
      ],
      "metadata": {
        "colab": {
          "base_uri": "https://localhost:8080/"
        },
        "id": "vbAh4pdx8bvG",
        "outputId": "4fa5cdc0-f89d-4db1-8532-8621197f3303"
      },
      "execution_count": 10,
      "outputs": [
        {
          "output_type": "stream",
          "name": "stdout",
          "text": [
            "ATGCATGC\n"
          ]
        }
      ]
    },
    {
      "cell_type": "code",
      "source": [
        ""
      ],
      "metadata": {
        "colab": {
          "base_uri": "https://localhost:8080/"
        },
        "id": "aUXJZtRy8c_k",
        "outputId": "e58c0cf6-0b47-4971-b488-b29c0861c2a1"
      },
      "execution_count": 9,
      "outputs": [
        {
          "output_type": "stream",
          "name": "stdout",
          "text": [
            "ATGCATGC\n"
          ]
        }
      ]
    },
    {
      "cell_type": "markdown",
      "source": [
        "Length of the string"
      ],
      "metadata": {
        "id": "4oac4HBm9W6H"
      }
    },
    {
      "cell_type": "code",
      "source": [
        "len(seq)"
      ],
      "metadata": {
        "colab": {
          "base_uri": "https://localhost:8080/"
        },
        "id": "BIfdUWsV8eo1",
        "outputId": "58b3b95c-236c-49f8-f4d8-7b32599de496"
      },
      "execution_count": 11,
      "outputs": [
        {
          "output_type": "execute_result",
          "data": {
            "text/plain": [
              "4"
            ]
          },
          "metadata": {},
          "execution_count": 11
        }
      ]
    },
    {
      "cell_type": "markdown",
      "source": [
        "Concatenation of two string using join function"
      ],
      "metadata": {
        "id": "SMHHTcPJ9bx-"
      }
    },
    {
      "cell_type": "code",
      "source": [
        "#Its join the list of dna string  by just adding whatever is in the empty list either blank, comma, question mark.\n",
        "seqs = ['A','T','G','C']\n",
        "seq_con = ''.join(seqs)\n",
        "seq_con\n"
      ],
      "metadata": {
        "colab": {
          "base_uri": "https://localhost:8080/",
          "height": 36
        },
        "id": "ogq8wqkY9gCM",
        "outputId": "3200e72f-c64c-4577-cebe-c20d8efcc209"
      },
      "execution_count": 20,
      "outputs": [
        {
          "output_type": "execute_result",
          "data": {
            "text/plain": [
              "'ATGC'"
            ],
            "application/vnd.google.colaboratory.intrinsic+json": {
              "type": "string"
            }
          },
          "metadata": {},
          "execution_count": 20
        }
      ]
    },
    {
      "cell_type": "markdown",
      "source": [
        ""
      ],
      "metadata": {
        "id": "CkQpX86R-LIp"
      }
    },
    {
      "cell_type": "code",
      "source": [
        "seqs = ['A','T','G','C']\n",
        "seq_con = ','.join(seqs)\n",
        "seq_con"
      ],
      "metadata": {
        "colab": {
          "base_uri": "https://localhost:8080/",
          "height": 36
        },
        "id": "q7rb-55G9y5Y",
        "outputId": "23adedc4-6aa5-4a24-8b11-3200bce7ebb5"
      },
      "execution_count": 21,
      "outputs": [
        {
          "output_type": "execute_result",
          "data": {
            "text/plain": [
              "'A,T,G,C'"
            ],
            "application/vnd.google.colaboratory.intrinsic+json": {
              "type": "string"
            }
          },
          "metadata": {},
          "execution_count": 21
        }
      ]
    },
    {
      "cell_type": "markdown",
      "source": [
        "Randomly creating a DNA string using Random module of python"
      ],
      "metadata": {
        "id": "YXvpxwtY-ppw"
      }
    },
    {
      "cell_type": "code",
      "source": [
        "import random  #if you run that again and again it will gives u a randomly selected DNA String\n",
        "random.choice('ATGC')"
      ],
      "metadata": {
        "colab": {
          "base_uri": "https://localhost:8080/",
          "height": 36
        },
        "id": "rQBdlWB1-xFR",
        "outputId": "be423385-9d87-419b-9d12-02ce2c518d50"
      },
      "execution_count": 28,
      "outputs": [
        {
          "output_type": "execute_result",
          "data": {
            "text/plain": [
              "'G'"
            ],
            "application/vnd.google.colaboratory.intrinsic+json": {
              "type": "string"
            }
          },
          "metadata": {},
          "execution_count": 28
        }
      ]
    },
    {
      "cell_type": "code",
      "source": [
        "#and if you want that it gives the same string even after several runs you can use random.seed\n",
        "\n",
        "random.seed() #in this case it gives us G everytime\n",
        "random.choice('ATGC')"
      ],
      "metadata": {
        "colab": {
          "base_uri": "https://localhost:8080/",
          "height": 36
        },
        "id": "RYQN8eEk-9jP",
        "outputId": "73ce924b-fdbc-4635-9c57-dfb7555d6820"
      },
      "execution_count": 41,
      "outputs": [
        {
          "output_type": "execute_result",
          "data": {
            "text/plain": [
              "'G'"
            ],
            "application/vnd.google.colaboratory.intrinsic+json": {
              "type": "string"
            }
          },
          "metadata": {},
          "execution_count": 41
        }
      ]
    },
    {
      "cell_type": "markdown",
      "source": [
        "Use random.choice to generate a longer stretch of nucleotide"
      ],
      "metadata": {
        "id": "2AUzXzYUAiJE"
      }
    },
    {
      "cell_type": "code",
      "source": [
        "seq = '' #here i initiate an empty variable to append the newly synthesized string of nucletides \n",
        "for _ in range(10): #here i use underscore instead of i or anything bcz i dnt want to care about the index if i use i instead of underscore then the loop will run from 0 to 9 index\n",
        "  seq += random.choice('ATGC')\n",
        "print(seq)#here print statement is outside the loop so it prints only the desired string but if you execute the print statement indide the loop then you will get the result as shown in the next cell "
      ],
      "metadata": {
        "colab": {
          "base_uri": "https://localhost:8080/"
        },
        "id": "l3WRLpyLApNm",
        "outputId": "218c176d-fc47-4da6-fc23-443a490bc83e"
      },
      "execution_count": 59,
      "outputs": [
        {
          "output_type": "stream",
          "name": "stdout",
          "text": [
            "CTTAGACAGT\n"
          ]
        }
      ]
    },
    {
      "cell_type": "code",
      "source": [
        "seq = ''\n",
        "for _ in range(10):\n",
        "  seq += random.choice('ATGC')\n",
        "  print(seq) #here print statement is inside the loop"
      ],
      "metadata": {
        "colab": {
          "base_uri": "https://localhost:8080/"
        },
        "id": "pc1XfOidBLyR",
        "outputId": "51815fd2-f6a6-4c25-ef77-98d9f14f6b4d"
      },
      "execution_count": 60,
      "outputs": [
        {
          "output_type": "stream",
          "name": "stdout",
          "text": [
            "G\n",
            "GC\n",
            "GCC\n",
            "GCCC\n",
            "GCCCT\n",
            "GCCCTC\n",
            "GCCCTCG\n",
            "GCCCTCGC\n",
            "GCCCTCGCC\n",
            "GCCCTCGCCC\n"
          ]
        }
      ]
    },
    {
      "cell_type": "markdown",
      "source": [
        "Another way to create a random string is by using join "
      ],
      "metadata": {
        "id": "_xlfofXp17vQ"
      }
    },
    {
      "cell_type": "code",
      "source": [
        "seq = ''.join([random.choice('ATGC') for _ in range(10)])\n",
        "print(seq)\n"
      ],
      "metadata": {
        "colab": {
          "base_uri": "https://localhost:8080/"
        },
        "id": "oxo7464416ve",
        "outputId": "4db980be-2d7a-408c-afe2-b403752702df"
      },
      "execution_count": 64,
      "outputs": [
        {
          "output_type": "stream",
          "name": "stdout",
          "text": [
            "GTCAACTGAT\n"
          ]
        }
      ]
    },
    {
      "cell_type": "markdown",
      "source": [
        "We can also get the substring of the string using colon"
      ],
      "metadata": {
        "id": "IdYYh4zF23Wc"
      }
    },
    {
      "cell_type": "code",
      "source": [
        "seq[1:3] #it gives us the character from index 1 upto 2"
      ],
      "metadata": {
        "colab": {
          "base_uri": "https://localhost:8080/",
          "height": 36
        },
        "id": "8t0oxD_p16zG",
        "outputId": "3657bec8-d8ed-4713-922a-6904bfa78a0d"
      },
      "execution_count": 65,
      "outputs": [
        {
          "output_type": "execute_result",
          "data": {
            "text/plain": [
              "'TC'"
            ],
            "application/vnd.google.colaboratory.intrinsic+json": {
              "type": "string"
            }
          },
          "metadata": {},
          "execution_count": 65
        }
      ]
    },
    {
      "cell_type": "code",
      "source": [
        "#we can get the prefix by just not putting the no. before colon, it gives from the beginning\n",
        "seq[:3]"
      ],
      "metadata": {
        "colab": {
          "base_uri": "https://localhost:8080/",
          "height": 36
        },
        "id": "KBYLTC18162h",
        "outputId": "c2cca63c-2c45-445b-92d8-b84142d9c428"
      },
      "execution_count": 67,
      "outputs": [
        {
          "output_type": "execute_result",
          "data": {
            "text/plain": [
              "'GTC'"
            ],
            "application/vnd.google.colaboratory.intrinsic+json": {
              "type": "string"
            }
          },
          "metadata": {},
          "execution_count": 67
        }
      ]
    },
    {
      "cell_type": "code",
      "source": [
        "#we can get the suffix by just not putting the no.after colon. neative index can also do the same\n",
        "seq[7:]"
      ],
      "metadata": {
        "colab": {
          "base_uri": "https://localhost:8080/",
          "height": 36
        },
        "id": "XyOr2cE3165d",
        "outputId": "256835ef-53f7-46ed-92a5-2ce9c2866c1d"
      },
      "execution_count": 68,
      "outputs": [
        {
          "output_type": "execute_result",
          "data": {
            "text/plain": [
              "'GAT'"
            ],
            "application/vnd.google.colaboratory.intrinsic+json": {
              "type": "string"
            }
          },
          "metadata": {},
          "execution_count": 68
        }
      ]
    },
    {
      "cell_type": "code",
      "source": [
        "seq[-3:]"
      ],
      "metadata": {
        "colab": {
          "base_uri": "https://localhost:8080/",
          "height": 36
        },
        "id": "bghJIrXh4L9d",
        "outputId": "44f88f7f-dade-4991-fe12-1a81ade4497a"
      },
      "execution_count": 70,
      "outputs": [
        {
          "output_type": "execute_result",
          "data": {
            "text/plain": [
              "'GAT'"
            ],
            "application/vnd.google.colaboratory.intrinsic+json": {
              "type": "string"
            }
          },
          "metadata": {},
          "execution_count": 70
        }
      ]
    },
    {
      "cell_type": "code",
      "source": [
        ""
      ],
      "metadata": {
        "id": "rYW5OVmB168u"
      },
      "execution_count": null,
      "outputs": []
    },
    {
      "cell_type": "code",
      "source": [
        ""
      ],
      "metadata": {
        "id": "HZYzk1Ld10pU"
      },
      "execution_count": null,
      "outputs": []
    }
  ]
}