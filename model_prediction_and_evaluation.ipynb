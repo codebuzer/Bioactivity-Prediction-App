{
  "nbformat": 4,
  "nbformat_minor": 0,
  "metadata": {
    "colab": {
      "provenance": [],
      "collapsed_sections": [],
      "authorship_tag": "ABX9TyMZYHfMrY7vJ486btbeim30",
      "include_colab_link": true
    },
    "kernelspec": {
      "name": "python3",
      "display_name": "Python 3"
    },
    "language_info": {
      "name": "python"
    }
  },
  "cells": [
    {
      "cell_type": "markdown",
      "metadata": {
        "id": "view-in-github",
        "colab_type": "text"
      },
      "source": [
        "<a href=\"https://colab.research.google.com/github/codebuzer/Bioactivity-Prediction-App/blob/main/model_prediction_and_evaluation.ipynb\" target=\"_parent\"><img src=\"https://colab.research.google.com/assets/colab-badge.svg\" alt=\"Open In Colab\"/></a>"
      ]
    },
    {
      "cell_type": "code",
      "source": [
        "import pandas as pd\n",
        "import numpy as np"
      ],
      "metadata": {
        "id": "JSiqjcn5Ba6c"
      },
      "execution_count": 2,
      "outputs": []
    },
    {
      "cell_type": "code",
      "source": [
        "test = pd.read_csv(\"/content/drive/MyDrive/test (1).csv\", index_col = 0)"
      ],
      "metadata": {
        "id": "TEBwZD-zB29d"
      },
      "execution_count": 4,
      "outputs": []
    },
    {
      "cell_type": "code",
      "source": [
        "train = pd.read_csv(\"/content/drive/MyDrive/train (2).csv\", index_col = 0)"
      ],
      "metadata": {
        "id": "tdvKdEkYB3AF"
      },
      "execution_count": 5,
      "outputs": []
    },
    {
      "cell_type": "code",
      "source": [
        "test.shape"
      ],
      "metadata": {
        "colab": {
          "base_uri": "https://localhost:8080/"
        },
        "id": "zamwc2O7B3Cq",
        "outputId": "4a29423b-d586-4314-8f96-a4ad5e304ccf"
      },
      "execution_count": 9,
      "outputs": [
        {
          "output_type": "execute_result",
          "data": {
            "text/plain": [
              "(121, 74)"
            ]
          },
          "metadata": {},
          "execution_count": 9
        }
      ]
    },
    {
      "cell_type": "code",
      "source": [
        "validation_data = test.iloc[0:20,:]"
      ],
      "metadata": {
        "id": "VADJz6_TC3C-"
      },
      "execution_count": 10,
      "outputs": []
    },
    {
      "cell_type": "code",
      "source": [
        "test = test.iloc[20:,:]"
      ],
      "metadata": {
        "id": "TJ1XK-UwDyB-"
      },
      "execution_count": 12,
      "outputs": []
    },
    {
      "cell_type": "code",
      "source": [
        "test.shape"
      ],
      "metadata": {
        "colab": {
          "base_uri": "https://localhost:8080/"
        },
        "id": "6XE-E2NbD6Gv",
        "outputId": "03b71b47-600f-4420-ff58-00592dc94d6e"
      },
      "execution_count": 14,
      "outputs": [
        {
          "output_type": "execute_result",
          "data": {
            "text/plain": [
              "(101, 74)"
            ]
          },
          "metadata": {},
          "execution_count": 14
        }
      ]
    },
    {
      "cell_type": "code",
      "source": [
        "validation_data.shape"
      ],
      "metadata": {
        "colab": {
          "base_uri": "https://localhost:8080/"
        },
        "id": "jWll4opHDquV",
        "outputId": "ea6c2677-2070-4dd8-86ab-bd4bc66eb5d9"
      },
      "execution_count": 15,
      "outputs": [
        {
          "output_type": "execute_result",
          "data": {
            "text/plain": [
              "(20, 74)"
            ]
          },
          "metadata": {},
          "execution_count": 15
        }
      ]
    },
    {
      "cell_type": "code",
      "source": [
        "train.head()"
      ],
      "metadata": {
        "colab": {
          "base_uri": "https://localhost:8080/",
          "height": 299
        },
        "id": "xpwZJKNVB3F5",
        "outputId": "b97475fa-4d9e-4186-da22-4cc018fc27cc"
      },
      "execution_count": 7,
      "outputs": [
        {
          "output_type": "execute_result",
          "data": {
            "text/plain": [
              "         V1        V2        V3        V4        V5        V6        V7  \\\n",
              "0 -0.330218  0.010943 -0.210595  0.042186  0.239706 -0.086893 -0.154712   \n",
              "1  0.426675  0.201063 -0.024022 -0.013352  0.077604  0.044928  0.296684   \n",
              "2 -0.449942 -0.190835  0.044374  0.144829 -0.079280 -0.086654 -0.303872   \n",
              "3 -0.385247 -0.206050 -0.239616 -0.120262 -0.137117 -0.310101 -0.280388   \n",
              "4  0.008941 -0.073164 -0.227340 -0.243443 -0.297489 -0.101534  0.102413   \n",
              "\n",
              "         V8        V9       V10  ...  batch_N  batch_O  batch_P  batch_Q  \\\n",
              "0  0.084187 -0.214529 -0.107121  ...        0        0        0        0   \n",
              "1 -0.264555 -0.149196  0.093459  ...        0        0        0        1   \n",
              "2 -0.098651  0.259484 -0.207055  ...        0        0        0        0   \n",
              "3 -0.231672 -0.151738 -0.266959  ...        1        0        0        0   \n",
              "4 -0.061237 -0.281460 -0.125080  ...        0        0        0        0   \n",
              "\n",
              "   batch_R  batch_S  batch_T  batch_U  ctnum_median_status  infection  \n",
              "0        0        0        0        0                    1          1  \n",
              "1        0        0        0        0                    0          1  \n",
              "2        0        0        0        0                    1          1  \n",
              "3        0        0        0        0                    1          1  \n",
              "4        0        0        0        0                    1          1  \n",
              "\n",
              "[5 rows x 74 columns]"
            ],
            "text/html": [
              "\n",
              "  <div id=\"df-ab5bb5b5-5f19-4120-8799-905e9f9d7704\">\n",
              "    <div class=\"colab-df-container\">\n",
              "      <div>\n",
              "<style scoped>\n",
              "    .dataframe tbody tr th:only-of-type {\n",
              "        vertical-align: middle;\n",
              "    }\n",
              "\n",
              "    .dataframe tbody tr th {\n",
              "        vertical-align: top;\n",
              "    }\n",
              "\n",
              "    .dataframe thead th {\n",
              "        text-align: right;\n",
              "    }\n",
              "</style>\n",
              "<table border=\"1\" class=\"dataframe\">\n",
              "  <thead>\n",
              "    <tr style=\"text-align: right;\">\n",
              "      <th></th>\n",
              "      <th>V1</th>\n",
              "      <th>V2</th>\n",
              "      <th>V3</th>\n",
              "      <th>V4</th>\n",
              "      <th>V5</th>\n",
              "      <th>V6</th>\n",
              "      <th>V7</th>\n",
              "      <th>V8</th>\n",
              "      <th>V9</th>\n",
              "      <th>V10</th>\n",
              "      <th>...</th>\n",
              "      <th>batch_N</th>\n",
              "      <th>batch_O</th>\n",
              "      <th>batch_P</th>\n",
              "      <th>batch_Q</th>\n",
              "      <th>batch_R</th>\n",
              "      <th>batch_S</th>\n",
              "      <th>batch_T</th>\n",
              "      <th>batch_U</th>\n",
              "      <th>ctnum_median_status</th>\n",
              "      <th>infection</th>\n",
              "    </tr>\n",
              "  </thead>\n",
              "  <tbody>\n",
              "    <tr>\n",
              "      <th>0</th>\n",
              "      <td>-0.330218</td>\n",
              "      <td>0.010943</td>\n",
              "      <td>-0.210595</td>\n",
              "      <td>0.042186</td>\n",
              "      <td>0.239706</td>\n",
              "      <td>-0.086893</td>\n",
              "      <td>-0.154712</td>\n",
              "      <td>0.084187</td>\n",
              "      <td>-0.214529</td>\n",
              "      <td>-0.107121</td>\n",
              "      <td>...</td>\n",
              "      <td>0</td>\n",
              "      <td>0</td>\n",
              "      <td>0</td>\n",
              "      <td>0</td>\n",
              "      <td>0</td>\n",
              "      <td>0</td>\n",
              "      <td>0</td>\n",
              "      <td>0</td>\n",
              "      <td>1</td>\n",
              "      <td>1</td>\n",
              "    </tr>\n",
              "    <tr>\n",
              "      <th>1</th>\n",
              "      <td>0.426675</td>\n",
              "      <td>0.201063</td>\n",
              "      <td>-0.024022</td>\n",
              "      <td>-0.013352</td>\n",
              "      <td>0.077604</td>\n",
              "      <td>0.044928</td>\n",
              "      <td>0.296684</td>\n",
              "      <td>-0.264555</td>\n",
              "      <td>-0.149196</td>\n",
              "      <td>0.093459</td>\n",
              "      <td>...</td>\n",
              "      <td>0</td>\n",
              "      <td>0</td>\n",
              "      <td>0</td>\n",
              "      <td>1</td>\n",
              "      <td>0</td>\n",
              "      <td>0</td>\n",
              "      <td>0</td>\n",
              "      <td>0</td>\n",
              "      <td>0</td>\n",
              "      <td>1</td>\n",
              "    </tr>\n",
              "    <tr>\n",
              "      <th>2</th>\n",
              "      <td>-0.449942</td>\n",
              "      <td>-0.190835</td>\n",
              "      <td>0.044374</td>\n",
              "      <td>0.144829</td>\n",
              "      <td>-0.079280</td>\n",
              "      <td>-0.086654</td>\n",
              "      <td>-0.303872</td>\n",
              "      <td>-0.098651</td>\n",
              "      <td>0.259484</td>\n",
              "      <td>-0.207055</td>\n",
              "      <td>...</td>\n",
              "      <td>0</td>\n",
              "      <td>0</td>\n",
              "      <td>0</td>\n",
              "      <td>0</td>\n",
              "      <td>0</td>\n",
              "      <td>0</td>\n",
              "      <td>0</td>\n",
              "      <td>0</td>\n",
              "      <td>1</td>\n",
              "      <td>1</td>\n",
              "    </tr>\n",
              "    <tr>\n",
              "      <th>3</th>\n",
              "      <td>-0.385247</td>\n",
              "      <td>-0.206050</td>\n",
              "      <td>-0.239616</td>\n",
              "      <td>-0.120262</td>\n",
              "      <td>-0.137117</td>\n",
              "      <td>-0.310101</td>\n",
              "      <td>-0.280388</td>\n",
              "      <td>-0.231672</td>\n",
              "      <td>-0.151738</td>\n",
              "      <td>-0.266959</td>\n",
              "      <td>...</td>\n",
              "      <td>1</td>\n",
              "      <td>0</td>\n",
              "      <td>0</td>\n",
              "      <td>0</td>\n",
              "      <td>0</td>\n",
              "      <td>0</td>\n",
              "      <td>0</td>\n",
              "      <td>0</td>\n",
              "      <td>1</td>\n",
              "      <td>1</td>\n",
              "    </tr>\n",
              "    <tr>\n",
              "      <th>4</th>\n",
              "      <td>0.008941</td>\n",
              "      <td>-0.073164</td>\n",
              "      <td>-0.227340</td>\n",
              "      <td>-0.243443</td>\n",
              "      <td>-0.297489</td>\n",
              "      <td>-0.101534</td>\n",
              "      <td>0.102413</td>\n",
              "      <td>-0.061237</td>\n",
              "      <td>-0.281460</td>\n",
              "      <td>-0.125080</td>\n",
              "      <td>...</td>\n",
              "      <td>0</td>\n",
              "      <td>0</td>\n",
              "      <td>0</td>\n",
              "      <td>0</td>\n",
              "      <td>0</td>\n",
              "      <td>0</td>\n",
              "      <td>0</td>\n",
              "      <td>0</td>\n",
              "      <td>1</td>\n",
              "      <td>1</td>\n",
              "    </tr>\n",
              "  </tbody>\n",
              "</table>\n",
              "<p>5 rows × 74 columns</p>\n",
              "</div>\n",
              "      <button class=\"colab-df-convert\" onclick=\"convertToInteractive('df-ab5bb5b5-5f19-4120-8799-905e9f9d7704')\"\n",
              "              title=\"Convert this dataframe to an interactive table.\"\n",
              "              style=\"display:none;\">\n",
              "        \n",
              "  <svg xmlns=\"http://www.w3.org/2000/svg\" height=\"24px\"viewBox=\"0 0 24 24\"\n",
              "       width=\"24px\">\n",
              "    <path d=\"M0 0h24v24H0V0z\" fill=\"none\"/>\n",
              "    <path d=\"M18.56 5.44l.94 2.06.94-2.06 2.06-.94-2.06-.94-.94-2.06-.94 2.06-2.06.94zm-11 1L8.5 8.5l.94-2.06 2.06-.94-2.06-.94L8.5 2.5l-.94 2.06-2.06.94zm10 10l.94 2.06.94-2.06 2.06-.94-2.06-.94-.94-2.06-.94 2.06-2.06.94z\"/><path d=\"M17.41 7.96l-1.37-1.37c-.4-.4-.92-.59-1.43-.59-.52 0-1.04.2-1.43.59L10.3 9.45l-7.72 7.72c-.78.78-.78 2.05 0 2.83L4 21.41c.39.39.9.59 1.41.59.51 0 1.02-.2 1.41-.59l7.78-7.78 2.81-2.81c.8-.78.8-2.07 0-2.86zM5.41 20L4 18.59l7.72-7.72 1.47 1.35L5.41 20z\"/>\n",
              "  </svg>\n",
              "      </button>\n",
              "      \n",
              "  <style>\n",
              "    .colab-df-container {\n",
              "      display:flex;\n",
              "      flex-wrap:wrap;\n",
              "      gap: 12px;\n",
              "    }\n",
              "\n",
              "    .colab-df-convert {\n",
              "      background-color: #E8F0FE;\n",
              "      border: none;\n",
              "      border-radius: 50%;\n",
              "      cursor: pointer;\n",
              "      display: none;\n",
              "      fill: #1967D2;\n",
              "      height: 32px;\n",
              "      padding: 0 0 0 0;\n",
              "      width: 32px;\n",
              "    }\n",
              "\n",
              "    .colab-df-convert:hover {\n",
              "      background-color: #E2EBFA;\n",
              "      box-shadow: 0px 1px 2px rgba(60, 64, 67, 0.3), 0px 1px 3px 1px rgba(60, 64, 67, 0.15);\n",
              "      fill: #174EA6;\n",
              "    }\n",
              "\n",
              "    [theme=dark] .colab-df-convert {\n",
              "      background-color: #3B4455;\n",
              "      fill: #D2E3FC;\n",
              "    }\n",
              "\n",
              "    [theme=dark] .colab-df-convert:hover {\n",
              "      background-color: #434B5C;\n",
              "      box-shadow: 0px 1px 3px 1px rgba(0, 0, 0, 0.15);\n",
              "      filter: drop-shadow(0px 1px 2px rgba(0, 0, 0, 0.3));\n",
              "      fill: #FFFFFF;\n",
              "    }\n",
              "  </style>\n",
              "\n",
              "      <script>\n",
              "        const buttonEl =\n",
              "          document.querySelector('#df-ab5bb5b5-5f19-4120-8799-905e9f9d7704 button.colab-df-convert');\n",
              "        buttonEl.style.display =\n",
              "          google.colab.kernel.accessAllowed ? 'block' : 'none';\n",
              "\n",
              "        async function convertToInteractive(key) {\n",
              "          const element = document.querySelector('#df-ab5bb5b5-5f19-4120-8799-905e9f9d7704');\n",
              "          const dataTable =\n",
              "            await google.colab.kernel.invokeFunction('convertToInteractive',\n",
              "                                                     [key], {});\n",
              "          if (!dataTable) return;\n",
              "\n",
              "          const docLinkHtml = 'Like what you see? Visit the ' +\n",
              "            '<a target=\"_blank\" href=https://colab.research.google.com/notebooks/data_table.ipynb>data table notebook</a>'\n",
              "            + ' to learn more about interactive tables.';\n",
              "          element.innerHTML = '';\n",
              "          dataTable['output_type'] = 'display_data';\n",
              "          await google.colab.output.renderOutput(dataTable, element);\n",
              "          const docLink = document.createElement('div');\n",
              "          docLink.innerHTML = docLinkHtml;\n",
              "          element.appendChild(docLink);\n",
              "        }\n",
              "      </script>\n",
              "    </div>\n",
              "  </div>\n",
              "  "
            ]
          },
          "metadata": {},
          "execution_count": 7
        }
      ]
    },
    {
      "cell_type": "code",
      "source": [
        "train.columns"
      ],
      "metadata": {
        "colab": {
          "base_uri": "https://localhost:8080/"
        },
        "id": "uoRgi_qiB3JC",
        "outputId": "3eb7e0d6-5cbb-411a-b779-c0024d219519"
      },
      "execution_count": 16,
      "outputs": [
        {
          "output_type": "execute_result",
          "data": {
            "text/plain": [
              "Index(['V1', 'V2', 'V3', 'V4', 'V5', 'V6', 'V7', 'V8', 'V9', 'V10', 'V11',\n",
              "       'V12', 'V13', 'V14', 'V15', 'V16', 'V17', 'V18', 'V20', 'V21', 'V22',\n",
              "       'V23', 'V24', 'V25', 'V26', 'V27', 'V28', 'V29', 'V30', 'V31', 'V32',\n",
              "       'V33', 'V34', 'V35', 'V36', 'V37', 'V38', 'V39', 'V40', 'V41', 'V42',\n",
              "       'V43', 'V44', 'V45', 'V46', 'V47', 'V48', 'V49', 'V50', 'agenum_random',\n",
              "       'ctnum_random', 'batch_A', 'batch_B', 'batch_C', 'batch_D', 'batch_E',\n",
              "       'batch_F', 'batch_G', 'batch_H', 'batch_I', 'batch_J', 'batch_K',\n",
              "       'batch_L', 'batch_M', 'batch_N', 'batch_O', 'batch_P', 'batch_Q',\n",
              "       'batch_R', 'batch_S', 'batch_T', 'batch_U', 'ctnum_median_status',\n",
              "       'infection'],\n",
              "      dtype='object')"
            ]
          },
          "metadata": {},
          "execution_count": 16
        }
      ]
    },
    {
      "cell_type": "code",
      "source": [
        "train = train.drop(['batch_N', 'batch_O', 'batch_P', 'batch_Q',\n",
        "       'batch_R', 'batch_S', 'batch_T','batch_H', 'batch_I', 'batch_J', 'batch_K',\n",
        "       'batch_L', 'batch_M', 'batch_N'], axis = 1)"
      ],
      "metadata": {
        "id": "ucaasG3a55SG"
      },
      "execution_count": 19,
      "outputs": []
    },
    {
      "cell_type": "code",
      "source": [
        "test = test.drop(['V19'], axis = 1)"
      ],
      "metadata": {
        "id": "-t8X1DF36SpI"
      },
      "execution_count": 29,
      "outputs": []
    },
    {
      "cell_type": "code",
      "source": [
        "val_data = validation_data.drop(['batch_N', 'batch_O', 'batch_P', 'batch_Q',\n",
        "       'batch_R', 'batch_S', 'batch_T','batch_H', 'batch_I', 'batch_J', 'batch_K',\n",
        "       'batch_L', 'batch_M', 'V19','batch_N'], axis = 1)"
      ],
      "metadata": {
        "id": "KftW6rcw6a-v"
      },
      "execution_count": 30,
      "outputs": []
    },
    {
      "cell_type": "code",
      "source": [
        "train.shape"
      ],
      "metadata": {
        "colab": {
          "base_uri": "https://localhost:8080/"
        },
        "id": "Hmpt52qO6h9I",
        "outputId": "72979710-df05-465a-bd71-cf6f7299744f"
      },
      "execution_count": 31,
      "outputs": [
        {
          "output_type": "execute_result",
          "data": {
            "text/plain": [
              "(652, 61)"
            ]
          },
          "metadata": {},
          "execution_count": 31
        }
      ]
    },
    {
      "cell_type": "code",
      "source": [
        "test.shape"
      ],
      "metadata": {
        "colab": {
          "base_uri": "https://localhost:8080/"
        },
        "id": "K6sTUF816kOP",
        "outputId": "0520441f-dcba-4a8c-d349-1523104915d5"
      },
      "execution_count": 32,
      "outputs": [
        {
          "output_type": "execute_result",
          "data": {
            "text/plain": [
              "(101, 60)"
            ]
          },
          "metadata": {},
          "execution_count": 32
        }
      ]
    },
    {
      "cell_type": "code",
      "source": [
        "val_data.shape"
      ],
      "metadata": {
        "colab": {
          "base_uri": "https://localhost:8080/"
        },
        "id": "oi17Cyoy6ltF",
        "outputId": "cc46911e-a605-4e1b-e8c9-20a3f4d71bf1"
      },
      "execution_count": 33,
      "outputs": [
        {
          "output_type": "execute_result",
          "data": {
            "text/plain": [
              "(20, 60)"
            ]
          },
          "metadata": {},
          "execution_count": 33
        }
      ]
    },
    {
      "cell_type": "code",
      "source": [
        "train = train.drop(['batch_D'], axis = 1)"
      ],
      "metadata": {
        "id": "ic775GwI6nXZ"
      },
      "execution_count": 36,
      "outputs": []
    },
    {
      "cell_type": "code",
      "source": [
        "train.columns"
      ],
      "metadata": {
        "colab": {
          "base_uri": "https://localhost:8080/"
        },
        "id": "H_XRX-qn7yK1",
        "outputId": "f9cdc737-1623-4a6c-c228-3028c239d3ad"
      },
      "execution_count": 37,
      "outputs": [
        {
          "output_type": "execute_result",
          "data": {
            "text/plain": [
              "Index(['V1', 'V2', 'V3', 'V4', 'V5', 'V6', 'V7', 'V8', 'V9', 'V10', 'V11',\n",
              "       'V12', 'V13', 'V14', 'V15', 'V16', 'V17', 'V18', 'V20', 'V21', 'V22',\n",
              "       'V23', 'V24', 'V25', 'V26', 'V27', 'V28', 'V29', 'V30', 'V31', 'V32',\n",
              "       'V33', 'V34', 'V35', 'V36', 'V37', 'V38', 'V39', 'V40', 'V41', 'V42',\n",
              "       'V43', 'V44', 'V45', 'V46', 'V47', 'V48', 'V49', 'V50', 'agenum_random',\n",
              "       'ctnum_random', 'batch_A', 'batch_B', 'batch_C', 'batch_E', 'batch_F',\n",
              "       'batch_G', 'batch_U', 'ctnum_median_status', 'infection'],\n",
              "      dtype='object')"
            ]
          },
          "metadata": {},
          "execution_count": 37
        }
      ]
    },
    {
      "cell_type": "code",
      "source": [
        "test.columns"
      ],
      "metadata": {
        "colab": {
          "base_uri": "https://localhost:8080/"
        },
        "id": "WnhGEsxk7b26",
        "outputId": "c0c95beb-4c71-470c-806c-ae947d700e5a"
      },
      "execution_count": 35,
      "outputs": [
        {
          "output_type": "execute_result",
          "data": {
            "text/plain": [
              "Index(['V1', 'V2', 'V3', 'V4', 'V5', 'V6', 'V7', 'V8', 'V9', 'V10', 'V11',\n",
              "       'V12', 'V13', 'V14', 'V15', 'V16', 'V17', 'V18', 'V20', 'V21', 'V22',\n",
              "       'V23', 'V24', 'V25', 'V26', 'V27', 'V28', 'V29', 'V30', 'V31', 'V32',\n",
              "       'V33', 'V34', 'V35', 'V36', 'V37', 'V38', 'V39', 'V40', 'V41', 'V42',\n",
              "       'V43', 'V44', 'V45', 'V46', 'V47', 'V48', 'V49', 'V50', 'agenum_random',\n",
              "       'ctnum_random', 'batch_A', 'batch_B', 'batch_C', 'batch_E', 'batch_F',\n",
              "       'batch_G', 'batch_U', 'ctnum_median_status', 'infection'],\n",
              "      dtype='object')"
            ]
          },
          "metadata": {},
          "execution_count": 35
        }
      ]
    },
    {
      "cell_type": "code",
      "source": [
        "X_train = train.drop(['infection'], axis = 1)"
      ],
      "metadata": {
        "id": "pZxJGgjF7dRK"
      },
      "execution_count": 38,
      "outputs": []
    },
    {
      "cell_type": "code",
      "source": [
        "y_train = train['infection']"
      ],
      "metadata": {
        "id": "SYnsVQL88A1O"
      },
      "execution_count": 39,
      "outputs": []
    },
    {
      "cell_type": "code",
      "source": [
        "X_train"
      ],
      "metadata": {
        "colab": {
          "base_uri": "https://localhost:8080/",
          "height": 487
        },
        "id": "difk3aXm8DlZ",
        "outputId": "a8aac55e-b56a-4cf9-b21d-ff252de9c00c"
      },
      "execution_count": 40,
      "outputs": [
        {
          "output_type": "execute_result",
          "data": {
            "text/plain": [
              "           V1        V2        V3        V4        V5        V6        V7  \\\n",
              "0   -0.330218  0.010943 -0.210595  0.042186  0.239706 -0.086893 -0.154712   \n",
              "1    0.426675  0.201063 -0.024022 -0.013352  0.077604  0.044928  0.296684   \n",
              "2   -0.449942 -0.190835  0.044374  0.144829 -0.079280 -0.086654 -0.303872   \n",
              "3   -0.385247 -0.206050 -0.239616 -0.120262 -0.137117 -0.310101 -0.280388   \n",
              "4    0.008941 -0.073164 -0.227340 -0.243443 -0.297489 -0.101534  0.102413   \n",
              "..        ...       ...       ...       ...       ...       ...       ...   \n",
              "647 -0.161713 -0.138092 -0.178348 -0.153533 -0.123782 -0.161619 -0.180359   \n",
              "648 -0.296854  0.013780  0.037688 -0.010611 -0.100738 -0.013722 -0.293075   \n",
              "649  0.115255  0.147814  0.080500  0.042172  0.233514 -0.001428  0.154735   \n",
              "650 -0.082016  0.016213  0.181865 -0.056005  0.036137 -0.037511 -0.086896   \n",
              "651 -0.078275 -0.059916 -0.090994  0.006627 -0.171255  0.161711 -0.123218   \n",
              "\n",
              "           V8        V9       V10  ...  agenum_random  ctnum_random  batch_A  \\\n",
              "0    0.084187 -0.214529 -0.107121  ...      50.000000     22.810000        0   \n",
              "1   -0.264555 -0.149196  0.093459  ...      62.000000     19.350000        0   \n",
              "2   -0.098651  0.259484 -0.207055  ...      72.000000     21.340000        0   \n",
              "3   -0.231672 -0.151738 -0.266959  ...      30.000000     25.360000        0   \n",
              "4   -0.061237 -0.281460 -0.125080  ...      35.000000     24.410000        0   \n",
              "..        ...       ...       ...  ...            ...           ...      ...   \n",
              "647 -0.149368 -0.237363 -0.292597  ...      64.999349     22.481452        0   \n",
              "648  0.146741 -0.079878 -0.115521  ...      40.333857     23.230031        0   \n",
              "649  0.223660 -0.016480  0.191527  ...      63.848260     21.019534        0   \n",
              "650 -0.057951 -0.045582 -0.079661  ...      14.968711     20.887817        0   \n",
              "651 -0.162010  0.118874 -0.106537  ...      44.717286     17.436041        0   \n",
              "\n",
              "     batch_B  batch_C  batch_E  batch_F  batch_G  batch_U  ctnum_median_status  \n",
              "0          0        0        0        0        0        0                    1  \n",
              "1          0        0        0        0        0        0                    0  \n",
              "2          0        0        0        0        0        0                    1  \n",
              "3          0        0        0        0        0        0                    1  \n",
              "4          0        0        0        0        0        0                    1  \n",
              "..       ...      ...      ...      ...      ...      ...                  ...  \n",
              "647        0        0        0        0        0        0                    0  \n",
              "648        0        0        0        0        0        0                    1  \n",
              "649        0        0        0        0        0        0                    0  \n",
              "650        0        0        0        0        0        0                    0  \n",
              "651        0        0        0        0        0        0                    0  \n",
              "\n",
              "[652 rows x 59 columns]"
            ],
            "text/html": [
              "\n",
              "  <div id=\"df-05a71db7-453f-41cf-bcc0-21065cacc001\">\n",
              "    <div class=\"colab-df-container\">\n",
              "      <div>\n",
              "<style scoped>\n",
              "    .dataframe tbody tr th:only-of-type {\n",
              "        vertical-align: middle;\n",
              "    }\n",
              "\n",
              "    .dataframe tbody tr th {\n",
              "        vertical-align: top;\n",
              "    }\n",
              "\n",
              "    .dataframe thead th {\n",
              "        text-align: right;\n",
              "    }\n",
              "</style>\n",
              "<table border=\"1\" class=\"dataframe\">\n",
              "  <thead>\n",
              "    <tr style=\"text-align: right;\">\n",
              "      <th></th>\n",
              "      <th>V1</th>\n",
              "      <th>V2</th>\n",
              "      <th>V3</th>\n",
              "      <th>V4</th>\n",
              "      <th>V5</th>\n",
              "      <th>V6</th>\n",
              "      <th>V7</th>\n",
              "      <th>V8</th>\n",
              "      <th>V9</th>\n",
              "      <th>V10</th>\n",
              "      <th>...</th>\n",
              "      <th>agenum_random</th>\n",
              "      <th>ctnum_random</th>\n",
              "      <th>batch_A</th>\n",
              "      <th>batch_B</th>\n",
              "      <th>batch_C</th>\n",
              "      <th>batch_E</th>\n",
              "      <th>batch_F</th>\n",
              "      <th>batch_G</th>\n",
              "      <th>batch_U</th>\n",
              "      <th>ctnum_median_status</th>\n",
              "    </tr>\n",
              "  </thead>\n",
              "  <tbody>\n",
              "    <tr>\n",
              "      <th>0</th>\n",
              "      <td>-0.330218</td>\n",
              "      <td>0.010943</td>\n",
              "      <td>-0.210595</td>\n",
              "      <td>0.042186</td>\n",
              "      <td>0.239706</td>\n",
              "      <td>-0.086893</td>\n",
              "      <td>-0.154712</td>\n",
              "      <td>0.084187</td>\n",
              "      <td>-0.214529</td>\n",
              "      <td>-0.107121</td>\n",
              "      <td>...</td>\n",
              "      <td>50.000000</td>\n",
              "      <td>22.810000</td>\n",
              "      <td>0</td>\n",
              "      <td>0</td>\n",
              "      <td>0</td>\n",
              "      <td>0</td>\n",
              "      <td>0</td>\n",
              "      <td>0</td>\n",
              "      <td>0</td>\n",
              "      <td>1</td>\n",
              "    </tr>\n",
              "    <tr>\n",
              "      <th>1</th>\n",
              "      <td>0.426675</td>\n",
              "      <td>0.201063</td>\n",
              "      <td>-0.024022</td>\n",
              "      <td>-0.013352</td>\n",
              "      <td>0.077604</td>\n",
              "      <td>0.044928</td>\n",
              "      <td>0.296684</td>\n",
              "      <td>-0.264555</td>\n",
              "      <td>-0.149196</td>\n",
              "      <td>0.093459</td>\n",
              "      <td>...</td>\n",
              "      <td>62.000000</td>\n",
              "      <td>19.350000</td>\n",
              "      <td>0</td>\n",
              "      <td>0</td>\n",
              "      <td>0</td>\n",
              "      <td>0</td>\n",
              "      <td>0</td>\n",
              "      <td>0</td>\n",
              "      <td>0</td>\n",
              "      <td>0</td>\n",
              "    </tr>\n",
              "    <tr>\n",
              "      <th>2</th>\n",
              "      <td>-0.449942</td>\n",
              "      <td>-0.190835</td>\n",
              "      <td>0.044374</td>\n",
              "      <td>0.144829</td>\n",
              "      <td>-0.079280</td>\n",
              "      <td>-0.086654</td>\n",
              "      <td>-0.303872</td>\n",
              "      <td>-0.098651</td>\n",
              "      <td>0.259484</td>\n",
              "      <td>-0.207055</td>\n",
              "      <td>...</td>\n",
              "      <td>72.000000</td>\n",
              "      <td>21.340000</td>\n",
              "      <td>0</td>\n",
              "      <td>0</td>\n",
              "      <td>0</td>\n",
              "      <td>0</td>\n",
              "      <td>0</td>\n",
              "      <td>0</td>\n",
              "      <td>0</td>\n",
              "      <td>1</td>\n",
              "    </tr>\n",
              "    <tr>\n",
              "      <th>3</th>\n",
              "      <td>-0.385247</td>\n",
              "      <td>-0.206050</td>\n",
              "      <td>-0.239616</td>\n",
              "      <td>-0.120262</td>\n",
              "      <td>-0.137117</td>\n",
              "      <td>-0.310101</td>\n",
              "      <td>-0.280388</td>\n",
              "      <td>-0.231672</td>\n",
              "      <td>-0.151738</td>\n",
              "      <td>-0.266959</td>\n",
              "      <td>...</td>\n",
              "      <td>30.000000</td>\n",
              "      <td>25.360000</td>\n",
              "      <td>0</td>\n",
              "      <td>0</td>\n",
              "      <td>0</td>\n",
              "      <td>0</td>\n",
              "      <td>0</td>\n",
              "      <td>0</td>\n",
              "      <td>0</td>\n",
              "      <td>1</td>\n",
              "    </tr>\n",
              "    <tr>\n",
              "      <th>4</th>\n",
              "      <td>0.008941</td>\n",
              "      <td>-0.073164</td>\n",
              "      <td>-0.227340</td>\n",
              "      <td>-0.243443</td>\n",
              "      <td>-0.297489</td>\n",
              "      <td>-0.101534</td>\n",
              "      <td>0.102413</td>\n",
              "      <td>-0.061237</td>\n",
              "      <td>-0.281460</td>\n",
              "      <td>-0.125080</td>\n",
              "      <td>...</td>\n",
              "      <td>35.000000</td>\n",
              "      <td>24.410000</td>\n",
              "      <td>0</td>\n",
              "      <td>0</td>\n",
              "      <td>0</td>\n",
              "      <td>0</td>\n",
              "      <td>0</td>\n",
              "      <td>0</td>\n",
              "      <td>0</td>\n",
              "      <td>1</td>\n",
              "    </tr>\n",
              "    <tr>\n",
              "      <th>...</th>\n",
              "      <td>...</td>\n",
              "      <td>...</td>\n",
              "      <td>...</td>\n",
              "      <td>...</td>\n",
              "      <td>...</td>\n",
              "      <td>...</td>\n",
              "      <td>...</td>\n",
              "      <td>...</td>\n",
              "      <td>...</td>\n",
              "      <td>...</td>\n",
              "      <td>...</td>\n",
              "      <td>...</td>\n",
              "      <td>...</td>\n",
              "      <td>...</td>\n",
              "      <td>...</td>\n",
              "      <td>...</td>\n",
              "      <td>...</td>\n",
              "      <td>...</td>\n",
              "      <td>...</td>\n",
              "      <td>...</td>\n",
              "      <td>...</td>\n",
              "    </tr>\n",
              "    <tr>\n",
              "      <th>647</th>\n",
              "      <td>-0.161713</td>\n",
              "      <td>-0.138092</td>\n",
              "      <td>-0.178348</td>\n",
              "      <td>-0.153533</td>\n",
              "      <td>-0.123782</td>\n",
              "      <td>-0.161619</td>\n",
              "      <td>-0.180359</td>\n",
              "      <td>-0.149368</td>\n",
              "      <td>-0.237363</td>\n",
              "      <td>-0.292597</td>\n",
              "      <td>...</td>\n",
              "      <td>64.999349</td>\n",
              "      <td>22.481452</td>\n",
              "      <td>0</td>\n",
              "      <td>0</td>\n",
              "      <td>0</td>\n",
              "      <td>0</td>\n",
              "      <td>0</td>\n",
              "      <td>0</td>\n",
              "      <td>0</td>\n",
              "      <td>0</td>\n",
              "    </tr>\n",
              "    <tr>\n",
              "      <th>648</th>\n",
              "      <td>-0.296854</td>\n",
              "      <td>0.013780</td>\n",
              "      <td>0.037688</td>\n",
              "      <td>-0.010611</td>\n",
              "      <td>-0.100738</td>\n",
              "      <td>-0.013722</td>\n",
              "      <td>-0.293075</td>\n",
              "      <td>0.146741</td>\n",
              "      <td>-0.079878</td>\n",
              "      <td>-0.115521</td>\n",
              "      <td>...</td>\n",
              "      <td>40.333857</td>\n",
              "      <td>23.230031</td>\n",
              "      <td>0</td>\n",
              "      <td>0</td>\n",
              "      <td>0</td>\n",
              "      <td>0</td>\n",
              "      <td>0</td>\n",
              "      <td>0</td>\n",
              "      <td>0</td>\n",
              "      <td>1</td>\n",
              "    </tr>\n",
              "    <tr>\n",
              "      <th>649</th>\n",
              "      <td>0.115255</td>\n",
              "      <td>0.147814</td>\n",
              "      <td>0.080500</td>\n",
              "      <td>0.042172</td>\n",
              "      <td>0.233514</td>\n",
              "      <td>-0.001428</td>\n",
              "      <td>0.154735</td>\n",
              "      <td>0.223660</td>\n",
              "      <td>-0.016480</td>\n",
              "      <td>0.191527</td>\n",
              "      <td>...</td>\n",
              "      <td>63.848260</td>\n",
              "      <td>21.019534</td>\n",
              "      <td>0</td>\n",
              "      <td>0</td>\n",
              "      <td>0</td>\n",
              "      <td>0</td>\n",
              "      <td>0</td>\n",
              "      <td>0</td>\n",
              "      <td>0</td>\n",
              "      <td>0</td>\n",
              "    </tr>\n",
              "    <tr>\n",
              "      <th>650</th>\n",
              "      <td>-0.082016</td>\n",
              "      <td>0.016213</td>\n",
              "      <td>0.181865</td>\n",
              "      <td>-0.056005</td>\n",
              "      <td>0.036137</td>\n",
              "      <td>-0.037511</td>\n",
              "      <td>-0.086896</td>\n",
              "      <td>-0.057951</td>\n",
              "      <td>-0.045582</td>\n",
              "      <td>-0.079661</td>\n",
              "      <td>...</td>\n",
              "      <td>14.968711</td>\n",
              "      <td>20.887817</td>\n",
              "      <td>0</td>\n",
              "      <td>0</td>\n",
              "      <td>0</td>\n",
              "      <td>0</td>\n",
              "      <td>0</td>\n",
              "      <td>0</td>\n",
              "      <td>0</td>\n",
              "      <td>0</td>\n",
              "    </tr>\n",
              "    <tr>\n",
              "      <th>651</th>\n",
              "      <td>-0.078275</td>\n",
              "      <td>-0.059916</td>\n",
              "      <td>-0.090994</td>\n",
              "      <td>0.006627</td>\n",
              "      <td>-0.171255</td>\n",
              "      <td>0.161711</td>\n",
              "      <td>-0.123218</td>\n",
              "      <td>-0.162010</td>\n",
              "      <td>0.118874</td>\n",
              "      <td>-0.106537</td>\n",
              "      <td>...</td>\n",
              "      <td>44.717286</td>\n",
              "      <td>17.436041</td>\n",
              "      <td>0</td>\n",
              "      <td>0</td>\n",
              "      <td>0</td>\n",
              "      <td>0</td>\n",
              "      <td>0</td>\n",
              "      <td>0</td>\n",
              "      <td>0</td>\n",
              "      <td>0</td>\n",
              "    </tr>\n",
              "  </tbody>\n",
              "</table>\n",
              "<p>652 rows × 59 columns</p>\n",
              "</div>\n",
              "      <button class=\"colab-df-convert\" onclick=\"convertToInteractive('df-05a71db7-453f-41cf-bcc0-21065cacc001')\"\n",
              "              title=\"Convert this dataframe to an interactive table.\"\n",
              "              style=\"display:none;\">\n",
              "        \n",
              "  <svg xmlns=\"http://www.w3.org/2000/svg\" height=\"24px\"viewBox=\"0 0 24 24\"\n",
              "       width=\"24px\">\n",
              "    <path d=\"M0 0h24v24H0V0z\" fill=\"none\"/>\n",
              "    <path d=\"M18.56 5.44l.94 2.06.94-2.06 2.06-.94-2.06-.94-.94-2.06-.94 2.06-2.06.94zm-11 1L8.5 8.5l.94-2.06 2.06-.94-2.06-.94L8.5 2.5l-.94 2.06-2.06.94zm10 10l.94 2.06.94-2.06 2.06-.94-2.06-.94-.94-2.06-.94 2.06-2.06.94z\"/><path d=\"M17.41 7.96l-1.37-1.37c-.4-.4-.92-.59-1.43-.59-.52 0-1.04.2-1.43.59L10.3 9.45l-7.72 7.72c-.78.78-.78 2.05 0 2.83L4 21.41c.39.39.9.59 1.41.59.51 0 1.02-.2 1.41-.59l7.78-7.78 2.81-2.81c.8-.78.8-2.07 0-2.86zM5.41 20L4 18.59l7.72-7.72 1.47 1.35L5.41 20z\"/>\n",
              "  </svg>\n",
              "      </button>\n",
              "      \n",
              "  <style>\n",
              "    .colab-df-container {\n",
              "      display:flex;\n",
              "      flex-wrap:wrap;\n",
              "      gap: 12px;\n",
              "    }\n",
              "\n",
              "    .colab-df-convert {\n",
              "      background-color: #E8F0FE;\n",
              "      border: none;\n",
              "      border-radius: 50%;\n",
              "      cursor: pointer;\n",
              "      display: none;\n",
              "      fill: #1967D2;\n",
              "      height: 32px;\n",
              "      padding: 0 0 0 0;\n",
              "      width: 32px;\n",
              "    }\n",
              "\n",
              "    .colab-df-convert:hover {\n",
              "      background-color: #E2EBFA;\n",
              "      box-shadow: 0px 1px 2px rgba(60, 64, 67, 0.3), 0px 1px 3px 1px rgba(60, 64, 67, 0.15);\n",
              "      fill: #174EA6;\n",
              "    }\n",
              "\n",
              "    [theme=dark] .colab-df-convert {\n",
              "      background-color: #3B4455;\n",
              "      fill: #D2E3FC;\n",
              "    }\n",
              "\n",
              "    [theme=dark] .colab-df-convert:hover {\n",
              "      background-color: #434B5C;\n",
              "      box-shadow: 0px 1px 3px 1px rgba(0, 0, 0, 0.15);\n",
              "      filter: drop-shadow(0px 1px 2px rgba(0, 0, 0, 0.3));\n",
              "      fill: #FFFFFF;\n",
              "    }\n",
              "  </style>\n",
              "\n",
              "      <script>\n",
              "        const buttonEl =\n",
              "          document.querySelector('#df-05a71db7-453f-41cf-bcc0-21065cacc001 button.colab-df-convert');\n",
              "        buttonEl.style.display =\n",
              "          google.colab.kernel.accessAllowed ? 'block' : 'none';\n",
              "\n",
              "        async function convertToInteractive(key) {\n",
              "          const element = document.querySelector('#df-05a71db7-453f-41cf-bcc0-21065cacc001');\n",
              "          const dataTable =\n",
              "            await google.colab.kernel.invokeFunction('convertToInteractive',\n",
              "                                                     [key], {});\n",
              "          if (!dataTable) return;\n",
              "\n",
              "          const docLinkHtml = 'Like what you see? Visit the ' +\n",
              "            '<a target=\"_blank\" href=https://colab.research.google.com/notebooks/data_table.ipynb>data table notebook</a>'\n",
              "            + ' to learn more about interactive tables.';\n",
              "          element.innerHTML = '';\n",
              "          dataTable['output_type'] = 'display_data';\n",
              "          await google.colab.output.renderOutput(dataTable, element);\n",
              "          const docLink = document.createElement('div');\n",
              "          docLink.innerHTML = docLinkHtml;\n",
              "          element.appendChild(docLink);\n",
              "        }\n",
              "      </script>\n",
              "    </div>\n",
              "  </div>\n",
              "  "
            ]
          },
          "metadata": {},
          "execution_count": 40
        }
      ]
    },
    {
      "cell_type": "code",
      "source": [
        "y_train"
      ],
      "metadata": {
        "colab": {
          "base_uri": "https://localhost:8080/"
        },
        "id": "h-EIayYc8Ens",
        "outputId": "785af795-fc39-4de9-ec7b-1bdb7e207d0c"
      },
      "execution_count": 41,
      "outputs": [
        {
          "output_type": "execute_result",
          "data": {
            "text/plain": [
              "0      1\n",
              "1      1\n",
              "2      1\n",
              "3      1\n",
              "4      1\n",
              "      ..\n",
              "647    0\n",
              "648    0\n",
              "649    0\n",
              "650    0\n",
              "651    0\n",
              "Name: infection, Length: 652, dtype: int64"
            ]
          },
          "metadata": {},
          "execution_count": 41
        }
      ]
    },
    {
      "cell_type": "code",
      "source": [
        "X_test = test.drop(['infection'], axis = 1)"
      ],
      "metadata": {
        "id": "tYZnpb8K8LuD"
      },
      "execution_count": 42,
      "outputs": []
    },
    {
      "cell_type": "code",
      "source": [
        "y_test = test['infection']"
      ],
      "metadata": {
        "id": "f3uLwZ0s8SPs"
      },
      "execution_count": 43,
      "outputs": []
    },
    {
      "cell_type": "code",
      "source": [
        "X_test"
      ],
      "metadata": {
        "colab": {
          "base_uri": "https://localhost:8080/",
          "height": 487
        },
        "id": "9lqB-gfC8Vtt",
        "outputId": "98bc545a-64f6-467b-f67b-22eaf4e7ef0e"
      },
      "execution_count": 44,
      "outputs": [
        {
          "output_type": "execute_result",
          "data": {
            "text/plain": [
              "           V1        V2        V3        V4        V5        V6        V7  \\\n",
              "247  0.118224 -0.068840 -0.220322 -0.165029 -0.003831 -0.258422 -0.213456   \n",
              "477 -0.000766  0.172883  0.164963 -0.342729  0.166574 -0.107734 -0.283509   \n",
              "281  0.002948 -0.157300 -0.178674  0.285923  0.143752  0.134271 -0.004039   \n",
              "463  0.112248  0.172459  0.251792 -0.330378  0.373551 -0.085489 -0.364231   \n",
              "33  -0.008352 -0.074332 -0.238685 -0.291133  0.253526 -0.248288 -0.040242   \n",
              "..        ...       ...       ...       ...       ...       ...       ...   \n",
              "31  -0.345858 -0.184016 -0.267976 -0.402239 -0.146177 -0.190639 -0.219773   \n",
              "113 -0.437532 -0.172444 -0.003209 -0.007867 -0.018803 -0.055248 -0.353687   \n",
              "272  0.085456 -0.017223  0.110324 -0.356316  0.245826 -0.166763  0.105081   \n",
              "311 -0.398452 -0.338095 -0.451013 -0.261519 -0.053643 -0.221453 -0.169615   \n",
              "395  0.519434  0.146582  0.000012 -0.175046 -0.051197 -0.045824  0.503479   \n",
              "\n",
              "           V8        V9       V10  ...  agenum_random  ctnum_random  batch_A  \\\n",
              "247 -0.260325 -0.098703 -0.124774  ...           56.0         25.37        0   \n",
              "477  0.156362 -0.315183 -0.114388  ...           46.0         19.29        0   \n",
              "281  0.258009  0.436787 -0.006317  ...           19.0         24.82        0   \n",
              "463  0.090206 -0.239000 -0.021638  ...           66.0         19.50        0   \n",
              "33  -0.237168 -0.392581 -0.109589  ...           68.0         19.29        0   \n",
              "..        ...       ...       ...  ...            ...           ...      ...   \n",
              "31  -0.240624 -0.278037 -0.276137  ...           72.0         21.12        0   \n",
              "113  0.062032  0.058762 -0.226611  ...           54.0         16.84        0   \n",
              "272 -0.011678 -0.292295 -0.055272  ...           72.0         19.11        0   \n",
              "311 -0.414323 -0.213793 -0.310667  ...           65.0         26.11        0   \n",
              "395 -0.125214 -0.129111  0.234634  ...           74.0         21.19        0   \n",
              "\n",
              "     batch_B  batch_C  batch_E  batch_F  batch_G  batch_U  ctnum_median_status  \n",
              "247        0        0        1        0        0        0                    1  \n",
              "477        0        0        0        0        0        0                    0  \n",
              "281        0        0        0        0        0        0                    1  \n",
              "463        0        0        0        0        0        1                    0  \n",
              "33         0        0        0        0        0        0                    0  \n",
              "..       ...      ...      ...      ...      ...      ...                  ...  \n",
              "31         0        0        0        0        0        0                    0  \n",
              "113        0        0        0        0        0        0                    0  \n",
              "272        0        0        0        0        0        0                    0  \n",
              "311        0        0        1        0        0        0                    1  \n",
              "395        0        0        0        0        0        0                    0  \n",
              "\n",
              "[101 rows x 59 columns]"
            ],
            "text/html": [
              "\n",
              "  <div id=\"df-fde819f7-15c9-4b33-b8fc-2a8563efd614\">\n",
              "    <div class=\"colab-df-container\">\n",
              "      <div>\n",
              "<style scoped>\n",
              "    .dataframe tbody tr th:only-of-type {\n",
              "        vertical-align: middle;\n",
              "    }\n",
              "\n",
              "    .dataframe tbody tr th {\n",
              "        vertical-align: top;\n",
              "    }\n",
              "\n",
              "    .dataframe thead th {\n",
              "        text-align: right;\n",
              "    }\n",
              "</style>\n",
              "<table border=\"1\" class=\"dataframe\">\n",
              "  <thead>\n",
              "    <tr style=\"text-align: right;\">\n",
              "      <th></th>\n",
              "      <th>V1</th>\n",
              "      <th>V2</th>\n",
              "      <th>V3</th>\n",
              "      <th>V4</th>\n",
              "      <th>V5</th>\n",
              "      <th>V6</th>\n",
              "      <th>V7</th>\n",
              "      <th>V8</th>\n",
              "      <th>V9</th>\n",
              "      <th>V10</th>\n",
              "      <th>...</th>\n",
              "      <th>agenum_random</th>\n",
              "      <th>ctnum_random</th>\n",
              "      <th>batch_A</th>\n",
              "      <th>batch_B</th>\n",
              "      <th>batch_C</th>\n",
              "      <th>batch_E</th>\n",
              "      <th>batch_F</th>\n",
              "      <th>batch_G</th>\n",
              "      <th>batch_U</th>\n",
              "      <th>ctnum_median_status</th>\n",
              "    </tr>\n",
              "  </thead>\n",
              "  <tbody>\n",
              "    <tr>\n",
              "      <th>247</th>\n",
              "      <td>0.118224</td>\n",
              "      <td>-0.068840</td>\n",
              "      <td>-0.220322</td>\n",
              "      <td>-0.165029</td>\n",
              "      <td>-0.003831</td>\n",
              "      <td>-0.258422</td>\n",
              "      <td>-0.213456</td>\n",
              "      <td>-0.260325</td>\n",
              "      <td>-0.098703</td>\n",
              "      <td>-0.124774</td>\n",
              "      <td>...</td>\n",
              "      <td>56.0</td>\n",
              "      <td>25.37</td>\n",
              "      <td>0</td>\n",
              "      <td>0</td>\n",
              "      <td>0</td>\n",
              "      <td>1</td>\n",
              "      <td>0</td>\n",
              "      <td>0</td>\n",
              "      <td>0</td>\n",
              "      <td>1</td>\n",
              "    </tr>\n",
              "    <tr>\n",
              "      <th>477</th>\n",
              "      <td>-0.000766</td>\n",
              "      <td>0.172883</td>\n",
              "      <td>0.164963</td>\n",
              "      <td>-0.342729</td>\n",
              "      <td>0.166574</td>\n",
              "      <td>-0.107734</td>\n",
              "      <td>-0.283509</td>\n",
              "      <td>0.156362</td>\n",
              "      <td>-0.315183</td>\n",
              "      <td>-0.114388</td>\n",
              "      <td>...</td>\n",
              "      <td>46.0</td>\n",
              "      <td>19.29</td>\n",
              "      <td>0</td>\n",
              "      <td>0</td>\n",
              "      <td>0</td>\n",
              "      <td>0</td>\n",
              "      <td>0</td>\n",
              "      <td>0</td>\n",
              "      <td>0</td>\n",
              "      <td>0</td>\n",
              "    </tr>\n",
              "    <tr>\n",
              "      <th>281</th>\n",
              "      <td>0.002948</td>\n",
              "      <td>-0.157300</td>\n",
              "      <td>-0.178674</td>\n",
              "      <td>0.285923</td>\n",
              "      <td>0.143752</td>\n",
              "      <td>0.134271</td>\n",
              "      <td>-0.004039</td>\n",
              "      <td>0.258009</td>\n",
              "      <td>0.436787</td>\n",
              "      <td>-0.006317</td>\n",
              "      <td>...</td>\n",
              "      <td>19.0</td>\n",
              "      <td>24.82</td>\n",
              "      <td>0</td>\n",
              "      <td>0</td>\n",
              "      <td>0</td>\n",
              "      <td>0</td>\n",
              "      <td>0</td>\n",
              "      <td>0</td>\n",
              "      <td>0</td>\n",
              "      <td>1</td>\n",
              "    </tr>\n",
              "    <tr>\n",
              "      <th>463</th>\n",
              "      <td>0.112248</td>\n",
              "      <td>0.172459</td>\n",
              "      <td>0.251792</td>\n",
              "      <td>-0.330378</td>\n",
              "      <td>0.373551</td>\n",
              "      <td>-0.085489</td>\n",
              "      <td>-0.364231</td>\n",
              "      <td>0.090206</td>\n",
              "      <td>-0.239000</td>\n",
              "      <td>-0.021638</td>\n",
              "      <td>...</td>\n",
              "      <td>66.0</td>\n",
              "      <td>19.50</td>\n",
              "      <td>0</td>\n",
              "      <td>0</td>\n",
              "      <td>0</td>\n",
              "      <td>0</td>\n",
              "      <td>0</td>\n",
              "      <td>0</td>\n",
              "      <td>1</td>\n",
              "      <td>0</td>\n",
              "    </tr>\n",
              "    <tr>\n",
              "      <th>33</th>\n",
              "      <td>-0.008352</td>\n",
              "      <td>-0.074332</td>\n",
              "      <td>-0.238685</td>\n",
              "      <td>-0.291133</td>\n",
              "      <td>0.253526</td>\n",
              "      <td>-0.248288</td>\n",
              "      <td>-0.040242</td>\n",
              "      <td>-0.237168</td>\n",
              "      <td>-0.392581</td>\n",
              "      <td>-0.109589</td>\n",
              "      <td>...</td>\n",
              "      <td>68.0</td>\n",
              "      <td>19.29</td>\n",
              "      <td>0</td>\n",
              "      <td>0</td>\n",
              "      <td>0</td>\n",
              "      <td>0</td>\n",
              "      <td>0</td>\n",
              "      <td>0</td>\n",
              "      <td>0</td>\n",
              "      <td>0</td>\n",
              "    </tr>\n",
              "    <tr>\n",
              "      <th>...</th>\n",
              "      <td>...</td>\n",
              "      <td>...</td>\n",
              "      <td>...</td>\n",
              "      <td>...</td>\n",
              "      <td>...</td>\n",
              "      <td>...</td>\n",
              "      <td>...</td>\n",
              "      <td>...</td>\n",
              "      <td>...</td>\n",
              "      <td>...</td>\n",
              "      <td>...</td>\n",
              "      <td>...</td>\n",
              "      <td>...</td>\n",
              "      <td>...</td>\n",
              "      <td>...</td>\n",
              "      <td>...</td>\n",
              "      <td>...</td>\n",
              "      <td>...</td>\n",
              "      <td>...</td>\n",
              "      <td>...</td>\n",
              "      <td>...</td>\n",
              "    </tr>\n",
              "    <tr>\n",
              "      <th>31</th>\n",
              "      <td>-0.345858</td>\n",
              "      <td>-0.184016</td>\n",
              "      <td>-0.267976</td>\n",
              "      <td>-0.402239</td>\n",
              "      <td>-0.146177</td>\n",
              "      <td>-0.190639</td>\n",
              "      <td>-0.219773</td>\n",
              "      <td>-0.240624</td>\n",
              "      <td>-0.278037</td>\n",
              "      <td>-0.276137</td>\n",
              "      <td>...</td>\n",
              "      <td>72.0</td>\n",
              "      <td>21.12</td>\n",
              "      <td>0</td>\n",
              "      <td>0</td>\n",
              "      <td>0</td>\n",
              "      <td>0</td>\n",
              "      <td>0</td>\n",
              "      <td>0</td>\n",
              "      <td>0</td>\n",
              "      <td>0</td>\n",
              "    </tr>\n",
              "    <tr>\n",
              "      <th>113</th>\n",
              "      <td>-0.437532</td>\n",
              "      <td>-0.172444</td>\n",
              "      <td>-0.003209</td>\n",
              "      <td>-0.007867</td>\n",
              "      <td>-0.018803</td>\n",
              "      <td>-0.055248</td>\n",
              "      <td>-0.353687</td>\n",
              "      <td>0.062032</td>\n",
              "      <td>0.058762</td>\n",
              "      <td>-0.226611</td>\n",
              "      <td>...</td>\n",
              "      <td>54.0</td>\n",
              "      <td>16.84</td>\n",
              "      <td>0</td>\n",
              "      <td>0</td>\n",
              "      <td>0</td>\n",
              "      <td>0</td>\n",
              "      <td>0</td>\n",
              "      <td>0</td>\n",
              "      <td>0</td>\n",
              "      <td>0</td>\n",
              "    </tr>\n",
              "    <tr>\n",
              "      <th>272</th>\n",
              "      <td>0.085456</td>\n",
              "      <td>-0.017223</td>\n",
              "      <td>0.110324</td>\n",
              "      <td>-0.356316</td>\n",
              "      <td>0.245826</td>\n",
              "      <td>-0.166763</td>\n",
              "      <td>0.105081</td>\n",
              "      <td>-0.011678</td>\n",
              "      <td>-0.292295</td>\n",
              "      <td>-0.055272</td>\n",
              "      <td>...</td>\n",
              "      <td>72.0</td>\n",
              "      <td>19.11</td>\n",
              "      <td>0</td>\n",
              "      <td>0</td>\n",
              "      <td>0</td>\n",
              "      <td>0</td>\n",
              "      <td>0</td>\n",
              "      <td>0</td>\n",
              "      <td>0</td>\n",
              "      <td>0</td>\n",
              "    </tr>\n",
              "    <tr>\n",
              "      <th>311</th>\n",
              "      <td>-0.398452</td>\n",
              "      <td>-0.338095</td>\n",
              "      <td>-0.451013</td>\n",
              "      <td>-0.261519</td>\n",
              "      <td>-0.053643</td>\n",
              "      <td>-0.221453</td>\n",
              "      <td>-0.169615</td>\n",
              "      <td>-0.414323</td>\n",
              "      <td>-0.213793</td>\n",
              "      <td>-0.310667</td>\n",
              "      <td>...</td>\n",
              "      <td>65.0</td>\n",
              "      <td>26.11</td>\n",
              "      <td>0</td>\n",
              "      <td>0</td>\n",
              "      <td>0</td>\n",
              "      <td>1</td>\n",
              "      <td>0</td>\n",
              "      <td>0</td>\n",
              "      <td>0</td>\n",
              "      <td>1</td>\n",
              "    </tr>\n",
              "    <tr>\n",
              "      <th>395</th>\n",
              "      <td>0.519434</td>\n",
              "      <td>0.146582</td>\n",
              "      <td>0.000012</td>\n",
              "      <td>-0.175046</td>\n",
              "      <td>-0.051197</td>\n",
              "      <td>-0.045824</td>\n",
              "      <td>0.503479</td>\n",
              "      <td>-0.125214</td>\n",
              "      <td>-0.129111</td>\n",
              "      <td>0.234634</td>\n",
              "      <td>...</td>\n",
              "      <td>74.0</td>\n",
              "      <td>21.19</td>\n",
              "      <td>0</td>\n",
              "      <td>0</td>\n",
              "      <td>0</td>\n",
              "      <td>0</td>\n",
              "      <td>0</td>\n",
              "      <td>0</td>\n",
              "      <td>0</td>\n",
              "      <td>0</td>\n",
              "    </tr>\n",
              "  </tbody>\n",
              "</table>\n",
              "<p>101 rows × 59 columns</p>\n",
              "</div>\n",
              "      <button class=\"colab-df-convert\" onclick=\"convertToInteractive('df-fde819f7-15c9-4b33-b8fc-2a8563efd614')\"\n",
              "              title=\"Convert this dataframe to an interactive table.\"\n",
              "              style=\"display:none;\">\n",
              "        \n",
              "  <svg xmlns=\"http://www.w3.org/2000/svg\" height=\"24px\"viewBox=\"0 0 24 24\"\n",
              "       width=\"24px\">\n",
              "    <path d=\"M0 0h24v24H0V0z\" fill=\"none\"/>\n",
              "    <path d=\"M18.56 5.44l.94 2.06.94-2.06 2.06-.94-2.06-.94-.94-2.06-.94 2.06-2.06.94zm-11 1L8.5 8.5l.94-2.06 2.06-.94-2.06-.94L8.5 2.5l-.94 2.06-2.06.94zm10 10l.94 2.06.94-2.06 2.06-.94-2.06-.94-.94-2.06-.94 2.06-2.06.94z\"/><path d=\"M17.41 7.96l-1.37-1.37c-.4-.4-.92-.59-1.43-.59-.52 0-1.04.2-1.43.59L10.3 9.45l-7.72 7.72c-.78.78-.78 2.05 0 2.83L4 21.41c.39.39.9.59 1.41.59.51 0 1.02-.2 1.41-.59l7.78-7.78 2.81-2.81c.8-.78.8-2.07 0-2.86zM5.41 20L4 18.59l7.72-7.72 1.47 1.35L5.41 20z\"/>\n",
              "  </svg>\n",
              "      </button>\n",
              "      \n",
              "  <style>\n",
              "    .colab-df-container {\n",
              "      display:flex;\n",
              "      flex-wrap:wrap;\n",
              "      gap: 12px;\n",
              "    }\n",
              "\n",
              "    .colab-df-convert {\n",
              "      background-color: #E8F0FE;\n",
              "      border: none;\n",
              "      border-radius: 50%;\n",
              "      cursor: pointer;\n",
              "      display: none;\n",
              "      fill: #1967D2;\n",
              "      height: 32px;\n",
              "      padding: 0 0 0 0;\n",
              "      width: 32px;\n",
              "    }\n",
              "\n",
              "    .colab-df-convert:hover {\n",
              "      background-color: #E2EBFA;\n",
              "      box-shadow: 0px 1px 2px rgba(60, 64, 67, 0.3), 0px 1px 3px 1px rgba(60, 64, 67, 0.15);\n",
              "      fill: #174EA6;\n",
              "    }\n",
              "\n",
              "    [theme=dark] .colab-df-convert {\n",
              "      background-color: #3B4455;\n",
              "      fill: #D2E3FC;\n",
              "    }\n",
              "\n",
              "    [theme=dark] .colab-df-convert:hover {\n",
              "      background-color: #434B5C;\n",
              "      box-shadow: 0px 1px 3px 1px rgba(0, 0, 0, 0.15);\n",
              "      filter: drop-shadow(0px 1px 2px rgba(0, 0, 0, 0.3));\n",
              "      fill: #FFFFFF;\n",
              "    }\n",
              "  </style>\n",
              "\n",
              "      <script>\n",
              "        const buttonEl =\n",
              "          document.querySelector('#df-fde819f7-15c9-4b33-b8fc-2a8563efd614 button.colab-df-convert');\n",
              "        buttonEl.style.display =\n",
              "          google.colab.kernel.accessAllowed ? 'block' : 'none';\n",
              "\n",
              "        async function convertToInteractive(key) {\n",
              "          const element = document.querySelector('#df-fde819f7-15c9-4b33-b8fc-2a8563efd614');\n",
              "          const dataTable =\n",
              "            await google.colab.kernel.invokeFunction('convertToInteractive',\n",
              "                                                     [key], {});\n",
              "          if (!dataTable) return;\n",
              "\n",
              "          const docLinkHtml = 'Like what you see? Visit the ' +\n",
              "            '<a target=\"_blank\" href=https://colab.research.google.com/notebooks/data_table.ipynb>data table notebook</a>'\n",
              "            + ' to learn more about interactive tables.';\n",
              "          element.innerHTML = '';\n",
              "          dataTable['output_type'] = 'display_data';\n",
              "          await google.colab.output.renderOutput(dataTable, element);\n",
              "          const docLink = document.createElement('div');\n",
              "          docLink.innerHTML = docLinkHtml;\n",
              "          element.appendChild(docLink);\n",
              "        }\n",
              "      </script>\n",
              "    </div>\n",
              "  </div>\n",
              "  "
            ]
          },
          "metadata": {},
          "execution_count": 44
        }
      ]
    },
    {
      "cell_type": "code",
      "source": [
        "y_test"
      ],
      "metadata": {
        "colab": {
          "base_uri": "https://localhost:8080/"
        },
        "id": "_HAFlC2b8Wq5",
        "outputId": "cfc053a9-5224-468e-b09a-76e97a793a82"
      },
      "execution_count": 45,
      "outputs": [
        {
          "output_type": "execute_result",
          "data": {
            "text/plain": [
              "247    1\n",
              "477    0\n",
              "281    1\n",
              "463    0\n",
              "33     1\n",
              "      ..\n",
              "31     1\n",
              "113    1\n",
              "272    1\n",
              "311    1\n",
              "395    1\n",
              "Name: infection, Length: 101, dtype: int64"
            ]
          },
          "metadata": {},
          "execution_count": 45
        }
      ]
    },
    {
      "cell_type": "code",
      "source": [
        "val_X = val_data.drop(['infection'], axis = 1)"
      ],
      "metadata": {
        "id": "7mwh3OZ-8ZkT"
      },
      "execution_count": 46,
      "outputs": []
    },
    {
      "cell_type": "code",
      "source": [
        "val_y = val_data['infection']"
      ],
      "metadata": {
        "id": "MISkXS778kz3"
      },
      "execution_count": 47,
      "outputs": []
    },
    {
      "cell_type": "code",
      "source": [
        "val_X"
      ],
      "metadata": {
        "colab": {
          "base_uri": "https://localhost:8080/",
          "height": 769
        },
        "id": "KT09-Fqg8oqA",
        "outputId": "db28f145-c600-4c7b-89f0-15a918f2e0e3"
      },
      "execution_count": 48,
      "outputs": [
        {
          "output_type": "execute_result",
          "data": {
            "text/plain": [
              "           V1        V2        V3        V4        V5        V6        V7  \\\n",
              "418  0.416963  0.181283  0.064580 -0.256586 -0.022616 -0.317925  0.376913   \n",
              "474  0.199633  0.206295  0.288382 -0.150975  0.394386  0.075909 -0.368996   \n",
              "181 -0.431797 -0.050736  0.030278 -0.117923  0.246983 -0.160531 -0.197276   \n",
              "446 -0.379012  0.039950  0.292831  0.174339  0.256258 -0.020767 -0.409595   \n",
              "297  0.451459 -0.048828 -0.089349 -0.151467  0.136524 -0.169697  0.116059   \n",
              "148  0.517892  0.166558  0.063383  0.132554 -0.194953  0.251701  0.468951   \n",
              "380  0.196697 -0.125266 -0.044279 -0.382407 -0.187755 -0.502705  0.158471   \n",
              "386 -0.274328 -0.088122 -0.355619 -0.220709 -0.245031 -0.182536 -0.239657   \n",
              "479  0.048350  0.203425  0.292148 -0.066557  0.333795  0.169132 -0.360702   \n",
              "227 -0.222839 -0.158885 -0.120375 -0.231332 -0.299132 -0.233906 -0.144302   \n",
              "9    0.090296  0.025471 -0.158836  0.139533 -0.081311  0.367960  0.194679   \n",
              "175 -0.464575 -0.265182 -0.367532 -0.297636  0.032458 -0.374770 -0.355741   \n",
              "478  0.039862  0.177308  0.181922 -0.123626  0.103921 -0.106644 -0.072400   \n",
              "323  0.242163  0.066918  0.033049  0.328484  0.143394  0.351607  0.324350   \n",
              "211 -0.523103 -0.405886 -0.410172 -0.389650 -0.011936 -0.462901 -0.457214   \n",
              "427 -0.237461 -0.069885 -0.094361 -0.181983  0.093613 -0.152839  0.090546   \n",
              "84  -0.442029 -0.195871 -0.131199 -0.226081  0.160782 -0.267065 -0.303221   \n",
              "30  -0.318789 -0.163142  0.126921 -0.269444 -0.017124 -0.290847 -0.162357   \n",
              "238  0.358391  0.139015  0.077904  0.218226 -0.037708  0.302697 -0.055597   \n",
              "90   0.416482  0.199103  0.165530  0.177148  0.047629  0.421988  0.357391   \n",
              "\n",
              "           V8        V9       V10  ...  agenum_random  ctnum_random  batch_A  \\\n",
              "418  0.086584 -0.255495  0.096489  ...           37.0       28.4300        0   \n",
              "474  0.323212  0.079250  0.018757  ...           24.0       20.4400        0   \n",
              "181  0.083967  0.028719 -0.148602  ...           31.0       15.6400        0   \n",
              "446  0.085018  0.011241  0.117534  ...           22.0       24.1700        0   \n",
              "297 -0.235683 -0.048781  0.168612  ...           70.0       25.5300        0   \n",
              "148  0.356290  0.119660  0.310991  ...           20.0       24.1700        0   \n",
              "380 -0.153866 -0.245726 -0.059669  ...           18.0       21.4600        0   \n",
              "386 -0.241508  0.045283 -0.232010  ...           37.0       17.0900        0   \n",
              "479  0.233100 -0.189518  0.083925  ...           41.0       25.5800        0   \n",
              "227 -0.383421 -0.359472 -0.198014  ...           35.0       24.1800        0   \n",
              "9   -0.023078  0.237585  0.048887  ...           71.0       17.9900        0   \n",
              "175 -0.038577 -0.201927 -0.291822  ...           37.0       23.1274        0   \n",
              "478  0.195800 -0.192329  0.105015  ...           47.0       23.0800        0   \n",
              "323  0.318879  0.351132  0.176302  ...           42.0       20.5100        0   \n",
              "211 -0.263158 -0.280329 -0.436327  ...           57.0       23.9381        0   \n",
              "427 -0.035986 -0.064718 -0.067342  ...           78.0       20.6200        0   \n",
              "84  -0.086990 -0.221635 -0.165284  ...           58.0       23.7200        0   \n",
              "30   0.007770 -0.136658 -0.066080  ...           78.0       19.1700        0   \n",
              "238 -0.090381  0.058635  0.200840  ...           67.0       19.9600        0   \n",
              "90   0.077157  0.168452  0.320749  ...           44.0       12.3200        0   \n",
              "\n",
              "     batch_B  batch_C  batch_E  batch_F  batch_G  batch_U  ctnum_median_status  \n",
              "418        0        0        0        0        0        0                    1  \n",
              "474        0        0        0        0        0        0                    0  \n",
              "181        0        0        0        0        0        0                    0  \n",
              "446        0        0        0        0        0        0                    1  \n",
              "297        0        0        1        0        0        0                    1  \n",
              "148        0        0        0        0        0        0                    1  \n",
              "380        0        0        0        0        0        0                    0  \n",
              "386        0        0        0        0        0        0                    0  \n",
              "479        0        0        0        0        0        0                    1  \n",
              "227        0        1        0        0        0        0                    1  \n",
              "9          0        0        0        0        0        0                    0  \n",
              "175        0        0        0        0        1        0                    1  \n",
              "478        0        0        0        0        0        0                    1  \n",
              "323        0        0        0        0        0        0                    0  \n",
              "211        0        0        0        0        1        0                    1  \n",
              "427        0        0        0        0        0        0                    0  \n",
              "84         0        0        0        0        0        0                    1  \n",
              "30         0        0        0        0        0        0                    0  \n",
              "238        0        1        0        0        0        0                    0  \n",
              "90         0        0        0        0        0        0                    0  \n",
              "\n",
              "[20 rows x 59 columns]"
            ],
            "text/html": [
              "\n",
              "  <div id=\"df-8ca5ff35-f9fb-406f-86e2-ab41fb2536ca\">\n",
              "    <div class=\"colab-df-container\">\n",
              "      <div>\n",
              "<style scoped>\n",
              "    .dataframe tbody tr th:only-of-type {\n",
              "        vertical-align: middle;\n",
              "    }\n",
              "\n",
              "    .dataframe tbody tr th {\n",
              "        vertical-align: top;\n",
              "    }\n",
              "\n",
              "    .dataframe thead th {\n",
              "        text-align: right;\n",
              "    }\n",
              "</style>\n",
              "<table border=\"1\" class=\"dataframe\">\n",
              "  <thead>\n",
              "    <tr style=\"text-align: right;\">\n",
              "      <th></th>\n",
              "      <th>V1</th>\n",
              "      <th>V2</th>\n",
              "      <th>V3</th>\n",
              "      <th>V4</th>\n",
              "      <th>V5</th>\n",
              "      <th>V6</th>\n",
              "      <th>V7</th>\n",
              "      <th>V8</th>\n",
              "      <th>V9</th>\n",
              "      <th>V10</th>\n",
              "      <th>...</th>\n",
              "      <th>agenum_random</th>\n",
              "      <th>ctnum_random</th>\n",
              "      <th>batch_A</th>\n",
              "      <th>batch_B</th>\n",
              "      <th>batch_C</th>\n",
              "      <th>batch_E</th>\n",
              "      <th>batch_F</th>\n",
              "      <th>batch_G</th>\n",
              "      <th>batch_U</th>\n",
              "      <th>ctnum_median_status</th>\n",
              "    </tr>\n",
              "  </thead>\n",
              "  <tbody>\n",
              "    <tr>\n",
              "      <th>418</th>\n",
              "      <td>0.416963</td>\n",
              "      <td>0.181283</td>\n",
              "      <td>0.064580</td>\n",
              "      <td>-0.256586</td>\n",
              "      <td>-0.022616</td>\n",
              "      <td>-0.317925</td>\n",
              "      <td>0.376913</td>\n",
              "      <td>0.086584</td>\n",
              "      <td>-0.255495</td>\n",
              "      <td>0.096489</td>\n",
              "      <td>...</td>\n",
              "      <td>37.0</td>\n",
              "      <td>28.4300</td>\n",
              "      <td>0</td>\n",
              "      <td>0</td>\n",
              "      <td>0</td>\n",
              "      <td>0</td>\n",
              "      <td>0</td>\n",
              "      <td>0</td>\n",
              "      <td>0</td>\n",
              "      <td>1</td>\n",
              "    </tr>\n",
              "    <tr>\n",
              "      <th>474</th>\n",
              "      <td>0.199633</td>\n",
              "      <td>0.206295</td>\n",
              "      <td>0.288382</td>\n",
              "      <td>-0.150975</td>\n",
              "      <td>0.394386</td>\n",
              "      <td>0.075909</td>\n",
              "      <td>-0.368996</td>\n",
              "      <td>0.323212</td>\n",
              "      <td>0.079250</td>\n",
              "      <td>0.018757</td>\n",
              "      <td>...</td>\n",
              "      <td>24.0</td>\n",
              "      <td>20.4400</td>\n",
              "      <td>0</td>\n",
              "      <td>0</td>\n",
              "      <td>0</td>\n",
              "      <td>0</td>\n",
              "      <td>0</td>\n",
              "      <td>0</td>\n",
              "      <td>0</td>\n",
              "      <td>0</td>\n",
              "    </tr>\n",
              "    <tr>\n",
              "      <th>181</th>\n",
              "      <td>-0.431797</td>\n",
              "      <td>-0.050736</td>\n",
              "      <td>0.030278</td>\n",
              "      <td>-0.117923</td>\n",
              "      <td>0.246983</td>\n",
              "      <td>-0.160531</td>\n",
              "      <td>-0.197276</td>\n",
              "      <td>0.083967</td>\n",
              "      <td>0.028719</td>\n",
              "      <td>-0.148602</td>\n",
              "      <td>...</td>\n",
              "      <td>31.0</td>\n",
              "      <td>15.6400</td>\n",
              "      <td>0</td>\n",
              "      <td>0</td>\n",
              "      <td>0</td>\n",
              "      <td>0</td>\n",
              "      <td>0</td>\n",
              "      <td>0</td>\n",
              "      <td>0</td>\n",
              "      <td>0</td>\n",
              "    </tr>\n",
              "    <tr>\n",
              "      <th>446</th>\n",
              "      <td>-0.379012</td>\n",
              "      <td>0.039950</td>\n",
              "      <td>0.292831</td>\n",
              "      <td>0.174339</td>\n",
              "      <td>0.256258</td>\n",
              "      <td>-0.020767</td>\n",
              "      <td>-0.409595</td>\n",
              "      <td>0.085018</td>\n",
              "      <td>0.011241</td>\n",
              "      <td>0.117534</td>\n",
              "      <td>...</td>\n",
              "      <td>22.0</td>\n",
              "      <td>24.1700</td>\n",
              "      <td>0</td>\n",
              "      <td>0</td>\n",
              "      <td>0</td>\n",
              "      <td>0</td>\n",
              "      <td>0</td>\n",
              "      <td>0</td>\n",
              "      <td>0</td>\n",
              "      <td>1</td>\n",
              "    </tr>\n",
              "    <tr>\n",
              "      <th>297</th>\n",
              "      <td>0.451459</td>\n",
              "      <td>-0.048828</td>\n",
              "      <td>-0.089349</td>\n",
              "      <td>-0.151467</td>\n",
              "      <td>0.136524</td>\n",
              "      <td>-0.169697</td>\n",
              "      <td>0.116059</td>\n",
              "      <td>-0.235683</td>\n",
              "      <td>-0.048781</td>\n",
              "      <td>0.168612</td>\n",
              "      <td>...</td>\n",
              "      <td>70.0</td>\n",
              "      <td>25.5300</td>\n",
              "      <td>0</td>\n",
              "      <td>0</td>\n",
              "      <td>0</td>\n",
              "      <td>1</td>\n",
              "      <td>0</td>\n",
              "      <td>0</td>\n",
              "      <td>0</td>\n",
              "      <td>1</td>\n",
              "    </tr>\n",
              "    <tr>\n",
              "      <th>148</th>\n",
              "      <td>0.517892</td>\n",
              "      <td>0.166558</td>\n",
              "      <td>0.063383</td>\n",
              "      <td>0.132554</td>\n",
              "      <td>-0.194953</td>\n",
              "      <td>0.251701</td>\n",
              "      <td>0.468951</td>\n",
              "      <td>0.356290</td>\n",
              "      <td>0.119660</td>\n",
              "      <td>0.310991</td>\n",
              "      <td>...</td>\n",
              "      <td>20.0</td>\n",
              "      <td>24.1700</td>\n",
              "      <td>0</td>\n",
              "      <td>0</td>\n",
              "      <td>0</td>\n",
              "      <td>0</td>\n",
              "      <td>0</td>\n",
              "      <td>0</td>\n",
              "      <td>0</td>\n",
              "      <td>1</td>\n",
              "    </tr>\n",
              "    <tr>\n",
              "      <th>380</th>\n",
              "      <td>0.196697</td>\n",
              "      <td>-0.125266</td>\n",
              "      <td>-0.044279</td>\n",
              "      <td>-0.382407</td>\n",
              "      <td>-0.187755</td>\n",
              "      <td>-0.502705</td>\n",
              "      <td>0.158471</td>\n",
              "      <td>-0.153866</td>\n",
              "      <td>-0.245726</td>\n",
              "      <td>-0.059669</td>\n",
              "      <td>...</td>\n",
              "      <td>18.0</td>\n",
              "      <td>21.4600</td>\n",
              "      <td>0</td>\n",
              "      <td>0</td>\n",
              "      <td>0</td>\n",
              "      <td>0</td>\n",
              "      <td>0</td>\n",
              "      <td>0</td>\n",
              "      <td>0</td>\n",
              "      <td>0</td>\n",
              "    </tr>\n",
              "    <tr>\n",
              "      <th>386</th>\n",
              "      <td>-0.274328</td>\n",
              "      <td>-0.088122</td>\n",
              "      <td>-0.355619</td>\n",
              "      <td>-0.220709</td>\n",
              "      <td>-0.245031</td>\n",
              "      <td>-0.182536</td>\n",
              "      <td>-0.239657</td>\n",
              "      <td>-0.241508</td>\n",
              "      <td>0.045283</td>\n",
              "      <td>-0.232010</td>\n",
              "      <td>...</td>\n",
              "      <td>37.0</td>\n",
              "      <td>17.0900</td>\n",
              "      <td>0</td>\n",
              "      <td>0</td>\n",
              "      <td>0</td>\n",
              "      <td>0</td>\n",
              "      <td>0</td>\n",
              "      <td>0</td>\n",
              "      <td>0</td>\n",
              "      <td>0</td>\n",
              "    </tr>\n",
              "    <tr>\n",
              "      <th>479</th>\n",
              "      <td>0.048350</td>\n",
              "      <td>0.203425</td>\n",
              "      <td>0.292148</td>\n",
              "      <td>-0.066557</td>\n",
              "      <td>0.333795</td>\n",
              "      <td>0.169132</td>\n",
              "      <td>-0.360702</td>\n",
              "      <td>0.233100</td>\n",
              "      <td>-0.189518</td>\n",
              "      <td>0.083925</td>\n",
              "      <td>...</td>\n",
              "      <td>41.0</td>\n",
              "      <td>25.5800</td>\n",
              "      <td>0</td>\n",
              "      <td>0</td>\n",
              "      <td>0</td>\n",
              "      <td>0</td>\n",
              "      <td>0</td>\n",
              "      <td>0</td>\n",
              "      <td>0</td>\n",
              "      <td>1</td>\n",
              "    </tr>\n",
              "    <tr>\n",
              "      <th>227</th>\n",
              "      <td>-0.222839</td>\n",
              "      <td>-0.158885</td>\n",
              "      <td>-0.120375</td>\n",
              "      <td>-0.231332</td>\n",
              "      <td>-0.299132</td>\n",
              "      <td>-0.233906</td>\n",
              "      <td>-0.144302</td>\n",
              "      <td>-0.383421</td>\n",
              "      <td>-0.359472</td>\n",
              "      <td>-0.198014</td>\n",
              "      <td>...</td>\n",
              "      <td>35.0</td>\n",
              "      <td>24.1800</td>\n",
              "      <td>0</td>\n",
              "      <td>0</td>\n",
              "      <td>1</td>\n",
              "      <td>0</td>\n",
              "      <td>0</td>\n",
              "      <td>0</td>\n",
              "      <td>0</td>\n",
              "      <td>1</td>\n",
              "    </tr>\n",
              "    <tr>\n",
              "      <th>9</th>\n",
              "      <td>0.090296</td>\n",
              "      <td>0.025471</td>\n",
              "      <td>-0.158836</td>\n",
              "      <td>0.139533</td>\n",
              "      <td>-0.081311</td>\n",
              "      <td>0.367960</td>\n",
              "      <td>0.194679</td>\n",
              "      <td>-0.023078</td>\n",
              "      <td>0.237585</td>\n",
              "      <td>0.048887</td>\n",
              "      <td>...</td>\n",
              "      <td>71.0</td>\n",
              "      <td>17.9900</td>\n",
              "      <td>0</td>\n",
              "      <td>0</td>\n",
              "      <td>0</td>\n",
              "      <td>0</td>\n",
              "      <td>0</td>\n",
              "      <td>0</td>\n",
              "      <td>0</td>\n",
              "      <td>0</td>\n",
              "    </tr>\n",
              "    <tr>\n",
              "      <th>175</th>\n",
              "      <td>-0.464575</td>\n",
              "      <td>-0.265182</td>\n",
              "      <td>-0.367532</td>\n",
              "      <td>-0.297636</td>\n",
              "      <td>0.032458</td>\n",
              "      <td>-0.374770</td>\n",
              "      <td>-0.355741</td>\n",
              "      <td>-0.038577</td>\n",
              "      <td>-0.201927</td>\n",
              "      <td>-0.291822</td>\n",
              "      <td>...</td>\n",
              "      <td>37.0</td>\n",
              "      <td>23.1274</td>\n",
              "      <td>0</td>\n",
              "      <td>0</td>\n",
              "      <td>0</td>\n",
              "      <td>0</td>\n",
              "      <td>0</td>\n",
              "      <td>1</td>\n",
              "      <td>0</td>\n",
              "      <td>1</td>\n",
              "    </tr>\n",
              "    <tr>\n",
              "      <th>478</th>\n",
              "      <td>0.039862</td>\n",
              "      <td>0.177308</td>\n",
              "      <td>0.181922</td>\n",
              "      <td>-0.123626</td>\n",
              "      <td>0.103921</td>\n",
              "      <td>-0.106644</td>\n",
              "      <td>-0.072400</td>\n",
              "      <td>0.195800</td>\n",
              "      <td>-0.192329</td>\n",
              "      <td>0.105015</td>\n",
              "      <td>...</td>\n",
              "      <td>47.0</td>\n",
              "      <td>23.0800</td>\n",
              "      <td>0</td>\n",
              "      <td>0</td>\n",
              "      <td>0</td>\n",
              "      <td>0</td>\n",
              "      <td>0</td>\n",
              "      <td>0</td>\n",
              "      <td>0</td>\n",
              "      <td>1</td>\n",
              "    </tr>\n",
              "    <tr>\n",
              "      <th>323</th>\n",
              "      <td>0.242163</td>\n",
              "      <td>0.066918</td>\n",
              "      <td>0.033049</td>\n",
              "      <td>0.328484</td>\n",
              "      <td>0.143394</td>\n",
              "      <td>0.351607</td>\n",
              "      <td>0.324350</td>\n",
              "      <td>0.318879</td>\n",
              "      <td>0.351132</td>\n",
              "      <td>0.176302</td>\n",
              "      <td>...</td>\n",
              "      <td>42.0</td>\n",
              "      <td>20.5100</td>\n",
              "      <td>0</td>\n",
              "      <td>0</td>\n",
              "      <td>0</td>\n",
              "      <td>0</td>\n",
              "      <td>0</td>\n",
              "      <td>0</td>\n",
              "      <td>0</td>\n",
              "      <td>0</td>\n",
              "    </tr>\n",
              "    <tr>\n",
              "      <th>211</th>\n",
              "      <td>-0.523103</td>\n",
              "      <td>-0.405886</td>\n",
              "      <td>-0.410172</td>\n",
              "      <td>-0.389650</td>\n",
              "      <td>-0.011936</td>\n",
              "      <td>-0.462901</td>\n",
              "      <td>-0.457214</td>\n",
              "      <td>-0.263158</td>\n",
              "      <td>-0.280329</td>\n",
              "      <td>-0.436327</td>\n",
              "      <td>...</td>\n",
              "      <td>57.0</td>\n",
              "      <td>23.9381</td>\n",
              "      <td>0</td>\n",
              "      <td>0</td>\n",
              "      <td>0</td>\n",
              "      <td>0</td>\n",
              "      <td>0</td>\n",
              "      <td>1</td>\n",
              "      <td>0</td>\n",
              "      <td>1</td>\n",
              "    </tr>\n",
              "    <tr>\n",
              "      <th>427</th>\n",
              "      <td>-0.237461</td>\n",
              "      <td>-0.069885</td>\n",
              "      <td>-0.094361</td>\n",
              "      <td>-0.181983</td>\n",
              "      <td>0.093613</td>\n",
              "      <td>-0.152839</td>\n",
              "      <td>0.090546</td>\n",
              "      <td>-0.035986</td>\n",
              "      <td>-0.064718</td>\n",
              "      <td>-0.067342</td>\n",
              "      <td>...</td>\n",
              "      <td>78.0</td>\n",
              "      <td>20.6200</td>\n",
              "      <td>0</td>\n",
              "      <td>0</td>\n",
              "      <td>0</td>\n",
              "      <td>0</td>\n",
              "      <td>0</td>\n",
              "      <td>0</td>\n",
              "      <td>0</td>\n",
              "      <td>0</td>\n",
              "    </tr>\n",
              "    <tr>\n",
              "      <th>84</th>\n",
              "      <td>-0.442029</td>\n",
              "      <td>-0.195871</td>\n",
              "      <td>-0.131199</td>\n",
              "      <td>-0.226081</td>\n",
              "      <td>0.160782</td>\n",
              "      <td>-0.267065</td>\n",
              "      <td>-0.303221</td>\n",
              "      <td>-0.086990</td>\n",
              "      <td>-0.221635</td>\n",
              "      <td>-0.165284</td>\n",
              "      <td>...</td>\n",
              "      <td>58.0</td>\n",
              "      <td>23.7200</td>\n",
              "      <td>0</td>\n",
              "      <td>0</td>\n",
              "      <td>0</td>\n",
              "      <td>0</td>\n",
              "      <td>0</td>\n",
              "      <td>0</td>\n",
              "      <td>0</td>\n",
              "      <td>1</td>\n",
              "    </tr>\n",
              "    <tr>\n",
              "      <th>30</th>\n",
              "      <td>-0.318789</td>\n",
              "      <td>-0.163142</td>\n",
              "      <td>0.126921</td>\n",
              "      <td>-0.269444</td>\n",
              "      <td>-0.017124</td>\n",
              "      <td>-0.290847</td>\n",
              "      <td>-0.162357</td>\n",
              "      <td>0.007770</td>\n",
              "      <td>-0.136658</td>\n",
              "      <td>-0.066080</td>\n",
              "      <td>...</td>\n",
              "      <td>78.0</td>\n",
              "      <td>19.1700</td>\n",
              "      <td>0</td>\n",
              "      <td>0</td>\n",
              "      <td>0</td>\n",
              "      <td>0</td>\n",
              "      <td>0</td>\n",
              "      <td>0</td>\n",
              "      <td>0</td>\n",
              "      <td>0</td>\n",
              "    </tr>\n",
              "    <tr>\n",
              "      <th>238</th>\n",
              "      <td>0.358391</td>\n",
              "      <td>0.139015</td>\n",
              "      <td>0.077904</td>\n",
              "      <td>0.218226</td>\n",
              "      <td>-0.037708</td>\n",
              "      <td>0.302697</td>\n",
              "      <td>-0.055597</td>\n",
              "      <td>-0.090381</td>\n",
              "      <td>0.058635</td>\n",
              "      <td>0.200840</td>\n",
              "      <td>...</td>\n",
              "      <td>67.0</td>\n",
              "      <td>19.9600</td>\n",
              "      <td>0</td>\n",
              "      <td>0</td>\n",
              "      <td>1</td>\n",
              "      <td>0</td>\n",
              "      <td>0</td>\n",
              "      <td>0</td>\n",
              "      <td>0</td>\n",
              "      <td>0</td>\n",
              "    </tr>\n",
              "    <tr>\n",
              "      <th>90</th>\n",
              "      <td>0.416482</td>\n",
              "      <td>0.199103</td>\n",
              "      <td>0.165530</td>\n",
              "      <td>0.177148</td>\n",
              "      <td>0.047629</td>\n",
              "      <td>0.421988</td>\n",
              "      <td>0.357391</td>\n",
              "      <td>0.077157</td>\n",
              "      <td>0.168452</td>\n",
              "      <td>0.320749</td>\n",
              "      <td>...</td>\n",
              "      <td>44.0</td>\n",
              "      <td>12.3200</td>\n",
              "      <td>0</td>\n",
              "      <td>0</td>\n",
              "      <td>0</td>\n",
              "      <td>0</td>\n",
              "      <td>0</td>\n",
              "      <td>0</td>\n",
              "      <td>0</td>\n",
              "      <td>0</td>\n",
              "    </tr>\n",
              "  </tbody>\n",
              "</table>\n",
              "<p>20 rows × 59 columns</p>\n",
              "</div>\n",
              "      <button class=\"colab-df-convert\" onclick=\"convertToInteractive('df-8ca5ff35-f9fb-406f-86e2-ab41fb2536ca')\"\n",
              "              title=\"Convert this dataframe to an interactive table.\"\n",
              "              style=\"display:none;\">\n",
              "        \n",
              "  <svg xmlns=\"http://www.w3.org/2000/svg\" height=\"24px\"viewBox=\"0 0 24 24\"\n",
              "       width=\"24px\">\n",
              "    <path d=\"M0 0h24v24H0V0z\" fill=\"none\"/>\n",
              "    <path d=\"M18.56 5.44l.94 2.06.94-2.06 2.06-.94-2.06-.94-.94-2.06-.94 2.06-2.06.94zm-11 1L8.5 8.5l.94-2.06 2.06-.94-2.06-.94L8.5 2.5l-.94 2.06-2.06.94zm10 10l.94 2.06.94-2.06 2.06-.94-2.06-.94-.94-2.06-.94 2.06-2.06.94z\"/><path d=\"M17.41 7.96l-1.37-1.37c-.4-.4-.92-.59-1.43-.59-.52 0-1.04.2-1.43.59L10.3 9.45l-7.72 7.72c-.78.78-.78 2.05 0 2.83L4 21.41c.39.39.9.59 1.41.59.51 0 1.02-.2 1.41-.59l7.78-7.78 2.81-2.81c.8-.78.8-2.07 0-2.86zM5.41 20L4 18.59l7.72-7.72 1.47 1.35L5.41 20z\"/>\n",
              "  </svg>\n",
              "      </button>\n",
              "      \n",
              "  <style>\n",
              "    .colab-df-container {\n",
              "      display:flex;\n",
              "      flex-wrap:wrap;\n",
              "      gap: 12px;\n",
              "    }\n",
              "\n",
              "    .colab-df-convert {\n",
              "      background-color: #E8F0FE;\n",
              "      border: none;\n",
              "      border-radius: 50%;\n",
              "      cursor: pointer;\n",
              "      display: none;\n",
              "      fill: #1967D2;\n",
              "      height: 32px;\n",
              "      padding: 0 0 0 0;\n",
              "      width: 32px;\n",
              "    }\n",
              "\n",
              "    .colab-df-convert:hover {\n",
              "      background-color: #E2EBFA;\n",
              "      box-shadow: 0px 1px 2px rgba(60, 64, 67, 0.3), 0px 1px 3px 1px rgba(60, 64, 67, 0.15);\n",
              "      fill: #174EA6;\n",
              "    }\n",
              "\n",
              "    [theme=dark] .colab-df-convert {\n",
              "      background-color: #3B4455;\n",
              "      fill: #D2E3FC;\n",
              "    }\n",
              "\n",
              "    [theme=dark] .colab-df-convert:hover {\n",
              "      background-color: #434B5C;\n",
              "      box-shadow: 0px 1px 3px 1px rgba(0, 0, 0, 0.15);\n",
              "      filter: drop-shadow(0px 1px 2px rgba(0, 0, 0, 0.3));\n",
              "      fill: #FFFFFF;\n",
              "    }\n",
              "  </style>\n",
              "\n",
              "      <script>\n",
              "        const buttonEl =\n",
              "          document.querySelector('#df-8ca5ff35-f9fb-406f-86e2-ab41fb2536ca button.colab-df-convert');\n",
              "        buttonEl.style.display =\n",
              "          google.colab.kernel.accessAllowed ? 'block' : 'none';\n",
              "\n",
              "        async function convertToInteractive(key) {\n",
              "          const element = document.querySelector('#df-8ca5ff35-f9fb-406f-86e2-ab41fb2536ca');\n",
              "          const dataTable =\n",
              "            await google.colab.kernel.invokeFunction('convertToInteractive',\n",
              "                                                     [key], {});\n",
              "          if (!dataTable) return;\n",
              "\n",
              "          const docLinkHtml = 'Like what you see? Visit the ' +\n",
              "            '<a target=\"_blank\" href=https://colab.research.google.com/notebooks/data_table.ipynb>data table notebook</a>'\n",
              "            + ' to learn more about interactive tables.';\n",
              "          element.innerHTML = '';\n",
              "          dataTable['output_type'] = 'display_data';\n",
              "          await google.colab.output.renderOutput(dataTable, element);\n",
              "          const docLink = document.createElement('div');\n",
              "          docLink.innerHTML = docLinkHtml;\n",
              "          element.appendChild(docLink);\n",
              "        }\n",
              "      </script>\n",
              "    </div>\n",
              "  </div>\n",
              "  "
            ]
          },
          "metadata": {},
          "execution_count": 48
        }
      ]
    },
    {
      "cell_type": "code",
      "source": [
        "val_y"
      ],
      "metadata": {
        "colab": {
          "base_uri": "https://localhost:8080/"
        },
        "id": "MjZHx9K48pbU",
        "outputId": "114aa40a-dcb0-444b-f229-df556590fd65"
      },
      "execution_count": 49,
      "outputs": [
        {
          "output_type": "execute_result",
          "data": {
            "text/plain": [
              "418    1\n",
              "474    0\n",
              "181    1\n",
              "446    0\n",
              "297    1\n",
              "148    1\n",
              "380    1\n",
              "386    1\n",
              "479    0\n",
              "227    1\n",
              "9      1\n",
              "175    1\n",
              "478    0\n",
              "323    1\n",
              "211    1\n",
              "427    1\n",
              "84     1\n",
              "30     1\n",
              "238    1\n",
              "90     1\n",
              "Name: infection, dtype: int64"
            ]
          },
          "metadata": {},
          "execution_count": 49
        }
      ]
    },
    {
      "cell_type": "code",
      "source": [
        "X_train.shape,y_train.shape,X_test.shape,y_test.shape,val_X.shape,val_y.shape"
      ],
      "metadata": {
        "colab": {
          "base_uri": "https://localhost:8080/"
        },
        "id": "UTZE8Hda8uar",
        "outputId": "437bd98d-1f64-432e-9e4f-1f344c4631aa"
      },
      "execution_count": 51,
      "outputs": [
        {
          "output_type": "execute_result",
          "data": {
            "text/plain": [
              "((652, 59), (652,), (101, 59), (101,), (20, 59), (20,))"
            ]
          },
          "metadata": {},
          "execution_count": 51
        }
      ]
    },
    {
      "cell_type": "code",
      "source": [
        "from sklearn.preprocessing import StandardScaler"
      ],
      "metadata": {
        "id": "gbtHIMLn8z45"
      },
      "execution_count": 52,
      "outputs": []
    },
    {
      "cell_type": "code",
      "source": [
        "scaler = StandardScaler()"
      ],
      "metadata": {
        "id": "RNTj9veI-y78"
      },
      "execution_count": 53,
      "outputs": []
    },
    {
      "cell_type": "code",
      "source": [
        "scaler.fit(X_train)"
      ],
      "metadata": {
        "colab": {
          "base_uri": "https://localhost:8080/"
        },
        "id": "M2ypm8RT-3BA",
        "outputId": "44c054db-99a2-40c8-e109-34a992f110dd"
      },
      "execution_count": 54,
      "outputs": [
        {
          "output_type": "execute_result",
          "data": {
            "text/plain": [
              "StandardScaler()"
            ]
          },
          "metadata": {},
          "execution_count": 54
        }
      ]
    },
    {
      "cell_type": "code",
      "source": [
        "scaled_train_X = scaler.transform(X_train)\n",
        "scaled_test_X = scaler.transform(X_test)"
      ],
      "metadata": {
        "id": "hZHIVsb0-6GS"
      },
      "execution_count": 58,
      "outputs": []
    },
    {
      "cell_type": "code",
      "source": [
        "X_train_scaled = pd.DataFrame(scaled_train_X, columns=X_train.columns)\n",
        "X_test_scaled = pd.DataFrame(scaled_test_X, columns=X_test.columns)"
      ],
      "metadata": {
        "id": "DuwuOkh3CcTP"
      },
      "execution_count": 64,
      "outputs": []
    },
    {
      "cell_type": "code",
      "source": [
        "scaler.mean_"
      ],
      "metadata": {
        "colab": {
          "base_uri": "https://localhost:8080/"
        },
        "id": "rMYhkm7c-_yD",
        "outputId": "0f5efee7-b9c9-434c-8aff-3b8681e7b5d5"
      },
      "execution_count": 57,
      "outputs": [
        {
          "output_type": "execute_result",
          "data": {
            "text/plain": [
              "array([-5.01902496e-02, -2.61684443e-03,  1.95972648e-02, -5.15043479e-02,\n",
              "        3.00940008e-02, -2.31696966e-02, -9.78866749e-02,  2.90115010e-02,\n",
              "       -5.98484699e-02, -2.17485092e-02,  1.04882212e-02,  3.99602242e-02,\n",
              "        1.88609723e-02,  3.43846061e-02, -4.13738798e-02,  4.60588957e-02,\n",
              "       -5.86368407e-02, -2.38573082e-01, -1.99823070e-02, -1.78688790e-02,\n",
              "       -5.30173076e-02, -9.73770074e-02, -1.49283192e-02, -5.62469374e-02,\n",
              "       -2.48367944e-02, -4.60393645e-02,  1.45341433e-02,  1.42224860e-02,\n",
              "        3.14782048e-02, -1.02904278e-01,  2.95903818e-02,  2.03594560e-02,\n",
              "        5.20376634e-02,  2.52084663e-02,  3.00995287e-02,  2.85076600e-02,\n",
              "        1.29533119e-02, -9.05665674e-03,  1.94747171e-02, -8.22685106e-03,\n",
              "        1.33318880e-02, -6.85306245e-02,  1.02949146e-02,  3.61256862e-02,\n",
              "       -1.07698817e-01,  1.53509805e-02, -7.75359259e-02,  2.66446466e-02,\n",
              "        5.07555258e-03,  5.09257591e+01,  2.15303327e+01,  2.60736196e-02,\n",
              "        1.68711656e-02,  2.14723926e-02,  2.91411043e-02,  2.45398773e-02,\n",
              "        1.68711656e-02,  7.66871166e-02,  4.49386503e-01])"
            ]
          },
          "metadata": {},
          "execution_count": 57
        }
      ]
    },
    {
      "cell_type": "code",
      "source": [
        "np.round(X_train.describe(), 1)"
      ],
      "metadata": {
        "colab": {
          "base_uri": "https://localhost:8080/",
          "height": 393
        },
        "id": "BfCO039bCvEF",
        "outputId": "2f3d76d4-0a45-4213-93d1-376d90b3b57c"
      },
      "execution_count": 66,
      "outputs": [
        {
          "output_type": "execute_result",
          "data": {
            "text/plain": [
              "          V1     V2     V3     V4     V5     V6     V7     V8     V9    V10  \\\n",
              "count  652.0  652.0  652.0  652.0  652.0  652.0  652.0  652.0  652.0  652.0   \n",
              "mean    -0.1   -0.0    0.0   -0.1    0.0   -0.0   -0.1    0.0   -0.1   -0.0   \n",
              "std      0.3    0.1    0.2    0.2    0.2    0.2    0.2    0.2    0.2    0.2   \n",
              "min     -0.6   -0.4   -0.4   -0.5   -0.4   -0.6   -0.6   -0.4   -0.5   -0.5   \n",
              "25%     -0.3   -0.1   -0.1   -0.2   -0.1   -0.2   -0.3   -0.1   -0.2   -0.1   \n",
              "50%     -0.1    0.0    0.0   -0.0    0.0   -0.0   -0.2    0.0   -0.1   -0.0   \n",
              "75%      0.1    0.1    0.1    0.1    0.2    0.1    0.1    0.2    0.0    0.1   \n",
              "max      0.7    0.4    0.4    0.5    0.5    0.5    0.6    0.5    0.6    0.4   \n",
              "\n",
              "       ...  agenum_random  ctnum_random  batch_A  batch_B  batch_C  batch_E  \\\n",
              "count  ...          652.0         652.0    652.0    652.0    652.0    652.0   \n",
              "mean   ...           50.9          21.5      0.0      0.0      0.0      0.0   \n",
              "std    ...           18.6           3.1      0.2      0.1      0.1      0.2   \n",
              "min    ...            2.0          13.1      0.0      0.0      0.0      0.0   \n",
              "25%    ...           36.0          19.4      0.0      0.0      0.0      0.0   \n",
              "50%    ...           52.0          21.5      0.0      0.0      0.0      0.0   \n",
              "75%    ...           65.0          23.8      0.0      0.0      0.0      0.0   \n",
              "max    ...           89.0          30.5      1.0      1.0      1.0      1.0   \n",
              "\n",
              "       batch_F  batch_G  batch_U  ctnum_median_status  \n",
              "count    652.0    652.0    652.0                652.0  \n",
              "mean       0.0      0.0      0.1                  0.4  \n",
              "std        0.2      0.1      0.3                  0.5  \n",
              "min        0.0      0.0      0.0                  0.0  \n",
              "25%        0.0      0.0      0.0                  0.0  \n",
              "50%        0.0      0.0      0.0                  0.0  \n",
              "75%        0.0      0.0      0.0                  1.0  \n",
              "max        1.0      1.0      1.0                  1.0  \n",
              "\n",
              "[8 rows x 59 columns]"
            ],
            "text/html": [
              "\n",
              "  <div id=\"df-147ab3d1-b0ff-4dc9-9d29-0b8538e3ba6f\">\n",
              "    <div class=\"colab-df-container\">\n",
              "      <div>\n",
              "<style scoped>\n",
              "    .dataframe tbody tr th:only-of-type {\n",
              "        vertical-align: middle;\n",
              "    }\n",
              "\n",
              "    .dataframe tbody tr th {\n",
              "        vertical-align: top;\n",
              "    }\n",
              "\n",
              "    .dataframe thead th {\n",
              "        text-align: right;\n",
              "    }\n",
              "</style>\n",
              "<table border=\"1\" class=\"dataframe\">\n",
              "  <thead>\n",
              "    <tr style=\"text-align: right;\">\n",
              "      <th></th>\n",
              "      <th>V1</th>\n",
              "      <th>V2</th>\n",
              "      <th>V3</th>\n",
              "      <th>V4</th>\n",
              "      <th>V5</th>\n",
              "      <th>V6</th>\n",
              "      <th>V7</th>\n",
              "      <th>V8</th>\n",
              "      <th>V9</th>\n",
              "      <th>V10</th>\n",
              "      <th>...</th>\n",
              "      <th>agenum_random</th>\n",
              "      <th>ctnum_random</th>\n",
              "      <th>batch_A</th>\n",
              "      <th>batch_B</th>\n",
              "      <th>batch_C</th>\n",
              "      <th>batch_E</th>\n",
              "      <th>batch_F</th>\n",
              "      <th>batch_G</th>\n",
              "      <th>batch_U</th>\n",
              "      <th>ctnum_median_status</th>\n",
              "    </tr>\n",
              "  </thead>\n",
              "  <tbody>\n",
              "    <tr>\n",
              "      <th>count</th>\n",
              "      <td>652.0</td>\n",
              "      <td>652.0</td>\n",
              "      <td>652.0</td>\n",
              "      <td>652.0</td>\n",
              "      <td>652.0</td>\n",
              "      <td>652.0</td>\n",
              "      <td>652.0</td>\n",
              "      <td>652.0</td>\n",
              "      <td>652.0</td>\n",
              "      <td>652.0</td>\n",
              "      <td>...</td>\n",
              "      <td>652.0</td>\n",
              "      <td>652.0</td>\n",
              "      <td>652.0</td>\n",
              "      <td>652.0</td>\n",
              "      <td>652.0</td>\n",
              "      <td>652.0</td>\n",
              "      <td>652.0</td>\n",
              "      <td>652.0</td>\n",
              "      <td>652.0</td>\n",
              "      <td>652.0</td>\n",
              "    </tr>\n",
              "    <tr>\n",
              "      <th>mean</th>\n",
              "      <td>-0.1</td>\n",
              "      <td>-0.0</td>\n",
              "      <td>0.0</td>\n",
              "      <td>-0.1</td>\n",
              "      <td>0.0</td>\n",
              "      <td>-0.0</td>\n",
              "      <td>-0.1</td>\n",
              "      <td>0.0</td>\n",
              "      <td>-0.1</td>\n",
              "      <td>-0.0</td>\n",
              "      <td>...</td>\n",
              "      <td>50.9</td>\n",
              "      <td>21.5</td>\n",
              "      <td>0.0</td>\n",
              "      <td>0.0</td>\n",
              "      <td>0.0</td>\n",
              "      <td>0.0</td>\n",
              "      <td>0.0</td>\n",
              "      <td>0.0</td>\n",
              "      <td>0.1</td>\n",
              "      <td>0.4</td>\n",
              "    </tr>\n",
              "    <tr>\n",
              "      <th>std</th>\n",
              "      <td>0.3</td>\n",
              "      <td>0.1</td>\n",
              "      <td>0.2</td>\n",
              "      <td>0.2</td>\n",
              "      <td>0.2</td>\n",
              "      <td>0.2</td>\n",
              "      <td>0.2</td>\n",
              "      <td>0.2</td>\n",
              "      <td>0.2</td>\n",
              "      <td>0.2</td>\n",
              "      <td>...</td>\n",
              "      <td>18.6</td>\n",
              "      <td>3.1</td>\n",
              "      <td>0.2</td>\n",
              "      <td>0.1</td>\n",
              "      <td>0.1</td>\n",
              "      <td>0.2</td>\n",
              "      <td>0.2</td>\n",
              "      <td>0.1</td>\n",
              "      <td>0.3</td>\n",
              "      <td>0.5</td>\n",
              "    </tr>\n",
              "    <tr>\n",
              "      <th>min</th>\n",
              "      <td>-0.6</td>\n",
              "      <td>-0.4</td>\n",
              "      <td>-0.4</td>\n",
              "      <td>-0.5</td>\n",
              "      <td>-0.4</td>\n",
              "      <td>-0.6</td>\n",
              "      <td>-0.6</td>\n",
              "      <td>-0.4</td>\n",
              "      <td>-0.5</td>\n",
              "      <td>-0.5</td>\n",
              "      <td>...</td>\n",
              "      <td>2.0</td>\n",
              "      <td>13.1</td>\n",
              "      <td>0.0</td>\n",
              "      <td>0.0</td>\n",
              "      <td>0.0</td>\n",
              "      <td>0.0</td>\n",
              "      <td>0.0</td>\n",
              "      <td>0.0</td>\n",
              "      <td>0.0</td>\n",
              "      <td>0.0</td>\n",
              "    </tr>\n",
              "    <tr>\n",
              "      <th>25%</th>\n",
              "      <td>-0.3</td>\n",
              "      <td>-0.1</td>\n",
              "      <td>-0.1</td>\n",
              "      <td>-0.2</td>\n",
              "      <td>-0.1</td>\n",
              "      <td>-0.2</td>\n",
              "      <td>-0.3</td>\n",
              "      <td>-0.1</td>\n",
              "      <td>-0.2</td>\n",
              "      <td>-0.1</td>\n",
              "      <td>...</td>\n",
              "      <td>36.0</td>\n",
              "      <td>19.4</td>\n",
              "      <td>0.0</td>\n",
              "      <td>0.0</td>\n",
              "      <td>0.0</td>\n",
              "      <td>0.0</td>\n",
              "      <td>0.0</td>\n",
              "      <td>0.0</td>\n",
              "      <td>0.0</td>\n",
              "      <td>0.0</td>\n",
              "    </tr>\n",
              "    <tr>\n",
              "      <th>50%</th>\n",
              "      <td>-0.1</td>\n",
              "      <td>0.0</td>\n",
              "      <td>0.0</td>\n",
              "      <td>-0.0</td>\n",
              "      <td>0.0</td>\n",
              "      <td>-0.0</td>\n",
              "      <td>-0.2</td>\n",
              "      <td>0.0</td>\n",
              "      <td>-0.1</td>\n",
              "      <td>-0.0</td>\n",
              "      <td>...</td>\n",
              "      <td>52.0</td>\n",
              "      <td>21.5</td>\n",
              "      <td>0.0</td>\n",
              "      <td>0.0</td>\n",
              "      <td>0.0</td>\n",
              "      <td>0.0</td>\n",
              "      <td>0.0</td>\n",
              "      <td>0.0</td>\n",
              "      <td>0.0</td>\n",
              "      <td>0.0</td>\n",
              "    </tr>\n",
              "    <tr>\n",
              "      <th>75%</th>\n",
              "      <td>0.1</td>\n",
              "      <td>0.1</td>\n",
              "      <td>0.1</td>\n",
              "      <td>0.1</td>\n",
              "      <td>0.2</td>\n",
              "      <td>0.1</td>\n",
              "      <td>0.1</td>\n",
              "      <td>0.2</td>\n",
              "      <td>0.0</td>\n",
              "      <td>0.1</td>\n",
              "      <td>...</td>\n",
              "      <td>65.0</td>\n",
              "      <td>23.8</td>\n",
              "      <td>0.0</td>\n",
              "      <td>0.0</td>\n",
              "      <td>0.0</td>\n",
              "      <td>0.0</td>\n",
              "      <td>0.0</td>\n",
              "      <td>0.0</td>\n",
              "      <td>0.0</td>\n",
              "      <td>1.0</td>\n",
              "    </tr>\n",
              "    <tr>\n",
              "      <th>max</th>\n",
              "      <td>0.7</td>\n",
              "      <td>0.4</td>\n",
              "      <td>0.4</td>\n",
              "      <td>0.5</td>\n",
              "      <td>0.5</td>\n",
              "      <td>0.5</td>\n",
              "      <td>0.6</td>\n",
              "      <td>0.5</td>\n",
              "      <td>0.6</td>\n",
              "      <td>0.4</td>\n",
              "      <td>...</td>\n",
              "      <td>89.0</td>\n",
              "      <td>30.5</td>\n",
              "      <td>1.0</td>\n",
              "      <td>1.0</td>\n",
              "      <td>1.0</td>\n",
              "      <td>1.0</td>\n",
              "      <td>1.0</td>\n",
              "      <td>1.0</td>\n",
              "      <td>1.0</td>\n",
              "      <td>1.0</td>\n",
              "    </tr>\n",
              "  </tbody>\n",
              "</table>\n",
              "<p>8 rows × 59 columns</p>\n",
              "</div>\n",
              "      <button class=\"colab-df-convert\" onclick=\"convertToInteractive('df-147ab3d1-b0ff-4dc9-9d29-0b8538e3ba6f')\"\n",
              "              title=\"Convert this dataframe to an interactive table.\"\n",
              "              style=\"display:none;\">\n",
              "        \n",
              "  <svg xmlns=\"http://www.w3.org/2000/svg\" height=\"24px\"viewBox=\"0 0 24 24\"\n",
              "       width=\"24px\">\n",
              "    <path d=\"M0 0h24v24H0V0z\" fill=\"none\"/>\n",
              "    <path d=\"M18.56 5.44l.94 2.06.94-2.06 2.06-.94-2.06-.94-.94-2.06-.94 2.06-2.06.94zm-11 1L8.5 8.5l.94-2.06 2.06-.94-2.06-.94L8.5 2.5l-.94 2.06-2.06.94zm10 10l.94 2.06.94-2.06 2.06-.94-2.06-.94-.94-2.06-.94 2.06-2.06.94z\"/><path d=\"M17.41 7.96l-1.37-1.37c-.4-.4-.92-.59-1.43-.59-.52 0-1.04.2-1.43.59L10.3 9.45l-7.72 7.72c-.78.78-.78 2.05 0 2.83L4 21.41c.39.39.9.59 1.41.59.51 0 1.02-.2 1.41-.59l7.78-7.78 2.81-2.81c.8-.78.8-2.07 0-2.86zM5.41 20L4 18.59l7.72-7.72 1.47 1.35L5.41 20z\"/>\n",
              "  </svg>\n",
              "      </button>\n",
              "      \n",
              "  <style>\n",
              "    .colab-df-container {\n",
              "      display:flex;\n",
              "      flex-wrap:wrap;\n",
              "      gap: 12px;\n",
              "    }\n",
              "\n",
              "    .colab-df-convert {\n",
              "      background-color: #E8F0FE;\n",
              "      border: none;\n",
              "      border-radius: 50%;\n",
              "      cursor: pointer;\n",
              "      display: none;\n",
              "      fill: #1967D2;\n",
              "      height: 32px;\n",
              "      padding: 0 0 0 0;\n",
              "      width: 32px;\n",
              "    }\n",
              "\n",
              "    .colab-df-convert:hover {\n",
              "      background-color: #E2EBFA;\n",
              "      box-shadow: 0px 1px 2px rgba(60, 64, 67, 0.3), 0px 1px 3px 1px rgba(60, 64, 67, 0.15);\n",
              "      fill: #174EA6;\n",
              "    }\n",
              "\n",
              "    [theme=dark] .colab-df-convert {\n",
              "      background-color: #3B4455;\n",
              "      fill: #D2E3FC;\n",
              "    }\n",
              "\n",
              "    [theme=dark] .colab-df-convert:hover {\n",
              "      background-color: #434B5C;\n",
              "      box-shadow: 0px 1px 3px 1px rgba(0, 0, 0, 0.15);\n",
              "      filter: drop-shadow(0px 1px 2px rgba(0, 0, 0, 0.3));\n",
              "      fill: #FFFFFF;\n",
              "    }\n",
              "  </style>\n",
              "\n",
              "      <script>\n",
              "        const buttonEl =\n",
              "          document.querySelector('#df-147ab3d1-b0ff-4dc9-9d29-0b8538e3ba6f button.colab-df-convert');\n",
              "        buttonEl.style.display =\n",
              "          google.colab.kernel.accessAllowed ? 'block' : 'none';\n",
              "\n",
              "        async function convertToInteractive(key) {\n",
              "          const element = document.querySelector('#df-147ab3d1-b0ff-4dc9-9d29-0b8538e3ba6f');\n",
              "          const dataTable =\n",
              "            await google.colab.kernel.invokeFunction('convertToInteractive',\n",
              "                                                     [key], {});\n",
              "          if (!dataTable) return;\n",
              "\n",
              "          const docLinkHtml = 'Like what you see? Visit the ' +\n",
              "            '<a target=\"_blank\" href=https://colab.research.google.com/notebooks/data_table.ipynb>data table notebook</a>'\n",
              "            + ' to learn more about interactive tables.';\n",
              "          element.innerHTML = '';\n",
              "          dataTable['output_type'] = 'display_data';\n",
              "          await google.colab.output.renderOutput(dataTable, element);\n",
              "          const docLink = document.createElement('div');\n",
              "          docLink.innerHTML = docLinkHtml;\n",
              "          element.appendChild(docLink);\n",
              "        }\n",
              "      </script>\n",
              "    </div>\n",
              "  </div>\n",
              "  "
            ]
          },
          "metadata": {},
          "execution_count": 66
        }
      ]
    },
    {
      "cell_type": "code",
      "source": [
        "np.round(X_train_scaled.describe(), 1)"
      ],
      "metadata": {
        "colab": {
          "base_uri": "https://localhost:8080/",
          "height": 393
        },
        "id": "T-7v5zIrCEIm",
        "outputId": "a2ac5cba-0279-4d33-dc1b-09cfdf5c721c"
      },
      "execution_count": 67,
      "outputs": [
        {
          "output_type": "execute_result",
          "data": {
            "text/plain": [
              "          V1     V2     V3     V4     V5     V6     V7     V8     V9    V10  \\\n",
              "count  652.0  652.0  652.0  652.0  652.0  652.0  652.0  652.0  652.0  652.0   \n",
              "mean     0.0    0.0   -0.0    0.0    0.0   -0.0    0.0   -0.0   -0.0   -0.0   \n",
              "std      1.0    1.0    1.0    1.0    1.0    1.0    1.0    1.0    1.0    1.0   \n",
              "min     -2.1   -2.7   -2.7   -2.6   -2.2   -2.7   -2.0   -2.5   -2.4   -2.9   \n",
              "25%     -0.8   -0.6   -0.7   -0.7   -0.8   -0.7   -0.8   -0.8   -0.7   -0.6   \n",
              "50%     -0.0    0.0    0.1    0.1   -0.0    0.0   -0.2   -0.1   -0.1    0.1   \n",
              "75%      0.7    0.7    0.7    0.7    0.7    0.7    0.7    0.7    0.6    0.6   \n",
              "max      2.8    2.8    2.2    3.1    2.6    2.6    2.9    2.3    3.9    2.6   \n",
              "\n",
              "       ...  agenum_random  ctnum_random  batch_A  batch_B  batch_C  batch_E  \\\n",
              "count  ...          652.0         652.0    652.0    652.0    652.0    652.0   \n",
              "mean   ...           -0.0           0.0      0.0     -0.0      0.0      0.0   \n",
              "std    ...            1.0           1.0      1.0      1.0      1.0      1.0   \n",
              "min    ...           -2.6          -2.8     -0.2     -0.1     -0.1     -0.2   \n",
              "25%    ...           -0.8          -0.7     -0.2     -0.1     -0.1     -0.2   \n",
              "50%    ...            0.1          -0.0     -0.2     -0.1     -0.1     -0.2   \n",
              "75%    ...            0.8           0.7     -0.2     -0.1     -0.1     -0.2   \n",
              "max    ...            2.1           2.9      6.1      7.6      6.8      5.8   \n",
              "\n",
              "       batch_F  batch_G  batch_U  ctnum_median_status  \n",
              "count    652.0    652.0    652.0                652.0  \n",
              "mean       0.0      0.0      0.0                  0.0  \n",
              "std        1.0      1.0      1.0                  1.0  \n",
              "min       -0.2     -0.1     -0.3                 -0.9  \n",
              "25%       -0.2     -0.1     -0.3                 -0.9  \n",
              "50%       -0.2     -0.1     -0.3                 -0.9  \n",
              "75%       -0.2     -0.1     -0.3                  1.1  \n",
              "max        6.3      7.6      3.5                  1.1  \n",
              "\n",
              "[8 rows x 59 columns]"
            ],
            "text/html": [
              "\n",
              "  <div id=\"df-be84c558-89e1-4d3f-866a-0257a5ecb9ee\">\n",
              "    <div class=\"colab-df-container\">\n",
              "      <div>\n",
              "<style scoped>\n",
              "    .dataframe tbody tr th:only-of-type {\n",
              "        vertical-align: middle;\n",
              "    }\n",
              "\n",
              "    .dataframe tbody tr th {\n",
              "        vertical-align: top;\n",
              "    }\n",
              "\n",
              "    .dataframe thead th {\n",
              "        text-align: right;\n",
              "    }\n",
              "</style>\n",
              "<table border=\"1\" class=\"dataframe\">\n",
              "  <thead>\n",
              "    <tr style=\"text-align: right;\">\n",
              "      <th></th>\n",
              "      <th>V1</th>\n",
              "      <th>V2</th>\n",
              "      <th>V3</th>\n",
              "      <th>V4</th>\n",
              "      <th>V5</th>\n",
              "      <th>V6</th>\n",
              "      <th>V7</th>\n",
              "      <th>V8</th>\n",
              "      <th>V9</th>\n",
              "      <th>V10</th>\n",
              "      <th>...</th>\n",
              "      <th>agenum_random</th>\n",
              "      <th>ctnum_random</th>\n",
              "      <th>batch_A</th>\n",
              "      <th>batch_B</th>\n",
              "      <th>batch_C</th>\n",
              "      <th>batch_E</th>\n",
              "      <th>batch_F</th>\n",
              "      <th>batch_G</th>\n",
              "      <th>batch_U</th>\n",
              "      <th>ctnum_median_status</th>\n",
              "    </tr>\n",
              "  </thead>\n",
              "  <tbody>\n",
              "    <tr>\n",
              "      <th>count</th>\n",
              "      <td>652.0</td>\n",
              "      <td>652.0</td>\n",
              "      <td>652.0</td>\n",
              "      <td>652.0</td>\n",
              "      <td>652.0</td>\n",
              "      <td>652.0</td>\n",
              "      <td>652.0</td>\n",
              "      <td>652.0</td>\n",
              "      <td>652.0</td>\n",
              "      <td>652.0</td>\n",
              "      <td>...</td>\n",
              "      <td>652.0</td>\n",
              "      <td>652.0</td>\n",
              "      <td>652.0</td>\n",
              "      <td>652.0</td>\n",
              "      <td>652.0</td>\n",
              "      <td>652.0</td>\n",
              "      <td>652.0</td>\n",
              "      <td>652.0</td>\n",
              "      <td>652.0</td>\n",
              "      <td>652.0</td>\n",
              "    </tr>\n",
              "    <tr>\n",
              "      <th>mean</th>\n",
              "      <td>0.0</td>\n",
              "      <td>0.0</td>\n",
              "      <td>-0.0</td>\n",
              "      <td>0.0</td>\n",
              "      <td>0.0</td>\n",
              "      <td>-0.0</td>\n",
              "      <td>0.0</td>\n",
              "      <td>-0.0</td>\n",
              "      <td>-0.0</td>\n",
              "      <td>-0.0</td>\n",
              "      <td>...</td>\n",
              "      <td>-0.0</td>\n",
              "      <td>0.0</td>\n",
              "      <td>0.0</td>\n",
              "      <td>-0.0</td>\n",
              "      <td>0.0</td>\n",
              "      <td>0.0</td>\n",
              "      <td>0.0</td>\n",
              "      <td>0.0</td>\n",
              "      <td>0.0</td>\n",
              "      <td>0.0</td>\n",
              "    </tr>\n",
              "    <tr>\n",
              "      <th>std</th>\n",
              "      <td>1.0</td>\n",
              "      <td>1.0</td>\n",
              "      <td>1.0</td>\n",
              "      <td>1.0</td>\n",
              "      <td>1.0</td>\n",
              "      <td>1.0</td>\n",
              "      <td>1.0</td>\n",
              "      <td>1.0</td>\n",
              "      <td>1.0</td>\n",
              "      <td>1.0</td>\n",
              "      <td>...</td>\n",
              "      <td>1.0</td>\n",
              "      <td>1.0</td>\n",
              "      <td>1.0</td>\n",
              "      <td>1.0</td>\n",
              "      <td>1.0</td>\n",
              "      <td>1.0</td>\n",
              "      <td>1.0</td>\n",
              "      <td>1.0</td>\n",
              "      <td>1.0</td>\n",
              "      <td>1.0</td>\n",
              "    </tr>\n",
              "    <tr>\n",
              "      <th>min</th>\n",
              "      <td>-2.1</td>\n",
              "      <td>-2.7</td>\n",
              "      <td>-2.7</td>\n",
              "      <td>-2.6</td>\n",
              "      <td>-2.2</td>\n",
              "      <td>-2.7</td>\n",
              "      <td>-2.0</td>\n",
              "      <td>-2.5</td>\n",
              "      <td>-2.4</td>\n",
              "      <td>-2.9</td>\n",
              "      <td>...</td>\n",
              "      <td>-2.6</td>\n",
              "      <td>-2.8</td>\n",
              "      <td>-0.2</td>\n",
              "      <td>-0.1</td>\n",
              "      <td>-0.1</td>\n",
              "      <td>-0.2</td>\n",
              "      <td>-0.2</td>\n",
              "      <td>-0.1</td>\n",
              "      <td>-0.3</td>\n",
              "      <td>-0.9</td>\n",
              "    </tr>\n",
              "    <tr>\n",
              "      <th>25%</th>\n",
              "      <td>-0.8</td>\n",
              "      <td>-0.6</td>\n",
              "      <td>-0.7</td>\n",
              "      <td>-0.7</td>\n",
              "      <td>-0.8</td>\n",
              "      <td>-0.7</td>\n",
              "      <td>-0.8</td>\n",
              "      <td>-0.8</td>\n",
              "      <td>-0.7</td>\n",
              "      <td>-0.6</td>\n",
              "      <td>...</td>\n",
              "      <td>-0.8</td>\n",
              "      <td>-0.7</td>\n",
              "      <td>-0.2</td>\n",
              "      <td>-0.1</td>\n",
              "      <td>-0.1</td>\n",
              "      <td>-0.2</td>\n",
              "      <td>-0.2</td>\n",
              "      <td>-0.1</td>\n",
              "      <td>-0.3</td>\n",
              "      <td>-0.9</td>\n",
              "    </tr>\n",
              "    <tr>\n",
              "      <th>50%</th>\n",
              "      <td>-0.0</td>\n",
              "      <td>0.0</td>\n",
              "      <td>0.1</td>\n",
              "      <td>0.1</td>\n",
              "      <td>-0.0</td>\n",
              "      <td>0.0</td>\n",
              "      <td>-0.2</td>\n",
              "      <td>-0.1</td>\n",
              "      <td>-0.1</td>\n",
              "      <td>0.1</td>\n",
              "      <td>...</td>\n",
              "      <td>0.1</td>\n",
              "      <td>-0.0</td>\n",
              "      <td>-0.2</td>\n",
              "      <td>-0.1</td>\n",
              "      <td>-0.1</td>\n",
              "      <td>-0.2</td>\n",
              "      <td>-0.2</td>\n",
              "      <td>-0.1</td>\n",
              "      <td>-0.3</td>\n",
              "      <td>-0.9</td>\n",
              "    </tr>\n",
              "    <tr>\n",
              "      <th>75%</th>\n",
              "      <td>0.7</td>\n",
              "      <td>0.7</td>\n",
              "      <td>0.7</td>\n",
              "      <td>0.7</td>\n",
              "      <td>0.7</td>\n",
              "      <td>0.7</td>\n",
              "      <td>0.7</td>\n",
              "      <td>0.7</td>\n",
              "      <td>0.6</td>\n",
              "      <td>0.6</td>\n",
              "      <td>...</td>\n",
              "      <td>0.8</td>\n",
              "      <td>0.7</td>\n",
              "      <td>-0.2</td>\n",
              "      <td>-0.1</td>\n",
              "      <td>-0.1</td>\n",
              "      <td>-0.2</td>\n",
              "      <td>-0.2</td>\n",
              "      <td>-0.1</td>\n",
              "      <td>-0.3</td>\n",
              "      <td>1.1</td>\n",
              "    </tr>\n",
              "    <tr>\n",
              "      <th>max</th>\n",
              "      <td>2.8</td>\n",
              "      <td>2.8</td>\n",
              "      <td>2.2</td>\n",
              "      <td>3.1</td>\n",
              "      <td>2.6</td>\n",
              "      <td>2.6</td>\n",
              "      <td>2.9</td>\n",
              "      <td>2.3</td>\n",
              "      <td>3.9</td>\n",
              "      <td>2.6</td>\n",
              "      <td>...</td>\n",
              "      <td>2.1</td>\n",
              "      <td>2.9</td>\n",
              "      <td>6.1</td>\n",
              "      <td>7.6</td>\n",
              "      <td>6.8</td>\n",
              "      <td>5.8</td>\n",
              "      <td>6.3</td>\n",
              "      <td>7.6</td>\n",
              "      <td>3.5</td>\n",
              "      <td>1.1</td>\n",
              "    </tr>\n",
              "  </tbody>\n",
              "</table>\n",
              "<p>8 rows × 59 columns</p>\n",
              "</div>\n",
              "      <button class=\"colab-df-convert\" onclick=\"convertToInteractive('df-be84c558-89e1-4d3f-866a-0257a5ecb9ee')\"\n",
              "              title=\"Convert this dataframe to an interactive table.\"\n",
              "              style=\"display:none;\">\n",
              "        \n",
              "  <svg xmlns=\"http://www.w3.org/2000/svg\" height=\"24px\"viewBox=\"0 0 24 24\"\n",
              "       width=\"24px\">\n",
              "    <path d=\"M0 0h24v24H0V0z\" fill=\"none\"/>\n",
              "    <path d=\"M18.56 5.44l.94 2.06.94-2.06 2.06-.94-2.06-.94-.94-2.06-.94 2.06-2.06.94zm-11 1L8.5 8.5l.94-2.06 2.06-.94-2.06-.94L8.5 2.5l-.94 2.06-2.06.94zm10 10l.94 2.06.94-2.06 2.06-.94-2.06-.94-.94-2.06-.94 2.06-2.06.94z\"/><path d=\"M17.41 7.96l-1.37-1.37c-.4-.4-.92-.59-1.43-.59-.52 0-1.04.2-1.43.59L10.3 9.45l-7.72 7.72c-.78.78-.78 2.05 0 2.83L4 21.41c.39.39.9.59 1.41.59.51 0 1.02-.2 1.41-.59l7.78-7.78 2.81-2.81c.8-.78.8-2.07 0-2.86zM5.41 20L4 18.59l7.72-7.72 1.47 1.35L5.41 20z\"/>\n",
              "  </svg>\n",
              "      </button>\n",
              "      \n",
              "  <style>\n",
              "    .colab-df-container {\n",
              "      display:flex;\n",
              "      flex-wrap:wrap;\n",
              "      gap: 12px;\n",
              "    }\n",
              "\n",
              "    .colab-df-convert {\n",
              "      background-color: #E8F0FE;\n",
              "      border: none;\n",
              "      border-radius: 50%;\n",
              "      cursor: pointer;\n",
              "      display: none;\n",
              "      fill: #1967D2;\n",
              "      height: 32px;\n",
              "      padding: 0 0 0 0;\n",
              "      width: 32px;\n",
              "    }\n",
              "\n",
              "    .colab-df-convert:hover {\n",
              "      background-color: #E2EBFA;\n",
              "      box-shadow: 0px 1px 2px rgba(60, 64, 67, 0.3), 0px 1px 3px 1px rgba(60, 64, 67, 0.15);\n",
              "      fill: #174EA6;\n",
              "    }\n",
              "\n",
              "    [theme=dark] .colab-df-convert {\n",
              "      background-color: #3B4455;\n",
              "      fill: #D2E3FC;\n",
              "    }\n",
              "\n",
              "    [theme=dark] .colab-df-convert:hover {\n",
              "      background-color: #434B5C;\n",
              "      box-shadow: 0px 1px 3px 1px rgba(0, 0, 0, 0.15);\n",
              "      filter: drop-shadow(0px 1px 2px rgba(0, 0, 0, 0.3));\n",
              "      fill: #FFFFFF;\n",
              "    }\n",
              "  </style>\n",
              "\n",
              "      <script>\n",
              "        const buttonEl =\n",
              "          document.querySelector('#df-be84c558-89e1-4d3f-866a-0257a5ecb9ee button.colab-df-convert');\n",
              "        buttonEl.style.display =\n",
              "          google.colab.kernel.accessAllowed ? 'block' : 'none';\n",
              "\n",
              "        async function convertToInteractive(key) {\n",
              "          const element = document.querySelector('#df-be84c558-89e1-4d3f-866a-0257a5ecb9ee');\n",
              "          const dataTable =\n",
              "            await google.colab.kernel.invokeFunction('convertToInteractive',\n",
              "                                                     [key], {});\n",
              "          if (!dataTable) return;\n",
              "\n",
              "          const docLinkHtml = 'Like what you see? Visit the ' +\n",
              "            '<a target=\"_blank\" href=https://colab.research.google.com/notebooks/data_table.ipynb>data table notebook</a>'\n",
              "            + ' to learn more about interactive tables.';\n",
              "          element.innerHTML = '';\n",
              "          dataTable['output_type'] = 'display_data';\n",
              "          await google.colab.output.renderOutput(dataTable, element);\n",
              "          const docLink = document.createElement('div');\n",
              "          docLink.innerHTML = docLinkHtml;\n",
              "          element.appendChild(docLink);\n",
              "        }\n",
              "      </script>\n",
              "    </div>\n",
              "  </div>\n",
              "  "
            ]
          },
          "metadata": {},
          "execution_count": 67
        }
      ]
    },
    {
      "cell_type": "code",
      "source": [
        "import matplotlib.pyplot as plt"
      ],
      "metadata": {
        "id": "9aeLBat5DB1R"
      },
      "execution_count": 69,
      "outputs": []
    },
    {
      "cell_type": "code",
      "source": [
        "fig, (ax1, ax2) = plt.subplots(ncols=2, figsize=(12, 5))\n",
        "\n",
        "ax1.scatter(X_train['agenum_random'], X_train['ctnum_random'])\n",
        "ax1.set_title(\"Before Scaling\")\n",
        "ax2.scatter(X_train_scaled['agenum_random'], X_train_scaled['ctnum_random'],color='red')\n",
        "ax2.set_title(\"After Scaling\")\n",
        "plt.show()"
      ],
      "metadata": {
        "colab": {
          "base_uri": "https://localhost:8080/",
          "height": 336
        },
        "id": "itXgSMB6_7dj",
        "outputId": "405ee9e9-69ad-4ab6-940a-f6a4103a7767"
      },
      "execution_count": 71,
      "outputs": [
        {
          "output_type": "display_data",
          "data": {
            "text/plain": [
              "<Figure size 864x360 with 2 Axes>"
            ],
            "image/png": "[encoded data removed]"
          },
          "metadata": {
            "needs_background": "light"
          }
        }
      ]
    },
    {
      "cell_type": "code",
      "source": [
        "import seaborn as sns\n",
        "fig, (ax1, ax2) = plt.subplots(ncols=2, figsize=(12, 5))\n",
        "\n",
        "# before scaling\n",
        "ax1.set_title('Before Scaling')\n",
        "sns.kdeplot(X_train['agenum_random'], ax=ax1)\n",
        "sns.kdeplot(X_train['ctnum_random'], ax=ax1)\n",
        "\n",
        "# after scaling\n",
        "ax2.set_title('After Standard Scaling')\n",
        "sns.kdeplot(X_train_scaled['agenum_random'], ax=ax2)\n",
        "sns.kdeplot(X_train_scaled['ctnum_random'], ax=ax2)\n",
        "plt.show()"
      ],
      "metadata": {
        "colab": {
          "base_uri": "https://localhost:8080/",
          "height": 351
        },
        "id": "eQe4uGaDCJkG",
        "outputId": "ec20d191-b36d-4f13-d27f-b55cc09c40c5"
      },
      "execution_count": 73,
      "outputs": [
        {
          "output_type": "display_data",
          "data": {
            "text/plain": [
              "<Figure size 864x360 with 2 Axes>"
            ],
            "image/png": "[encoded data removed]"
          },
          "metadata": {
            "needs_background": "light"
          }
        }
      ]
    },
    {
      "cell_type": "code",
      "source": [
        "fig, (ax1, ax2) = plt.subplots(ncols=2, figsize=(12, 5))\n",
        "\n",
        "# before scaling\n",
        "ax1.set_title('Age Distribution Before Scaling')\n",
        "sns.kdeplot(X_train['agenum_random'], ax=ax1)\n",
        "\n",
        "# after scaling\n",
        "ax2.set_title('Age Distribution After Standard Scaling')\n",
        "sns.kdeplot(X_train_scaled['agenum_random'], ax=ax2)\n",
        "plt.show()"
      ],
      "metadata": {
        "colab": {
          "base_uri": "https://localhost:8080/",
          "height": 351
        },
        "id": "XxwBqvidDzOt",
        "outputId": "0d3bb636-a0ee-4ef3-9a76-6ebbb87ccbb5"
      },
      "execution_count": 76,
      "outputs": [
        {
          "output_type": "display_data",
          "data": {
            "text/plain": [
              "<Figure size 864x360 with 2 Axes>"
            ],
            "image/png": "[encoded data removed]"
          },
          "metadata": {
            "needs_background": "light"
          }
        }
      ]
    },
    {
      "cell_type": "code",
      "source": [
        "fig, (ax1, ax2) = plt.subplots(ncols=2, figsize=(12, 5))\n",
        "\n",
        "# before scaling\n",
        "ax1.set_title('ctnum distribuition Before Scaling')\n",
        "sns.kdeplot(X_train['ctnum_random'], ax=ax1)\n",
        "\n",
        "# after scaling\n",
        "ax2.set_title('ctnum Distribution Standard Scaling')\n",
        "sns.kdeplot(X_train_scaled['ctnum_random'], ax=ax2)\n",
        "plt.show()"
      ],
      "metadata": {
        "colab": {
          "base_uri": "https://localhost:8080/",
          "height": 351
        },
        "id": "UC7Py8rcEMvI",
        "outputId": "f2a838cb-e9c1-438a-8cac-58af15dd6625"
      },
      "execution_count": 77,
      "outputs": [
        {
          "output_type": "display_data",
          "data": {
            "text/plain": [
              "<Figure size 864x360 with 2 Axes>"
            ],
            "image/png": "[encoded data removed]"
          },
          "metadata": {
            "needs_background": "light"
          }
        }
      ]
    },
    {
      "cell_type": "code",
      "source": [
        "from sklearn.linear_model import LogisticRegression"
      ],
      "metadata": {
        "id": "sXqFoOqREq6s"
      },
      "execution_count": 78,
      "outputs": []
    },
    {
      "cell_type": "code",
      "source": [
        "lr = LogisticRegression()\n",
        "lr_scaled = LogisticRegression()"
      ],
      "metadata": {
        "id": "Xza7THyrE0iR"
      },
      "execution_count": 79,
      "outputs": []
    },
    {
      "cell_type": "code",
      "source": [
        "lr.fit(X_train,y_train)\n",
        "lr_scaled.fit(X_train_scaled,y_train)"
      ],
      "metadata": {
        "colab": {
          "base_uri": "https://localhost:8080/"
        },
        "id": "gMphXmZrE4we",
        "outputId": "8ecca02f-947b-49d8-f9e6-3f4dc4b2b22a"
      },
      "execution_count": 80,
      "outputs": [
        {
          "output_type": "stream",
          "name": "stderr",
          "text": [
            "/usr/local/lib/python3.7/dist-packages/sklearn/linear_model/_logistic.py:818: ConvergenceWarning: lbfgs failed to converge (status=1):\n",
            "STOP: TOTAL NO. of ITERATIONS REACHED LIMIT.\n",
            "\n",
            "Increase the number of iterations (max_iter) or scale the data as shown in:\n",
            "    https://scikit-learn.org/stable/modules/preprocessing.html\n",
            "Please also refer to the documentation for alternative solver options:\n",
            "    https://scikit-learn.org/stable/modules/linear_model.html#logistic-regression\n",
            "  extra_warning_msg=_LOGISTIC_SOLVER_CONVERGENCE_MSG,\n"
          ]
        },
        {
          "output_type": "execute_result",
          "data": {
            "text/plain": [
              "LogisticRegression()"
            ]
          },
          "metadata": {},
          "execution_count": 80
        }
      ]
    },
    {
      "cell_type": "code",
      "source": [
        "y_pred_lr = lr.predict(X_test)\n",
        "y_pred_scaled_lr = lr_scaled.predict(X_test_scaled)"
      ],
      "metadata": {
        "id": "dCTjEzYRE8Mo"
      },
      "execution_count": 93,
      "outputs": []
    },
    {
      "cell_type": "code",
      "source": [
        "from sklearn.metrics import accuracy_score,confusion_matrix"
      ],
      "metadata": {
        "id": "q55Z3n0ZFA0B"
      },
      "execution_count": 98,
      "outputs": []
    },
    {
      "cell_type": "code",
      "source": [
        "print(\"Actual\",accuracy_score(y_test,y_pred_lr))\n",
        "print(\"Scaled\",accuracy_score(y_test,y_pred_scaled_lr))"
      ],
      "metadata": {
        "colab": {
          "base_uri": "https://localhost:8080/"
        },
        "id": "13F5Bdl6FEPi",
        "outputId": "0dd785bb-80ed-429f-885d-0685b1ff93ba"
      },
      "execution_count": 95,
      "outputs": [
        {
          "output_type": "stream",
          "name": "stdout",
          "text": [
            "Actual 0.9702970297029703\n",
            "Scaled 0.9603960396039604\n"
          ]
        }
      ]
    },
    {
      "cell_type": "code",
      "source": [
        "from sklearn.tree import DecisionTreeClassifier"
      ],
      "metadata": {
        "id": "WY3hqQz1FILE"
      },
      "execution_count": 84,
      "outputs": []
    },
    {
      "cell_type": "code",
      "source": [
        "dt = DecisionTreeClassifier()\n",
        "dt_scaled = DecisionTreeClassifier()"
      ],
      "metadata": {
        "id": "bZGq_xBaFOqq"
      },
      "execution_count": 85,
      "outputs": []
    },
    {
      "cell_type": "code",
      "source": [
        "dt.fit(X_train,y_train)\n",
        "dt_scaled.fit(X_train_scaled,y_train)"
      ],
      "metadata": {
        "colab": {
          "base_uri": "https://localhost:8080/"
        },
        "id": "MogGt4AqFRZS",
        "outputId": "017484db-6413-402b-8d3e-95eba24a7331"
      },
      "execution_count": 86,
      "outputs": [
        {
          "output_type": "execute_result",
          "data": {
            "text/plain": [
              "DecisionTreeClassifier()"
            ]
          },
          "metadata": {},
          "execution_count": 86
        }
      ]
    },
    {
      "cell_type": "code",
      "source": [
        "y_pred_dt = dt.predict(X_test)\n",
        "y_pred_scaled_dt = dt_scaled.predict(X_test_scaled)"
      ],
      "metadata": {
        "id": "9jcJGiVYFUWB"
      },
      "execution_count": 91,
      "outputs": []
    },
    {
      "cell_type": "code",
      "source": [
        "print(\"Actual\",accuracy_score(y_test,y_pred_dt))\n",
        "print(\"Scaled\",accuracy_score(y_test,y_pred_scaled_dt))"
      ],
      "metadata": {
        "colab": {
          "base_uri": "https://localhost:8080/"
        },
        "id": "hccm52rHFXlk",
        "outputId": "a0e8e304-300f-430c-aa17-eae70c1ae517"
      },
      "execution_count": 92,
      "outputs": [
        {
          "output_type": "stream",
          "name": "stdout",
          "text": [
            "Actual 0.900990099009901\n",
            "Scaled 0.8910891089108911\n"
          ]
        }
      ]
    },
    {
      "cell_type": "code",
      "source": [
        "print(\"Accuracy of Logistic Regression\",accuracy_score(y_test,y_pred_lr))\n",
        "print(\"Accuracy of Decision Trees\",accuracy_score(y_test,y_pred_dt))"
      ],
      "metadata": {
        "colab": {
          "base_uri": "https://localhost:8080/"
        },
        "id": "PKRvVDbj6seF",
        "outputId": "67fbbf03-c6d8-48b0-abcb-9d4503bf7358"
      },
      "execution_count": 96,
      "outputs": [
        {
          "output_type": "stream",
          "name": "stdout",
          "text": [
            "Accuracy of Logistic Regression 0.9702970297029703\n",
            "Accuracy of Decision Trees 0.900990099009901\n"
          ]
        }
      ]
    },
    {
      "cell_type": "code",
      "source": [
        "confusion_matrix(y_test,y_pred_lr)"
      ],
      "metadata": {
        "colab": {
          "base_uri": "https://localhost:8080/"
        },
        "id": "XC2r0s3_6shl",
        "outputId": "d95d9f28-7a95-484e-fa5d-d7143a11eea1"
      },
      "execution_count": 99,
      "outputs": [
        {
          "output_type": "execute_result",
          "data": {
            "text/plain": [
              "array([[13,  0],\n",
              "       [ 3, 85]])"
            ]
          },
          "metadata": {},
          "execution_count": 99
        }
      ]
    },
    {
      "cell_type": "code",
      "source": [
        "print(\"Logistic Regression Confusion Matrix\\n\")\n",
        "pd.DataFrame(confusion_matrix(y_test,y_pred_lr),columns=list(range(0,2)))"
      ],
      "metadata": {
        "colab": {
          "base_uri": "https://localhost:8080/",
          "height": 149
        },
        "id": "6stpi_ZV6skp",
        "outputId": "63c8dfd0-0736-4090-d053-66efeb8cce8c"
      },
      "execution_count": 101,
      "outputs": [
        {
          "output_type": "stream",
          "name": "stdout",
          "text": [
            "Logistic Regression Confusion Matrix\n",
            "\n"
          ]
        },
        {
          "output_type": "execute_result",
          "data": {
            "text/plain": [
              "    0   1\n",
              "0  13   0\n",
              "1   3  85"
            ],
            "text/html": [
              "\n",
              "  <div id=\"df-a57fcd09-15bf-4481-98d6-e7d1161e2b3c\">\n",
              "    <div class=\"colab-df-container\">\n",
              "      <div>\n",
              "<style scoped>\n",
              "    .dataframe tbody tr th:only-of-type {\n",
              "        vertical-align: middle;\n",
              "    }\n",
              "\n",
              "    .dataframe tbody tr th {\n",
              "        vertical-align: top;\n",
              "    }\n",
              "\n",
              "    .dataframe thead th {\n",
              "        text-align: right;\n",
              "    }\n",
              "</style>\n",
              "<table border=\"1\" class=\"dataframe\">\n",
              "  <thead>\n",
              "    <tr style=\"text-align: right;\">\n",
              "      <th></th>\n",
              "      <th>0</th>\n",
              "      <th>1</th>\n",
              "    </tr>\n",
              "  </thead>\n",
              "  <tbody>\n",
              "    <tr>\n",
              "      <th>0</th>\n",
              "      <td>13</td>\n",
              "      <td>0</td>\n",
              "    </tr>\n",
              "    <tr>\n",
              "      <th>1</th>\n",
              "      <td>3</td>\n",
              "      <td>85</td>\n",
              "    </tr>\n",
              "  </tbody>\n",
              "</table>\n",
              "</div>\n",
              "      <button class=\"colab-df-convert\" onclick=\"convertToInteractive('df-a57fcd09-15bf-4481-98d6-e7d1161e2b3c')\"\n",
              "              title=\"Convert this dataframe to an interactive table.\"\n",
              "              style=\"display:none;\">\n",
              "        \n",
              "  <svg xmlns=\"http://www.w3.org/2000/svg\" height=\"24px\"viewBox=\"0 0 24 24\"\n",
              "       width=\"24px\">\n",
              "    <path d=\"M0 0h24v24H0V0z\" fill=\"none\"/>\n",
              "    <path d=\"M18.56 5.44l.94 2.06.94-2.06 2.06-.94-2.06-.94-.94-2.06-.94 2.06-2.06.94zm-11 1L8.5 8.5l.94-2.06 2.06-.94-2.06-.94L8.5 2.5l-.94 2.06-2.06.94zm10 10l.94 2.06.94-2.06 2.06-.94-2.06-.94-.94-2.06-.94 2.06-2.06.94z\"/><path d=\"M17.41 7.96l-1.37-1.37c-.4-.4-.92-.59-1.43-.59-.52 0-1.04.2-1.43.59L10.3 9.45l-7.72 7.72c-.78.78-.78 2.05 0 2.83L4 21.41c.39.39.9.59 1.41.59.51 0 1.02-.2 1.41-.59l7.78-7.78 2.81-2.81c.8-.78.8-2.07 0-2.86zM5.41 20L4 18.59l7.72-7.72 1.47 1.35L5.41 20z\"/>\n",
              "  </svg>\n",
              "      </button>\n",
              "      \n",
              "  <style>\n",
              "    .colab-df-container {\n",
              "      display:flex;\n",
              "      flex-wrap:wrap;\n",
              "      gap: 12px;\n",
              "    }\n",
              "\n",
              "    .colab-df-convert {\n",
              "      background-color: #E8F0FE;\n",
              "      border: none;\n",
              "      border-radius: 50%;\n",
              "      cursor: pointer;\n",
              "      display: none;\n",
              "      fill: #1967D2;\n",
              "      height: 32px;\n",
              "      padding: 0 0 0 0;\n",
              "      width: 32px;\n",
              "    }\n",
              "\n",
              "    .colab-df-convert:hover {\n",
              "      background-color: #E2EBFA;\n",
              "      box-shadow: 0px 1px 2px rgba(60, 64, 67, 0.3), 0px 1px 3px 1px rgba(60, 64, 67, 0.15);\n",
              "      fill: #174EA6;\n",
              "    }\n",
              "\n",
              "    [theme=dark] .colab-df-convert {\n",
              "      background-color: #3B4455;\n",
              "      fill: #D2E3FC;\n",
              "    }\n",
              "\n",
              "    [theme=dark] .colab-df-convert:hover {\n",
              "      background-color: #434B5C;\n",
              "      box-shadow: 0px 1px 3px 1px rgba(0, 0, 0, 0.15);\n",
              "      filter: drop-shadow(0px 1px 2px rgba(0, 0, 0, 0.3));\n",
              "      fill: #FFFFFF;\n",
              "    }\n",
              "  </style>\n",
              "\n",
              "      <script>\n",
              "        const buttonEl =\n",
              "          document.querySelector('#df-a57fcd09-15bf-4481-98d6-e7d1161e2b3c button.colab-df-convert');\n",
              "        buttonEl.style.display =\n",
              "          google.colab.kernel.accessAllowed ? 'block' : 'none';\n",
              "\n",
              "        async function convertToInteractive(key) {\n",
              "          const element = document.querySelector('#df-a57fcd09-15bf-4481-98d6-e7d1161e2b3c');\n",
              "          const dataTable =\n",
              "            await google.colab.kernel.invokeFunction('convertToInteractive',\n",
              "                                                     [key], {});\n",
              "          if (!dataTable) return;\n",
              "\n",
              "          const docLinkHtml = 'Like what you see? Visit the ' +\n",
              "            '<a target=\"_blank\" href=https://colab.research.google.com/notebooks/data_table.ipynb>data table notebook</a>'\n",
              "            + ' to learn more about interactive tables.';\n",
              "          element.innerHTML = '';\n",
              "          dataTable['output_type'] = 'display_data';\n",
              "          await google.colab.output.renderOutput(dataTable, element);\n",
              "          const docLink = document.createElement('div');\n",
              "          docLink.innerHTML = docLinkHtml;\n",
              "          element.appendChild(docLink);\n",
              "        }\n",
              "      </script>\n",
              "    </div>\n",
              "  </div>\n",
              "  "
            ]
          },
          "metadata": {},
          "execution_count": 101
        }
      ]
    },
    {
      "cell_type": "code",
      "source": [
        "print(\"XgBoost Confusion Matrix\\n\")\n",
        "pd.DataFrame(confusion_matrix(y_test,y_pred_xg),columns=list(range(0,2)))"
      ],
      "metadata": {
        "colab": {
          "base_uri": "https://localhost:8080/",
          "height": 149
        },
        "id": "yFxfT4imA-8R",
        "outputId": "fc9e0c9b-6ed3-4357-c06b-65f64153d84e"
      },
      "execution_count": 131,
      "outputs": [
        {
          "output_type": "stream",
          "name": "stdout",
          "text": [
            "XgBoost Confusion Matrix\n",
            "\n"
          ]
        },
        {
          "output_type": "execute_result",
          "data": {
            "text/plain": [
              "    0   1\n",
              "0  13   0\n",
              "1   3  85"
            ],
            "text/html": [
              "\n",
              "  <div id=\"df-0772ad0c-8865-4fa9-a2ec-c83e820a7a55\">\n",
              "    <div class=\"colab-df-container\">\n",
              "      <div>\n",
              "<style scoped>\n",
              "    .dataframe tbody tr th:only-of-type {\n",
              "        vertical-align: middle;\n",
              "    }\n",
              "\n",
              "    .dataframe tbody tr th {\n",
              "        vertical-align: top;\n",
              "    }\n",
              "\n",
              "    .dataframe thead th {\n",
              "        text-align: right;\n",
              "    }\n",
              "</style>\n",
              "<table border=\"1\" class=\"dataframe\">\n",
              "  <thead>\n",
              "    <tr style=\"text-align: right;\">\n",
              "      <th></th>\n",
              "      <th>0</th>\n",
              "      <th>1</th>\n",
              "    </tr>\n",
              "  </thead>\n",
              "  <tbody>\n",
              "    <tr>\n",
              "      <th>0</th>\n",
              "      <td>13</td>\n",
              "      <td>0</td>\n",
              "    </tr>\n",
              "    <tr>\n",
              "      <th>1</th>\n",
              "      <td>3</td>\n",
              "      <td>85</td>\n",
              "    </tr>\n",
              "  </tbody>\n",
              "</table>\n",
              "</div>\n",
              "      <button class=\"colab-df-convert\" onclick=\"convertToInteractive('df-0772ad0c-8865-4fa9-a2ec-c83e820a7a55')\"\n",
              "              title=\"Convert this dataframe to an interactive table.\"\n",
              "              style=\"display:none;\">\n",
              "        \n",
              "  <svg xmlns=\"http://www.w3.org/2000/svg\" height=\"24px\"viewBox=\"0 0 24 24\"\n",
              "       width=\"24px\">\n",
              "    <path d=\"M0 0h24v24H0V0z\" fill=\"none\"/>\n",
              "    <path d=\"M18.56 5.44l.94 2.06.94-2.06 2.06-.94-2.06-.94-.94-2.06-.94 2.06-2.06.94zm-11 1L8.5 8.5l.94-2.06 2.06-.94-2.06-.94L8.5 2.5l-.94 2.06-2.06.94zm10 10l.94 2.06.94-2.06 2.06-.94-2.06-.94-.94-2.06-.94 2.06-2.06.94z\"/><path d=\"M17.41 7.96l-1.37-1.37c-.4-.4-.92-.59-1.43-.59-.52 0-1.04.2-1.43.59L10.3 9.45l-7.72 7.72c-.78.78-.78 2.05 0 2.83L4 21.41c.39.39.9.59 1.41.59.51 0 1.02-.2 1.41-.59l7.78-7.78 2.81-2.81c.8-.78.8-2.07 0-2.86zM5.41 20L4 18.59l7.72-7.72 1.47 1.35L5.41 20z\"/>\n",
              "  </svg>\n",
              "      </button>\n",
              "      \n",
              "  <style>\n",
              "    .colab-df-container {\n",
              "      display:flex;\n",
              "      flex-wrap:wrap;\n",
              "      gap: 12px;\n",
              "    }\n",
              "\n",
              "    .colab-df-convert {\n",
              "      background-color: #E8F0FE;\n",
              "      border: none;\n",
              "      border-radius: 50%;\n",
              "      cursor: pointer;\n",
              "      display: none;\n",
              "      fill: #1967D2;\n",
              "      height: 32px;\n",
              "      padding: 0 0 0 0;\n",
              "      width: 32px;\n",
              "    }\n",
              "\n",
              "    .colab-df-convert:hover {\n",
              "      background-color: #E2EBFA;\n",
              "      box-shadow: 0px 1px 2px rgba(60, 64, 67, 0.3), 0px 1px 3px 1px rgba(60, 64, 67, 0.15);\n",
              "      fill: #174EA6;\n",
              "    }\n",
              "\n",
              "    [theme=dark] .colab-df-convert {\n",
              "      background-color: #3B4455;\n",
              "      fill: #D2E3FC;\n",
              "    }\n",
              "\n",
              "    [theme=dark] .colab-df-convert:hover {\n",
              "      background-color: #434B5C;\n",
              "      box-shadow: 0px 1px 3px 1px rgba(0, 0, 0, 0.15);\n",
              "      filter: drop-shadow(0px 1px 2px rgba(0, 0, 0, 0.3));\n",
              "      fill: #FFFFFF;\n",
              "    }\n",
              "  </style>\n",
              "\n",
              "      <script>\n",
              "        const buttonEl =\n",
              "          document.querySelector('#df-0772ad0c-8865-4fa9-a2ec-c83e820a7a55 button.colab-df-convert');\n",
              "        buttonEl.style.display =\n",
              "          google.colab.kernel.accessAllowed ? 'block' : 'none';\n",
              "\n",
              "        async function convertToInteractive(key) {\n",
              "          const element = document.querySelector('#df-0772ad0c-8865-4fa9-a2ec-c83e820a7a55');\n",
              "          const dataTable =\n",
              "            await google.colab.kernel.invokeFunction('convertToInteractive',\n",
              "                                                     [key], {});\n",
              "          if (!dataTable) return;\n",
              "\n",
              "          const docLinkHtml = 'Like what you see? Visit the ' +\n",
              "            '<a target=\"_blank\" href=https://colab.research.google.com/notebooks/data_table.ipynb>data table notebook</a>'\n",
              "            + ' to learn more about interactive tables.';\n",
              "          element.innerHTML = '';\n",
              "          dataTable['output_type'] = 'display_data';\n",
              "          await google.colab.output.renderOutput(dataTable, element);\n",
              "          const docLink = document.createElement('div');\n",
              "          docLink.innerHTML = docLinkHtml;\n",
              "          element.appendChild(docLink);\n",
              "        }\n",
              "      </script>\n",
              "    </div>\n",
              "  </div>\n",
              "  "
            ]
          },
          "metadata": {},
          "execution_count": 131
        }
      ]
    },
    {
      "cell_type": "code",
      "source": [
        "print(\"naive bayes Confusion Matrix\\n\")\n",
        "pd.DataFrame(confusion_matrix(y_test,y_pred_nb),columns=list(range(0,2)))"
      ],
      "metadata": {
        "colab": {
          "base_uri": "https://localhost:8080/",
          "height": 226
        },
        "id": "UIQKIVyqBLSQ",
        "outputId": "79450f99-a49b-4161-c44d-db528009adf4"
      },
      "execution_count": 132,
      "outputs": [
        {
          "output_type": "stream",
          "name": "stdout",
          "text": [
            "naive bayes Confusion Matrix\n",
            "\n"
          ]
        },
        {
          "output_type": "error",
          "ename": "NameError",
          "evalue": "ignored",
          "traceback": [
            "\u001b[0;31m---------------------------------------------------------------------------\u001b[0m",
            "\u001b[0;31mNameError\u001b[0m                                 Traceback (most recent call last)",
            "\u001b[0;32m<ipython-input-132-bd0229c64892>\u001b[0m in \u001b[0;36m<module>\u001b[0;34m\u001b[0m\n\u001b[1;32m      1\u001b[0m \u001b[0mprint\u001b[0m\u001b[0;34m(\u001b[0m\u001b[0;34m\"naive bayes Confusion Matrix\\n\"\u001b[0m\u001b[0;34m)\u001b[0m\u001b[0;34m\u001b[0m\u001b[0;34m\u001b[0m\u001b[0m\n\u001b[0;32m----> 2\u001b[0;31m \u001b[0mpd\u001b[0m\u001b[0;34m.\u001b[0m\u001b[0mDataFrame\u001b[0m\u001b[0;34m(\u001b[0m\u001b[0mconfusion_matrix\u001b[0m\u001b[0;34m(\u001b[0m\u001b[0my_test\u001b[0m\u001b[0;34m,\u001b[0m\u001b[0my_pred_nb\u001b[0m\u001b[0;34m)\u001b[0m\u001b[0;34m,\u001b[0m\u001b[0mcolumns\u001b[0m\u001b[0;34m=\u001b[0m\u001b[0mlist\u001b[0m\u001b[0;34m(\u001b[0m\u001b[0mrange\u001b[0m\u001b[0;34m(\u001b[0m\u001b[0;36m0\u001b[0m\u001b[0;34m,\u001b[0m\u001b[0;36m2\u001b[0m\u001b[0;34m)\u001b[0m\u001b[0;34m)\u001b[0m\u001b[0;34m)\u001b[0m\u001b[0;34m\u001b[0m\u001b[0;34m\u001b[0m\u001b[0m\n\u001b[0m",
            "\u001b[0;31mNameError\u001b[0m: name 'y_pred_nb' is not defined"
          ]
        }
      ]
    },
    {
      "cell_type": "code",
      "source": [],
      "metadata": {
        "id": "tMRAnrhUBLVn"
      },
      "execution_count": null,
      "outputs": []
    },
    {
      "cell_type": "code",
      "source": [
        "print(\"Decision Tree Confusion Matrix\\n\")\n",
        "pd.DataFrame(confusion_matrix(y_test,y_pred_dt),columns=list(range(0,2)))"
      ],
      "metadata": {
        "colab": {
          "base_uri": "https://localhost:8080/",
          "height": 149
        },
        "id": "YnFrY9_TFbgY",
        "outputId": "7061e8ce-2735-4559-e601-266a7b1b81c6"
      },
      "execution_count": 102,
      "outputs": [
        {
          "output_type": "stream",
          "name": "stdout",
          "text": [
            "Decision Tree Confusion Matrix\n",
            "\n"
          ]
        },
        {
          "output_type": "execute_result",
          "data": {
            "text/plain": [
              "   0   1\n",
              "0  9   4\n",
              "1  6  82"
            ],
            "text/html": [
              "\n",
              "  <div id=\"df-3d1e947f-4a0f-4e80-ad6f-5b039b22007c\">\n",
              "    <div class=\"colab-df-container\">\n",
              "      <div>\n",
              "<style scoped>\n",
              "    .dataframe tbody tr th:only-of-type {\n",
              "        vertical-align: middle;\n",
              "    }\n",
              "\n",
              "    .dataframe tbody tr th {\n",
              "        vertical-align: top;\n",
              "    }\n",
              "\n",
              "    .dataframe thead th {\n",
              "        text-align: right;\n",
              "    }\n",
              "</style>\n",
              "<table border=\"1\" class=\"dataframe\">\n",
              "  <thead>\n",
              "    <tr style=\"text-align: right;\">\n",
              "      <th></th>\n",
              "      <th>0</th>\n",
              "      <th>1</th>\n",
              "    </tr>\n",
              "  </thead>\n",
              "  <tbody>\n",
              "    <tr>\n",
              "      <th>0</th>\n",
              "      <td>9</td>\n",
              "      <td>4</td>\n",
              "    </tr>\n",
              "    <tr>\n",
              "      <th>1</th>\n",
              "      <td>6</td>\n",
              "      <td>82</td>\n",
              "    </tr>\n",
              "  </tbody>\n",
              "</table>\n",
              "</div>\n",
              "      <button class=\"colab-df-convert\" onclick=\"convertToInteractive('df-3d1e947f-4a0f-4e80-ad6f-5b039b22007c')\"\n",
              "              title=\"Convert this dataframe to an interactive table.\"\n",
              "              style=\"display:none;\">\n",
              "        \n",
              "  <svg xmlns=\"http://www.w3.org/2000/svg\" height=\"24px\"viewBox=\"0 0 24 24\"\n",
              "       width=\"24px\">\n",
              "    <path d=\"M0 0h24v24H0V0z\" fill=\"none\"/>\n",
              "    <path d=\"M18.56 5.44l.94 2.06.94-2.06 2.06-.94-2.06-.94-.94-2.06-.94 2.06-2.06.94zm-11 1L8.5 8.5l.94-2.06 2.06-.94-2.06-.94L8.5 2.5l-.94 2.06-2.06.94zm10 10l.94 2.06.94-2.06 2.06-.94-2.06-.94-.94-2.06-.94 2.06-2.06.94z\"/><path d=\"M17.41 7.96l-1.37-1.37c-.4-.4-.92-.59-1.43-.59-.52 0-1.04.2-1.43.59L10.3 9.45l-7.72 7.72c-.78.78-.78 2.05 0 2.83L4 21.41c.39.39.9.59 1.41.59.51 0 1.02-.2 1.41-.59l7.78-7.78 2.81-2.81c.8-.78.8-2.07 0-2.86zM5.41 20L4 18.59l7.72-7.72 1.47 1.35L5.41 20z\"/>\n",
              "  </svg>\n",
              "      </button>\n",
              "      \n",
              "  <style>\n",
              "    .colab-df-container {\n",
              "      display:flex;\n",
              "      flex-wrap:wrap;\n",
              "      gap: 12px;\n",
              "    }\n",
              "\n",
              "    .colab-df-convert {\n",
              "      background-color: #E8F0FE;\n",
              "      border: none;\n",
              "      border-radius: 50%;\n",
              "      cursor: pointer;\n",
              "      display: none;\n",
              "      fill: #1967D2;\n",
              "      height: 32px;\n",
              "      padding: 0 0 0 0;\n",
              "      width: 32px;\n",
              "    }\n",
              "\n",
              "    .colab-df-convert:hover {\n",
              "      background-color: #E2EBFA;\n",
              "      box-shadow: 0px 1px 2px rgba(60, 64, 67, 0.3), 0px 1px 3px 1px rgba(60, 64, 67, 0.15);\n",
              "      fill: #174EA6;\n",
              "    }\n",
              "\n",
              "    [theme=dark] .colab-df-convert {\n",
              "      background-color: #3B4455;\n",
              "      fill: #D2E3FC;\n",
              "    }\n",
              "\n",
              "    [theme=dark] .colab-df-convert:hover {\n",
              "      background-color: #434B5C;\n",
              "      box-shadow: 0px 1px 3px 1px rgba(0, 0, 0, 0.15);\n",
              "      filter: drop-shadow(0px 1px 2px rgba(0, 0, 0, 0.3));\n",
              "      fill: #FFFFFF;\n",
              "    }\n",
              "  </style>\n",
              "\n",
              "      <script>\n",
              "        const buttonEl =\n",
              "          document.querySelector('#df-3d1e947f-4a0f-4e80-ad6f-5b039b22007c button.colab-df-convert');\n",
              "        buttonEl.style.display =\n",
              "          google.colab.kernel.accessAllowed ? 'block' : 'none';\n",
              "\n",
              "        async function convertToInteractive(key) {\n",
              "          const element = document.querySelector('#df-3d1e947f-4a0f-4e80-ad6f-5b039b22007c');\n",
              "          const dataTable =\n",
              "            await google.colab.kernel.invokeFunction('convertToInteractive',\n",
              "                                                     [key], {});\n",
              "          if (!dataTable) return;\n",
              "\n",
              "          const docLinkHtml = 'Like what you see? Visit the ' +\n",
              "            '<a target=\"_blank\" href=https://colab.research.google.com/notebooks/data_table.ipynb>data table notebook</a>'\n",
              "            + ' to learn more about interactive tables.';\n",
              "          element.innerHTML = '';\n",
              "          dataTable['output_type'] = 'display_data';\n",
              "          await google.colab.output.renderOutput(dataTable, element);\n",
              "          const docLink = document.createElement('div');\n",
              "          docLink.innerHTML = docLinkHtml;\n",
              "          element.appendChild(docLink);\n",
              "        }\n",
              "      </script>\n",
              "    </div>\n",
              "  </div>\n",
              "  "
            ]
          },
          "metadata": {},
          "execution_count": 102
        }
      ]
    },
    {
      "cell_type": "code",
      "source": [
        "result = pd.DataFrame()\n",
        "result['Actual Label'] = y_test\n",
        "result['Logistic Regression Prediction'] = y_pred_lr\n",
        "result['Decision Tree Prediction'] = y_pred_dt"
      ],
      "metadata": {
        "id": "iFxoe_JE7SkZ"
      },
      "execution_count": 103,
      "outputs": []
    },
    {
      "cell_type": "code",
      "source": [
        "result.sample(10)"
      ],
      "metadata": {
        "colab": {
          "base_uri": "https://localhost:8080/",
          "height": 363
        },
        "id": "SonHAyRR7Zen",
        "outputId": "90637727-2bbb-4730-96e4-a5d1af0154af"
      },
      "execution_count": 104,
      "outputs": [
        {
          "output_type": "execute_result",
          "data": {
            "text/plain": [
              "     Actual Label  Logistic Regression Prediction  Decision Tree Prediction\n",
              "117             1                               1                         1\n",
              "93              1                               0                         0\n",
              "78              1                               1                         1\n",
              "209             1                               1                         1\n",
              "25              1                               1                         1\n",
              "46              1                               1                         1\n",
              "431             0                               0                         1\n",
              "294             1                               1                         1\n",
              "333             1                               1                         1\n",
              "336             1                               1                         1"
            ],
            "text/html": [
              "\n",
              "  <div id=\"df-4a06333f-16b4-4eb7-b35b-a0ee0f7ed080\">\n",
              "    <div class=\"colab-df-container\">\n",
              "      <div>\n",
              "<style scoped>\n",
              "    .dataframe tbody tr th:only-of-type {\n",
              "        vertical-align: middle;\n",
              "    }\n",
              "\n",
              "    .dataframe tbody tr th {\n",
              "        vertical-align: top;\n",
              "    }\n",
              "\n",
              "    .dataframe thead th {\n",
              "        text-align: right;\n",
              "    }\n",
              "</style>\n",
              "<table border=\"1\" class=\"dataframe\">\n",
              "  <thead>\n",
              "    <tr style=\"text-align: right;\">\n",
              "      <th></th>\n",
              "      <th>Actual Label</th>\n",
              "      <th>Logistic Regression Prediction</th>\n",
              "      <th>Decision Tree Prediction</th>\n",
              "    </tr>\n",
              "  </thead>\n",
              "  <tbody>\n",
              "    <tr>\n",
              "      <th>117</th>\n",
              "      <td>1</td>\n",
              "      <td>1</td>\n",
              "      <td>1</td>\n",
              "    </tr>\n",
              "    <tr>\n",
              "      <th>93</th>\n",
              "      <td>1</td>\n",
              "      <td>0</td>\n",
              "      <td>0</td>\n",
              "    </tr>\n",
              "    <tr>\n",
              "      <th>78</th>\n",
              "      <td>1</td>\n",
              "      <td>1</td>\n",
              "      <td>1</td>\n",
              "    </tr>\n",
              "    <tr>\n",
              "      <th>209</th>\n",
              "      <td>1</td>\n",
              "      <td>1</td>\n",
              "      <td>1</td>\n",
              "    </tr>\n",
              "    <tr>\n",
              "      <th>25</th>\n",
              "      <td>1</td>\n",
              "      <td>1</td>\n",
              "      <td>1</td>\n",
              "    </tr>\n",
              "    <tr>\n",
              "      <th>46</th>\n",
              "      <td>1</td>\n",
              "      <td>1</td>\n",
              "      <td>1</td>\n",
              "    </tr>\n",
              "    <tr>\n",
              "      <th>431</th>\n",
              "      <td>0</td>\n",
              "      <td>0</td>\n",
              "      <td>1</td>\n",
              "    </tr>\n",
              "    <tr>\n",
              "      <th>294</th>\n",
              "      <td>1</td>\n",
              "      <td>1</td>\n",
              "      <td>1</td>\n",
              "    </tr>\n",
              "    <tr>\n",
              "      <th>333</th>\n",
              "      <td>1</td>\n",
              "      <td>1</td>\n",
              "      <td>1</td>\n",
              "    </tr>\n",
              "    <tr>\n",
              "      <th>336</th>\n",
              "      <td>1</td>\n",
              "      <td>1</td>\n",
              "      <td>1</td>\n",
              "    </tr>\n",
              "  </tbody>\n",
              "</table>\n",
              "</div>\n",
              "      <button class=\"colab-df-convert\" onclick=\"convertToInteractive('df-4a06333f-16b4-4eb7-b35b-a0ee0f7ed080')\"\n",
              "              title=\"Convert this dataframe to an interactive table.\"\n",
              "              style=\"display:none;\">\n",
              "        \n",
              "  <svg xmlns=\"http://www.w3.org/2000/svg\" height=\"24px\"viewBox=\"0 0 24 24\"\n",
              "       width=\"24px\">\n",
              "    <path d=\"M0 0h24v24H0V0z\" fill=\"none\"/>\n",
              "    <path d=\"M18.56 5.44l.94 2.06.94-2.06 2.06-.94-2.06-.94-.94-2.06-.94 2.06-2.06.94zm-11 1L8.5 8.5l.94-2.06 2.06-.94-2.06-.94L8.5 2.5l-.94 2.06-2.06.94zm10 10l.94 2.06.94-2.06 2.06-.94-2.06-.94-.94-2.06-.94 2.06-2.06.94z\"/><path d=\"M17.41 7.96l-1.37-1.37c-.4-.4-.92-.59-1.43-.59-.52 0-1.04.2-1.43.59L10.3 9.45l-7.72 7.72c-.78.78-.78 2.05 0 2.83L4 21.41c.39.39.9.59 1.41.59.51 0 1.02-.2 1.41-.59l7.78-7.78 2.81-2.81c.8-.78.8-2.07 0-2.86zM5.41 20L4 18.59l7.72-7.72 1.47 1.35L5.41 20z\"/>\n",
              "  </svg>\n",
              "      </button>\n",
              "      \n",
              "  <style>\n",
              "    .colab-df-container {\n",
              "      display:flex;\n",
              "      flex-wrap:wrap;\n",
              "      gap: 12px;\n",
              "    }\n",
              "\n",
              "    .colab-df-convert {\n",
              "      background-color: #E8F0FE;\n",
              "      border: none;\n",
              "      border-radius: 50%;\n",
              "      cursor: pointer;\n",
              "      display: none;\n",
              "      fill: #1967D2;\n",
              "      height: 32px;\n",
              "      padding: 0 0 0 0;\n",
              "      width: 32px;\n",
              "    }\n",
              "\n",
              "    .colab-df-convert:hover {\n",
              "      background-color: #E2EBFA;\n",
              "      box-shadow: 0px 1px 2px rgba(60, 64, 67, 0.3), 0px 1px 3px 1px rgba(60, 64, 67, 0.15);\n",
              "      fill: #174EA6;\n",
              "    }\n",
              "\n",
              "    [theme=dark] .colab-df-convert {\n",
              "      background-color: #3B4455;\n",
              "      fill: #D2E3FC;\n",
              "    }\n",
              "\n",
              "    [theme=dark] .colab-df-convert:hover {\n",
              "      background-color: #434B5C;\n",
              "      box-shadow: 0px 1px 3px 1px rgba(0, 0, 0, 0.15);\n",
              "      filter: drop-shadow(0px 1px 2px rgba(0, 0, 0, 0.3));\n",
              "      fill: #FFFFFF;\n",
              "    }\n",
              "  </style>\n",
              "\n",
              "      <script>\n",
              "        const buttonEl =\n",
              "          document.querySelector('#df-4a06333f-16b4-4eb7-b35b-a0ee0f7ed080 button.colab-df-convert');\n",
              "        buttonEl.style.display =\n",
              "          google.colab.kernel.accessAllowed ? 'block' : 'none';\n",
              "\n",
              "        async function convertToInteractive(key) {\n",
              "          const element = document.querySelector('#df-4a06333f-16b4-4eb7-b35b-a0ee0f7ed080');\n",
              "          const dataTable =\n",
              "            await google.colab.kernel.invokeFunction('convertToInteractive',\n",
              "                                                     [key], {});\n",
              "          if (!dataTable) return;\n",
              "\n",
              "          const docLinkHtml = 'Like what you see? Visit the ' +\n",
              "            '<a target=\"_blank\" href=https://colab.research.google.com/notebooks/data_table.ipynb>data table notebook</a>'\n",
              "            + ' to learn more about interactive tables.';\n",
              "          element.innerHTML = '';\n",
              "          dataTable['output_type'] = 'display_data';\n",
              "          await google.colab.output.renderOutput(dataTable, element);\n",
              "          const docLink = document.createElement('div');\n",
              "          docLink.innerHTML = docLinkHtml;\n",
              "          element.appendChild(docLink);\n",
              "        }\n",
              "      </script>\n",
              "    </div>\n",
              "  </div>\n",
              "  "
            ]
          },
          "metadata": {},
          "execution_count": 104
        }
      ]
    },
    {
      "cell_type": "code",
      "source": [
        "from sklearn.metrics import recall_score,precision_score,f1_score"
      ],
      "metadata": {
        "id": "7WM7qJuT7l0U"
      },
      "execution_count": 105,
      "outputs": []
    },
    {
      "cell_type": "code",
      "source": [
        "print(\"For Logistic regression Model\")\n",
        "print(\"-\"*50)\n",
        "cdf = pd.DataFrame(confusion_matrix(y_test,y_pred_lr),columns=list(range(0,2)))\n",
        "print(cdf)\n",
        "print(\"-\"*50)\n",
        "print(\"Precision - \",precision_score(y_test,y_pred_lr))\n",
        "print(\"Recall - \",recall_score(y_test,y_pred_lr))\n",
        "print(\"F1 score - \",f1_score(y_test,y_pred_lr))"
      ],
      "metadata": {
        "colab": {
          "base_uri": "https://localhost:8080/"
        },
        "id": "SCM1FMEF7xIX",
        "outputId": "0de5e016-1c74-45aa-c568-76c6bd280493"
      },
      "execution_count": 106,
      "outputs": [
        {
          "output_type": "stream",
          "name": "stdout",
          "text": [
            "For Logistic regression Model\n",
            "--------------------------------------------------\n",
            "    0   1\n",
            "0  13   0\n",
            "1   3  85\n",
            "--------------------------------------------------\n",
            "Precision -  1.0\n",
            "Recall -  0.9659090909090909\n",
            "F1 score -  0.9826589595375723\n"
          ]
        }
      ]
    },
    {
      "cell_type": "code",
      "source": [
        "print(\"For DT Model\")\n",
        "print(\"-\"*50)\n",
        "cdf = pd.DataFrame(confusion_matrix(y_test,y_pred_dt),columns=list(range(0,2)))\n",
        "print(cdf)\n",
        "print(\"-\"*50)\n",
        "print(\"Precision - \",precision_score(y_test,y_pred_dt))\n",
        "print(\"Recall - \",recall_score(y_test,y_pred_dt))\n",
        "print(\"F1 score - \",f1_score(y_test,y_pred_dt))"
      ],
      "metadata": {
        "colab": {
          "base_uri": "https://localhost:8080/"
        },
        "id": "StJX1Krt7_4_",
        "outputId": "d7993f10-2494-49c6-e0b4-5b8324a94176"
      },
      "execution_count": 107,
      "outputs": [
        {
          "output_type": "stream",
          "name": "stdout",
          "text": [
            "For DT Model\n",
            "--------------------------------------------------\n",
            "   0   1\n",
            "0  9   4\n",
            "1  6  82\n",
            "--------------------------------------------------\n",
            "Precision -  0.9534883720930233\n",
            "Recall -  0.9318181818181818\n",
            "F1 score -  0.942528735632184\n"
          ]
        }
      ]
    },
    {
      "cell_type": "code",
      "source": [
        "precision_score(y_test,y_pred_lr,average=None)"
      ],
      "metadata": {
        "colab": {
          "base_uri": "https://localhost:8080/"
        },
        "id": "Epu7JjS18TY9",
        "outputId": "f8faa2f4-620a-4f56-e58b-47ace6cb1f21"
      },
      "execution_count": 108,
      "outputs": [
        {
          "output_type": "execute_result",
          "data": {
            "text/plain": [
              "array([0.8125, 1.    ])"
            ]
          },
          "metadata": {},
          "execution_count": 108
        }
      ]
    },
    {
      "cell_type": "code",
      "source": [
        "precision_score(y_test,y_pred_dt,average=None)"
      ],
      "metadata": {
        "colab": {
          "base_uri": "https://localhost:8080/"
        },
        "id": "bxFpjSgm8ZuP",
        "outputId": "c328d0ef-56eb-4cf6-e3dc-29cb28097aa0"
      },
      "execution_count": 109,
      "outputs": [
        {
          "output_type": "execute_result",
          "data": {
            "text/plain": [
              "array([0.6       , 0.95348837])"
            ]
          },
          "metadata": {},
          "execution_count": 109
        }
      ]
    },
    {
      "cell_type": "code",
      "source": [
        "recall_score(y_test,y_pred_dt,average=None)"
      ],
      "metadata": {
        "colab": {
          "base_uri": "https://localhost:8080/"
        },
        "id": "1cbcZTaq8eaH",
        "outputId": "0b5cde9d-38ab-4624-b97e-b83aec23bd40"
      },
      "execution_count": 110,
      "outputs": [
        {
          "output_type": "execute_result",
          "data": {
            "text/plain": [
              "array([0.69230769, 0.93181818])"
            ]
          },
          "metadata": {},
          "execution_count": 110
        }
      ]
    },
    {
      "cell_type": "code",
      "source": [
        "from sklearn.ensemble import RandomForestClassifier\n",
        "from sklearn.naive_bayes import GaussianNB\n"
      ],
      "metadata": {
        "id": "Ui6jhLNK8itw"
      },
      "execution_count": 111,
      "outputs": []
    },
    {
      "cell_type": "code",
      "source": [
        "import xgboost as xgb\n",
        "xgb = xgb.XGBClassifier()\n",
        "\n",
        "xgb.fit(X_train, y_train)"
      ],
      "metadata": {
        "colab": {
          "base_uri": "https://localhost:8080/"
        },
        "id": "gWAas3fP_fgI",
        "outputId": "a1adbc82-fd0a-412e-e05a-22a2a082fb48"
      },
      "execution_count": 123,
      "outputs": [
        {
          "output_type": "execute_result",
          "data": {
            "text/plain": [
              "XGBClassifier()"
            ]
          },
          "metadata": {},
          "execution_count": 123
        }
      ]
    },
    {
      "cell_type": "code",
      "source": [
        "y_pred_xg = xgb.predict(X_test)"
      ],
      "metadata": {
        "id": "s5fbnTxZ_ra_"
      },
      "execution_count": 124,
      "outputs": []
    },
    {
      "cell_type": "code",
      "source": [
        "rf = RandomForestClassifier(max_features=5, n_estimators=500)\n",
        "rf.fit(X_train, y_train)"
      ],
      "metadata": {
        "colab": {
          "base_uri": "https://localhost:8080/"
        },
        "id": "gaTTwSzV9eHV",
        "outputId": "e7f3522d-67fb-4a55-a484-e654e165c3a3"
      },
      "execution_count": 112,
      "outputs": [
        {
          "output_type": "execute_result",
          "data": {
            "text/plain": [
              "RandomForestClassifier(max_features=5, n_estimators=500)"
            ]
          },
          "metadata": {},
          "execution_count": 112
        }
      ]
    },
    {
      "cell_type": "code",
      "source": [
        "nb = GaussianNB()\n",
        "nb.fit(X_train, y_train)"
      ],
      "metadata": {
        "colab": {
          "base_uri": "https://localhost:8080/"
        },
        "id": "SED523Qk9jDS",
        "outputId": "7810ae3c-39af-423f-b6e8-0a54382fc121"
      },
      "execution_count": 113,
      "outputs": [
        {
          "output_type": "execute_result",
          "data": {
            "text/plain": [
              "GaussianNB()"
            ]
          },
          "metadata": {},
          "execution_count": 113
        }
      ]
    },
    {
      "cell_type": "code",
      "source": [
        "r_probs = [0 for _ in range(len(y_test))]\n",
        "rf_probs = rf.predict_proba(X_test)\n",
        "nb_probs = nb.predict_proba(X_test)\n",
        "xg_probs = xgb.predict_proba(X_test)"
      ],
      "metadata": {
        "id": "ILZqKVqr9ogz"
      },
      "execution_count": 125,
      "outputs": []
    },
    {
      "cell_type": "code",
      "source": [
        "rf_probs = rf_probs[:, 1]\n",
        "nb_probs = nb_probs[:, 1]\n",
        "xg_probs = xg_probs[:, 1]"
      ],
      "metadata": {
        "id": "Nl6z4rOt9u32"
      },
      "execution_count": 126,
      "outputs": []
    },
    {
      "cell_type": "code",
      "source": [
        "from sklearn.metrics import roc_curve, roc_auc_score"
      ],
      "metadata": {
        "id": "LWmo3CJ690Jz"
      },
      "execution_count": 116,
      "outputs": []
    },
    {
      "cell_type": "code",
      "source": [
        "r_auc = roc_auc_score(y_test, r_probs)\n",
        "rf_auc = roc_auc_score(y_test, rf_probs)\n",
        "nb_auc = roc_auc_score(y_test, nb_probs)\n",
        "xg_auc = roc_auc_score(y_test, xg_probs)"
      ],
      "metadata": {
        "id": "aND5Xg5B94H0"
      },
      "execution_count": 127,
      "outputs": []
    },
    {
      "cell_type": "code",
      "source": [
        "print('Random (chance) Prediction: AUROC = %.3f' % (r_auc))\n",
        "print('Random Forest: AUROC = %.3f' % (rf_auc))\n",
        "print('Naive Bayes: AUROC = %.3f' % (nb_auc))\n",
        "print('XgBoost: AUROC = %.3f' % (xg_auc))"
      ],
      "metadata": {
        "colab": {
          "base_uri": "https://localhost:8080/"
        },
        "id": "vZMrdqHb97vE",
        "outputId": "ab845be8-7d6c-4d73-93f1-cd96816a1146"
      },
      "execution_count": 128,
      "outputs": [
        {
          "output_type": "stream",
          "name": "stdout",
          "text": [
            "Random (chance) Prediction: AUROC = 0.500\n",
            "Random Forest: AUROC = 0.978\n",
            "Naive Bayes: AUROC = 0.954\n",
            "XgBoost: AUROC = 0.996\n"
          ]
        }
      ]
    },
    {
      "cell_type": "code",
      "source": [
        "r_fpr, r_tpr, _ = roc_curve(y_test, r_probs)\n",
        "rf_fpr, rf_tpr, _ = roc_curve(y_test, rf_probs)\n",
        "nb_fpr, nb_tpr, _ = roc_curve(y_test, nb_probs)\n",
        "xg_fpr, xg_tpr, _ = roc_curve(y_test, xg_probs)"
      ],
      "metadata": {
        "id": "CRvEs99W-Eon"
      },
      "execution_count": 129,
      "outputs": []
    },
    {
      "cell_type": "code",
      "source": [
        "import matplotlib.pyplot as plt"
      ],
      "metadata": {
        "id": "W5aVW_wh-LQN"
      },
      "execution_count": 121,
      "outputs": []
    },
    {
      "cell_type": "code",
      "source": [
        "plt.plot(r_fpr, r_tpr, linestyle='--', label='Random prediction (AUROC = %0.3f)' % r_auc)\n",
        "plt.plot(rf_fpr, rf_tpr, marker='.', label='Random Forest (AUROC = %0.3f)' % rf_auc)\n",
        "plt.plot(nb_fpr, nb_tpr, marker='.', label='Naive Bayes (AUROC = %0.3f)' % nb_auc)\n",
        "plt.plot(xg_fpr, xg_tpr, marker='.', label='XgBoost (AUROC = %0.3f)' % xg_auc)\n",
        "\n",
        "# Title\n",
        "plt.title('ROC Plot')\n",
        "# Axis labels\n",
        "plt.xlabel('False Positive Rate')\n",
        "plt.ylabel('True Positive Rate')\n",
        "# Show legend\n",
        "plt.legend() # \n",
        "# Show plot\n",
        "plt.show()"
      ],
      "metadata": {
        "colab": {
          "base_uri": "https://localhost:8080/",
          "height": 295
        },
        "id": "52U4Pvr6-PCg",
        "outputId": "66d8b3cb-3534-4fd7-dc15-30f81f4114c1"
      },
      "execution_count": 130,
      "outputs": [
        {
          "output_type": "display_data",
          "data": {
            "text/plain": [
              "<Figure size 432x288 with 1 Axes>"
            ],
            "image/png": "[encoded data removed]"
          },
          "metadata": {
            "needs_background": "light"
          }
        }
      ]
    },
    {
      "cell_type": "code",
      "source": [],
      "metadata": {
        "id": "Ukj7f0iy-T0p"
      },
      "execution_count": null,
      "outputs": []
    }
  ]
}