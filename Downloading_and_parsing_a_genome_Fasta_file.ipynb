{
  "nbformat": 4,
  "nbformat_minor": 0,
  "metadata": {
    "colab": {
      "name": "Downloading and parsing a genome Fasta file.ipynb",
      "provenance": [],
      "collapsed_sections": [],
      "authorship_tag": "ABX9TyOONt9+jl/zlTEvAA4tc6Wb",
      "include_colab_link": true
    },
    "kernelspec": {
      "name": "python3",
      "display_name": "Python 3"
    },
    "language_info": {
      "name": "python"
    }
  },
  "cells": [
    {
      "cell_type": "markdown",
      "metadata": {
        "id": "view-in-github",
        "colab_type": "text"
      },
      "source": [
        "<a href=\"https://colab.research.google.com/github/codebuzer/Bioactivity-Prediction-App/blob/main/Downloading_and_parsing_a_genome_Fasta_file.ipynb\" target=\"_parent\"><img src=\"https://colab.research.google.com/assets/colab-badge.svg\" alt=\"Open In Colab\"/></a>"
      ]
    },
    {
      "cell_type": "code",
      "execution_count": 1,
      "metadata": {
        "colab": {
          "base_uri": "https://localhost:8080/"
        },
        "id": "2OFRcObD9Woi",
        "outputId": "78eaec50-598b-4184-d91e-b8053391411e"
      },
      "outputs": [
        {
          "output_type": "stream",
          "name": "stdout",
          "text": [
            "--2022-08-23 19:58:24--  https://d28rh4a8wq0iu5.cloudfront.net/ads1/data/lambda_virus.fa\n",
            "Resolving d28rh4a8wq0iu5.cloudfront.net (d28rh4a8wq0iu5.cloudfront.net)... 204.246.169.159, 204.246.169.163, 204.246.169.166, ...\n",
            "Connecting to d28rh4a8wq0iu5.cloudfront.net (d28rh4a8wq0iu5.cloudfront.net)|204.246.169.159|:443... connected.\n",
            "HTTP request sent, awaiting response... 200 OK\n",
            "Length: 49270 (48K) [application/octet-stream]\n",
            "Saving to: ‘lambda_virus.fa’\n",
            "\n",
            "lambda_virus.fa     100%[===================>]  48.12K  --.-KB/s    in 0.01s   \n",
            "\n",
            "2022-08-23 19:58:25 (3.73 MB/s) - ‘lambda_virus.fa’ saved [49270/49270]\n",
            "\n"
          ]
        }
      ],
      "source": [
        "!wget --no-check https://d28rh4a8wq0iu5.cloudfront.net/ads1/data/lambda_virus.fa"
      ]
    },
    {
      "cell_type": "code",
      "source": [
        "def readGenome(filename):\n",
        "  genome = ''\n",
        "  with open(filename, 'r') as f:\n",
        "    for line in f:\n",
        "      if not line[0] =='>':\n",
        "        genome += line.rstrip() #removes the /n with white space and then add the two strings\n",
        "  return genome\n",
        "genome = readGenome('lambda_virus.fa')\n",
        "\n",
        "genome[:200]"
      ],
      "metadata": {
        "colab": {
          "base_uri": "https://localhost:8080/",
          "height": 54
        },
        "id": "9qX53DGM9j9u",
        "outputId": "1f1b0531-cc16-4e4b-8ccd-4b496e9ec6ab"
      },
      "execution_count": 4,
      "outputs": [
        {
          "output_type": "execute_result",
          "data": {
            "text/plain": [
              "'GGGCGGCGACCTCGCGGGTTTTCGCTATTTATGAAAATTTTCCGGTTTAAGGCGTTTCCGTTCTTCTTCGTCATAACTTAATGTTTTTATTTAAAATACCCTCTGAAAAGAAAGGAAACGACAGGTGCTGAAAGCGAGGCTTTTTGGCCTCTGTCGTTTCCTTTCTCTGTTTTTGTCCGTGGAATGAACAATGGAAGTCA'"
            ],
            "application/vnd.google.colaboratory.intrinsic+json": {
              "type": "string"
            }
          },
          "metadata": {},
          "execution_count": 4
        }
      ]
    },
    {
      "cell_type": "code",
      "source": [
        "len(genome)"
      ],
      "metadata": {
        "colab": {
          "base_uri": "https://localhost:8080/"
        },
        "id": "RH_F6ewW_EAP",
        "outputId": "3b734f7e-1642-4a1a-ae3b-d7b7dc19c9fb"
      },
      "execution_count": 5,
      "outputs": [
        {
          "output_type": "execute_result",
          "data": {
            "text/plain": [
              "48502"
            ]
          },
          "metadata": {},
          "execution_count": 5
        }
      ]
    },
    {
      "cell_type": "markdown",
      "source": [
        "count the frequency of each base using dictionary"
      ],
      "metadata": {
        "id": "87e73gZw_kjJ"
      }
    },
    {
      "cell_type": "code",
      "source": [
        "counts = {'A':0, 'T':0, 'G':0, 'C':0} #initialize each base from 0 frequency\n",
        "for base in genome:\n",
        "  counts[base] += 1\n",
        "print(counts)"
      ],
      "metadata": {
        "colab": {
          "base_uri": "https://localhost:8080/"
        },
        "id": "dNc6RjfN_eX0",
        "outputId": "7b2338a2-4059-4e02-c07e-9a24b205a9d0"
      },
      "execution_count": 8,
      "outputs": [
        {
          "output_type": "stream",
          "name": "stdout",
          "text": [
            "{'A': 12334, 'T': 11986, 'G': 12820, 'C': 11362}\n"
          ]
        }
      ]
    },
    {
      "cell_type": "markdown",
      "source": [
        "we can also do the same using python inbuilt function called collections"
      ],
      "metadata": {
        "id": "rGBAi8XZAtb9"
      }
    },
    {
      "cell_type": "code",
      "source": [
        "import collections"
      ],
      "metadata": {
        "id": "fRr6NQVtAZuw"
      },
      "execution_count": 9,
      "outputs": []
    },
    {
      "cell_type": "code",
      "source": [
        "collections.Counter(genome) #counter is an object but inside this is a dictionary"
      ],
      "metadata": {
        "colab": {
          "base_uri": "https://localhost:8080/"
        },
        "id": "0DuGojv1A5H0",
        "outputId": "e03338c0-c511-4806-cd0e-00bce062ab2a"
      },
      "execution_count": 13,
      "outputs": [
        {
          "output_type": "execute_result",
          "data": {
            "text/plain": [
              "Counter({'G': 12820, 'C': 11362, 'A': 12334, 'T': 11986})"
            ]
          },
          "metadata": {},
          "execution_count": 13
        }
      ]
    },
    {
      "cell_type": "code",
      "source": [
        ""
      ],
      "metadata": {
        "id": "YOw5mbqJBC5V"
      },
      "execution_count": null,
      "outputs": []
    }
  ]
}