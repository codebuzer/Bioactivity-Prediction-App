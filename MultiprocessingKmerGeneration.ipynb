{
  "nbformat": 4,
  "nbformat_minor": 0,
  "metadata": {
    "colab": {
      "provenance": [],
      "mount_file_id": "1uOR8zCt2dQDqnIPDSfrERDV7quD49gqZ",
      "authorship_tag": "ABX9TyMAMKsLZ8L12aHPZlbCZNvZ",
      "include_colab_link": true
    },
    "kernelspec": {
      "name": "python3",
      "display_name": "Python 3"
    },
    "language_info": {
      "name": "python"
    }
  },
  "cells": [
    {
      "cell_type": "markdown",
      "metadata": {
        "id": "view-in-github",
        "colab_type": "text"
      },
      "source": [
        "<a href=\"https://colab.research.google.com/github/codebuzer/Bioactivity-Prediction-App/blob/main/MultiprocessingKmerGeneration.ipynb\" target=\"_parent\"><img src=\"https://colab.research.google.com/assets/colab-badge.svg\" alt=\"Open In Colab\"/></a>"
      ]
    },
    {
      "cell_type": "code",
      "execution_count": 146,
      "metadata": {
        "id": "F9FVUu5MWxd4"
      },
      "outputs": [],
      "source": [
        "import pandas as pd\n",
        "import numpy as np\n",
        "from multiprocessing import  Pool\n"
      ]
    },
    {
      "cell_type": "code",
      "source": [
        "df = pd.read_csv(\"/content/drive/MyDrive/sample.csv\", index_col =0 )"
      ],
      "metadata": {
        "id": "kMtREskBXR_W"
      },
      "execution_count": 156,
      "outputs": []
    },
    {
      "cell_type": "code",
      "source": [
        "#df.head()"
      ],
      "metadata": {
        "id": "Vy52w2T-XZBm"
      },
      "execution_count": 142,
      "outputs": []
    },
    {
      "cell_type": "code",
      "source": [
        "#Normal kmer generation method\n",
        "def getKmers(df):\n",
        "    return [df[x:x+7].lower() for x in range(len(df) - 7 + 1)]\n",
        "#create a list of k-mers\n",
        "df['kmer'] = df.apply(lambda x: getKmers(x['Sequence']), axis=1)\n",
        "df = df.drop(['Sequence'], axis = 1)\n",
        "df = df['kmer'].apply(' '.join)\n",
        "df = pd.DataFrame(df)"
      ],
      "metadata": {
        "id": "wQa-xjMwYQ2T"
      },
      "execution_count": 143,
      "outputs": []
    },
    {
      "cell_type": "code",
      "source": [
        "#Faster method to generate kmer\n",
        "def getKmers(df):\n",
        "    return [df[x:x+7].lower() for x in range(len(df) - 7 + 1)]\n",
        "\n",
        "def kunfayakoon(df):\n",
        "  df['kmer'] = df.apply(lambda x: getKmers(x['Sequence']), axis=1)\n",
        "  df = df.drop(['Sequence'], axis=1)\n",
        "  df = df['kmer'].apply(' '.join)\n",
        "  df = pd.DataFrame(data=df)\n",
        "  return df\n",
        "\n",
        "def parallelize_dataframe(df, func, n_cores=4):\n",
        "    df_split = np.array_split(df, n_cores)\n",
        "    pool = Pool(n_cores)\n",
        "    df = pd.concat(pool.map(func, df_split))\n",
        "    pool.close()\n",
        "    pool.join()\n",
        "    return df\n"
      ],
      "metadata": {
        "id": "0tvLiVl0Xjxt"
      },
      "execution_count": 149,
      "outputs": []
    },
    {
      "cell_type": "code",
      "source": [
        "%%timeit\n",
        "kun_fayakoon = parallelize_dataframe(df, kunfayakoon)\n"
      ],
      "metadata": {
        "colab": {
          "base_uri": "https://localhost:8080/"
        },
        "id": "I3g0cPPabfAo",
        "outputId": "e1510681-76b3-4db5-a70e-3c2680c6af21"
      },
      "execution_count": 120,
      "outputs": [
        {
          "output_type": "stream",
          "name": "stdout",
          "text": [
            "1.83 s ± 23.9 ms per loop (mean ± std. dev. of 7 runs, 1 loop each)\n"
          ]
        }
      ]
    },
    {
      "cell_type": "code",
      "source": [
        "df  = np.array_split(df, 8)"
      ],
      "metadata": {
        "id": "SolWl8n-WVIG"
      },
      "execution_count": 157,
      "outputs": []
    },
    {
      "cell_type": "code",
      "source": [
        "df"
      ],
      "metadata": {
        "colab": {
          "base_uri": "https://localhost:8080/"
        },
        "id": "80q6s1ePWcHY",
        "outputId": "e36d506d-a281-47ab-8e6e-955817d9fb55"
      },
      "execution_count": 158,
      "outputs": [
        {
          "output_type": "execute_result",
          "data": {
            "text/plain": [
              "[                                               Sequence\n",
              " 0     GATTATCATTGTTGCCTTGATTTTTATTCTGAGAGCTATGACGCGT...\n",
              " 1     TGCATCAACAGGCCGTTAGCATTGTAGAACATCAATGACAGTCCAC...\n",
              " 2     AACCCGCGAACACCTGGCGATCCTGCAGCTGACCGGAAAGCCGACG...\n",
              " 3     CATTATAGAACTGCCACTGGTAAATGAAAACTGCAAGCATCAGGCC...\n",
              " 4     TCGGTAATGCGTGGATGGCGCCAGCCCATATACAGCGGATCGTCGA...\n",
              " ...                                                 ...\n",
              " 1245  GTACTTTGGTCTGGTAAGCGAAACCTTCCCAGTCAGATTCGTCCAG...\n",
              " 1246  CTCCTGTAGTGATGTCGAACAAAAAGTATAGTGCGTGATGCCGAAG...\n",
              " 1247  GCCTTACTGCACGAATCGCCAAACGGATTTAGGAACCTGGCCCACA...\n",
              " 1248  ACATAGCGGTTGAGTATATTCTGCTCAATCGCTATGTCGGAGGACA...\n",
              " 1249  CAACTAAACGCAGAACCTGTCTTATTGAATTTTTGGTTGTTCCAGC...\n",
              " \n",
              " [1250 rows x 1 columns],\n",
              "                                                Sequence\n",
              " 1250  TCTCACCGCCCGCCGATGCCGGACGATCTGCGCGCGCAGATTGAGC...\n",
              " 1251  GCTGAAGGAATCGCGTTTTGATAAAGAACCATTCGTACCCAGTGAT...\n",
              " 1252  TGATAACAGTGCTGTAACCCACCGTTAAACATCCTCTGACAACACA...\n",
              " 1253  TAATACATGCGTCGAGGTTGGTGATGTTCTCTTTACCGCCGAAAGC...\n",
              " 1254  GGTTCAGGGACAAGCTATCAATCCCCTCTTCCATCAGCCAGGCGGC...\n",
              " ...                                                 ...\n",
              " 2495  CTATGCGCCTCTCCCTGCTGGCCGGCGGCCGCCAGCCATTCACGAG...\n",
              " 2496  GATCTGAGCTACGCGGCCCTGGATTGCGGATTCTTCGCCAACGCCA...\n",
              " 2497  GATCCGTCCCTACACCTCGCTTCCTATCGATGTCCATCTGATGGTC...\n",
              " 2498  GTCGAACAGCGGCTGGTGGGCTTTGATCCAGCCATCAACGTGGCCG...\n",
              " 2499  GTGCGAAGAGCTGGGTATCCGCAACCAGTTTGAAGTCGAAGTGCTG...\n",
              " \n",
              " [1250 rows x 1 columns],\n",
              "                                                Sequence\n",
              " 2500  GTCGAAGCCTGATCCGCGGCCAGCAGGTCGACGCCTGGCGCCGACC...\n",
              " 2501  GACCATCGTACGTAAAGGTGCCGACCTGGCGAACTCCTTTAAACCA...\n",
              " 2502  GATGAGGGATATATCTCGGTGGGCGCGGGGATCGGCAACATCCATG...\n",
              " 2503  CAATCACGTCGCCGATGGTGTAGTTACGCACGTGACCCATGTGTAG...\n",
              " 2504  GGCCTATAACGCTCACCGCATTGGTTTAAAAGAAGTCGTTTTTCTC...\n",
              " ...                                                 ...\n",
              " 3745  GTGTGTATCGGGTACGAGTCTTAAAAAATGACGAAAGGCTTGCGCG...\n",
              " 3746  TACCTGGCGTCAGGCTAACCCCGACAATCATGAGCATTTCTCGTGG...\n",
              " 3747  TCCCACTGCTCACCGCTTTCGTATTCGGTGGCCATGATCCCCCCGG...\n",
              " 3748  GTGCGAACCCCAGGTCAGACCGAACTCATGGCACATCTGCGCTACG...\n",
              " 3749  CGCTAATGGTATGGCTGGTCTGCGGCCCCAGCTTGTTTAGCACCCG...\n",
              " \n",
              " [1250 rows x 1 columns],\n",
              "                                                Sequence\n",
              " 3750  ATGGCCAATAGCGCCACCATGCCGATAAGTCCCATGAGGATTTGCA...\n",
              " 3751  GCGGTAACGCCGTTGAACACATGGTGCGCGAGCGCATTGAGGGTGT...\n",
              " 3752  TATCAGAATGGCAGGCCCGGCGATACCGTCGCCGGAAGCGTCAGCG...\n",
              " 3753  GGGCTGGACGGTGGGGCTCCAGTTTAATAAAGCCATTTTTCTGCTG...\n",
              " 3754  CCTGTAATACCGTCTCCGCCTCCGACAGCGACCAGCGAATCCAGCA...\n",
              " ...                                                 ...\n",
              " 4995  CTTCCAGGCAGCGGATGACCATCCGCTGGTGCTCGCCGGTACGCCG...\n",
              " 4996  CTTATCGGCCTGATCCTCGGGCTGCGTACCTTCTCCCAACAGGGCA...\n",
              " 4997  ACTTCCGTTCTACTACGCTTCATTGCAACGACTCTACGAGTGAAAA...\n",
              " 4998  GGCCAGATCGGTGCCGCCGCGAAAACGCTGGCTCAGGAAACGGATC...\n",
              " 4999  GATCATAATGAGATCCAAAAGAGATCCCCGGATCGCTCCAGCATGC...\n",
              " \n",
              " [1250 rows x 1 columns],\n",
              "                                                Sequence\n",
              " 5000  GTGTCGGCCTCCCGAGTGCGCGAACTCTATCGACAGCGCAACTGGC...\n",
              " 5001  CTTCAGGTGTTTCGGGTTCTCGACAATATCCTTCGGCGTCGCCAGG...\n",
              " 5002  ATAATAGCCCCTGCTGGAGATGGCCGAGCAGAAGACCGATGGCCAC...\n",
              " 5003  GTGTTGGCCAGGAATACCGAAGGCGCTGGCCAGCGTGAGGAAATCA...\n",
              " 5004  ACATCAGACTGGCTGGTAACTGCCTGCACCGGCTGAGTCAGGGTGA...\n",
              " ...                                                 ...\n",
              " 6245  CCACTCAACTGACAGCGAATTCAGCGCCGGAATAATGGAAAAATCC...\n",
              " 6246  GGCCGGCGAGGAGCGTGACCAGACGCTCTTTCACCTCGGCGTTGCT...\n",
              " 6247  TTACTCACCCGTCCGCCGCTCGTCACCCGAGAGCAAGCTCTCTGTG...\n",
              " 6248  ATTCAGGATCAGGTGCTAAGGCTTTGCGGCGGCGAGAATATCTTCG...\n",
              " 6249  GTCCAGTAGGCCACCCTGGCCGTTGGCCCATACCTGCGGCACGCCG...\n",
              " \n",
              " [1250 rows x 1 columns],\n",
              "                                                Sequence\n",
              " 6250  CTTCTGTCAGAGTCTCTCGCCAGCACAGTGCAGCGGTTTCTTCTTT...\n",
              " 6251  GTCCAACGTGGCTCAATTCGTTTATACCATGCATCGTGTCGGCAAA...\n",
              " 6252  GCATATCGGTGGTCTCCTGCGCCAGCGCGTCAATCAGCTCCATAAA...\n",
              " 6253  GATAGATGATCATCACCACCAGGGCGATGGCCAGCATCAGCTCAAA...\n",
              " 6254  GTCAGATAGCGGGTCGACTCCGGGTTGGTTTCCCATTCGGTGAGAT...\n",
              " ...                                                 ...\n",
              " 7495  CCGTTGCCCTGCTGGCGCTGTTTTTGCTGCGCGGCACGCCGGAGAG...\n",
              " 7496  ATCCAGAAAGCCGGCCTGACGCTGGGCGTCGATCCGCTGGGCGGGT...\n",
              " 7497  CTTTAAATGGGGTAAACAGCGAGGAGCGGGTGCCGATCACAATGGC...\n",
              " 7498  GTTCAGCACTCTCCAGGCTGGCGCCGAGCAGAAAACCGTCTGCCCG...\n",
              " 7499  GTTTGATGGCCGTTAAGCATGTCCGCCGAGACGGTCATACTCATCT...\n",
              " \n",
              " [1250 rows x 1 columns],\n",
              "                                                Sequence\n",
              " 7500  GATAGAAAGCGGCGCCGAGGGTGGCGATCCCTTCGGTCAGGCGGCC...\n",
              " 7501  GTGATAAACGGCGGTTTGTTCTCCACATCGAGGGTGAAGTGGGCAT...\n",
              " 7502  TGCATATGGATCCCGACCAGCTGCAGCTGATAGCGACGCATGACTT...\n",
              " 7503  ACCCCTGGCACTACTGGCTAACCGTCTCCCCGCAGGCGGAGAACCG...\n",
              " 7504  TGATTACGTCGTTGGCGCGGATCCCGGCTTGCGCCGCTGGACCGTC...\n",
              " ...                                                 ...\n",
              " 8745  GAGGTATTACGATTTTCGCTATCTGTAACAACGCCGATAGCGGGCA...\n",
              " 8746  GCGTGGTGTTGGGCGTGGCAGTCGGGATTGCCTCTTATACCGCGCC...\n",
              " 8747  GTTTACCGAGGGCCGTACCCAGGAAGGCTGGATGCGCTATCTGTAT...\n",
              " 8748  GGCATTAACAGGCTCATAAGACCCCTCTATTTCCCTGAATTTTCTT...\n",
              " 8749  ATATACGACAATAATAAACACAACAGTCCCTTCCGGACAGGAGTAA...\n",
              " \n",
              " [1250 rows x 1 columns],\n",
              "                                                Sequence\n",
              " 8750  GGCATATTGCCTGCAAAACCCTCGACTTTGAACGTTCGATCACCAT...\n",
              " 8751  GCCGTAGAGCAGCATCAGCTCGCCCATGGTATCGCCAATGACTACC...\n",
              " 8752  GTCTGTCGGCGCTCAGGTGTTGCTGAGCGCCTTGCGGATATAGCCG...\n",
              " 8753  CTCTGGAGAAACCATGATCCGCGCCATCGTGACCGACATAGAAGGC...\n",
              " 8754  GTCATGACGTTCACATGATCGACTTCTACTACTGGGATATCTCCGG...\n",
              " ...                                                 ...\n",
              " 9995  CGCACAGCGTGATAGCGATAACGCCGGGGATCAGGAAGGCGTGGTT...\n",
              " 9996  CATTATTCACTATGTGCCGGCGATGCCGCGTAAAGTGCTGCGCGTC...\n",
              " 9997  CTTCATCCCCATATCTCTGTCGAAAGTGCTATCTTTGATGGCCTCT...\n",
              " 9998  CTTTAAGCGCGTGCGCATTACCGATAATTCCAGCGTGTTCAATACC...\n",
              " 9999  GAGACGCCGTTCGATCCGCGGGCGGCATCGGTTATCCGCGACCATG...\n",
              " \n",
              " [1250 rows x 1 columns]]"
            ]
          },
          "metadata": {},
          "execution_count": 158
        }
      ]
    },
    {
      "cell_type": "code",
      "source": [
        " pool = Pool(8)"
      ],
      "metadata": {
        "id": "kNPiO7C7WdEW"
      },
      "execution_count": 159,
      "outputs": []
    },
    {
      "cell_type": "code",
      "source": [
        "pool"
      ],
      "metadata": {
        "colab": {
          "base_uri": "https://localhost:8080/"
        },
        "id": "v_f2zxq9Y7Ct",
        "outputId": "93c82f7e-7802-4bd3-b034-f728e803543a"
      },
      "execution_count": 160,
      "outputs": [
        {
          "output_type": "execute_result",
          "data": {
            "text/plain": [
              "<multiprocessing.pool.Pool state=RUN pool_size=8>"
            ]
          },
          "metadata": {},
          "execution_count": 160
        }
      ]
    },
    {
      "cell_type": "code",
      "source": [],
      "metadata": {
        "id": "-UOAhzBbY8lX"
      },
      "execution_count": null,
      "outputs": []
    }
  ]
}