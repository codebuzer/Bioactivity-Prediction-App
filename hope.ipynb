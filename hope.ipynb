{
 "cells": [
  {
   "cell_type": "code",
   "execution_count": 52,
   "id": "024a2428",
   "metadata": {},
   "outputs": [],
   "source": [
    "import pandas as pd\n",
    "from tensorflow.keras.models import Sequential\n",
    "from tensorflow.keras.layers import Dense\n",
    "from scikeras.wrappers import KerasClassifier\n",
    "from sklearn.model_selection import cross_val_score\n",
    "from sklearn.preprocessing import LabelEncoder\n",
    "from sklearn.model_selection import StratifiedKFold\n",
    "from sklearn.preprocessing import StandardScaler\n",
    "from sklearn.pipeline import Pipeline\n",
    "import numpy as np\n",
    "from tensorflow.keras.layers import Dense, Dropout, Bidirectional\n",
    "from tensorflow.keras.layers import LSTM\n",
    "from keras.layers import Conv2D, MaxPooling2D,Conv1D,MaxPooling1D\n",
    "from keras.layers import Dense, Dropout, Activation, Flatten"
   ]
  },
  {
   "cell_type": "code",
   "execution_count": 2,
   "id": "8cf7a43a",
   "metadata": {},
   "outputs": [],
   "source": [
    "\n",
    "# load dataset\n",
    "train = pd.read_csv(\"train.csv\", index_col = 0)\n",
    "test = pd.read_csv(\"test.csv\", index_col = 0)\n",
    "\n"
   ]
  },
  {
   "cell_type": "code",
   "execution_count": 3,
   "id": "5b27251d",
   "metadata": {},
   "outputs": [
    {
     "data": {
      "text/plain": [
       "Index(['V1', 'V2', 'V3', 'V4', 'V5', 'V6', 'V7', 'V8', 'V9', 'V10', 'V11',\n",
       "       'V12', 'V13', 'V14', 'V15', 'V16', 'V17', 'V18', 'V20', 'V21', 'V22',\n",
       "       'V23', 'V24', 'V25', 'V26', 'V27', 'V28', 'V29', 'V30', 'V31', 'V32',\n",
       "       'V33', 'V34', 'V35', 'V36', 'V37', 'V38', 'V39', 'V40', 'V41', 'V42',\n",
       "       'V43', 'V44', 'V45', 'V46', 'V47', 'V48', 'V49', 'V50', 'agenum_random',\n",
       "       'ctnum_random', 'batch_A', 'batch_B', 'batch_C', 'batch_D', 'batch_E',\n",
       "       'batch_F', 'batch_G', 'batch_H', 'batch_I', 'batch_J', 'batch_K',\n",
       "       'batch_L', 'batch_M', 'batch_N', 'batch_O', 'batch_P', 'batch_Q',\n",
       "       'batch_R', 'batch_S', 'batch_T', 'batch_U', 'ctnum_median_status',\n",
       "       'infection'],\n",
       "      dtype='object')"
      ]
     },
     "execution_count": 3,
     "metadata": {},
     "output_type": "execute_result"
    }
   ],
   "source": [
    "train.columns"
   ]
  },
  {
   "cell_type": "code",
   "execution_count": 4,
   "id": "faff20a7",
   "metadata": {},
   "outputs": [
    {
     "data": {
      "text/plain": [
       "Index(['V1', 'V2', 'V3', 'V4', 'V5', 'V6', 'V7', 'V8', 'V9', 'V10', 'V11',\n",
       "       'V12', 'V13', 'V14', 'V15', 'V16', 'V17', 'V18', 'V19', 'V20', 'V21',\n",
       "       'V22', 'V23', 'V24', 'V25', 'V26', 'V27', 'V28', 'V29', 'V30', 'V31',\n",
       "       'V32', 'V33', 'V34', 'V35', 'V36', 'V37', 'V38', 'V39', 'V40', 'V41',\n",
       "       'V42', 'V43', 'V44', 'V45', 'V46', 'V47', 'V48', 'V49', 'V50',\n",
       "       'agenum_random', 'ctnum_random', 'batch_A', 'batch_B', 'batch_C',\n",
       "       'batch_E', 'batch_F', 'batch_G', 'batch_H', 'batch_I', 'batch_J',\n",
       "       'batch_K', 'batch_L', 'batch_M', 'batch_N', 'batch_O', 'batch_P',\n",
       "       'batch_Q', 'batch_R', 'batch_S', 'batch_T', 'batch_U',\n",
       "       'ctnum_median_status', 'infection'],\n",
       "      dtype='object')"
      ]
     },
     "execution_count": 4,
     "metadata": {},
     "output_type": "execute_result"
    }
   ],
   "source": [
    "test.columns\n"
   ]
  },
  {
   "cell_type": "code",
   "execution_count": 5,
   "id": "a8d4ce99",
   "metadata": {},
   "outputs": [],
   "source": [
    "X_train = train.drop(['batch_N', 'batch_O', 'batch_P', 'batch_Q',\n",
    "       'batch_R', 'batch_S', 'batch_T','batch_H', 'batch_I', 'batch_J', 'batch_K',\n",
    "       'batch_L', 'batch_M', 'batch_N','infection','batch_D'], axis = 1)"
   ]
  },
  {
   "cell_type": "code",
   "execution_count": 6,
   "id": "4f27bd00",
   "metadata": {},
   "outputs": [],
   "source": [
    "X_test = test.drop(['batch_N', 'batch_O', 'batch_P', 'batch_Q',\n",
    "       'batch_R', 'batch_S', 'batch_T','batch_H', 'batch_I', 'batch_J', 'batch_K',\n",
    "       'batch_L', 'batch_M', 'batch_N','infection','V19'], axis = 1)"
   ]
  },
  {
   "cell_type": "code",
   "execution_count": 7,
   "id": "7399c07f",
   "metadata": {},
   "outputs": [
    {
     "data": {
      "text/plain": [
       "Index(['V1', 'V2', 'V3', 'V4', 'V5', 'V6', 'V7', 'V8', 'V9', 'V10', 'V11',\n",
       "       'V12', 'V13', 'V14', 'V15', 'V16', 'V17', 'V18', 'V20', 'V21', 'V22',\n",
       "       'V23', 'V24', 'V25', 'V26', 'V27', 'V28', 'V29', 'V30', 'V31', 'V32',\n",
       "       'V33', 'V34', 'V35', 'V36', 'V37', 'V38', 'V39', 'V40', 'V41', 'V42',\n",
       "       'V43', 'V44', 'V45', 'V46', 'V47', 'V48', 'V49', 'V50', 'agenum_random',\n",
       "       'ctnum_random', 'batch_A', 'batch_B', 'batch_C', 'batch_E', 'batch_F',\n",
       "       'batch_G', 'batch_U', 'ctnum_median_status'],\n",
       "      dtype='object')"
      ]
     },
     "execution_count": 7,
     "metadata": {},
     "output_type": "execute_result"
    }
   ],
   "source": [
    "X_train.columns"
   ]
  },
  {
   "cell_type": "code",
   "execution_count": 8,
   "id": "aa2c6152",
   "metadata": {},
   "outputs": [
    {
     "data": {
      "text/plain": [
       "Index(['V1', 'V2', 'V3', 'V4', 'V5', 'V6', 'V7', 'V8', 'V9', 'V10', 'V11',\n",
       "       'V12', 'V13', 'V14', 'V15', 'V16', 'V17', 'V18', 'V20', 'V21', 'V22',\n",
       "       'V23', 'V24', 'V25', 'V26', 'V27', 'V28', 'V29', 'V30', 'V31', 'V32',\n",
       "       'V33', 'V34', 'V35', 'V36', 'V37', 'V38', 'V39', 'V40', 'V41', 'V42',\n",
       "       'V43', 'V44', 'V45', 'V46', 'V47', 'V48', 'V49', 'V50', 'agenum_random',\n",
       "       'ctnum_random', 'batch_A', 'batch_B', 'batch_C', 'batch_E', 'batch_F',\n",
       "       'batch_G', 'batch_U', 'ctnum_median_status'],\n",
       "      dtype='object')"
      ]
     },
     "execution_count": 8,
     "metadata": {},
     "output_type": "execute_result"
    }
   ],
   "source": [
    "X_test.columns"
   ]
  },
  {
   "cell_type": "code",
   "execution_count": 9,
   "id": "b3113361",
   "metadata": {},
   "outputs": [],
   "source": [
    "y_train = train['infection']"
   ]
  },
  {
   "cell_type": "code",
   "execution_count": 10,
   "id": "e35f3d5e",
   "metadata": {},
   "outputs": [
    {
     "data": {
      "text/plain": [
       "0      1\n",
       "1      1\n",
       "2      1\n",
       "3      1\n",
       "4      1\n",
       "      ..\n",
       "647    0\n",
       "648    0\n",
       "649    0\n",
       "650    0\n",
       "651    0\n",
       "Name: infection, Length: 652, dtype: int64"
      ]
     },
     "execution_count": 10,
     "metadata": {},
     "output_type": "execute_result"
    }
   ],
   "source": [
    "y_train"
   ]
  },
  {
   "cell_type": "code",
   "execution_count": 11,
   "id": "10fa4541",
   "metadata": {},
   "outputs": [],
   "source": [
    "y_test = test['infection']"
   ]
  },
  {
   "cell_type": "code",
   "execution_count": 12,
   "id": "8e62782d",
   "metadata": {},
   "outputs": [
    {
     "data": {
      "text/plain": [
       "418    1\n",
       "474    0\n",
       "181    1\n",
       "446    0\n",
       "297    1\n",
       "      ..\n",
       "31     1\n",
       "113    1\n",
       "272    1\n",
       "311    1\n",
       "395    1\n",
       "Name: infection, Length: 121, dtype: int64"
      ]
     },
     "execution_count": 12,
     "metadata": {},
     "output_type": "execute_result"
    }
   ],
   "source": [
    "y_test"
   ]
  },
  {
   "cell_type": "code",
   "execution_count": 13,
   "id": "1cd2b6a5",
   "metadata": {},
   "outputs": [
    {
     "data": {
      "text/plain": [
       "((652, 59), (652,), (121, 59), (121,))"
      ]
     },
     "execution_count": 13,
     "metadata": {},
     "output_type": "execute_result"
    }
   ],
   "source": [
    "X_train.shape,y_train.shape,X_test.shape,y_test.shape"
   ]
  },
  {
   "cell_type": "code",
   "execution_count": 14,
   "id": "0bc28ccf",
   "metadata": {},
   "outputs": [
    {
     "name": "stderr",
     "output_type": "stream",
     "text": [
      "2022-11-07 14:26:18.508757: W tensorflow/stream_executor/platform/default/dso_loader.cc:64] Could not load dynamic library 'libcudart.so.11.0'; dlerror: libcudart.so.11.0: cannot open shared object file: No such file or directory\n",
      "2022-11-07 14:26:18.508883: W tensorflow/stream_executor/platform/default/dso_loader.cc:64] Could not load dynamic library 'libcublas.so.11'; dlerror: libcublas.so.11: cannot open shared object file: No such file or directory\n",
      "2022-11-07 14:26:18.508947: W tensorflow/stream_executor/platform/default/dso_loader.cc:64] Could not load dynamic library 'libcublasLt.so.11'; dlerror: libcublasLt.so.11: cannot open shared object file: No such file or directory\n",
      "2022-11-07 14:26:18.509007: W tensorflow/stream_executor/platform/default/dso_loader.cc:64] Could not load dynamic library 'libcufft.so.10'; dlerror: libcufft.so.10: cannot open shared object file: No such file or directory\n",
      "2022-11-07 14:26:18.509063: W tensorflow/stream_executor/platform/default/dso_loader.cc:64] Could not load dynamic library 'libcurand.so.10'; dlerror: libcurand.so.10: cannot open shared object file: No such file or directory\n",
      "2022-11-07 14:26:18.509119: W tensorflow/stream_executor/platform/default/dso_loader.cc:64] Could not load dynamic library 'libcusolver.so.11'; dlerror: libcusolver.so.11: cannot open shared object file: No such file or directory\n",
      "2022-11-07 14:26:18.509175: W tensorflow/stream_executor/platform/default/dso_loader.cc:64] Could not load dynamic library 'libcusparse.so.11'; dlerror: libcusparse.so.11: cannot open shared object file: No such file or directory\n",
      "2022-11-07 14:26:18.509239: W tensorflow/stream_executor/platform/default/dso_loader.cc:64] Could not load dynamic library 'libcudnn.so.8'; dlerror: libcudnn.so.8: cannot open shared object file: No such file or directory\n",
      "2022-11-07 14:26:18.509251: W tensorflow/core/common_runtime/gpu/gpu_device.cc:1934] Cannot dlopen some GPU libraries. Please make sure the missing libraries mentioned above are installed properly if you would like to use GPU. Follow the guide at https://www.tensorflow.org/install/gpu for how to download and setup the required libraries for your platform.\n",
      "Skipping registering GPU devices...\n",
      "2022-11-07 14:26:18.519263: I tensorflow/core/platform/cpu_feature_guard.cc:193] This TensorFlow binary is optimized with oneAPI Deep Neural Network Library (oneDNN) to use the following CPU instructions in performance-critical operations:  AVX2 AVX512F AVX512_VNNI FMA\n",
      "To enable them in other operations, rebuild TensorFlow with the appropriate compiler flags.\n"
     ]
    }
   ],
   "source": [
    "model = Sequential()\n",
    "model.add(Dense(60, input_shape=(59,), activation='relu'))\n",
    "model.add(Dense(30, activation='relu'))\n",
    "model.add(Dense(30, activation='relu'))\n",
    "model.add(Dense(30, activation='relu'))\n",
    "model.add(Dense(1, activation='sigmoid'))"
   ]
  },
  {
   "cell_type": "code",
   "execution_count": 15,
   "id": "e8db0c0e",
   "metadata": {},
   "outputs": [],
   "source": [
    "model.compile(loss='binary_crossentropy', optimizer='adam', metrics=['accuracy'])"
   ]
  },
  {
   "cell_type": "code",
   "execution_count": 16,
   "id": "26b442d7",
   "metadata": {},
   "outputs": [
    {
     "name": "stdout",
     "output_type": "stream",
     "text": [
      "Epoch 1/100\n",
      "11/11 [==============================] - 1s 18ms/step - loss: 0.6452 - accuracy: 0.6564 - val_loss: 0.7115 - val_accuracy: 0.5191\n",
      "Epoch 2/100\n",
      "11/11 [==============================] - 0s 4ms/step - loss: 0.6066 - accuracy: 0.7025 - val_loss: 1.1151 - val_accuracy: 0.1832\n",
      "Epoch 3/100\n",
      "11/11 [==============================] - 0s 4ms/step - loss: 0.5766 - accuracy: 0.7294 - val_loss: 0.8745 - val_accuracy: 0.3053\n",
      "Epoch 4/100\n",
      "11/11 [==============================] - 0s 4ms/step - loss: 0.5361 - accuracy: 0.7543 - val_loss: 0.8228 - val_accuracy: 0.3817\n",
      "Epoch 5/100\n",
      "11/11 [==============================] - 0s 4ms/step - loss: 0.4805 - accuracy: 0.8100 - val_loss: 0.5617 - val_accuracy: 0.7786\n",
      "Epoch 6/100\n",
      "11/11 [==============================] - 0s 4ms/step - loss: 0.4618 - accuracy: 0.7908 - val_loss: 0.9401 - val_accuracy: 0.4275\n",
      "Epoch 7/100\n",
      "11/11 [==============================] - 0s 4ms/step - loss: 0.4181 - accuracy: 0.8100 - val_loss: 0.5601 - val_accuracy: 0.7557\n",
      "Epoch 8/100\n",
      "11/11 [==============================] - 0s 4ms/step - loss: 0.3726 - accuracy: 0.8541 - val_loss: 0.6297 - val_accuracy: 0.7405\n",
      "Epoch 9/100\n",
      "11/11 [==============================] - 0s 4ms/step - loss: 0.3454 - accuracy: 0.8599 - val_loss: 0.7308 - val_accuracy: 0.6489\n",
      "Epoch 10/100\n",
      "11/11 [==============================] - 0s 4ms/step - loss: 0.3362 - accuracy: 0.8599 - val_loss: 0.4208 - val_accuracy: 0.8092\n",
      "Epoch 11/100\n",
      "11/11 [==============================] - 0s 4ms/step - loss: 0.3427 - accuracy: 0.8637 - val_loss: 0.2419 - val_accuracy: 0.8779\n",
      "Epoch 12/100\n",
      "11/11 [==============================] - 0s 4ms/step - loss: 0.3264 - accuracy: 0.8522 - val_loss: 0.2994 - val_accuracy: 0.8550\n",
      "Epoch 13/100\n",
      "11/11 [==============================] - 0s 4ms/step - loss: 0.2863 - accuracy: 0.8868 - val_loss: 0.2436 - val_accuracy: 0.8702\n",
      "Epoch 14/100\n",
      "11/11 [==============================] - 0s 4ms/step - loss: 0.2817 - accuracy: 0.8829 - val_loss: 0.4328 - val_accuracy: 0.8015\n",
      "Epoch 15/100\n",
      "11/11 [==============================] - 0s 4ms/step - loss: 0.2487 - accuracy: 0.8964 - val_loss: 0.4533 - val_accuracy: 0.8015\n",
      "Epoch 16/100\n",
      "11/11 [==============================] - 0s 4ms/step - loss: 0.2434 - accuracy: 0.9040 - val_loss: 0.3676 - val_accuracy: 0.8473\n",
      "Epoch 17/100\n",
      "11/11 [==============================] - 0s 4ms/step - loss: 0.2471 - accuracy: 0.9040 - val_loss: 0.4286 - val_accuracy: 0.8092\n",
      "Epoch 18/100\n",
      "11/11 [==============================] - 0s 4ms/step - loss: 0.2298 - accuracy: 0.9117 - val_loss: 0.1364 - val_accuracy: 0.9466\n",
      "Epoch 19/100\n",
      "11/11 [==============================] - 0s 4ms/step - loss: 0.2062 - accuracy: 0.9213 - val_loss: 0.3133 - val_accuracy: 0.8626\n",
      "Epoch 20/100\n",
      "11/11 [==============================] - 0s 4ms/step - loss: 0.1896 - accuracy: 0.9347 - val_loss: 0.2642 - val_accuracy: 0.8702\n",
      "Epoch 21/100\n",
      "11/11 [==============================] - 0s 4ms/step - loss: 0.1831 - accuracy: 0.9251 - val_loss: 0.4732 - val_accuracy: 0.7863\n",
      "Epoch 22/100\n",
      "11/11 [==============================] - 0s 4ms/step - loss: 0.2257 - accuracy: 0.9021 - val_loss: 0.6211 - val_accuracy: 0.7099\n",
      "Epoch 23/100\n",
      "11/11 [==============================] - 0s 4ms/step - loss: 0.1899 - accuracy: 0.9328 - val_loss: 0.3520 - val_accuracy: 0.8550\n",
      "Epoch 24/100\n",
      "11/11 [==============================] - 0s 4ms/step - loss: 0.1681 - accuracy: 0.9328 - val_loss: 0.1605 - val_accuracy: 0.9237\n",
      "Epoch 25/100\n",
      "11/11 [==============================] - 0s 4ms/step - loss: 0.1467 - accuracy: 0.9424 - val_loss: 0.2249 - val_accuracy: 0.8855\n",
      "Epoch 26/100\n",
      "11/11 [==============================] - 0s 4ms/step - loss: 0.1355 - accuracy: 0.9501 - val_loss: 0.1306 - val_accuracy: 0.9542\n",
      "Epoch 27/100\n",
      "11/11 [==============================] - 0s 4ms/step - loss: 0.1290 - accuracy: 0.9501 - val_loss: 0.1315 - val_accuracy: 0.9389\n",
      "Epoch 28/100\n",
      "11/11 [==============================] - 0s 4ms/step - loss: 0.1369 - accuracy: 0.9424 - val_loss: 0.2789 - val_accuracy: 0.8779\n",
      "Epoch 29/100\n",
      "11/11 [==============================] - 0s 4ms/step - loss: 0.1304 - accuracy: 0.9482 - val_loss: 0.2105 - val_accuracy: 0.9084\n",
      "Epoch 30/100\n",
      "11/11 [==============================] - 0s 4ms/step - loss: 0.1259 - accuracy: 0.9559 - val_loss: 0.0341 - val_accuracy: 1.0000\n",
      "Epoch 31/100\n",
      "11/11 [==============================] - 0s 4ms/step - loss: 0.1607 - accuracy: 0.9271 - val_loss: 0.0394 - val_accuracy: 1.0000\n",
      "Epoch 32/100\n",
      "11/11 [==============================] - 0s 4ms/step - loss: 0.1157 - accuracy: 0.9597 - val_loss: 0.0755 - val_accuracy: 0.9924\n",
      "Epoch 33/100\n",
      "11/11 [==============================] - 0s 4ms/step - loss: 0.0947 - accuracy: 0.9674 - val_loss: 0.0599 - val_accuracy: 0.9924\n",
      "Epoch 34/100\n",
      "11/11 [==============================] - 0s 4ms/step - loss: 0.0869 - accuracy: 0.9578 - val_loss: 0.1484 - val_accuracy: 0.9389\n",
      "Epoch 35/100\n",
      "11/11 [==============================] - 0s 4ms/step - loss: 0.0854 - accuracy: 0.9616 - val_loss: 0.0995 - val_accuracy: 0.9771\n",
      "Epoch 36/100\n",
      "11/11 [==============================] - 0s 4ms/step - loss: 0.0837 - accuracy: 0.9693 - val_loss: 0.0735 - val_accuracy: 0.9771\n",
      "Epoch 37/100\n",
      "11/11 [==============================] - 0s 4ms/step - loss: 0.0798 - accuracy: 0.9693 - val_loss: 0.0167 - val_accuracy: 1.0000\n",
      "Epoch 38/100\n",
      "11/11 [==============================] - 0s 4ms/step - loss: 0.1092 - accuracy: 0.9482 - val_loss: 0.1501 - val_accuracy: 0.9313\n",
      "Epoch 39/100\n",
      "11/11 [==============================] - 0s 4ms/step - loss: 0.0869 - accuracy: 0.9616 - val_loss: 0.1135 - val_accuracy: 0.9618\n",
      "Epoch 40/100\n",
      "11/11 [==============================] - 0s 4ms/step - loss: 0.0657 - accuracy: 0.9750 - val_loss: 0.1984 - val_accuracy: 0.8779\n",
      "Epoch 41/100\n",
      "11/11 [==============================] - 0s 4ms/step - loss: 0.0892 - accuracy: 0.9674 - val_loss: 0.0691 - val_accuracy: 0.9924\n",
      "Epoch 42/100\n",
      "11/11 [==============================] - 0s 4ms/step - loss: 0.0906 - accuracy: 0.9635 - val_loss: 0.0166 - val_accuracy: 1.0000\n",
      "Epoch 43/100\n",
      "11/11 [==============================] - 0s 4ms/step - loss: 0.0700 - accuracy: 0.9770 - val_loss: 0.0363 - val_accuracy: 1.0000\n",
      "Epoch 44/100\n",
      "11/11 [==============================] - 0s 4ms/step - loss: 0.0635 - accuracy: 0.9866 - val_loss: 0.0495 - val_accuracy: 1.0000\n",
      "Epoch 45/100\n",
      "11/11 [==============================] - 0s 4ms/step - loss: 0.0543 - accuracy: 0.9789 - val_loss: 0.0184 - val_accuracy: 1.0000\n",
      "Epoch 46/100\n",
      "11/11 [==============================] - 0s 4ms/step - loss: 0.0616 - accuracy: 0.9789 - val_loss: 0.0463 - val_accuracy: 1.0000\n",
      "Epoch 47/100\n",
      "11/11 [==============================] - 0s 4ms/step - loss: 0.0455 - accuracy: 0.9904 - val_loss: 0.0173 - val_accuracy: 1.0000\n",
      "Epoch 48/100\n",
      "11/11 [==============================] - 0s 4ms/step - loss: 0.0984 - accuracy: 0.9539 - val_loss: 0.0095 - val_accuracy: 1.0000\n",
      "Epoch 49/100\n",
      "11/11 [==============================] - 0s 4ms/step - loss: 0.0714 - accuracy: 0.9750 - val_loss: 0.0235 - val_accuracy: 1.0000\n",
      "Epoch 50/100\n",
      "11/11 [==============================] - 0s 5ms/step - loss: 0.0452 - accuracy: 0.9904 - val_loss: 0.0418 - val_accuracy: 1.0000\n",
      "Epoch 51/100\n",
      "11/11 [==============================] - 0s 4ms/step - loss: 0.0555 - accuracy: 0.9846 - val_loss: 0.2520 - val_accuracy: 0.8550\n",
      "Epoch 52/100\n",
      "11/11 [==============================] - 0s 4ms/step - loss: 0.0456 - accuracy: 0.9866 - val_loss: 0.1612 - val_accuracy: 0.9313\n",
      "Epoch 53/100\n",
      "11/11 [==============================] - 0s 4ms/step - loss: 0.0424 - accuracy: 0.9866 - val_loss: 0.0966 - val_accuracy: 0.9771\n",
      "Epoch 54/100\n",
      "11/11 [==============================] - 0s 4ms/step - loss: 0.0341 - accuracy: 0.9923 - val_loss: 0.0337 - val_accuracy: 1.0000\n",
      "Epoch 55/100\n",
      "11/11 [==============================] - 0s 4ms/step - loss: 0.0287 - accuracy: 0.9942 - val_loss: 0.0245 - val_accuracy: 1.0000\n",
      "Epoch 56/100\n",
      "11/11 [==============================] - 0s 4ms/step - loss: 0.0296 - accuracy: 0.9923 - val_loss: 0.1084 - val_accuracy: 0.9847\n",
      "Epoch 57/100\n",
      "11/11 [==============================] - 0s 4ms/step - loss: 0.0323 - accuracy: 0.9942 - val_loss: 0.0680 - val_accuracy: 0.9924\n",
      "Epoch 58/100\n",
      "11/11 [==============================] - 0s 4ms/step - loss: 0.0266 - accuracy: 0.9962 - val_loss: 0.0696 - val_accuracy: 0.9771\n"
     ]
    },
    {
     "name": "stdout",
     "output_type": "stream",
     "text": [
      "Epoch 59/100\n",
      "11/11 [==============================] - 0s 4ms/step - loss: 0.0316 - accuracy: 0.9942 - val_loss: 0.0953 - val_accuracy: 0.9771\n",
      "Epoch 60/100\n",
      "11/11 [==============================] - 0s 4ms/step - loss: 0.0265 - accuracy: 0.9942 - val_loss: 0.0341 - val_accuracy: 1.0000\n",
      "Epoch 61/100\n",
      "11/11 [==============================] - 0s 4ms/step - loss: 0.0223 - accuracy: 0.9962 - val_loss: 0.0102 - val_accuracy: 1.0000\n",
      "Epoch 62/100\n",
      "11/11 [==============================] - 0s 4ms/step - loss: 0.0349 - accuracy: 0.9923 - val_loss: 0.0090 - val_accuracy: 1.0000\n",
      "Epoch 63/100\n",
      "11/11 [==============================] - 0s 4ms/step - loss: 0.0248 - accuracy: 0.9981 - val_loss: 0.0022 - val_accuracy: 1.0000\n",
      "Epoch 64/100\n",
      "11/11 [==============================] - 0s 4ms/step - loss: 0.0458 - accuracy: 0.9827 - val_loss: 0.0087 - val_accuracy: 1.0000\n",
      "Epoch 65/100\n",
      "11/11 [==============================] - 0s 4ms/step - loss: 0.0244 - accuracy: 0.9981 - val_loss: 0.0235 - val_accuracy: 1.0000\n",
      "Epoch 66/100\n",
      "11/11 [==============================] - 0s 4ms/step - loss: 0.0214 - accuracy: 0.9962 - val_loss: 0.0385 - val_accuracy: 1.0000\n",
      "Epoch 67/100\n",
      "11/11 [==============================] - 0s 4ms/step - loss: 0.0229 - accuracy: 0.9962 - val_loss: 0.1403 - val_accuracy: 0.9542\n",
      "Epoch 68/100\n",
      "11/11 [==============================] - 0s 4ms/step - loss: 0.0237 - accuracy: 0.9981 - val_loss: 0.0179 - val_accuracy: 1.0000\n",
      "Epoch 69/100\n",
      "11/11 [==============================] - 0s 4ms/step - loss: 0.0158 - accuracy: 0.9981 - val_loss: 0.0213 - val_accuracy: 1.0000\n",
      "Epoch 70/100\n",
      "11/11 [==============================] - 0s 4ms/step - loss: 0.0158 - accuracy: 1.0000 - val_loss: 0.1247 - val_accuracy: 0.9618\n",
      "Epoch 71/100\n",
      "11/11 [==============================] - 0s 4ms/step - loss: 0.0218 - accuracy: 0.9942 - val_loss: 0.0919 - val_accuracy: 0.9924\n",
      "Epoch 72/100\n",
      "11/11 [==============================] - 0s 4ms/step - loss: 0.0156 - accuracy: 0.9942 - val_loss: 0.0711 - val_accuracy: 0.9924\n",
      "Epoch 73/100\n",
      "11/11 [==============================] - 0s 4ms/step - loss: 0.0153 - accuracy: 0.9981 - val_loss: 0.1405 - val_accuracy: 0.9466\n",
      "Epoch 74/100\n",
      "11/11 [==============================] - 0s 4ms/step - loss: 0.0309 - accuracy: 0.9827 - val_loss: 0.2754 - val_accuracy: 0.8550\n",
      "Epoch 75/100\n",
      "11/11 [==============================] - 0s 4ms/step - loss: 0.0248 - accuracy: 0.9904 - val_loss: 0.0310 - val_accuracy: 0.9924\n",
      "Epoch 76/100\n",
      "11/11 [==============================] - 0s 4ms/step - loss: 0.0172 - accuracy: 0.9962 - val_loss: 0.0068 - val_accuracy: 1.0000\n",
      "Epoch 77/100\n",
      "11/11 [==============================] - 0s 5ms/step - loss: 0.0196 - accuracy: 0.9981 - val_loss: 0.0116 - val_accuracy: 1.0000\n",
      "Epoch 78/100\n",
      "11/11 [==============================] - 0s 4ms/step - loss: 0.0115 - accuracy: 0.9981 - val_loss: 0.0082 - val_accuracy: 1.0000\n",
      "Epoch 79/100\n",
      "11/11 [==============================] - 0s 4ms/step - loss: 0.0117 - accuracy: 1.0000 - val_loss: 0.0287 - val_accuracy: 1.0000\n",
      "Epoch 80/100\n",
      "11/11 [==============================] - 0s 4ms/step - loss: 0.0150 - accuracy: 0.9962 - val_loss: 0.0212 - val_accuracy: 1.0000\n",
      "Epoch 81/100\n",
      "11/11 [==============================] - 0s 4ms/step - loss: 0.0114 - accuracy: 1.0000 - val_loss: 0.0164 - val_accuracy: 1.0000\n",
      "Epoch 82/100\n",
      "11/11 [==============================] - 0s 4ms/step - loss: 0.0118 - accuracy: 1.0000 - val_loss: 0.0143 - val_accuracy: 1.0000\n",
      "Epoch 83/100\n",
      "11/11 [==============================] - 0s 4ms/step - loss: 0.0083 - accuracy: 1.0000 - val_loss: 0.0149 - val_accuracy: 1.0000\n",
      "Epoch 84/100\n",
      "11/11 [==============================] - 0s 4ms/step - loss: 0.0081 - accuracy: 1.0000 - val_loss: 0.0066 - val_accuracy: 1.0000\n",
      "Epoch 85/100\n",
      "11/11 [==============================] - 0s 4ms/step - loss: 0.0074 - accuracy: 1.0000 - val_loss: 0.0104 - val_accuracy: 1.0000\n",
      "Epoch 86/100\n",
      "11/11 [==============================] - 0s 4ms/step - loss: 0.0078 - accuracy: 1.0000 - val_loss: 0.0125 - val_accuracy: 1.0000\n",
      "Epoch 87/100\n",
      "11/11 [==============================] - 0s 4ms/step - loss: 0.0068 - accuracy: 1.0000 - val_loss: 0.0059 - val_accuracy: 1.0000\n",
      "Epoch 88/100\n",
      "11/11 [==============================] - 0s 4ms/step - loss: 0.0082 - accuracy: 1.0000 - val_loss: 0.0061 - val_accuracy: 1.0000\n",
      "Epoch 89/100\n",
      "11/11 [==============================] - 0s 4ms/step - loss: 0.0095 - accuracy: 1.0000 - val_loss: 0.0043 - val_accuracy: 1.0000\n",
      "Epoch 90/100\n",
      "11/11 [==============================] - 0s 4ms/step - loss: 0.0077 - accuracy: 1.0000 - val_loss: 0.0108 - val_accuracy: 1.0000\n",
      "Epoch 91/100\n",
      "11/11 [==============================] - 0s 4ms/step - loss: 0.0067 - accuracy: 1.0000 - val_loss: 0.0132 - val_accuracy: 1.0000\n",
      "Epoch 92/100\n",
      "11/11 [==============================] - 0s 4ms/step - loss: 0.0064 - accuracy: 1.0000 - val_loss: 0.0175 - val_accuracy: 1.0000\n",
      "Epoch 93/100\n",
      "11/11 [==============================] - 0s 3ms/step - loss: 0.0054 - accuracy: 1.0000 - val_loss: 0.0193 - val_accuracy: 1.0000\n",
      "Epoch 94/100\n",
      "11/11 [==============================] - 0s 4ms/step - loss: 0.0068 - accuracy: 1.0000 - val_loss: 0.0102 - val_accuracy: 1.0000\n",
      "Epoch 95/100\n",
      "11/11 [==============================] - 0s 4ms/step - loss: 0.0053 - accuracy: 1.0000 - val_loss: 0.0081 - val_accuracy: 1.0000\n",
      "Epoch 96/100\n",
      "11/11 [==============================] - 0s 4ms/step - loss: 0.0058 - accuracy: 1.0000 - val_loss: 0.0166 - val_accuracy: 1.0000\n",
      "Epoch 97/100\n",
      "11/11 [==============================] - 0s 4ms/step - loss: 0.0051 - accuracy: 1.0000 - val_loss: 0.0077 - val_accuracy: 1.0000\n",
      "Epoch 98/100\n",
      "11/11 [==============================] - 0s 4ms/step - loss: 0.0043 - accuracy: 1.0000 - val_loss: 0.0185 - val_accuracy: 1.0000\n",
      "Epoch 99/100\n",
      "11/11 [==============================] - 0s 4ms/step - loss: 0.0049 - accuracy: 1.0000 - val_loss: 0.0136 - val_accuracy: 1.0000\n",
      "Epoch 100/100\n",
      "11/11 [==============================] - 0s 4ms/step - loss: 0.0038 - accuracy: 1.0000 - val_loss: 0.0024 - val_accuracy: 1.0000\n"
     ]
    }
   ],
   "source": [
    "history = model.fit(X_train,y_train,batch_size=50,epochs=100,verbose=1,validation_split=0.2)"
   ]
  },
  {
   "cell_type": "code",
   "execution_count": 17,
   "id": "7ec0de69",
   "metadata": {
    "scrolled": false
   },
   "outputs": [
    {
     "data": {
      "text/plain": [
       "100"
      ]
     },
     "execution_count": 17,
     "metadata": {},
     "output_type": "execute_result"
    }
   ],
   "source": [
    "len(history.history['accuracy'])"
   ]
  },
  {
   "cell_type": "code",
   "execution_count": 18,
   "id": "cef1e643",
   "metadata": {},
   "outputs": [
    {
     "name": "stdout",
     "output_type": "stream",
     "text": [
      "4/4 [==============================] - 0s 2ms/step\n"
     ]
    }
   ],
   "source": [
    "y_pred_prob = model.predict(X_test)"
   ]
  },
  {
   "cell_type": "code",
   "execution_count": 19,
   "id": "ce074a8b",
   "metadata": {},
   "outputs": [],
   "source": [
    "y_pred = np.array([ 1 if i > 0.5 else 0 for i in y_pred_prob]) "
   ]
  },
  {
   "cell_type": "code",
   "execution_count": 20,
   "id": "c8c51172",
   "metadata": {},
   "outputs": [
    {
     "data": {
      "text/plain": [
       "array([[7.54514098e-01],\n",
       "       [1.78175469e-04],\n",
       "       [9.99997020e-01],\n",
       "       [9.97675088e-05],\n",
       "       [1.00000000e+00],\n",
       "       [9.99977827e-01],\n",
       "       [9.99608874e-01],\n",
       "       [9.99998033e-01],\n",
       "       [7.21617607e-06],\n",
       "       [4.31470096e-01],\n",
       "       [9.99998629e-01],\n",
       "       [9.99989927e-01],\n",
       "       [2.46435549e-04],\n",
       "       [9.99999881e-01],\n",
       "       [9.99999702e-01],\n",
       "       [9.99998927e-01],\n",
       "       [9.99783397e-01],\n",
       "       [9.99999881e-01],\n",
       "       [9.99377012e-01],\n",
       "       [9.99999881e-01],\n",
       "       [1.00000000e+00],\n",
       "       [9.12891919e-05],\n",
       "       [8.44632983e-01],\n",
       "       [9.01222156e-05],\n",
       "       [9.99958277e-01],\n",
       "       [9.84535754e-01],\n",
       "       [6.10989111e-04],\n",
       "       [3.93148330e-05],\n",
       "       [9.99999166e-01],\n",
       "       [9.99999762e-01],\n",
       "       [9.99999821e-01],\n",
       "       [1.15307164e-04],\n",
       "       [2.85229692e-03],\n",
       "       [9.99999344e-01],\n",
       "       [9.99999881e-01],\n",
       "       [9.99999523e-01],\n",
       "       [9.99999523e-01],\n",
       "       [9.99999702e-01],\n",
       "       [9.99996006e-01],\n",
       "       [9.99997854e-01],\n",
       "       [9.98255432e-01],\n",
       "       [1.00000000e+00],\n",
       "       [9.98565912e-01],\n",
       "       [2.32266349e-04],\n",
       "       [9.99938428e-01],\n",
       "       [1.00000000e+00],\n",
       "       [1.00000000e+00],\n",
       "       [9.99769449e-01],\n",
       "       [6.96194591e-03],\n",
       "       [9.99031603e-01],\n",
       "       [7.01799057e-03],\n",
       "       [9.99996483e-01],\n",
       "       [9.96775448e-01],\n",
       "       [9.99999762e-01],\n",
       "       [9.99999881e-01],\n",
       "       [5.82099140e-01],\n",
       "       [9.99999881e-01],\n",
       "       [9.99999881e-01],\n",
       "       [1.00000000e+00],\n",
       "       [2.07512870e-01],\n",
       "       [9.99999762e-01],\n",
       "       [9.99997795e-01],\n",
       "       [9.99983609e-01],\n",
       "       [9.99999881e-01],\n",
       "       [9.99984145e-01],\n",
       "       [9.87250745e-01],\n",
       "       [9.99992490e-01],\n",
       "       [1.00000000e+00],\n",
       "       [2.08033925e-05],\n",
       "       [1.25953564e-04],\n",
       "       [9.73585248e-01],\n",
       "       [9.99886334e-01],\n",
       "       [9.99999940e-01],\n",
       "       [9.99992907e-01],\n",
       "       [9.99999404e-01],\n",
       "       [1.00000000e+00],\n",
       "       [9.99997199e-01],\n",
       "       [9.99986112e-01],\n",
       "       [9.99996781e-01],\n",
       "       [9.99999821e-01],\n",
       "       [9.99985039e-01],\n",
       "       [6.71271514e-03],\n",
       "       [1.00000000e+00],\n",
       "       [9.99999702e-01],\n",
       "       [9.82743323e-01],\n",
       "       [1.00000000e+00],\n",
       "       [1.00000000e+00],\n",
       "       [9.99998152e-01],\n",
       "       [9.98018384e-01],\n",
       "       [2.89812779e-05],\n",
       "       [9.99999940e-01],\n",
       "       [9.99546409e-01],\n",
       "       [9.99997020e-01],\n",
       "       [9.99785244e-01],\n",
       "       [9.99998927e-01],\n",
       "       [9.99999821e-01],\n",
       "       [9.99762118e-01],\n",
       "       [9.99998808e-01],\n",
       "       [9.99912620e-01],\n",
       "       [9.99997914e-01],\n",
       "       [9.99992669e-01],\n",
       "       [9.99886811e-01],\n",
       "       [9.99985754e-01],\n",
       "       [9.99999940e-01],\n",
       "       [9.99444962e-01],\n",
       "       [1.00000000e+00],\n",
       "       [9.99999821e-01],\n",
       "       [9.16318357e-01],\n",
       "       [9.82419848e-01],\n",
       "       [9.99999881e-01],\n",
       "       [9.99999821e-01],\n",
       "       [1.00000000e+00],\n",
       "       [9.98649061e-01],\n",
       "       [9.99999762e-01],\n",
       "       [9.99999523e-01],\n",
       "       [9.99999583e-01],\n",
       "       [9.99707043e-01],\n",
       "       [8.96862030e-01],\n",
       "       [9.99987125e-01],\n",
       "       [9.99998391e-01],\n",
       "       [1.00000000e+00]], dtype=float32)"
      ]
     },
     "execution_count": 20,
     "metadata": {},
     "output_type": "execute_result"
    }
   ],
   "source": [
    "y_pred_prob"
   ]
  },
  {
   "cell_type": "code",
   "execution_count": 21,
   "id": "fecb7984",
   "metadata": {},
   "outputs": [],
   "source": [
    "from sklearn.metrics import *"
   ]
  },
  {
   "cell_type": "code",
   "execution_count": 22,
   "id": "9f4f06cf",
   "metadata": {},
   "outputs": [
    {
     "data": {
      "text/plain": [
       "0.9669421487603306"
      ]
     },
     "execution_count": 22,
     "metadata": {},
     "output_type": "execute_result"
    }
   ],
   "source": [
    "accuracy_score(y_true = y_test, y_pred = y_pred)"
   ]
  },
  {
   "cell_type": "code",
   "execution_count": 23,
   "id": "baf1151f",
   "metadata": {},
   "outputs": [
    {
     "data": {
      "text/plain": [
       "array([[ 16,   1],\n",
       "       [  3, 101]])"
      ]
     },
     "execution_count": 23,
     "metadata": {},
     "output_type": "execute_result"
    }
   ],
   "source": [
    "confusion_matrix(y_true = y_test, y_pred = y_pred)"
   ]
  },
  {
   "cell_type": "code",
   "execution_count": 24,
   "id": "d69ffae5",
   "metadata": {},
   "outputs": [],
   "source": [
    "f1score = f1_score(y_true = y_test, y_pred = y_pred)"
   ]
  },
  {
   "cell_type": "code",
   "execution_count": 25,
   "id": "f81c34c8",
   "metadata": {},
   "outputs": [],
   "source": [
    "recall = recall_score(y_true = y_test, y_pred = y_pred)"
   ]
  },
  {
   "cell_type": "code",
   "execution_count": 28,
   "id": "af5d180b",
   "metadata": {},
   "outputs": [
    {
     "data": {
      "text/plain": [
       "'%r'"
      ]
     },
     "execution_count": 28,
     "metadata": {},
     "output_type": "execute_result"
    }
   ],
   "source": [
    "precision"
   ]
  },
  {
   "cell_type": "code",
   "execution_count": 29,
   "id": "32c0a609",
   "metadata": {},
   "outputs": [],
   "source": [
    "precision = precision_score(y_test,y_pred)"
   ]
  },
  {
   "cell_type": "code",
   "execution_count": 30,
   "id": "84415e24",
   "metadata": {},
   "outputs": [
    {
     "data": {
      "text/plain": [
       "[<matplotlib.lines.Line2D at 0x7f397348cf70>]"
      ]
     },
     "execution_count": 30,
     "metadata": {},
     "output_type": "execute_result"
    },
    {
     "data": {
      "image/png": "[encoded data removed]",
      "text/plain": [
       "<Figure size 432x288 with 1 Axes>"
      ]
     },
     "metadata": {
      "needs_background": "light"
     },
     "output_type": "display_data"
    }
   ],
   "source": [
    "import matplotlib.pyplot as plt\n",
    "\n",
    "plt.plot(history.history['loss'])\n",
    "plt.plot(history.history['val_loss'])"
   ]
  },
  {
   "cell_type": "code",
   "execution_count": 31,
   "id": "83867205",
   "metadata": {},
   "outputs": [
    {
     "data": {
      "image/png": "[encoded data removed]",
      "text/plain": [
       "<Figure size 432x288 with 1 Axes>"
      ]
     },
     "metadata": {
      "needs_background": "light"
     },
     "output_type": "display_data"
    }
   ],
   "source": [
    "plt.plot(history.history['accuracy'])\n",
    "plt.plot(history.history['val_accuracy'])\n",
    "plt.show()"
   ]
  },
  {
   "cell_type": "code",
   "execution_count": 32,
   "id": "e0d29a71",
   "metadata": {},
   "outputs": [],
   "source": [
    "auc = roc_auc_score(y_test, y_pred_prob)"
   ]
  },
  {
   "cell_type": "code",
   "execution_count": 33,
   "id": "5af74170",
   "metadata": {},
   "outputs": [
    {
     "data": {
      "text/plain": [
       "0.9971719457013575"
      ]
     },
     "execution_count": 33,
     "metadata": {},
     "output_type": "execute_result"
    }
   ],
   "source": [
    "auc"
   ]
  },
  {
   "cell_type": "code",
   "execution_count": 34,
   "id": "7fc46b07",
   "metadata": {},
   "outputs": [],
   "source": [
    "mlp_fpr, mlp_tpr, _ = roc_curve(y_test, y_pred_prob)"
   ]
  },
  {
   "cell_type": "code",
   "execution_count": 35,
   "id": "e84b2aaa",
   "metadata": {},
   "outputs": [
    {
     "data": {
      "text/plain": [
       "[<matplotlib.lines.Line2D at 0x7f3972b5b610>]"
      ]
     },
     "execution_count": 35,
     "metadata": {},
     "output_type": "execute_result"
    },
    {
     "data": {
      "image/png": "[encoded data removed]",
      "text/plain": [
       "<Figure size 432x288 with 1 Axes>"
      ]
     },
     "metadata": {
      "needs_background": "light"
     },
     "output_type": "display_data"
    }
   ],
   "source": [
    "plt.plot(mlp_fpr, mlp_tpr, linestyle='--', label='MLP prediction (AUROC = %0.3f)' % auc)"
   ]
  },
  {
   "cell_type": "code",
   "execution_count": 36,
   "id": "cd4a4a68",
   "metadata": {},
   "outputs": [],
   "source": [
    "#Precision Recall Curve"
   ]
  },
  {
   "cell_type": "code",
   "execution_count": 37,
   "id": "b7403218",
   "metadata": {},
   "outputs": [],
   "source": [
    "mlp_precision, mlp_recall, _ = precision_recall_curve(y_test, y_pred_prob)"
   ]
  },
  {
   "cell_type": "code",
   "execution_count": 38,
   "id": "95b01dfb",
   "metadata": {},
   "outputs": [
    {
     "data": {
      "image/png": "[encoded data removed]",
      "text/plain": [
       "<Figure size 576x576 with 1 Axes>"
      ]
     },
     "metadata": {
      "needs_background": "light"
     },
     "output_type": "display_data"
    }
   ],
   "source": [
    "plt.figure(figsize=(8,8))\n",
    "plt.plot(mlp_recall, mlp_precision, marker='.', label='MLP')\n",
    "# axis labels\n",
    "plt.xlabel('Recall')\n",
    "plt.ylabel('Precision')\n",
    "# show the legend\n",
    "plt.legend()\n",
    "# show the plot\n",
    "plt.show()"
   ]
  },
  {
   "cell_type": "code",
   "execution_count": 40,
   "id": "b8b9a795",
   "metadata": {},
   "outputs": [
    {
     "data": {
      "text/plain": [
       "59"
      ]
     },
     "execution_count": 40,
     "metadata": {},
     "output_type": "execute_result"
    }
   ],
   "source": [
    "X_train.shape[1]"
   ]
  },
  {
   "cell_type": "code",
   "execution_count": 55,
   "id": "434d5b3c",
   "metadata": {},
   "outputs": [],
   "source": [
    "X_train_reg = train.drop(['batch_N', 'batch_O', 'batch_P', 'batch_Q',\n",
    "       'batch_R', 'batch_S', 'batch_T','batch_H', 'batch_I', 'batch_J', 'batch_K',\n",
    "       'batch_L', 'batch_M', 'batch_N','ctnum_random','batch_D'], axis = 1)"
   ]
  },
  {
   "cell_type": "code",
   "execution_count": 57,
   "id": "81f59848",
   "metadata": {},
   "outputs": [],
   "source": [
    "X_test_reg = test.drop(['batch_N', 'batch_O', 'batch_P', 'batch_Q',\n",
    "       'batch_R', 'batch_S', 'batch_T','batch_H', 'batch_I', 'batch_J', 'batch_K',\n",
    "       'batch_L', 'batch_M', 'batch_N','ctnum_random','V19'], axis = 1)"
   ]
  },
  {
   "cell_type": "code",
   "execution_count": 58,
   "id": "b8bff27c",
   "metadata": {},
   "outputs": [],
   "source": [
    "y_train_reg = train['ctnum_random']\n",
    "y_test_reg = test['ctnum_random']"
   ]
  },
  {
   "cell_type": "code",
   "execution_count": 63,
   "id": "d7b4e0ec",
   "metadata": {},
   "outputs": [],
   "source": [
    "scaler_reg = StandardScaler()\n",
    "X_train_reg = scaler_reg.fit_transform(X_train_reg)\n",
    "X_test_reg = scaler_reg.transform(X_test_reg)"
   ]
  }
 ],
 "metadata": {
  "kernelspec": {
   "display_name": "Python 3 (ipykernel)",
   "language": "python",
   "name": "python3"
  },
  "language_info": {
   "codemirror_mode": {
    "name": "ipython",
    "version": 3
   },
   "file_extension": ".py",
   "mimetype": "text/x-python",
   "name": "python",
   "nbconvert_exporter": "python",
   "pygments_lexer": "ipython3",
   "version": "3.9.12"
  }
 },
 "nbformat": 4,
 "nbformat_minor": 5
}
