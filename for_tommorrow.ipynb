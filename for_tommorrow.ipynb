{
  "nbformat": 4,
  "nbformat_minor": 0,
  "metadata": {
    "colab": {
      "provenance": [],
      "collapsed_sections": [],
      "mount_file_id": "1wdF7YGyOer_gdYuuBZEsv5aPaNiJnyaz",
      "authorship_tag": "ABX9TyNyjNXYnkHFvxoMBwH2snZj",
      "include_colab_link": true
    },
    "kernelspec": {
      "name": "python3",
      "display_name": "Python 3"
    },
    "language_info": {
      "name": "python"
    }
  },
  "cells": [
    {
      "cell_type": "markdown",
      "metadata": {
        "id": "view-in-github",
        "colab_type": "text"
      },
      "source": [
        "<a href=\"https://colab.research.google.com/github/codebuzer/Bioactivity-Prediction-App/blob/main/for_tommorrow.ipynb\" target=\"_parent\"><img src=\"https://colab.research.google.com/assets/colab-badge.svg\" alt=\"Open In Colab\"/></a>"
      ]
    },
    {
      "cell_type": "code",
      "execution_count": 1,
      "metadata": {
        "id": "oJSy2ZCBi24H"
      },
      "outputs": [],
      "source": [
        "import pandas as pd\n",
        "import numpy as np"
      ]
    },
    {
      "cell_type": "code",
      "source": [
        "test = pd.read_csv(\"/content/drive/MyDrive/test (1).csv\", index_col = 0)"
      ],
      "metadata": {
        "id": "HrBYomkIjB6g"
      },
      "execution_count": 2,
      "outputs": []
    },
    {
      "cell_type": "code",
      "source": [
        "train = pd.read_csv(\"/content/drive/MyDrive/train (2).csv\", index_col = 0)"
      ],
      "metadata": {
        "id": "GD3Grbe0jESx"
      },
      "execution_count": 3,
      "outputs": []
    },
    {
      "cell_type": "code",
      "source": [
        "test.columns"
      ],
      "metadata": {
        "colab": {
          "base_uri": "https://localhost:8080/"
        },
        "id": "RajBJMAojS6w",
        "outputId": "01feaf9b-569a-4064-caab-2785030cc3df"
      },
      "execution_count": 4,
      "outputs": [
        {
          "output_type": "execute_result",
          "data": {
            "text/plain": [
              "Index(['V1', 'V2', 'V3', 'V4', 'V5', 'V6', 'V7', 'V8', 'V9', 'V10', 'V11',\n",
              "       'V12', 'V13', 'V14', 'V15', 'V16', 'V17', 'V18', 'V19', 'V20', 'V21',\n",
              "       'V22', 'V23', 'V24', 'V25', 'V26', 'V27', 'V28', 'V29', 'V30', 'V31',\n",
              "       'V32', 'V33', 'V34', 'V35', 'V36', 'V37', 'V38', 'V39', 'V40', 'V41',\n",
              "       'V42', 'V43', 'V44', 'V45', 'V46', 'V47', 'V48', 'V49', 'V50',\n",
              "       'agenum_random', 'ctnum_random', 'batch_A', 'batch_B', 'batch_C',\n",
              "       'batch_E', 'batch_F', 'batch_G', 'batch_H', 'batch_I', 'batch_J',\n",
              "       'batch_K', 'batch_L', 'batch_M', 'batch_N', 'batch_O', 'batch_P',\n",
              "       'batch_Q', 'batch_R', 'batch_S', 'batch_T', 'batch_U',\n",
              "       'ctnum_median_status', 'infection'],\n",
              "      dtype='object')"
            ]
          },
          "metadata": {},
          "execution_count": 4
        }
      ]
    },
    {
      "cell_type": "code",
      "source": [
        "train.columns"
      ],
      "metadata": {
        "colab": {
          "base_uri": "https://localhost:8080/"
        },
        "id": "3iOZyHoFjVD0",
        "outputId": "c0b92ec8-55bc-47dd-d21e-e87c528dfd9a"
      },
      "execution_count": 5,
      "outputs": [
        {
          "output_type": "execute_result",
          "data": {
            "text/plain": [
              "Index(['V1', 'V2', 'V3', 'V4', 'V5', 'V6', 'V7', 'V8', 'V9', 'V10', 'V11',\n",
              "       'V12', 'V13', 'V14', 'V15', 'V16', 'V17', 'V18', 'V20', 'V21', 'V22',\n",
              "       'V23', 'V24', 'V25', 'V26', 'V27', 'V28', 'V29', 'V30', 'V31', 'V32',\n",
              "       'V33', 'V34', 'V35', 'V36', 'V37', 'V38', 'V39', 'V40', 'V41', 'V42',\n",
              "       'V43', 'V44', 'V45', 'V46', 'V47', 'V48', 'V49', 'V50', 'agenum_random',\n",
              "       'ctnum_random', 'batch_A', 'batch_B', 'batch_C', 'batch_D', 'batch_E',\n",
              "       'batch_F', 'batch_G', 'batch_H', 'batch_I', 'batch_J', 'batch_K',\n",
              "       'batch_L', 'batch_M', 'batch_N', 'batch_O', 'batch_P', 'batch_Q',\n",
              "       'batch_R', 'batch_S', 'batch_T', 'batch_U', 'ctnum_median_status',\n",
              "       'infection'],\n",
              "      dtype='object')"
            ]
          },
          "metadata": {},
          "execution_count": 5
        }
      ]
    },
    {
      "cell_type": "code",
      "source": [
        "train = train.drop(['batch_N', 'batch_O', 'batch_P', 'batch_Q',\n",
        "       'batch_R', 'batch_S', 'batch_T','batch_H', 'batch_I', 'batch_J', 'batch_K',\n",
        "       'batch_L', 'batch_M', 'batch_N','batch_D'], axis = 1)"
      ],
      "metadata": {
        "id": "I6uAuXT0jGZS"
      },
      "execution_count": 6,
      "outputs": []
    },
    {
      "cell_type": "code",
      "source": [
        "test = test.drop(['V19','batch_N', 'batch_O', 'batch_P', 'batch_Q',\n",
        "       'batch_R', 'batch_S', 'batch_T','batch_H', 'batch_I', 'batch_J', 'batch_K',\n",
        "       'batch_L', 'batch_M', 'batch_N'], axis = 1)"
      ],
      "metadata": {
        "id": "AUcFQ6unjNxs"
      },
      "execution_count": 7,
      "outputs": []
    },
    {
      "cell_type": "code",
      "source": [
        "X_train = train.drop(['infection'], axis = 1)"
      ],
      "metadata": {
        "id": "tA50YqvKjfE6"
      },
      "execution_count": 8,
      "outputs": []
    },
    {
      "cell_type": "code",
      "source": [
        "y_train = train['infection']"
      ],
      "metadata": {
        "id": "tqwp-M9_jl9i"
      },
      "execution_count": 9,
      "outputs": []
    },
    {
      "cell_type": "code",
      "source": [
        "y_test = test['infection']"
      ],
      "metadata": {
        "id": "Dht2Dj3Rkfxp"
      },
      "execution_count": 10,
      "outputs": []
    },
    {
      "cell_type": "code",
      "source": [
        "X_test = test.drop(['infection'], axis = 1)"
      ],
      "metadata": {
        "id": "xbYtaIgnkiVo"
      },
      "execution_count": 11,
      "outputs": []
    },
    {
      "cell_type": "code",
      "source": [
        "X_train.shape,y_train.shape,X_test.shape,y_test.shape"
      ],
      "metadata": {
        "colab": {
          "base_uri": "https://localhost:8080/"
        },
        "id": "2wgyRYPukmHH",
        "outputId": "b73c9c09-3ab2-4add-8d4d-44c2607f637f"
      },
      "execution_count": 13,
      "outputs": [
        {
          "output_type": "execute_result",
          "data": {
            "text/plain": [
              "((652, 59), (652,), (121, 59), (121,))"
            ]
          },
          "metadata": {},
          "execution_count": 13
        }
      ]
    },
    {
      "cell_type": "code",
      "source": [
        "from sklearn.preprocessing import StandardScaler"
      ],
      "metadata": {
        "id": "pSoI1M3_kpdl"
      },
      "execution_count": 14,
      "outputs": []
    },
    {
      "cell_type": "code",
      "source": [
        "scaler = StandardScaler()"
      ],
      "metadata": {
        "id": "x2MIjiQCkzun"
      },
      "execution_count": 15,
      "outputs": []
    },
    {
      "cell_type": "code",
      "source": [
        "scaler.fit(X_train)"
      ],
      "metadata": {
        "colab": {
          "base_uri": "https://localhost:8080/"
        },
        "id": "IXh1MQXWk2gb",
        "outputId": "c7121a2c-6cb7-4878-b628-2df591eaa824"
      },
      "execution_count": 16,
      "outputs": [
        {
          "output_type": "execute_result",
          "data": {
            "text/plain": [
              "StandardScaler()"
            ]
          },
          "metadata": {},
          "execution_count": 16
        }
      ]
    },
    {
      "cell_type": "code",
      "source": [
        "X_test = scaler.transform(X_test)\n",
        "X_train = scaler.transform(X_train)"
      ],
      "metadata": {
        "id": "oK0ek9Mnk7Ib"
      },
      "execution_count": 18,
      "outputs": []
    },
    {
      "cell_type": "code",
      "source": [
        "from sklearn.ensemble import RandomForestClassifier "
      ],
      "metadata": {
        "id": "gsy9qWpflFLl"
      },
      "execution_count": 19,
      "outputs": []
    },
    {
      "cell_type": "code",
      "source": [
        "rf = RandomForestClassifier()"
      ],
      "metadata": {
        "id": "syd5C3celS_9"
      },
      "execution_count": 20,
      "outputs": []
    },
    {
      "cell_type": "code",
      "source": [
        "rf.fit(X_train,y_train)"
      ],
      "metadata": {
        "colab": {
          "base_uri": "https://localhost:8080/"
        },
        "id": "04SyV9dqlXuw",
        "outputId": "e86ec31b-c37d-4a90-a1e6-b4f5b57e9e7c"
      },
      "execution_count": 21,
      "outputs": [
        {
          "output_type": "execute_result",
          "data": {
            "text/plain": [
              "RandomForestClassifier()"
            ]
          },
          "metadata": {},
          "execution_count": 21
        }
      ]
    },
    {
      "cell_type": "code",
      "source": [
        "y_pred_rf = rf.predict(X_test)"
      ],
      "metadata": {
        "id": "LzrJYiaZlbQI"
      },
      "execution_count": 22,
      "outputs": []
    },
    {
      "cell_type": "code",
      "source": [
        "from sklearn.metrics import accuracy_score, confusion_matrix,precision_score,recall_score,f1_score\n",
        "rf_acc = accuracy_score(y_test,y_pred_rf)*100\n",
        "rf_con = confusion_matrix(y_test,y_pred_rf)\n",
        "rf_pre = precision_score(y_test,y_pred_rf)\n",
        "rf_rec = recall_score(y_test,y_pred_rf)\n",
        "rf_f1 = f1_score(y_test,y_pred_rf)"
      ],
      "metadata": {
        "id": "0fTGcp6rlgWb"
      },
      "execution_count": 46,
      "outputs": []
    },
    {
      "cell_type": "code",
      "source": [
        "from sklearn.linear_model import LogisticRegression\n",
        "lr = LogisticRegression()\n",
        "lr.fit(X_train,y_train)\n",
        "y_pred_lr = lr.predict(X_test)\n",
        "lr_acc = accuracy_score(y_test,y_pred_lr)*100\n",
        "lr_con = confusion_matrix(y_test,y_pred_lr)\n",
        "lr_pre = precision_score(y_test,y_pred_lr)\n",
        "lr_rec = recall_score(y_test,y_pred_lr)\n",
        "lr_f1 = f1_score(y_test,y_pred_lr)"
      ],
      "metadata": {
        "id": "mQ9MKYpZYgUd"
      },
      "execution_count": 47,
      "outputs": []
    },
    {
      "cell_type": "code",
      "source": [
        "from sklearn.tree import DecisionTreeClassifier\n",
        "dt = DecisionTreeClassifier()\n",
        "dt.fit(X_train,y_train)\n",
        "y_pred_dt = dt.predict(X_test)\n",
        "dt_acc = accuracy_score(y_test,y_pred_dt)\n",
        "dt_con = confusion_matrix(y_test, y_pred_dt)\n",
        "dt_pre = precision_score(y_test,y_pred_dt)\n",
        "dt_rec = recall_score(y_test,y_pred_dt)\n",
        "dt_f1 = f1_score(y_test,y_pred_dt)\n"
      ],
      "metadata": {
        "id": "RRsFIFZYZa18"
      },
      "execution_count": 49,
      "outputs": []
    },
    {
      "cell_type": "code",
      "source": [
        "import xgboost as xgb\n",
        "xgb = xgb.XGBClassifier()\n",
        "xgb.fit(X_train, y_train)\n",
        "y_pred_xg = xgb.predict(X_test)\n",
        "xg_acc = accuracy_score(y_test,y_pred_xg)*100\n",
        "xg_con = confusion_matrix(y_test, y_pred_xg)\n",
        "xg_pre = precision_score(y_test,y_pred_xg)\n",
        "xg_rec = recall_score(y_test,y_pred_xg)\n",
        "xg_f1 = f1_score(y_test,y_pred_xg)"
      ],
      "metadata": {
        "id": "6lbcUtnYaQIK"
      },
      "execution_count": 50,
      "outputs": []
    },
    {
      "cell_type": "code",
      "source": [
        "result = pd.DataFrame()\n",
        "result['Algorithm'] = ['XgBoost','RandomForest','DecisionTree','LogisticRegression']\n",
        "result['Accuracy score'] = [xg_acc,rf_acc,dt_acc,lr_acc]\n",
        "result['Precision'] = [xg_pre,rf_pre,dt_pre,lr_pre]\n",
        "result['Recall'] = [xg_rec,rf_rec,dt_rec,lr_rec]\n",
        "result['F1 score'] = [xg_f1,rf_f1,dt_f1,lr_f1]"
      ],
      "metadata": {
        "id": "rfQRbamfbN0j"
      },
      "execution_count": 55,
      "outputs": []
    },
    {
      "cell_type": "code",
      "source": [
        "result"
      ],
      "metadata": {
        "colab": {
          "base_uri": "https://localhost:8080/",
          "height": 175
        },
        "id": "oqjluo0IdeMI",
        "outputId": "f65d7873-3bad-4efa-fec7-87214e8c3227"
      },
      "execution_count": 56,
      "outputs": [
        {
          "output_type": "execute_result",
          "data": {
            "text/plain": [
              "            Algorithm  Accuracy score  Precision    Recall  F1 score\n",
              "0             XgBoost       97.520661   1.000000  0.971154  0.985366\n",
              "1        RandomForest       95.867769   0.971429  0.980769  0.976077\n",
              "2        DecisionTree        0.925620   0.961165  0.951923  0.956522\n",
              "3  LogisticRegression       95.041322   0.980392  0.961538  0.970874"
            ],
            "text/html": [
              "\n",
              "  <div id=\"df-ca9cba96-f845-4ea6-9dd1-164de2ba08b1\">\n",
              "    <div class=\"colab-df-container\">\n",
              "      <div>\n",
              "<style scoped>\n",
              "    .dataframe tbody tr th:only-of-type {\n",
              "        vertical-align: middle;\n",
              "    }\n",
              "\n",
              "    .dataframe tbody tr th {\n",
              "        vertical-align: top;\n",
              "    }\n",
              "\n",
              "    .dataframe thead th {\n",
              "        text-align: right;\n",
              "    }\n",
              "</style>\n",
              "<table border=\"1\" class=\"dataframe\">\n",
              "  <thead>\n",
              "    <tr style=\"text-align: right;\">\n",
              "      <th></th>\n",
              "      <th>Algorithm</th>\n",
              "      <th>Accuracy score</th>\n",
              "      <th>Precision</th>\n",
              "      <th>Recall</th>\n",
              "      <th>F1 score</th>\n",
              "    </tr>\n",
              "  </thead>\n",
              "  <tbody>\n",
              "    <tr>\n",
              "      <th>0</th>\n",
              "      <td>XgBoost</td>\n",
              "      <td>97.520661</td>\n",
              "      <td>1.000000</td>\n",
              "      <td>0.971154</td>\n",
              "      <td>0.985366</td>\n",
              "    </tr>\n",
              "    <tr>\n",
              "      <th>1</th>\n",
              "      <td>RandomForest</td>\n",
              "      <td>95.867769</td>\n",
              "      <td>0.971429</td>\n",
              "      <td>0.980769</td>\n",
              "      <td>0.976077</td>\n",
              "    </tr>\n",
              "    <tr>\n",
              "      <th>2</th>\n",
              "      <td>DecisionTree</td>\n",
              "      <td>0.925620</td>\n",
              "      <td>0.961165</td>\n",
              "      <td>0.951923</td>\n",
              "      <td>0.956522</td>\n",
              "    </tr>\n",
              "    <tr>\n",
              "      <th>3</th>\n",
              "      <td>LogisticRegression</td>\n",
              "      <td>95.041322</td>\n",
              "      <td>0.980392</td>\n",
              "      <td>0.961538</td>\n",
              "      <td>0.970874</td>\n",
              "    </tr>\n",
              "  </tbody>\n",
              "</table>\n",
              "</div>\n",
              "      <button class=\"colab-df-convert\" onclick=\"convertToInteractive('df-ca9cba96-f845-4ea6-9dd1-164de2ba08b1')\"\n",
              "              title=\"Convert this dataframe to an interactive table.\"\n",
              "              style=\"display:none;\">\n",
              "        \n",
              "  <svg xmlns=\"http://www.w3.org/2000/svg\" height=\"24px\"viewBox=\"0 0 24 24\"\n",
              "       width=\"24px\">\n",
              "    <path d=\"M0 0h24v24H0V0z\" fill=\"none\"/>\n",
              "    <path d=\"M18.56 5.44l.94 2.06.94-2.06 2.06-.94-2.06-.94-.94-2.06-.94 2.06-2.06.94zm-11 1L8.5 8.5l.94-2.06 2.06-.94-2.06-.94L8.5 2.5l-.94 2.06-2.06.94zm10 10l.94 2.06.94-2.06 2.06-.94-2.06-.94-.94-2.06-.94 2.06-2.06.94z\"/><path d=\"M17.41 7.96l-1.37-1.37c-.4-.4-.92-.59-1.43-.59-.52 0-1.04.2-1.43.59L10.3 9.45l-7.72 7.72c-.78.78-.78 2.05 0 2.83L4 21.41c.39.39.9.59 1.41.59.51 0 1.02-.2 1.41-.59l7.78-7.78 2.81-2.81c.8-.78.8-2.07 0-2.86zM5.41 20L4 18.59l7.72-7.72 1.47 1.35L5.41 20z\"/>\n",
              "  </svg>\n",
              "      </button>\n",
              "      \n",
              "  <style>\n",
              "    .colab-df-container {\n",
              "      display:flex;\n",
              "      flex-wrap:wrap;\n",
              "      gap: 12px;\n",
              "    }\n",
              "\n",
              "    .colab-df-convert {\n",
              "      background-color: #E8F0FE;\n",
              "      border: none;\n",
              "      border-radius: 50%;\n",
              "      cursor: pointer;\n",
              "      display: none;\n",
              "      fill: #1967D2;\n",
              "      height: 32px;\n",
              "      padding: 0 0 0 0;\n",
              "      width: 32px;\n",
              "    }\n",
              "\n",
              "    .colab-df-convert:hover {\n",
              "      background-color: #E2EBFA;\n",
              "      box-shadow: 0px 1px 2px rgba(60, 64, 67, 0.3), 0px 1px 3px 1px rgba(60, 64, 67, 0.15);\n",
              "      fill: #174EA6;\n",
              "    }\n",
              "\n",
              "    [theme=dark] .colab-df-convert {\n",
              "      background-color: #3B4455;\n",
              "      fill: #D2E3FC;\n",
              "    }\n",
              "\n",
              "    [theme=dark] .colab-df-convert:hover {\n",
              "      background-color: #434B5C;\n",
              "      box-shadow: 0px 1px 3px 1px rgba(0, 0, 0, 0.15);\n",
              "      filter: drop-shadow(0px 1px 2px rgba(0, 0, 0, 0.3));\n",
              "      fill: #FFFFFF;\n",
              "    }\n",
              "  </style>\n",
              "\n",
              "      <script>\n",
              "        const buttonEl =\n",
              "          document.querySelector('#df-ca9cba96-f845-4ea6-9dd1-164de2ba08b1 button.colab-df-convert');\n",
              "        buttonEl.style.display =\n",
              "          google.colab.kernel.accessAllowed ? 'block' : 'none';\n",
              "\n",
              "        async function convertToInteractive(key) {\n",
              "          const element = document.querySelector('#df-ca9cba96-f845-4ea6-9dd1-164de2ba08b1');\n",
              "          const dataTable =\n",
              "            await google.colab.kernel.invokeFunction('convertToInteractive',\n",
              "                                                     [key], {});\n",
              "          if (!dataTable) return;\n",
              "\n",
              "          const docLinkHtml = 'Like what you see? Visit the ' +\n",
              "            '<a target=\"_blank\" href=https://colab.research.google.com/notebooks/data_table.ipynb>data table notebook</a>'\n",
              "            + ' to learn more about interactive tables.';\n",
              "          element.innerHTML = '';\n",
              "          dataTable['output_type'] = 'display_data';\n",
              "          await google.colab.output.renderOutput(dataTable, element);\n",
              "          const docLink = document.createElement('div');\n",
              "          docLink.innerHTML = docLinkHtml;\n",
              "          element.appendChild(docLink);\n",
              "        }\n",
              "      </script>\n",
              "    </div>\n",
              "  </div>\n",
              "  "
            ]
          },
          "metadata": {},
          "execution_count": 56
        }
      ]
    },
    {
      "cell_type": "code",
      "source": [],
      "metadata": {
        "id": "b33w2DJOep72"
      },
      "execution_count": null,
      "outputs": []
    }
  ]
}