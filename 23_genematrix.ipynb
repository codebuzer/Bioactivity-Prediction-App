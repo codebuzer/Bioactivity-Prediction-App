{
  "nbformat": 4,
  "nbformat_minor": 0,
  "metadata": {
    "colab": {
      "provenance": [],
      "authorship_tag": "ABX9TyPyiI9JzsNme1wH0kEH5wVQ",
      "include_colab_link": true
    },
    "kernelspec": {
      "name": "python3",
      "display_name": "Python 3"
    },
    "language_info": {
      "name": "python"
    }
  },
  "cells": [
    {
      "cell_type": "markdown",
      "metadata": {
        "id": "view-in-github",
        "colab_type": "text"
      },
      "source": [
        "<a href=\"https://colab.research.google.com/github/codebuzer/Bioactivity-Prediction-App/blob/main/23_genematrix.ipynb\" target=\"_parent\"><img src=\"https://colab.research.google.com/assets/colab-badge.svg\" alt=\"Open In Colab\"/></a>"
      ]
    },
    {
      "cell_type": "code",
      "source": [
        "from google.colab import drive\n",
        "drive.mount('/content/drive')"
      ],
      "metadata": {
        "colab": {
          "base_uri": "https://localhost:8080/"
        },
        "id": "EfTqcvYiz86p",
        "outputId": "6c1b775e-a97f-4258-aa6a-e9325fa9d6e4"
      },
      "execution_count": 1,
      "outputs": [
        {
          "output_type": "stream",
          "name": "stdout",
          "text": [
            "Mounted at /content/drive\n"
          ]
        }
      ]
    },
    {
      "cell_type": "code",
      "source": [
        "import pandas as pd\n",
        "import numpy as np"
      ],
      "metadata": {
        "id": "v8rZwjdzz-5Y"
      },
      "execution_count": 2,
      "outputs": []
    },
    {
      "cell_type": "code",
      "source": [
        "inf = pd.read_csv(\"/content/drive/MyDrive/infection_23.csv\", index_col =0)"
      ],
      "metadata": {
        "id": "SGxhutvp0YVx"
      },
      "execution_count": 46,
      "outputs": []
    },
    {
      "cell_type": "code",
      "source": [
        "#y = inf.values.ravel()"
      ],
      "metadata": {
        "id": "WRBtfSluLdbL"
      },
      "execution_count": 33,
      "outputs": []
    },
    {
      "cell_type": "code",
      "source": [
        "expmat = pd.read_csv(\"/content/drive/MyDrive/COVID000023_exp.csv\", index_col = 0)"
      ],
      "metadata": {
        "id": "r13W5nhT0cEB"
      },
      "execution_count": 4,
      "outputs": []
    },
    {
      "cell_type": "code",
      "source": [
        "expmat.shape"
      ],
      "metadata": {
        "colab": {
          "base_uri": "https://localhost:8080/"
        },
        "id": "N1PJaeHW0rea",
        "outputId": "b60a4755-38ad-4a29-9c56-b5ac9613703f"
      },
      "execution_count": 5,
      "outputs": [
        {
          "output_type": "execute_result",
          "data": {
            "text/plain": [
              "(15811, 234)"
            ]
          },
          "metadata": {},
          "execution_count": 5
        }
      ]
    },
    {
      "cell_type": "code",
      "source": [
        "df = expmat.transpose()"
      ],
      "metadata": {
        "id": "ehTi1dpz00-6"
      },
      "execution_count": 10,
      "outputs": []
    },
    {
      "cell_type": "code",
      "source": [
        "df.iloc[:,0:-1].shape"
      ],
      "metadata": {
        "colab": {
          "base_uri": "https://localhost:8080/"
        },
        "id": "JEycywQF1Kjx",
        "outputId": "64dc5463-5e46-4081-ebfa-c1d6d4c4ca1d"
      },
      "execution_count": 22,
      "outputs": [
        {
          "output_type": "execute_result",
          "data": {
            "text/plain": [
              "(234, 15810)"
            ]
          },
          "metadata": {},
          "execution_count": 22
        }
      ]
    },
    {
      "cell_type": "code",
      "source": [
        "df.to_csv('expmat23.csv')"
      ],
      "metadata": {
        "id": "mNBKYdBwNl3g"
      },
      "execution_count": 24,
      "outputs": []
    },
    {
      "cell_type": "code",
      "source": [
        "df = pd.read_csv(\"expmat23.csv\")"
      ],
      "metadata": {
        "id": "soOWMNqyNwt9"
      },
      "execution_count": 48,
      "outputs": []
    },
    {
      "cell_type": "code",
      "source": [
        "columns = {\n",
        "    'Unnamed: 0': 'rowname'\n",
        "}\n",
        "\n",
        "# Use the rename method to update the column names\n",
        "df = df.rename(columns=columns)\n",
        "\n",
        "# Check the columns of the DataFrame again\n",
        "print(df.columns)"
      ],
      "metadata": {
        "colab": {
          "base_uri": "https://localhost:8080/"
        },
        "id": "UR1uMorwN3rc",
        "outputId": "901fd269-eb23-4b7a-b33b-b0712c2d878b"
      },
      "execution_count": 49,
      "outputs": [
        {
          "output_type": "stream",
          "name": "stdout",
          "text": [
            "Index(['rowname', 'ZZZ3', 'ZZEF1', 'ZYX', 'ZYG11B', 'ZYG11A', 'ZXDC', 'ZXDB',\n",
            "       'ZXDA', 'ZWINT',\n",
            "       ...\n",
            "       'AADACL3', 'AADACL2', 'AADAC', 'AACS', 'AAAS', 'A4GALT', 'A2ML1', 'A2M',\n",
            "       'A1CF', 'A1BG'],\n",
            "      dtype='object', length=15812)\n"
          ]
        }
      ]
    },
    {
      "cell_type": "code",
      "source": [
        "from sklearn.model_selection import StratifiedKFold\n",
        "\n",
        "# Define the features and labels of your dataset\n",
        "X = df\n",
        "y = inf\n",
        "\n",
        "# Create a StratifiedKFold object with 5 folds\n",
        "skf = StratifiedKFold(n_splits=5)\n",
        "\n",
        "# Loop through the folds\n",
        "for train_index, test_index in skf.split(X, y):\n",
        "    # Get the training and test data for the current fold\n",
        "    X_train, X_test = X.iloc[train_index], X.iloc[test_index]\n",
        "    y_train, y_test = y.iloc[train_index], y.iloc[test_index]\n",
        "\n",
        "    # Train your model using the training data and evaluate it on the test data\n",
        "    ...\n"
      ],
      "metadata": {
        "id": "o6J-ZNFG1vf-"
      },
      "execution_count": 52,
      "outputs": []
    },
    {
      "cell_type": "code",
      "source": [
        "X_train.shape,X_test.shape,y_train.shape,y_test.shape"
      ],
      "metadata": {
        "colab": {
          "base_uri": "https://localhost:8080/"
        },
        "id": "UxuSPOh_Q6Vs",
        "outputId": "c7f7695c-2ac9-4ef7-d5a2-4332983521cb"
      },
      "execution_count": 53,
      "outputs": [
        {
          "output_type": "execute_result",
          "data": {
            "text/plain": [
              "((188, 15812), (46, 15812), (188, 1), (46, 1))"
            ]
          },
          "metadata": {},
          "execution_count": 53
        }
      ]
    },
    {
      "cell_type": "code",
      "source": [
        "y_train.value_counts().plot.bar()"
      ],
      "metadata": {
        "colab": {
          "base_uri": "https://localhost:8080/",
          "height": 305
        },
        "id": "Tq_cr8U8Rf1f",
        "outputId": "f8210ff8-3ffc-4c46-d8d2-2e0b05e06393"
      },
      "execution_count": 55,
      "outputs": [
        {
          "output_type": "execute_result",
          "data": {
            "text/plain": [
              "<matplotlib.axes._subplots.AxesSubplot at 0x7f62b9051d30>"
            ]
          },
          "metadata": {},
          "execution_count": 55
        },
        {
          "output_type": "display_data",
          "data": {
            "text/plain": [
              "<Figure size 432x288 with 1 Axes>"
            ],
            "image/png": "[encoded data removed]"
          },
          "metadata": {
            "needs_background": "light"
          }
        }
      ]
    },
    {
      "cell_type": "code",
      "source": [
        "#X_train,X_test,y_train and y_test"
      ],
      "metadata": {
        "id": "lVf5CDdyRnCK"
      },
      "execution_count": null,
      "outputs": []
    },
    {
      "cell_type": "code",
      "source": [
        "X_train.corr()"
      ],
      "metadata": {
        "colab": {
          "base_uri": "https://localhost:8080/",
          "height": 487
        },
        "id": "JNrIeobIH-yz",
        "outputId": "2574d30f-f516-49fe-ad57-0466a68bbc24"
      },
      "execution_count": 56,
      "outputs": [
        {
          "output_type": "execute_result",
          "data": {
            "text/plain": [
              "            ZZZ3     ZZEF1       ZYX    ZYG11B    ZYG11A      ZXDC      ZXDB  \\\n",
              "ZZZ3    1.000000  0.645995 -0.002203  0.566926  0.294551  0.587703  0.603154   \n",
              "ZZEF1   0.645995  1.000000  0.335794  0.494443  0.508397  0.736990  0.353838   \n",
              "ZYX    -0.002203  0.335794  1.000000  0.035398  0.234898  0.250776 -0.175631   \n",
              "ZYG11B  0.566926  0.494443  0.035398  1.000000  0.436807  0.661417  0.622412   \n",
              "ZYG11A  0.294551  0.508397  0.234898  0.436807  1.000000  0.458320  0.193616   \n",
              "...          ...       ...       ...       ...       ...       ...       ...   \n",
              "A4GALT  0.610292  0.545030  0.054132  0.632665  0.415729  0.555932  0.540630   \n",
              "A2ML1   0.213185  0.433015  0.267587  0.276428  0.319194  0.300898  0.145129   \n",
              "A2M     0.348212  0.278467  0.164797  0.426118  0.144277  0.301923  0.359634   \n",
              "A1CF    0.372161  0.604917  0.503314  0.291190  0.344511  0.559855  0.041866   \n",
              "A1BG    0.397811  0.713321  0.334373  0.367306  0.593808  0.655559  0.156106   \n",
              "\n",
              "            ZXDA     ZWINT    ZWILCH  ...   AADACL3   AADACL2     AADAC  \\\n",
              "ZZZ3    0.566413  0.423427  0.450982  ...  0.486593  0.645742  0.540451   \n",
              "ZZEF1   0.386723  0.300408  0.414720  ...  0.603719  0.560203  0.348072   \n",
              "ZYX    -0.195499 -0.001094  0.154394  ...  0.208218 -0.213450 -0.304739   \n",
              "ZYG11B  0.589599  0.504299  0.499069  ...  0.478508  0.559675  0.513640   \n",
              "ZYG11A  0.184545  0.060760  0.335321  ...  0.418430  0.314597  0.198660   \n",
              "...          ...       ...       ...  ...       ...       ...       ...   \n",
              "A4GALT  0.398183  0.234179  0.423196  ...  0.493041  0.511527  0.410498   \n",
              "A2ML1   0.104177  0.044123  0.231533  ...  0.279206  0.161442  0.024479   \n",
              "A2M     0.424441  0.457870  0.319981  ...  0.022264  0.142761  0.206923   \n",
              "A1CF    0.092109  0.057532  0.296053  ...  0.618462  0.360768  0.157535   \n",
              "A1BG    0.290264  0.147733  0.274741  ...  0.568462  0.509961  0.254160   \n",
              "\n",
              "            AACS      AAAS    A4GALT     A2ML1       A2M      A1CF      A1BG  \n",
              "ZZZ3    0.659171  0.544051  0.610292  0.213185  0.348212  0.372161  0.397811  \n",
              "ZZEF1   0.687618  0.512932  0.545030  0.433015  0.278467  0.604917  0.713321  \n",
              "ZYX     0.242439  0.021497  0.054132  0.267587  0.164797  0.503314  0.334373  \n",
              "ZYG11B  0.658724  0.571699  0.632665  0.276428  0.426118  0.291190  0.367306  \n",
              "ZYG11A  0.488102  0.350221  0.415729  0.319194  0.144277  0.344511  0.593808  \n",
              "...          ...       ...       ...       ...       ...       ...       ...  \n",
              "A4GALT  0.676157  0.463113  1.000000  0.392905  0.110285  0.326730  0.379823  \n",
              "A2ML1   0.473908  0.256801  0.392905  1.000000  0.150211  0.313608  0.336283  \n",
              "A2M     0.265191  0.400602  0.110285  0.150211  1.000000  0.066572  0.129651  \n",
              "A1CF    0.580906  0.269939  0.326730  0.313608  0.066572  1.000000  0.639104  \n",
              "A1BG    0.659894  0.457277  0.379823  0.336283  0.129651  0.639104  1.000000  \n",
              "\n",
              "[15811 rows x 15811 columns]"
            ],
            "text/html": [
              "\n",
              "  <div id=\"df-adf46fdf-9c5b-4326-8651-d5f02656169c\">\n",
              "    <div class=\"colab-df-container\">\n",
              "      <div>\n",
              "<style scoped>\n",
              "    .dataframe tbody tr th:only-of-type {\n",
              "        vertical-align: middle;\n",
              "    }\n",
              "\n",
              "    .dataframe tbody tr th {\n",
              "        vertical-align: top;\n",
              "    }\n",
              "\n",
              "    .dataframe thead th {\n",
              "        text-align: right;\n",
              "    }\n",
              "</style>\n",
              "<table border=\"1\" class=\"dataframe\">\n",
              "  <thead>\n",
              "    <tr style=\"text-align: right;\">\n",
              "      <th></th>\n",
              "      <th>ZZZ3</th>\n",
              "      <th>ZZEF1</th>\n",
              "      <th>ZYX</th>\n",
              "      <th>ZYG11B</th>\n",
              "      <th>ZYG11A</th>\n",
              "      <th>ZXDC</th>\n",
              "      <th>ZXDB</th>\n",
              "      <th>ZXDA</th>\n",
              "      <th>ZWINT</th>\n",
              "      <th>ZWILCH</th>\n",
              "      <th>...</th>\n",
              "      <th>AADACL3</th>\n",
              "      <th>AADACL2</th>\n",
              "      <th>AADAC</th>\n",
              "      <th>AACS</th>\n",
              "      <th>AAAS</th>\n",
              "      <th>A4GALT</th>\n",
              "      <th>A2ML1</th>\n",
              "      <th>A2M</th>\n",
              "      <th>A1CF</th>\n",
              "      <th>A1BG</th>\n",
              "    </tr>\n",
              "  </thead>\n",
              "  <tbody>\n",
              "    <tr>\n",
              "      <th>ZZZ3</th>\n",
              "      <td>1.000000</td>\n",
              "      <td>0.645995</td>\n",
              "      <td>-0.002203</td>\n",
              "      <td>0.566926</td>\n",
              "      <td>0.294551</td>\n",
              "      <td>0.587703</td>\n",
              "      <td>0.603154</td>\n",
              "      <td>0.566413</td>\n",
              "      <td>0.423427</td>\n",
              "      <td>0.450982</td>\n",
              "      <td>...</td>\n",
              "      <td>0.486593</td>\n",
              "      <td>0.645742</td>\n",
              "      <td>0.540451</td>\n",
              "      <td>0.659171</td>\n",
              "      <td>0.544051</td>\n",
              "      <td>0.610292</td>\n",
              "      <td>0.213185</td>\n",
              "      <td>0.348212</td>\n",
              "      <td>0.372161</td>\n",
              "      <td>0.397811</td>\n",
              "    </tr>\n",
              "    <tr>\n",
              "      <th>ZZEF1</th>\n",
              "      <td>0.645995</td>\n",
              "      <td>1.000000</td>\n",
              "      <td>0.335794</td>\n",
              "      <td>0.494443</td>\n",
              "      <td>0.508397</td>\n",
              "      <td>0.736990</td>\n",
              "      <td>0.353838</td>\n",
              "      <td>0.386723</td>\n",
              "      <td>0.300408</td>\n",
              "      <td>0.414720</td>\n",
              "      <td>...</td>\n",
              "      <td>0.603719</td>\n",
              "      <td>0.560203</td>\n",
              "      <td>0.348072</td>\n",
              "      <td>0.687618</td>\n",
              "      <td>0.512932</td>\n",
              "      <td>0.545030</td>\n",
              "      <td>0.433015</td>\n",
              "      <td>0.278467</td>\n",
              "      <td>0.604917</td>\n",
              "      <td>0.713321</td>\n",
              "    </tr>\n",
              "    <tr>\n",
              "      <th>ZYX</th>\n",
              "      <td>-0.002203</td>\n",
              "      <td>0.335794</td>\n",
              "      <td>1.000000</td>\n",
              "      <td>0.035398</td>\n",
              "      <td>0.234898</td>\n",
              "      <td>0.250776</td>\n",
              "      <td>-0.175631</td>\n",
              "      <td>-0.195499</td>\n",
              "      <td>-0.001094</td>\n",
              "      <td>0.154394</td>\n",
              "      <td>...</td>\n",
              "      <td>0.208218</td>\n",
              "      <td>-0.213450</td>\n",
              "      <td>-0.304739</td>\n",
              "      <td>0.242439</td>\n",
              "      <td>0.021497</td>\n",
              "      <td>0.054132</td>\n",
              "      <td>0.267587</td>\n",
              "      <td>0.164797</td>\n",
              "      <td>0.503314</td>\n",
              "      <td>0.334373</td>\n",
              "    </tr>\n",
              "    <tr>\n",
              "      <th>ZYG11B</th>\n",
              "      <td>0.566926</td>\n",
              "      <td>0.494443</td>\n",
              "      <td>0.035398</td>\n",
              "      <td>1.000000</td>\n",
              "      <td>0.436807</td>\n",
              "      <td>0.661417</td>\n",
              "      <td>0.622412</td>\n",
              "      <td>0.589599</td>\n",
              "      <td>0.504299</td>\n",
              "      <td>0.499069</td>\n",
              "      <td>...</td>\n",
              "      <td>0.478508</td>\n",
              "      <td>0.559675</td>\n",
              "      <td>0.513640</td>\n",
              "      <td>0.658724</td>\n",
              "      <td>0.571699</td>\n",
              "      <td>0.632665</td>\n",
              "      <td>0.276428</td>\n",
              "      <td>0.426118</td>\n",
              "      <td>0.291190</td>\n",
              "      <td>0.367306</td>\n",
              "    </tr>\n",
              "    <tr>\n",
              "      <th>ZYG11A</th>\n",
              "      <td>0.294551</td>\n",
              "      <td>0.508397</td>\n",
              "      <td>0.234898</td>\n",
              "      <td>0.436807</td>\n",
              "      <td>1.000000</td>\n",
              "      <td>0.458320</td>\n",
              "      <td>0.193616</td>\n",
              "      <td>0.184545</td>\n",
              "      <td>0.060760</td>\n",
              "      <td>0.335321</td>\n",
              "      <td>...</td>\n",
              "      <td>0.418430</td>\n",
              "      <td>0.314597</td>\n",
              "      <td>0.198660</td>\n",
              "      <td>0.488102</td>\n",
              "      <td>0.350221</td>\n",
              "      <td>0.415729</td>\n",
              "      <td>0.319194</td>\n",
              "      <td>0.144277</td>\n",
              "      <td>0.344511</td>\n",
              "      <td>0.593808</td>\n",
              "    </tr>\n",
              "    <tr>\n",
              "      <th>...</th>\n",
              "      <td>...</td>\n",
              "      <td>...</td>\n",
              "      <td>...</td>\n",
              "      <td>...</td>\n",
              "      <td>...</td>\n",
              "      <td>...</td>\n",
              "      <td>...</td>\n",
              "      <td>...</td>\n",
              "      <td>...</td>\n",
              "      <td>...</td>\n",
              "      <td>...</td>\n",
              "      <td>...</td>\n",
              "      <td>...</td>\n",
              "      <td>...</td>\n",
              "      <td>...</td>\n",
              "      <td>...</td>\n",
              "      <td>...</td>\n",
              "      <td>...</td>\n",
              "      <td>...</td>\n",
              "      <td>...</td>\n",
              "      <td>...</td>\n",
              "    </tr>\n",
              "    <tr>\n",
              "      <th>A4GALT</th>\n",
              "      <td>0.610292</td>\n",
              "      <td>0.545030</td>\n",
              "      <td>0.054132</td>\n",
              "      <td>0.632665</td>\n",
              "      <td>0.415729</td>\n",
              "      <td>0.555932</td>\n",
              "      <td>0.540630</td>\n",
              "      <td>0.398183</td>\n",
              "      <td>0.234179</td>\n",
              "      <td>0.423196</td>\n",
              "      <td>...</td>\n",
              "      <td>0.493041</td>\n",
              "      <td>0.511527</td>\n",
              "      <td>0.410498</td>\n",
              "      <td>0.676157</td>\n",
              "      <td>0.463113</td>\n",
              "      <td>1.000000</td>\n",
              "      <td>0.392905</td>\n",
              "      <td>0.110285</td>\n",
              "      <td>0.326730</td>\n",
              "      <td>0.379823</td>\n",
              "    </tr>\n",
              "    <tr>\n",
              "      <th>A2ML1</th>\n",
              "      <td>0.213185</td>\n",
              "      <td>0.433015</td>\n",
              "      <td>0.267587</td>\n",
              "      <td>0.276428</td>\n",
              "      <td>0.319194</td>\n",
              "      <td>0.300898</td>\n",
              "      <td>0.145129</td>\n",
              "      <td>0.104177</td>\n",
              "      <td>0.044123</td>\n",
              "      <td>0.231533</td>\n",
              "      <td>...</td>\n",
              "      <td>0.279206</td>\n",
              "      <td>0.161442</td>\n",
              "      <td>0.024479</td>\n",
              "      <td>0.473908</td>\n",
              "      <td>0.256801</td>\n",
              "      <td>0.392905</td>\n",
              "      <td>1.000000</td>\n",
              "      <td>0.150211</td>\n",
              "      <td>0.313608</td>\n",
              "      <td>0.336283</td>\n",
              "    </tr>\n",
              "    <tr>\n",
              "      <th>A2M</th>\n",
              "      <td>0.348212</td>\n",
              "      <td>0.278467</td>\n",
              "      <td>0.164797</td>\n",
              "      <td>0.426118</td>\n",
              "      <td>0.144277</td>\n",
              "      <td>0.301923</td>\n",
              "      <td>0.359634</td>\n",
              "      <td>0.424441</td>\n",
              "      <td>0.457870</td>\n",
              "      <td>0.319981</td>\n",
              "      <td>...</td>\n",
              "      <td>0.022264</td>\n",
              "      <td>0.142761</td>\n",
              "      <td>0.206923</td>\n",
              "      <td>0.265191</td>\n",
              "      <td>0.400602</td>\n",
              "      <td>0.110285</td>\n",
              "      <td>0.150211</td>\n",
              "      <td>1.000000</td>\n",
              "      <td>0.066572</td>\n",
              "      <td>0.129651</td>\n",
              "    </tr>\n",
              "    <tr>\n",
              "      <th>A1CF</th>\n",
              "      <td>0.372161</td>\n",
              "      <td>0.604917</td>\n",
              "      <td>0.503314</td>\n",
              "      <td>0.291190</td>\n",
              "      <td>0.344511</td>\n",
              "      <td>0.559855</td>\n",
              "      <td>0.041866</td>\n",
              "      <td>0.092109</td>\n",
              "      <td>0.057532</td>\n",
              "      <td>0.296053</td>\n",
              "      <td>...</td>\n",
              "      <td>0.618462</td>\n",
              "      <td>0.360768</td>\n",
              "      <td>0.157535</td>\n",
              "      <td>0.580906</td>\n",
              "      <td>0.269939</td>\n",
              "      <td>0.326730</td>\n",
              "      <td>0.313608</td>\n",
              "      <td>0.066572</td>\n",
              "      <td>1.000000</td>\n",
              "      <td>0.639104</td>\n",
              "    </tr>\n",
              "    <tr>\n",
              "      <th>A1BG</th>\n",
              "      <td>0.397811</td>\n",
              "      <td>0.713321</td>\n",
              "      <td>0.334373</td>\n",
              "      <td>0.367306</td>\n",
              "      <td>0.593808</td>\n",
              "      <td>0.655559</td>\n",
              "      <td>0.156106</td>\n",
              "      <td>0.290264</td>\n",
              "      <td>0.147733</td>\n",
              "      <td>0.274741</td>\n",
              "      <td>...</td>\n",
              "      <td>0.568462</td>\n",
              "      <td>0.509961</td>\n",
              "      <td>0.254160</td>\n",
              "      <td>0.659894</td>\n",
              "      <td>0.457277</td>\n",
              "      <td>0.379823</td>\n",
              "      <td>0.336283</td>\n",
              "      <td>0.129651</td>\n",
              "      <td>0.639104</td>\n",
              "      <td>1.000000</td>\n",
              "    </tr>\n",
              "  </tbody>\n",
              "</table>\n",
              "<p>15811 rows × 15811 columns</p>\n",
              "</div>\n",
              "      <button class=\"colab-df-convert\" onclick=\"convertToInteractive('df-adf46fdf-9c5b-4326-8651-d5f02656169c')\"\n",
              "              title=\"Convert this dataframe to an interactive table.\"\n",
              "              style=\"display:none;\">\n",
              "        \n",
              "  <svg xmlns=\"http://www.w3.org/2000/svg\" height=\"24px\"viewBox=\"0 0 24 24\"\n",
              "       width=\"24px\">\n",
              "    <path d=\"M0 0h24v24H0V0z\" fill=\"none\"/>\n",
              "    <path d=\"M18.56 5.44l.94 2.06.94-2.06 2.06-.94-2.06-.94-.94-2.06-.94 2.06-2.06.94zm-11 1L8.5 8.5l.94-2.06 2.06-.94-2.06-.94L8.5 2.5l-.94 2.06-2.06.94zm10 10l.94 2.06.94-2.06 2.06-.94-2.06-.94-.94-2.06-.94 2.06-2.06.94z\"/><path d=\"M17.41 7.96l-1.37-1.37c-.4-.4-.92-.59-1.43-.59-.52 0-1.04.2-1.43.59L10.3 9.45l-7.72 7.72c-.78.78-.78 2.05 0 2.83L4 21.41c.39.39.9.59 1.41.59.51 0 1.02-.2 1.41-.59l7.78-7.78 2.81-2.81c.8-.78.8-2.07 0-2.86zM5.41 20L4 18.59l7.72-7.72 1.47 1.35L5.41 20z\"/>\n",
              "  </svg>\n",
              "      </button>\n",
              "      \n",
              "  <style>\n",
              "    .colab-df-container {\n",
              "      display:flex;\n",
              "      flex-wrap:wrap;\n",
              "      gap: 12px;\n",
              "    }\n",
              "\n",
              "    .colab-df-convert {\n",
              "      background-color: #E8F0FE;\n",
              "      border: none;\n",
              "      border-radius: 50%;\n",
              "      cursor: pointer;\n",
              "      display: none;\n",
              "      fill: #1967D2;\n",
              "      height: 32px;\n",
              "      padding: 0 0 0 0;\n",
              "      width: 32px;\n",
              "    }\n",
              "\n",
              "    .colab-df-convert:hover {\n",
              "      background-color: #E2EBFA;\n",
              "      box-shadow: 0px 1px 2px rgba(60, 64, 67, 0.3), 0px 1px 3px 1px rgba(60, 64, 67, 0.15);\n",
              "      fill: #174EA6;\n",
              "    }\n",
              "\n",
              "    [theme=dark] .colab-df-convert {\n",
              "      background-color: #3B4455;\n",
              "      fill: #D2E3FC;\n",
              "    }\n",
              "\n",
              "    [theme=dark] .colab-df-convert:hover {\n",
              "      background-color: #434B5C;\n",
              "      box-shadow: 0px 1px 3px 1px rgba(0, 0, 0, 0.15);\n",
              "      filter: drop-shadow(0px 1px 2px rgba(0, 0, 0, 0.3));\n",
              "      fill: #FFFFFF;\n",
              "    }\n",
              "  </style>\n",
              "\n",
              "      <script>\n",
              "        const buttonEl =\n",
              "          document.querySelector('#df-adf46fdf-9c5b-4326-8651-d5f02656169c button.colab-df-convert');\n",
              "        buttonEl.style.display =\n",
              "          google.colab.kernel.accessAllowed ? 'block' : 'none';\n",
              "\n",
              "        async function convertToInteractive(key) {\n",
              "          const element = document.querySelector('#df-adf46fdf-9c5b-4326-8651-d5f02656169c');\n",
              "          const dataTable =\n",
              "            await google.colab.kernel.invokeFunction('convertToInteractive',\n",
              "                                                     [key], {});\n",
              "          if (!dataTable) return;\n",
              "\n",
              "          const docLinkHtml = 'Like what you see? Visit the ' +\n",
              "            '<a target=\"_blank\" href=https://colab.research.google.com/notebooks/data_table.ipynb>data table notebook</a>'\n",
              "            + ' to learn more about interactive tables.';\n",
              "          element.innerHTML = '';\n",
              "          dataTable['output_type'] = 'display_data';\n",
              "          await google.colab.output.renderOutput(dataTable, element);\n",
              "          const docLink = document.createElement('div');\n",
              "          docLink.innerHTML = docLinkHtml;\n",
              "          element.appendChild(docLink);\n",
              "        }\n",
              "      </script>\n",
              "    </div>\n",
              "  </div>\n",
              "  "
            ]
          },
          "metadata": {},
          "execution_count": 56
        }
      ]
    },
    {
      "cell_type": "code",
      "source": [
        "train = pd.concat([X_train,y_train], axis =1)"
      ],
      "metadata": {
        "id": "IoPaYQrmIBRk"
      },
      "execution_count": 57,
      "outputs": []
    },
    {
      "cell_type": "code",
      "source": [
        "train['POS']"
      ],
      "metadata": {
        "colab": {
          "base_uri": "https://localhost:8080/"
        },
        "id": "qZeMIMbOKT1f",
        "outputId": "cc756803-70b2-438d-febc-a7aac68785c6"
      },
      "execution_count": 61,
      "outputs": [
        {
          "output_type": "execute_result",
          "data": {
            "text/plain": [
              "0      0\n",
              "1      0\n",
              "2      0\n",
              "3      1\n",
              "4      1\n",
              "      ..\n",
              "209    1\n",
              "210    1\n",
              "211    1\n",
              "212    1\n",
              "214    1\n",
              "Name: POS, Length: 188, dtype: int64"
            ]
          },
          "metadata": {},
          "execution_count": 61
        }
      ]
    },
    {
      "cell_type": "code",
      "source": [
        "import pandas as pd\n",
        "\n",
        "\n",
        "\n",
        "# compute the pairwise correlations between the features and the target\n",
        "corr = train.corr()\n",
        "\n",
        "# compute the absolute value of the correlations\n",
        "corr_abs = corr.abs()\n",
        "\n",
        "# select only the features with a correlation above 0.5\n",
        "selected_features = corr_abs.loc[corr_abs['POS'] >= 0.5, 'POS'].index\n",
        "\n",
        "# create a new dataframe with only the selected features\n",
        "df_selected = df[selected_features]\n"
      ],
      "metadata": {
        "colab": {
          "base_uri": "https://localhost:8080/",
          "height": 378
        },
        "id": "9JTx-V5aKRBO",
        "outputId": "b04d11ad-b01e-43fc-f289-2930edb05a89"
      },
      "execution_count": 63,
      "outputs": [
        {
          "output_type": "error",
          "ename": "KeyError",
          "evalue": "ignored",
          "traceback": [
            "\u001b[0;31m---------------------------------------------------------------------------\u001b[0m",
            "\u001b[0;31mKeyError\u001b[0m                                  Traceback (most recent call last)",
            "\u001b[0;32m<ipython-input-63-599967486a82>\u001b[0m in \u001b[0;36m<module>\u001b[0;34m\u001b[0m\n\u001b[1;32m     13\u001b[0m \u001b[0;34m\u001b[0m\u001b[0m\n\u001b[1;32m     14\u001b[0m \u001b[0;31m# create a new dataframe with only the selected features\u001b[0m\u001b[0;34m\u001b[0m\u001b[0;34m\u001b[0m\u001b[0;34m\u001b[0m\u001b[0m\n\u001b[0;32m---> 15\u001b[0;31m \u001b[0mdf_selected\u001b[0m \u001b[0;34m=\u001b[0m \u001b[0mdf\u001b[0m\u001b[0;34m[\u001b[0m\u001b[0mselected_features\u001b[0m\u001b[0;34m]\u001b[0m\u001b[0;34m\u001b[0m\u001b[0;34m\u001b[0m\u001b[0m\n\u001b[0m",
            "\u001b[0;32m/usr/local/lib/python3.8/dist-packages/pandas/core/frame.py\u001b[0m in \u001b[0;36m__getitem__\u001b[0;34m(self, key)\u001b[0m\n\u001b[1;32m   3462\u001b[0m             \u001b[0;32mif\u001b[0m \u001b[0mis_iterator\u001b[0m\u001b[0;34m(\u001b[0m\u001b[0mkey\u001b[0m\u001b[0;34m)\u001b[0m\u001b[0;34m:\u001b[0m\u001b[0;34m\u001b[0m\u001b[0;34m\u001b[0m\u001b[0m\n\u001b[1;32m   3463\u001b[0m                 \u001b[0mkey\u001b[0m \u001b[0;34m=\u001b[0m \u001b[0mlist\u001b[0m\u001b[0;34m(\u001b[0m\u001b[0mkey\u001b[0m\u001b[0;34m)\u001b[0m\u001b[0;34m\u001b[0m\u001b[0;34m\u001b[0m\u001b[0m\n\u001b[0;32m-> 3464\u001b[0;31m             \u001b[0mindexer\u001b[0m \u001b[0;34m=\u001b[0m \u001b[0mself\u001b[0m\u001b[0;34m.\u001b[0m\u001b[0mloc\u001b[0m\u001b[0;34m.\u001b[0m\u001b[0m_get_listlike_indexer\u001b[0m\u001b[0;34m(\u001b[0m\u001b[0mkey\u001b[0m\u001b[0;34m,\u001b[0m \u001b[0maxis\u001b[0m\u001b[0;34m=\u001b[0m\u001b[0;36m1\u001b[0m\u001b[0;34m)\u001b[0m\u001b[0;34m[\u001b[0m\u001b[0;36m1\u001b[0m\u001b[0;34m]\u001b[0m\u001b[0;34m\u001b[0m\u001b[0;34m\u001b[0m\u001b[0m\n\u001b[0m\u001b[1;32m   3465\u001b[0m \u001b[0;34m\u001b[0m\u001b[0m\n\u001b[1;32m   3466\u001b[0m         \u001b[0;31m# take() does not accept boolean indexers\u001b[0m\u001b[0;34m\u001b[0m\u001b[0;34m\u001b[0m\u001b[0;34m\u001b[0m\u001b[0m\n",
            "\u001b[0;32m/usr/local/lib/python3.8/dist-packages/pandas/core/indexing.py\u001b[0m in \u001b[0;36m_get_listlike_indexer\u001b[0;34m(self, key, axis)\u001b[0m\n\u001b[1;32m   1312\u001b[0m             \u001b[0mkeyarr\u001b[0m\u001b[0;34m,\u001b[0m \u001b[0mindexer\u001b[0m\u001b[0;34m,\u001b[0m \u001b[0mnew_indexer\u001b[0m \u001b[0;34m=\u001b[0m \u001b[0max\u001b[0m\u001b[0;34m.\u001b[0m\u001b[0m_reindex_non_unique\u001b[0m\u001b[0;34m(\u001b[0m\u001b[0mkeyarr\u001b[0m\u001b[0;34m)\u001b[0m\u001b[0;34m\u001b[0m\u001b[0;34m\u001b[0m\u001b[0m\n\u001b[1;32m   1313\u001b[0m \u001b[0;34m\u001b[0m\u001b[0m\n\u001b[0;32m-> 1314\u001b[0;31m         \u001b[0mself\u001b[0m\u001b[0;34m.\u001b[0m\u001b[0m_validate_read_indexer\u001b[0m\u001b[0;34m(\u001b[0m\u001b[0mkeyarr\u001b[0m\u001b[0;34m,\u001b[0m \u001b[0mindexer\u001b[0m\u001b[0;34m,\u001b[0m \u001b[0maxis\u001b[0m\u001b[0;34m)\u001b[0m\u001b[0;34m\u001b[0m\u001b[0;34m\u001b[0m\u001b[0m\n\u001b[0m\u001b[1;32m   1315\u001b[0m \u001b[0;34m\u001b[0m\u001b[0m\n\u001b[1;32m   1316\u001b[0m         if needs_i8_conversion(ax.dtype) or isinstance(\n",
            "\u001b[0;32m/usr/local/lib/python3.8/dist-packages/pandas/core/indexing.py\u001b[0m in \u001b[0;36m_validate_read_indexer\u001b[0;34m(self, key, indexer, axis)\u001b[0m\n\u001b[1;32m   1375\u001b[0m \u001b[0;34m\u001b[0m\u001b[0m\n\u001b[1;32m   1376\u001b[0m             \u001b[0mnot_found\u001b[0m \u001b[0;34m=\u001b[0m \u001b[0mlist\u001b[0m\u001b[0;34m(\u001b[0m\u001b[0mensure_index\u001b[0m\u001b[0;34m(\u001b[0m\u001b[0mkey\u001b[0m\u001b[0;34m)\u001b[0m\u001b[0;34m[\u001b[0m\u001b[0mmissing_mask\u001b[0m\u001b[0;34m.\u001b[0m\u001b[0mnonzero\u001b[0m\u001b[0;34m(\u001b[0m\u001b[0;34m)\u001b[0m\u001b[0;34m[\u001b[0m\u001b[0;36m0\u001b[0m\u001b[0;34m]\u001b[0m\u001b[0;34m]\u001b[0m\u001b[0;34m.\u001b[0m\u001b[0munique\u001b[0m\u001b[0;34m(\u001b[0m\u001b[0;34m)\u001b[0m\u001b[0;34m)\u001b[0m\u001b[0;34m\u001b[0m\u001b[0;34m\u001b[0m\u001b[0m\n\u001b[0;32m-> 1377\u001b[0;31m             \u001b[0;32mraise\u001b[0m \u001b[0mKeyError\u001b[0m\u001b[0;34m(\u001b[0m\u001b[0;34mf\"{not_found} not in index\"\u001b[0m\u001b[0;34m)\u001b[0m\u001b[0;34m\u001b[0m\u001b[0;34m\u001b[0m\u001b[0m\n\u001b[0m\u001b[1;32m   1378\u001b[0m \u001b[0;34m\u001b[0m\u001b[0m\n\u001b[1;32m   1379\u001b[0m \u001b[0;34m\u001b[0m\u001b[0m\n",
            "\u001b[0;31mKeyError\u001b[0m: \"['POS'] not in index\""
          ]
        }
      ]
    },
    {
      "cell_type": "code",
      "source": [
        "selected_features"
      ],
      "metadata": {
        "colab": {
          "base_uri": "https://localhost:8080/"
        },
        "id": "Ec3aer66Kwp3",
        "outputId": "2fba98b8-a8b6-41aa-9958-cd5a08eb51ea"
      },
      "execution_count": 64,
      "outputs": [
        {
          "output_type": "execute_result",
          "data": {
            "text/plain": [
              "Index(['LGR6', 'LGALS3BP', 'IFI6', 'IFI27', 'HERC6', 'FAM83A', 'BST2', 'POS'], dtype='object')"
            ]
          },
          "metadata": {},
          "execution_count": 64
        }
      ]
    },
    {
      "cell_type": "code",
      "source": [
        "#select only those features whose correalation is more than or equals 0.5 to the target variable \n",
        "train_7 = train[selected_features]"
      ],
      "metadata": {
        "id": "8Y8xnBqvMN8T"
      },
      "execution_count": 67,
      "outputs": []
    },
    {
      "cell_type": "code",
      "source": [
        "test = pd.concat([X_test,y_test], axis = 1)"
      ],
      "metadata": {
        "id": "UIwpOM5VM9Ob"
      },
      "execution_count": 70,
      "outputs": []
    },
    {
      "cell_type": "code",
      "source": [
        "test_7 = test[selected_features]"
      ],
      "metadata": {
        "id": "2CE-VjakMtPn"
      },
      "execution_count": 72,
      "outputs": []
    },
    {
      "cell_type": "code",
      "source": [
        "train_7.shape,test_7.shape"
      ],
      "metadata": {
        "colab": {
          "base_uri": "https://localhost:8080/"
        },
        "id": "9HJifQLSMvbB",
        "outputId": "ac8b9ca2-6ad0-4d75-bb7a-4d8f8b86e377"
      },
      "execution_count": 73,
      "outputs": [
        {
          "output_type": "execute_result",
          "data": {
            "text/plain": [
              "((188, 8), (46, 8))"
            ]
          },
          "metadata": {},
          "execution_count": 73
        }
      ]
    },
    {
      "cell_type": "code",
      "source": [
        "X_train_7 = train_7.drop(['POS'], axis = 1)"
      ],
      "metadata": {
        "id": "YJC5ucrwNKVb"
      },
      "execution_count": 74,
      "outputs": []
    },
    {
      "cell_type": "code",
      "source": [
        "y_train_7 = train_7['POS']"
      ],
      "metadata": {
        "id": "HHRk99OxNRUO"
      },
      "execution_count": 75,
      "outputs": []
    },
    {
      "cell_type": "code",
      "source": [
        "X_test_7 = test_7.drop(['POS'], axis = 1)"
      ],
      "metadata": {
        "id": "dkwdHkeQNWaj"
      },
      "execution_count": 76,
      "outputs": []
    },
    {
      "cell_type": "code",
      "source": [
        "y_test_7 = test_7['POS']"
      ],
      "metadata": {
        "id": "Aoo3leHjNazn"
      },
      "execution_count": 77,
      "outputs": []
    },
    {
      "cell_type": "code",
      "source": [
        "X_train_7.shape,X_test_7.shape,y_test_7.shape,y_train_7.shape"
      ],
      "metadata": {
        "colab": {
          "base_uri": "https://localhost:8080/"
        },
        "id": "_GTiH0WCNf2O",
        "outputId": "2a3e2927-e3aa-4e12-a1b2-a6f15af24eff"
      },
      "execution_count": 80,
      "outputs": [
        {
          "output_type": "execute_result",
          "data": {
            "text/plain": [
              "((188, 7), (46, 7), (46,), (188,))"
            ]
          },
          "metadata": {},
          "execution_count": 80
        }
      ]
    },
    {
      "cell_type": "code",
      "source": [
        "from sklearn.preprocessing import StandardScaler"
      ],
      "metadata": {
        "id": "1fvrVN_5Nj_h"
      },
      "execution_count": 81,
      "outputs": []
    },
    {
      "cell_type": "code",
      "source": [
        "scaler = StandardScaler()"
      ],
      "metadata": {
        "id": "17wnO9BHN4aD"
      },
      "execution_count": 82,
      "outputs": []
    },
    {
      "cell_type": "code",
      "source": [
        "X_train_7_s = scaler.fit_transform(X_train_7)\n",
        "X_test_7_s = scaler.transform(X_test_7)"
      ],
      "metadata": {
        "id": "9oASKE7BNltk"
      },
      "execution_count": 83,
      "outputs": []
    },
    {
      "cell_type": "code",
      "source": [
        "#correlation between independent independent 7 selcted features\n",
        "X_train_7.corr()"
      ],
      "metadata": {
        "colab": {
          "base_uri": "https://localhost:8080/",
          "height": 269
        },
        "id": "oNcjoysRRkLC",
        "outputId": "ec289bd9-7c02-49cf-8982-ce9ac31639dd"
      },
      "execution_count": 95,
      "outputs": [
        {
          "output_type": "execute_result",
          "data": {
            "text/plain": [
              "              LGR6  LGALS3BP      IFI6     IFI27     HERC6    FAM83A      BST2\n",
              "LGR6      1.000000  0.546485  0.419357  0.475922  0.410586  0.551067  0.456520\n",
              "LGALS3BP  0.546485  1.000000  0.710562  0.667660  0.658594  0.603953  0.705582\n",
              "IFI6      0.419357  0.710562  1.000000  0.785559  0.803703  0.426442  0.776022\n",
              "IFI27     0.475922  0.667660  0.785559  1.000000  0.807787  0.489518  0.742819\n",
              "HERC6     0.410586  0.658594  0.803703  0.807787  1.000000  0.446717  0.710147\n",
              "FAM83A    0.551067  0.603953  0.426442  0.489518  0.446717  1.000000  0.449025\n",
              "BST2      0.456520  0.705582  0.776022  0.742819  0.710147  0.449025  1.000000"
            ],
            "text/html": [
              "\n",
              "  <div id=\"df-7e8e45f4-cedd-4889-9554-4a5d60b0c6f8\">\n",
              "    <div class=\"colab-df-container\">\n",
              "      <div>\n",
              "<style scoped>\n",
              "    .dataframe tbody tr th:only-of-type {\n",
              "        vertical-align: middle;\n",
              "    }\n",
              "\n",
              "    .dataframe tbody tr th {\n",
              "        vertical-align: top;\n",
              "    }\n",
              "\n",
              "    .dataframe thead th {\n",
              "        text-align: right;\n",
              "    }\n",
              "</style>\n",
              "<table border=\"1\" class=\"dataframe\">\n",
              "  <thead>\n",
              "    <tr style=\"text-align: right;\">\n",
              "      <th></th>\n",
              "      <th>LGR6</th>\n",
              "      <th>LGALS3BP</th>\n",
              "      <th>IFI6</th>\n",
              "      <th>IFI27</th>\n",
              "      <th>HERC6</th>\n",
              "      <th>FAM83A</th>\n",
              "      <th>BST2</th>\n",
              "    </tr>\n",
              "  </thead>\n",
              "  <tbody>\n",
              "    <tr>\n",
              "      <th>LGR6</th>\n",
              "      <td>1.000000</td>\n",
              "      <td>0.546485</td>\n",
              "      <td>0.419357</td>\n",
              "      <td>0.475922</td>\n",
              "      <td>0.410586</td>\n",
              "      <td>0.551067</td>\n",
              "      <td>0.456520</td>\n",
              "    </tr>\n",
              "    <tr>\n",
              "      <th>LGALS3BP</th>\n",
              "      <td>0.546485</td>\n",
              "      <td>1.000000</td>\n",
              "      <td>0.710562</td>\n",
              "      <td>0.667660</td>\n",
              "      <td>0.658594</td>\n",
              "      <td>0.603953</td>\n",
              "      <td>0.705582</td>\n",
              "    </tr>\n",
              "    <tr>\n",
              "      <th>IFI6</th>\n",
              "      <td>0.419357</td>\n",
              "      <td>0.710562</td>\n",
              "      <td>1.000000</td>\n",
              "      <td>0.785559</td>\n",
              "      <td>0.803703</td>\n",
              "      <td>0.426442</td>\n",
              "      <td>0.776022</td>\n",
              "    </tr>\n",
              "    <tr>\n",
              "      <th>IFI27</th>\n",
              "      <td>0.475922</td>\n",
              "      <td>0.667660</td>\n",
              "      <td>0.785559</td>\n",
              "      <td>1.000000</td>\n",
              "      <td>0.807787</td>\n",
              "      <td>0.489518</td>\n",
              "      <td>0.742819</td>\n",
              "    </tr>\n",
              "    <tr>\n",
              "      <th>HERC6</th>\n",
              "      <td>0.410586</td>\n",
              "      <td>0.658594</td>\n",
              "      <td>0.803703</td>\n",
              "      <td>0.807787</td>\n",
              "      <td>1.000000</td>\n",
              "      <td>0.446717</td>\n",
              "      <td>0.710147</td>\n",
              "    </tr>\n",
              "    <tr>\n",
              "      <th>FAM83A</th>\n",
              "      <td>0.551067</td>\n",
              "      <td>0.603953</td>\n",
              "      <td>0.426442</td>\n",
              "      <td>0.489518</td>\n",
              "      <td>0.446717</td>\n",
              "      <td>1.000000</td>\n",
              "      <td>0.449025</td>\n",
              "    </tr>\n",
              "    <tr>\n",
              "      <th>BST2</th>\n",
              "      <td>0.456520</td>\n",
              "      <td>0.705582</td>\n",
              "      <td>0.776022</td>\n",
              "      <td>0.742819</td>\n",
              "      <td>0.710147</td>\n",
              "      <td>0.449025</td>\n",
              "      <td>1.000000</td>\n",
              "    </tr>\n",
              "  </tbody>\n",
              "</table>\n",
              "</div>\n",
              "      <button class=\"colab-df-convert\" onclick=\"convertToInteractive('df-7e8e45f4-cedd-4889-9554-4a5d60b0c6f8')\"\n",
              "              title=\"Convert this dataframe to an interactive table.\"\n",
              "              style=\"display:none;\">\n",
              "        \n",
              "  <svg xmlns=\"http://www.w3.org/2000/svg\" height=\"24px\"viewBox=\"0 0 24 24\"\n",
              "       width=\"24px\">\n",
              "    <path d=\"M0 0h24v24H0V0z\" fill=\"none\"/>\n",
              "    <path d=\"M18.56 5.44l.94 2.06.94-2.06 2.06-.94-2.06-.94-.94-2.06-.94 2.06-2.06.94zm-11 1L8.5 8.5l.94-2.06 2.06-.94-2.06-.94L8.5 2.5l-.94 2.06-2.06.94zm10 10l.94 2.06.94-2.06 2.06-.94-2.06-.94-.94-2.06-.94 2.06-2.06.94z\"/><path d=\"M17.41 7.96l-1.37-1.37c-.4-.4-.92-.59-1.43-.59-.52 0-1.04.2-1.43.59L10.3 9.45l-7.72 7.72c-.78.78-.78 2.05 0 2.83L4 21.41c.39.39.9.59 1.41.59.51 0 1.02-.2 1.41-.59l7.78-7.78 2.81-2.81c.8-.78.8-2.07 0-2.86zM5.41 20L4 18.59l7.72-7.72 1.47 1.35L5.41 20z\"/>\n",
              "  </svg>\n",
              "      </button>\n",
              "      \n",
              "  <style>\n",
              "    .colab-df-container {\n",
              "      display:flex;\n",
              "      flex-wrap:wrap;\n",
              "      gap: 12px;\n",
              "    }\n",
              "\n",
              "    .colab-df-convert {\n",
              "      background-color: #E8F0FE;\n",
              "      border: none;\n",
              "      border-radius: 50%;\n",
              "      cursor: pointer;\n",
              "      display: none;\n",
              "      fill: #1967D2;\n",
              "      height: 32px;\n",
              "      padding: 0 0 0 0;\n",
              "      width: 32px;\n",
              "    }\n",
              "\n",
              "    .colab-df-convert:hover {\n",
              "      background-color: #E2EBFA;\n",
              "      box-shadow: 0px 1px 2px rgba(60, 64, 67, 0.3), 0px 1px 3px 1px rgba(60, 64, 67, 0.15);\n",
              "      fill: #174EA6;\n",
              "    }\n",
              "\n",
              "    [theme=dark] .colab-df-convert {\n",
              "      background-color: #3B4455;\n",
              "      fill: #D2E3FC;\n",
              "    }\n",
              "\n",
              "    [theme=dark] .colab-df-convert:hover {\n",
              "      background-color: #434B5C;\n",
              "      box-shadow: 0px 1px 3px 1px rgba(0, 0, 0, 0.15);\n",
              "      filter: drop-shadow(0px 1px 2px rgba(0, 0, 0, 0.3));\n",
              "      fill: #FFFFFF;\n",
              "    }\n",
              "  </style>\n",
              "\n",
              "      <script>\n",
              "        const buttonEl =\n",
              "          document.querySelector('#df-7e8e45f4-cedd-4889-9554-4a5d60b0c6f8 button.colab-df-convert');\n",
              "        buttonEl.style.display =\n",
              "          google.colab.kernel.accessAllowed ? 'block' : 'none';\n",
              "\n",
              "        async function convertToInteractive(key) {\n",
              "          const element = document.querySelector('#df-7e8e45f4-cedd-4889-9554-4a5d60b0c6f8');\n",
              "          const dataTable =\n",
              "            await google.colab.kernel.invokeFunction('convertToInteractive',\n",
              "                                                     [key], {});\n",
              "          if (!dataTable) return;\n",
              "\n",
              "          const docLinkHtml = 'Like what you see? Visit the ' +\n",
              "            '<a target=\"_blank\" href=https://colab.research.google.com/notebooks/data_table.ipynb>data table notebook</a>'\n",
              "            + ' to learn more about interactive tables.';\n",
              "          element.innerHTML = '';\n",
              "          dataTable['output_type'] = 'display_data';\n",
              "          await google.colab.output.renderOutput(dataTable, element);\n",
              "          const docLink = document.createElement('div');\n",
              "          docLink.innerHTML = docLinkHtml;\n",
              "          element.appendChild(docLink);\n",
              "        }\n",
              "      </script>\n",
              "    </div>\n",
              "  </div>\n",
              "  "
            ]
          },
          "metadata": {},
          "execution_count": 95
        }
      ]
    },
    {
      "cell_type": "code",
      "source": [
        "from sklearn.ensemble import RandomForestClassifier\n",
        "#from sklearn.datasets import load_iris\n",
        "\n",
        "# create a random forest classifier\n",
        "clf_rf = RandomForestClassifier()\n",
        "\n",
        "# train the classifier on the iris data\n",
        "rf = clf_rf.fit(X_train_7_s, y_train_7.values.ravel())\n",
        "\n",
        "\n"
      ],
      "metadata": {
        "id": "xJbserF9OEmm"
      },
      "execution_count": 85,
      "outputs": []
    },
    {
      "cell_type": "code",
      "source": [
        "y_pred_rf = clf_rf.predict(X_test_7_s)"
      ],
      "metadata": {
        "id": "BbQqzUtsOovd"
      },
      "execution_count": 86,
      "outputs": []
    },
    {
      "cell_type": "code",
      "source": [
        "from sklearn.metrics import *"
      ],
      "metadata": {
        "id": "R_6j-HmjOyvs"
      },
      "execution_count": 87,
      "outputs": []
    },
    {
      "cell_type": "code",
      "source": [
        "acc_rf = accuracy_score(y_test,y_pred_rf)\n",
        "pre_rf = precision_score(y_test,y_pred_rf)\n",
        "rec_rf = recall_score(y_test,y_pred_rf)\n",
        "f1_rf = f1_score(y_test,y_pred_rf)"
      ],
      "metadata": {
        "id": "zGqHf7imO2ou"
      },
      "execution_count": 90,
      "outputs": []
    },
    {
      "cell_type": "code",
      "source": [
        "f1_rf"
      ],
      "metadata": {
        "colab": {
          "base_uri": "https://localhost:8080/"
        },
        "id": "sNRsXhGHO7li",
        "outputId": "bd70837b-732b-4718-819e-81f132d91c9a"
      },
      "execution_count": 93,
      "outputs": [
        {
          "output_type": "execute_result",
          "data": {
            "text/plain": [
              "0.7428571428571428"
            ]
          },
          "metadata": {},
          "execution_count": 93
        }
      ]
    },
    {
      "cell_type": "code",
      "source": [
        "import pandas as pd\n",
        "\n",
        "\n",
        "\n",
        "# compute the pairwise correlations between the features and the target\n",
        "corr = train.corr()\n",
        "\n",
        "# compute the absolute value of the correlations\n",
        "corr_abs = corr.abs()\n",
        "\n",
        "# select only the features with a correlation above 0.5\n",
        "selected_features = corr_abs.loc[corr_abs['POS'] >= 0.3, 'POS'].index"
      ],
      "metadata": {
        "id": "wmswKkztPXar"
      },
      "execution_count": 98,
      "outputs": []
    },
    {
      "cell_type": "code",
      "source": [
        "selected_features"
      ],
      "metadata": {
        "colab": {
          "base_uri": "https://localhost:8080/"
        },
        "id": "uSqzHGR6RAwb",
        "outputId": "05109ddc-2023-474e-c137-f96a2da75739"
      },
      "execution_count": 96,
      "outputs": [
        {
          "output_type": "execute_result",
          "data": {
            "text/plain": [
              "Index(['IFI27', 'POS'], dtype='object')"
            ]
          },
          "metadata": {},
          "execution_count": 96
        }
      ]
    },
    {
      "cell_type": "code",
      "source": [
        "train"
      ],
      "metadata": {
        "colab": {
          "base_uri": "https://localhost:8080/",
          "height": 487
        },
        "id": "e2JDAWJeR0bb",
        "outputId": "a933cab9-59b9-4ef5-e672-3ea9225d5c7d"
      },
      "execution_count": 99,
      "outputs": [
        {
          "output_type": "execute_result",
          "data": {
            "text/plain": [
              "        rowname      ZZZ3     ZZEF1       ZYX    ZYG11B    ZYG11A      ZXDC  \\\n",
              "0    GSM4721578  3.345562  4.702545  5.219862  3.672994  1.837502  3.853066   \n",
              "1    GSM4721579  4.279814  5.203125  6.531373  4.043087  1.860280  4.158042   \n",
              "2    GSM4721580  3.879256  5.087448  7.094212  4.199015  1.969528  4.546930   \n",
              "3    GSM4721581  3.540794  5.567660  6.239423  4.380194  1.429195  4.139639   \n",
              "4    GSM4721582  3.080393  3.839341  5.836211  3.383650  0.658378  2.993578   \n",
              "..          ...       ...       ...       ...       ...       ...       ...   \n",
              "209  GSM4721787  3.410504  4.927526  5.118839  4.067574  2.840399  4.126301   \n",
              "210  GSM4721788  2.779833  3.606846  4.274621  3.136845  1.073111  3.289994   \n",
              "211  GSM4721789  4.678846  4.967577  4.927568  4.357973  1.603557  4.284183   \n",
              "212  GSM4721790  3.560511  5.455597  6.594427  4.413407  2.574862  4.865256   \n",
              "214  GSM4721792  4.022182  4.617089  4.661323  3.954328  1.323324  3.968345   \n",
              "\n",
              "         ZXDB      ZXDA     ZWINT  ...   AADACL2     AADAC      AACS  \\\n",
              "0    2.456855  2.100035  1.667868  ...  4.394019  1.534595  2.653224   \n",
              "1    2.913972  2.476032  1.295154  ...  5.852718  1.873902  3.069830   \n",
              "2    3.045830  2.271313  2.083444  ...  6.047912  3.014122  3.181115   \n",
              "3    3.106655  2.326469  2.139900  ...  4.751357  1.737868  2.957467   \n",
              "4    2.456942  2.047885  1.650940  ...  2.755875  0.492480  2.248810   \n",
              "..        ...       ...       ...  ...       ...       ...       ...   \n",
              "209  3.214365  1.574311  3.493535  ...  3.997577  0.000000  2.931199   \n",
              "210  2.766113  1.849525  1.455922  ...  4.834051  2.241250  2.216968   \n",
              "211  3.331449  2.594952  2.707950  ...  4.633873  3.299508  3.718748   \n",
              "212  3.217595  2.297907  1.462912  ...  5.430604  4.642149  3.738493   \n",
              "214  2.916942  2.619167  1.430107  ...  3.818905  1.591368  2.669641   \n",
              "\n",
              "         AAAS    A4GALT     A2ML1       A2M      A1CF      A1BG  POS  \n",
              "0    3.202121  5.191661  1.924741  4.713352  0.704049  2.674830    0  \n",
              "1    3.130780  4.947965  3.331046  4.184043  1.375493  3.749930    0  \n",
              "2    4.019523  5.551716  3.466246  4.139041  0.905467  3.700790    0  \n",
              "3    2.931191  5.896914  3.446263  4.259978  1.004334  2.781016    1  \n",
              "4    2.525087  4.847353  0.801915  4.585851  0.050098  2.411392    1  \n",
              "..        ...       ...       ...       ...       ...       ...  ...  \n",
              "209  3.818293  5.839102  1.514297  3.922109  0.000000  3.153386    1  \n",
              "210  2.684062  4.465390  1.730287  2.716728  0.869811  2.037224    1  \n",
              "211  3.895036  6.468435  2.819897  2.657536  0.770574  2.780975    1  \n",
              "212  4.598033  6.074337  3.184229  3.234643  0.995871  3.605545    1  \n",
              "214  3.579682  6.315757  2.012566  2.479382  0.574919  2.831808    1  \n",
              "\n",
              "[188 rows x 15813 columns]"
            ],
            "text/html": [
              "\n",
              "  <div id=\"df-223ca814-73f9-42e5-8237-70af483aaa7b\">\n",
              "    <div class=\"colab-df-container\">\n",
              "      <div>\n",
              "<style scoped>\n",
              "    .dataframe tbody tr th:only-of-type {\n",
              "        vertical-align: middle;\n",
              "    }\n",
              "\n",
              "    .dataframe tbody tr th {\n",
              "        vertical-align: top;\n",
              "    }\n",
              "\n",
              "    .dataframe thead th {\n",
              "        text-align: right;\n",
              "    }\n",
              "</style>\n",
              "<table border=\"1\" class=\"dataframe\">\n",
              "  <thead>\n",
              "    <tr style=\"text-align: right;\">\n",
              "      <th></th>\n",
              "      <th>rowname</th>\n",
              "      <th>ZZZ3</th>\n",
              "      <th>ZZEF1</th>\n",
              "      <th>ZYX</th>\n",
              "      <th>ZYG11B</th>\n",
              "      <th>ZYG11A</th>\n",
              "      <th>ZXDC</th>\n",
              "      <th>ZXDB</th>\n",
              "      <th>ZXDA</th>\n",
              "      <th>ZWINT</th>\n",
              "      <th>...</th>\n",
              "      <th>AADACL2</th>\n",
              "      <th>AADAC</th>\n",
              "      <th>AACS</th>\n",
              "      <th>AAAS</th>\n",
              "      <th>A4GALT</th>\n",
              "      <th>A2ML1</th>\n",
              "      <th>A2M</th>\n",
              "      <th>A1CF</th>\n",
              "      <th>A1BG</th>\n",
              "      <th>POS</th>\n",
              "    </tr>\n",
              "  </thead>\n",
              "  <tbody>\n",
              "    <tr>\n",
              "      <th>0</th>\n",
              "      <td>GSM4721578</td>\n",
              "      <td>3.345562</td>\n",
              "      <td>4.702545</td>\n",
              "      <td>5.219862</td>\n",
              "      <td>3.672994</td>\n",
              "      <td>1.837502</td>\n",
              "      <td>3.853066</td>\n",
              "      <td>2.456855</td>\n",
              "      <td>2.100035</td>\n",
              "      <td>1.667868</td>\n",
              "      <td>...</td>\n",
              "      <td>4.394019</td>\n",
              "      <td>1.534595</td>\n",
              "      <td>2.653224</td>\n",
              "      <td>3.202121</td>\n",
              "      <td>5.191661</td>\n",
              "      <td>1.924741</td>\n",
              "      <td>4.713352</td>\n",
              "      <td>0.704049</td>\n",
              "      <td>2.674830</td>\n",
              "      <td>0</td>\n",
              "    </tr>\n",
              "    <tr>\n",
              "      <th>1</th>\n",
              "      <td>GSM4721579</td>\n",
              "      <td>4.279814</td>\n",
              "      <td>5.203125</td>\n",
              "      <td>6.531373</td>\n",
              "      <td>4.043087</td>\n",
              "      <td>1.860280</td>\n",
              "      <td>4.158042</td>\n",
              "      <td>2.913972</td>\n",
              "      <td>2.476032</td>\n",
              "      <td>1.295154</td>\n",
              "      <td>...</td>\n",
              "      <td>5.852718</td>\n",
              "      <td>1.873902</td>\n",
              "      <td>3.069830</td>\n",
              "      <td>3.130780</td>\n",
              "      <td>4.947965</td>\n",
              "      <td>3.331046</td>\n",
              "      <td>4.184043</td>\n",
              "      <td>1.375493</td>\n",
              "      <td>3.749930</td>\n",
              "      <td>0</td>\n",
              "    </tr>\n",
              "    <tr>\n",
              "      <th>2</th>\n",
              "      <td>GSM4721580</td>\n",
              "      <td>3.879256</td>\n",
              "      <td>5.087448</td>\n",
              "      <td>7.094212</td>\n",
              "      <td>4.199015</td>\n",
              "      <td>1.969528</td>\n",
              "      <td>4.546930</td>\n",
              "      <td>3.045830</td>\n",
              "      <td>2.271313</td>\n",
              "      <td>2.083444</td>\n",
              "      <td>...</td>\n",
              "      <td>6.047912</td>\n",
              "      <td>3.014122</td>\n",
              "      <td>3.181115</td>\n",
              "      <td>4.019523</td>\n",
              "      <td>5.551716</td>\n",
              "      <td>3.466246</td>\n",
              "      <td>4.139041</td>\n",
              "      <td>0.905467</td>\n",
              "      <td>3.700790</td>\n",
              "      <td>0</td>\n",
              "    </tr>\n",
              "    <tr>\n",
              "      <th>3</th>\n",
              "      <td>GSM4721581</td>\n",
              "      <td>3.540794</td>\n",
              "      <td>5.567660</td>\n",
              "      <td>6.239423</td>\n",
              "      <td>4.380194</td>\n",
              "      <td>1.429195</td>\n",
              "      <td>4.139639</td>\n",
              "      <td>3.106655</td>\n",
              "      <td>2.326469</td>\n",
              "      <td>2.139900</td>\n",
              "      <td>...</td>\n",
              "      <td>4.751357</td>\n",
              "      <td>1.737868</td>\n",
              "      <td>2.957467</td>\n",
              "      <td>2.931191</td>\n",
              "      <td>5.896914</td>\n",
              "      <td>3.446263</td>\n",
              "      <td>4.259978</td>\n",
              "      <td>1.004334</td>\n",
              "      <td>2.781016</td>\n",
              "      <td>1</td>\n",
              "    </tr>\n",
              "    <tr>\n",
              "      <th>4</th>\n",
              "      <td>GSM4721582</td>\n",
              "      <td>3.080393</td>\n",
              "      <td>3.839341</td>\n",
              "      <td>5.836211</td>\n",
              "      <td>3.383650</td>\n",
              "      <td>0.658378</td>\n",
              "      <td>2.993578</td>\n",
              "      <td>2.456942</td>\n",
              "      <td>2.047885</td>\n",
              "      <td>1.650940</td>\n",
              "      <td>...</td>\n",
              "      <td>2.755875</td>\n",
              "      <td>0.492480</td>\n",
              "      <td>2.248810</td>\n",
              "      <td>2.525087</td>\n",
              "      <td>4.847353</td>\n",
              "      <td>0.801915</td>\n",
              "      <td>4.585851</td>\n",
              "      <td>0.050098</td>\n",
              "      <td>2.411392</td>\n",
              "      <td>1</td>\n",
              "    </tr>\n",
              "    <tr>\n",
              "      <th>...</th>\n",
              "      <td>...</td>\n",
              "      <td>...</td>\n",
              "      <td>...</td>\n",
              "      <td>...</td>\n",
              "      <td>...</td>\n",
              "      <td>...</td>\n",
              "      <td>...</td>\n",
              "      <td>...</td>\n",
              "      <td>...</td>\n",
              "      <td>...</td>\n",
              "      <td>...</td>\n",
              "      <td>...</td>\n",
              "      <td>...</td>\n",
              "      <td>...</td>\n",
              "      <td>...</td>\n",
              "      <td>...</td>\n",
              "      <td>...</td>\n",
              "      <td>...</td>\n",
              "      <td>...</td>\n",
              "      <td>...</td>\n",
              "      <td>...</td>\n",
              "    </tr>\n",
              "    <tr>\n",
              "      <th>209</th>\n",
              "      <td>GSM4721787</td>\n",
              "      <td>3.410504</td>\n",
              "      <td>4.927526</td>\n",
              "      <td>5.118839</td>\n",
              "      <td>4.067574</td>\n",
              "      <td>2.840399</td>\n",
              "      <td>4.126301</td>\n",
              "      <td>3.214365</td>\n",
              "      <td>1.574311</td>\n",
              "      <td>3.493535</td>\n",
              "      <td>...</td>\n",
              "      <td>3.997577</td>\n",
              "      <td>0.000000</td>\n",
              "      <td>2.931199</td>\n",
              "      <td>3.818293</td>\n",
              "      <td>5.839102</td>\n",
              "      <td>1.514297</td>\n",
              "      <td>3.922109</td>\n",
              "      <td>0.000000</td>\n",
              "      <td>3.153386</td>\n",
              "      <td>1</td>\n",
              "    </tr>\n",
              "    <tr>\n",
              "      <th>210</th>\n",
              "      <td>GSM4721788</td>\n",
              "      <td>2.779833</td>\n",
              "      <td>3.606846</td>\n",
              "      <td>4.274621</td>\n",
              "      <td>3.136845</td>\n",
              "      <td>1.073111</td>\n",
              "      <td>3.289994</td>\n",
              "      <td>2.766113</td>\n",
              "      <td>1.849525</td>\n",
              "      <td>1.455922</td>\n",
              "      <td>...</td>\n",
              "      <td>4.834051</td>\n",
              "      <td>2.241250</td>\n",
              "      <td>2.216968</td>\n",
              "      <td>2.684062</td>\n",
              "      <td>4.465390</td>\n",
              "      <td>1.730287</td>\n",
              "      <td>2.716728</td>\n",
              "      <td>0.869811</td>\n",
              "      <td>2.037224</td>\n",
              "      <td>1</td>\n",
              "    </tr>\n",
              "    <tr>\n",
              "      <th>211</th>\n",
              "      <td>GSM4721789</td>\n",
              "      <td>4.678846</td>\n",
              "      <td>4.967577</td>\n",
              "      <td>4.927568</td>\n",
              "      <td>4.357973</td>\n",
              "      <td>1.603557</td>\n",
              "      <td>4.284183</td>\n",
              "      <td>3.331449</td>\n",
              "      <td>2.594952</td>\n",
              "      <td>2.707950</td>\n",
              "      <td>...</td>\n",
              "      <td>4.633873</td>\n",
              "      <td>3.299508</td>\n",
              "      <td>3.718748</td>\n",
              "      <td>3.895036</td>\n",
              "      <td>6.468435</td>\n",
              "      <td>2.819897</td>\n",
              "      <td>2.657536</td>\n",
              "      <td>0.770574</td>\n",
              "      <td>2.780975</td>\n",
              "      <td>1</td>\n",
              "    </tr>\n",
              "    <tr>\n",
              "      <th>212</th>\n",
              "      <td>GSM4721790</td>\n",
              "      <td>3.560511</td>\n",
              "      <td>5.455597</td>\n",
              "      <td>6.594427</td>\n",
              "      <td>4.413407</td>\n",
              "      <td>2.574862</td>\n",
              "      <td>4.865256</td>\n",
              "      <td>3.217595</td>\n",
              "      <td>2.297907</td>\n",
              "      <td>1.462912</td>\n",
              "      <td>...</td>\n",
              "      <td>5.430604</td>\n",
              "      <td>4.642149</td>\n",
              "      <td>3.738493</td>\n",
              "      <td>4.598033</td>\n",
              "      <td>6.074337</td>\n",
              "      <td>3.184229</td>\n",
              "      <td>3.234643</td>\n",
              "      <td>0.995871</td>\n",
              "      <td>3.605545</td>\n",
              "      <td>1</td>\n",
              "    </tr>\n",
              "    <tr>\n",
              "      <th>214</th>\n",
              "      <td>GSM4721792</td>\n",
              "      <td>4.022182</td>\n",
              "      <td>4.617089</td>\n",
              "      <td>4.661323</td>\n",
              "      <td>3.954328</td>\n",
              "      <td>1.323324</td>\n",
              "      <td>3.968345</td>\n",
              "      <td>2.916942</td>\n",
              "      <td>2.619167</td>\n",
              "      <td>1.430107</td>\n",
              "      <td>...</td>\n",
              "      <td>3.818905</td>\n",
              "      <td>1.591368</td>\n",
              "      <td>2.669641</td>\n",
              "      <td>3.579682</td>\n",
              "      <td>6.315757</td>\n",
              "      <td>2.012566</td>\n",
              "      <td>2.479382</td>\n",
              "      <td>0.574919</td>\n",
              "      <td>2.831808</td>\n",
              "      <td>1</td>\n",
              "    </tr>\n",
              "  </tbody>\n",
              "</table>\n",
              "<p>188 rows × 15813 columns</p>\n",
              "</div>\n",
              "      <button class=\"colab-df-convert\" onclick=\"convertToInteractive('df-223ca814-73f9-42e5-8237-70af483aaa7b')\"\n",
              "              title=\"Convert this dataframe to an interactive table.\"\n",
              "              style=\"display:none;\">\n",
              "        \n",
              "  <svg xmlns=\"http://www.w3.org/2000/svg\" height=\"24px\"viewBox=\"0 0 24 24\"\n",
              "       width=\"24px\">\n",
              "    <path d=\"M0 0h24v24H0V0z\" fill=\"none\"/>\n",
              "    <path d=\"M18.56 5.44l.94 2.06.94-2.06 2.06-.94-2.06-.94-.94-2.06-.94 2.06-2.06.94zm-11 1L8.5 8.5l.94-2.06 2.06-.94-2.06-.94L8.5 2.5l-.94 2.06-2.06.94zm10 10l.94 2.06.94-2.06 2.06-.94-2.06-.94-.94-2.06-.94 2.06-2.06.94z\"/><path d=\"M17.41 7.96l-1.37-1.37c-.4-.4-.92-.59-1.43-.59-.52 0-1.04.2-1.43.59L10.3 9.45l-7.72 7.72c-.78.78-.78 2.05 0 2.83L4 21.41c.39.39.9.59 1.41.59.51 0 1.02-.2 1.41-.59l7.78-7.78 2.81-2.81c.8-.78.8-2.07 0-2.86zM5.41 20L4 18.59l7.72-7.72 1.47 1.35L5.41 20z\"/>\n",
              "  </svg>\n",
              "      </button>\n",
              "      \n",
              "  <style>\n",
              "    .colab-df-container {\n",
              "      display:flex;\n",
              "      flex-wrap:wrap;\n",
              "      gap: 12px;\n",
              "    }\n",
              "\n",
              "    .colab-df-convert {\n",
              "      background-color: #E8F0FE;\n",
              "      border: none;\n",
              "      border-radius: 50%;\n",
              "      cursor: pointer;\n",
              "      display: none;\n",
              "      fill: #1967D2;\n",
              "      height: 32px;\n",
              "      padding: 0 0 0 0;\n",
              "      width: 32px;\n",
              "    }\n",
              "\n",
              "    .colab-df-convert:hover {\n",
              "      background-color: #E2EBFA;\n",
              "      box-shadow: 0px 1px 2px rgba(60, 64, 67, 0.3), 0px 1px 3px 1px rgba(60, 64, 67, 0.15);\n",
              "      fill: #174EA6;\n",
              "    }\n",
              "\n",
              "    [theme=dark] .colab-df-convert {\n",
              "      background-color: #3B4455;\n",
              "      fill: #D2E3FC;\n",
              "    }\n",
              "\n",
              "    [theme=dark] .colab-df-convert:hover {\n",
              "      background-color: #434B5C;\n",
              "      box-shadow: 0px 1px 3px 1px rgba(0, 0, 0, 0.15);\n",
              "      filter: drop-shadow(0px 1px 2px rgba(0, 0, 0, 0.3));\n",
              "      fill: #FFFFFF;\n",
              "    }\n",
              "  </style>\n",
              "\n",
              "      <script>\n",
              "        const buttonEl =\n",
              "          document.querySelector('#df-223ca814-73f9-42e5-8237-70af483aaa7b button.colab-df-convert');\n",
              "        buttonEl.style.display =\n",
              "          google.colab.kernel.accessAllowed ? 'block' : 'none';\n",
              "\n",
              "        async function convertToInteractive(key) {\n",
              "          const element = document.querySelector('#df-223ca814-73f9-42e5-8237-70af483aaa7b');\n",
              "          const dataTable =\n",
              "            await google.colab.kernel.invokeFunction('convertToInteractive',\n",
              "                                                     [key], {});\n",
              "          if (!dataTable) return;\n",
              "\n",
              "          const docLinkHtml = 'Like what you see? Visit the ' +\n",
              "            '<a target=\"_blank\" href=https://colab.research.google.com/notebooks/data_table.ipynb>data table notebook</a>'\n",
              "            + ' to learn more about interactive tables.';\n",
              "          element.innerHTML = '';\n",
              "          dataTable['output_type'] = 'display_data';\n",
              "          await google.colab.output.renderOutput(dataTable, element);\n",
              "          const docLink = document.createElement('div');\n",
              "          docLink.innerHTML = docLinkHtml;\n",
              "          element.appendChild(docLink);\n",
              "        }\n",
              "      </script>\n",
              "    </div>\n",
              "  </div>\n",
              "  "
            ]
          },
          "metadata": {},
          "execution_count": 99
        }
      ]
    },
    {
      "cell_type": "code",
      "source": [
        "var = train.var()"
      ],
      "metadata": {
        "colab": {
          "base_uri": "https://localhost:8080/"
        },
        "id": "Nsxees0oUJAo",
        "outputId": "05178da9-7935-429a-96b0-75c89cf1576f"
      },
      "execution_count": 103,
      "outputs": [
        {
          "output_type": "stream",
          "name": "stderr",
          "text": [
            "<ipython-input-103-c1ef6d62755d>:1: FutureWarning: Dropping of nuisance columns in DataFrame reductions (with 'numeric_only=None') is deprecated; in a future version this will raise TypeError.  Select only valid columns before calling the reduction.\n",
            "  var = train.var()\n"
          ]
        }
      ]
    },
    {
      "cell_type": "code",
      "source": [
        "var = pd.DataFrame()\n",
        "var['Variance'] = train.var()"
      ],
      "metadata": {
        "colab": {
          "base_uri": "https://localhost:8080/"
        },
        "id": "MjuEPe5EItHa",
        "outputId": "b5f8e5b0-4dfd-4e26-e8a9-7abe4d857f60"
      },
      "execution_count": 104,
      "outputs": [
        {
          "output_type": "stream",
          "name": "stderr",
          "text": [
            "<ipython-input-104-3086a94a0305>:2: FutureWarning: Dropping of nuisance columns in DataFrame reductions (with 'numeric_only=None') is deprecated; in a future version this will raise TypeError.  Select only valid columns before calling the reduction.\n",
            "  var['Variance'] = train.var()\n"
          ]
        }
      ]
    },
    {
      "cell_type": "code",
      "source": [
        "#high variance of a gene indicates that this gene is overly expressed\n",
        "var.max()"
      ],
      "metadata": {
        "colab": {
          "base_uri": "https://localhost:8080/"
        },
        "id": "7xQA8tImI2iE",
        "outputId": "267aafc8-7a50-4ab1-a45b-3b27462adeab"
      },
      "execution_count": 106,
      "outputs": [
        {
          "output_type": "execute_result",
          "data": {
            "text/plain": [
              "Variance    12.920417\n",
              "dtype: float64"
            ]
          },
          "metadata": {},
          "execution_count": 106
        }
      ]
    },
    {
      "cell_type": "code",
      "source": [
        "var.min()"
      ],
      "metadata": {
        "colab": {
          "base_uri": "https://localhost:8080/"
        },
        "id": "_SORzwsiJGBL",
        "outputId": "75d85e28-fed7-49d3-8b0e-af6e87673539"
      },
      "execution_count": 107,
      "outputs": [
        {
          "output_type": "execute_result",
          "data": {
            "text/plain": [
              "Variance    0.062628\n",
              "dtype: float64"
            ]
          },
          "metadata": {},
          "execution_count": 107
        }
      ]
    },
    {
      "cell_type": "code",
      "source": [
        "df_pos = train.loc[train['POS'] == 1]\n",
        "df_neg = train.loc[train['POS'] == 0]\n"
      ],
      "metadata": {
        "id": "xpmw2c41Jfez"
      },
      "execution_count": 108,
      "outputs": []
    },
    {
      "cell_type": "code",
      "source": [
        "var_pos = df_pos.var()"
      ],
      "metadata": {
        "colab": {
          "base_uri": "https://localhost:8080/"
        },
        "id": "_seMDfs-K1uj",
        "outputId": "d6705642-6484-4074-dda5-f8b3263e16dc"
      },
      "execution_count": 111,
      "outputs": [
        {
          "output_type": "stream",
          "name": "stderr",
          "text": [
            "<ipython-input-111-a33aead6aa1e>:1: FutureWarning: Dropping of nuisance columns in DataFrame reductions (with 'numeric_only=None') is deprecated; in a future version this will raise TypeError.  Select only valid columns before calling the reduction.\n",
            "  var_pos = df_pos.var()\n"
          ]
        }
      ]
    },
    {
      "cell_type": "code",
      "source": [
        "var_neg = df_neg.var()"
      ],
      "metadata": {
        "colab": {
          "base_uri": "https://localhost:8080/"
        },
        "id": "AfFglI9QK4we",
        "outputId": "a17ddf2e-71b6-4513-b737-056d965ff066"
      },
      "execution_count": 112,
      "outputs": [
        {
          "output_type": "stream",
          "name": "stderr",
          "text": [
            "<ipython-input-112-739f6c1acc3f>:1: FutureWarning: Dropping of nuisance columns in DataFrame reductions (with 'numeric_only=None') is deprecated; in a future version this will raise TypeError.  Select only valid columns before calling the reduction.\n",
            "  var_neg = df_neg.var()\n"
          ]
        }
      ]
    },
    {
      "cell_type": "code",
      "source": [
        "var = pd.DataFrame()\n",
        "var['Pos_var'] = df_pos.var()\n",
        "var['Neg_var'] = df_neg.var()"
      ],
      "metadata": {
        "colab": {
          "base_uri": "https://localhost:8080/"
        },
        "id": "poRfMyz7LbjS",
        "outputId": "629bfd39-47cd-44fa-f5d5-f877ed70e56f"
      },
      "execution_count": 115,
      "outputs": [
        {
          "output_type": "stream",
          "name": "stderr",
          "text": [
            "<ipython-input-115-afe87b2e95e4>:2: FutureWarning: Dropping of nuisance columns in DataFrame reductions (with 'numeric_only=None') is deprecated; in a future version this will raise TypeError.  Select only valid columns before calling the reduction.\n",
            "  var['Pos_var'] = df_pos.var()\n",
            "<ipython-input-115-afe87b2e95e4>:3: FutureWarning: Dropping of nuisance columns in DataFrame reductions (with 'numeric_only=None') is deprecated; in a future version this will raise TypeError.  Select only valid columns before calling the reduction.\n",
            "  var['Neg_var'] = df_neg.var()\n"
          ]
        }
      ]
    },
    {
      "cell_type": "code",
      "source": [
        "var['Pos_var'].max()"
      ],
      "metadata": {
        "colab": {
          "base_uri": "https://localhost:8080/"
        },
        "id": "l67g8_uTLw7D",
        "outputId": "e8bc11d2-49f9-4fde-89b0-2875a6ba374f"
      },
      "execution_count": 117,
      "outputs": [
        {
          "output_type": "execute_result",
          "data": {
            "text/plain": [
              "12.328565348793921"
            ]
          },
          "metadata": {},
          "execution_count": 117
        }
      ]
    },
    {
      "cell_type": "code",
      "source": [
        "var['Neg_var'].min()"
      ],
      "metadata": {
        "colab": {
          "base_uri": "https://localhost:8080/"
        },
        "id": "qU5CVNxLL0-a",
        "outputId": "330235fe-7b57-40b6-9e9f-7f48f96cb5da"
      },
      "execution_count": 120,
      "outputs": [
        {
          "output_type": "execute_result",
          "data": {
            "text/plain": [
              "0.0"
            ]
          },
          "metadata": {},
          "execution_count": 120
        }
      ]
    },
    {
      "cell_type": "code",
      "source": [
        "var.describe()"
      ],
      "metadata": {
        "colab": {
          "base_uri": "https://localhost:8080/",
          "height": 300
        },
        "id": "MyGFq4bLMHDy",
        "outputId": "2c2e0935-aafd-4256-b20f-0855c92f6621"
      },
      "execution_count": 122,
      "outputs": [
        {
          "output_type": "execute_result",
          "data": {
            "text/plain": [
              "            Pos_var       Neg_var\n",
              "count  15812.000000  15812.000000\n",
              "mean       1.150993      1.343892\n",
              "std        0.538003      0.960526\n",
              "min        0.000000      0.000000\n",
              "25%        0.826762      0.815008\n",
              "50%        1.049082      1.086553\n",
              "75%        1.348737      1.523221\n",
              "max       12.328565     12.799743"
            ],
            "text/html": [
              "\n",
              "  <div id=\"df-fc9c3ca2-db5c-4a1b-ac19-59d83d65e100\">\n",
              "    <div class=\"colab-df-container\">\n",
              "      <div>\n",
              "<style scoped>\n",
              "    .dataframe tbody tr th:only-of-type {\n",
              "        vertical-align: middle;\n",
              "    }\n",
              "\n",
              "    .dataframe tbody tr th {\n",
              "        vertical-align: top;\n",
              "    }\n",
              "\n",
              "    .dataframe thead th {\n",
              "        text-align: right;\n",
              "    }\n",
              "</style>\n",
              "<table border=\"1\" class=\"dataframe\">\n",
              "  <thead>\n",
              "    <tr style=\"text-align: right;\">\n",
              "      <th></th>\n",
              "      <th>Pos_var</th>\n",
              "      <th>Neg_var</th>\n",
              "    </tr>\n",
              "  </thead>\n",
              "  <tbody>\n",
              "    <tr>\n",
              "      <th>count</th>\n",
              "      <td>15812.000000</td>\n",
              "      <td>15812.000000</td>\n",
              "    </tr>\n",
              "    <tr>\n",
              "      <th>mean</th>\n",
              "      <td>1.150993</td>\n",
              "      <td>1.343892</td>\n",
              "    </tr>\n",
              "    <tr>\n",
              "      <th>std</th>\n",
              "      <td>0.538003</td>\n",
              "      <td>0.960526</td>\n",
              "    </tr>\n",
              "    <tr>\n",
              "      <th>min</th>\n",
              "      <td>0.000000</td>\n",
              "      <td>0.000000</td>\n",
              "    </tr>\n",
              "    <tr>\n",
              "      <th>25%</th>\n",
              "      <td>0.826762</td>\n",
              "      <td>0.815008</td>\n",
              "    </tr>\n",
              "    <tr>\n",
              "      <th>50%</th>\n",
              "      <td>1.049082</td>\n",
              "      <td>1.086553</td>\n",
              "    </tr>\n",
              "    <tr>\n",
              "      <th>75%</th>\n",
              "      <td>1.348737</td>\n",
              "      <td>1.523221</td>\n",
              "    </tr>\n",
              "    <tr>\n",
              "      <th>max</th>\n",
              "      <td>12.328565</td>\n",
              "      <td>12.799743</td>\n",
              "    </tr>\n",
              "  </tbody>\n",
              "</table>\n",
              "</div>\n",
              "      <button class=\"colab-df-convert\" onclick=\"convertToInteractive('df-fc9c3ca2-db5c-4a1b-ac19-59d83d65e100')\"\n",
              "              title=\"Convert this dataframe to an interactive table.\"\n",
              "              style=\"display:none;\">\n",
              "        \n",
              "  <svg xmlns=\"http://www.w3.org/2000/svg\" height=\"24px\"viewBox=\"0 0 24 24\"\n",
              "       width=\"24px\">\n",
              "    <path d=\"M0 0h24v24H0V0z\" fill=\"none\"/>\n",
              "    <path d=\"M18.56 5.44l.94 2.06.94-2.06 2.06-.94-2.06-.94-.94-2.06-.94 2.06-2.06.94zm-11 1L8.5 8.5l.94-2.06 2.06-.94-2.06-.94L8.5 2.5l-.94 2.06-2.06.94zm10 10l.94 2.06.94-2.06 2.06-.94-2.06-.94-.94-2.06-.94 2.06-2.06.94z\"/><path d=\"M17.41 7.96l-1.37-1.37c-.4-.4-.92-.59-1.43-.59-.52 0-1.04.2-1.43.59L10.3 9.45l-7.72 7.72c-.78.78-.78 2.05 0 2.83L4 21.41c.39.39.9.59 1.41.59.51 0 1.02-.2 1.41-.59l7.78-7.78 2.81-2.81c.8-.78.8-2.07 0-2.86zM5.41 20L4 18.59l7.72-7.72 1.47 1.35L5.41 20z\"/>\n",
              "  </svg>\n",
              "      </button>\n",
              "      \n",
              "  <style>\n",
              "    .colab-df-container {\n",
              "      display:flex;\n",
              "      flex-wrap:wrap;\n",
              "      gap: 12px;\n",
              "    }\n",
              "\n",
              "    .colab-df-convert {\n",
              "      background-color: #E8F0FE;\n",
              "      border: none;\n",
              "      border-radius: 50%;\n",
              "      cursor: pointer;\n",
              "      display: none;\n",
              "      fill: #1967D2;\n",
              "      height: 32px;\n",
              "      padding: 0 0 0 0;\n",
              "      width: 32px;\n",
              "    }\n",
              "\n",
              "    .colab-df-convert:hover {\n",
              "      background-color: #E2EBFA;\n",
              "      box-shadow: 0px 1px 2px rgba(60, 64, 67, 0.3), 0px 1px 3px 1px rgba(60, 64, 67, 0.15);\n",
              "      fill: #174EA6;\n",
              "    }\n",
              "\n",
              "    [theme=dark] .colab-df-convert {\n",
              "      background-color: #3B4455;\n",
              "      fill: #D2E3FC;\n",
              "    }\n",
              "\n",
              "    [theme=dark] .colab-df-convert:hover {\n",
              "      background-color: #434B5C;\n",
              "      box-shadow: 0px 1px 3px 1px rgba(0, 0, 0, 0.15);\n",
              "      filter: drop-shadow(0px 1px 2px rgba(0, 0, 0, 0.3));\n",
              "      fill: #FFFFFF;\n",
              "    }\n",
              "  </style>\n",
              "\n",
              "      <script>\n",
              "        const buttonEl =\n",
              "          document.querySelector('#df-fc9c3ca2-db5c-4a1b-ac19-59d83d65e100 button.colab-df-convert');\n",
              "        buttonEl.style.display =\n",
              "          google.colab.kernel.accessAllowed ? 'block' : 'none';\n",
              "\n",
              "        async function convertToInteractive(key) {\n",
              "          const element = document.querySelector('#df-fc9c3ca2-db5c-4a1b-ac19-59d83d65e100');\n",
              "          const dataTable =\n",
              "            await google.colab.kernel.invokeFunction('convertToInteractive',\n",
              "                                                     [key], {});\n",
              "          if (!dataTable) return;\n",
              "\n",
              "          const docLinkHtml = 'Like what you see? Visit the ' +\n",
              "            '<a target=\"_blank\" href=https://colab.research.google.com/notebooks/data_table.ipynb>data table notebook</a>'\n",
              "            + ' to learn more about interactive tables.';\n",
              "          element.innerHTML = '';\n",
              "          dataTable['output_type'] = 'display_data';\n",
              "          await google.colab.output.renderOutput(dataTable, element);\n",
              "          const docLink = document.createElement('div');\n",
              "          docLink.innerHTML = docLinkHtml;\n",
              "          element.appendChild(docLink);\n",
              "        }\n",
              "      </script>\n",
              "    </div>\n",
              "  </div>\n",
              "  "
            ]
          },
          "metadata": {},
          "execution_count": 122
        }
      ]
    },
    {
      "cell_type": "code",
      "source": [],
      "metadata": {
        "id": "YFWYUQi4M9GO"
      },
      "execution_count": null,
      "outputs": []
    },
    {
      "cell_type": "markdown",
      "source": [
        "RandomForestClassifier model and the number of features to select (10). The RFE object is then fitted to the training data using the fit method. The ranking_ attribute of the RFE object is used to print the names and rankings of the selected features, and the selected features are used to train the final model. The performance of the final model is then evaluated on the test set.\n",
        "\n",
        "This is just one way to implement RFE in Python. There are many other ways to use the RFE class and other feature selection methods in Python, and the specific implementation will depend on the specific context and research question. It is always important to carefully evaluate the specific situation and consult with a statistician or other expert if necessary."
      ],
      "metadata": {
        "id": "NoTMkg9xQYbs"
      }
    },
    {
      "cell_type": "code",
      "source": [],
      "metadata": {
        "id": "nBw6vPULQZdi"
      },
      "execution_count": null,
      "outputs": []
    }
  ]
}