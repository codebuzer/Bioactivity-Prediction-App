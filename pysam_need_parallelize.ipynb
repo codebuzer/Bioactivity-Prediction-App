{
  "cells": [
    {
      "cell_type": "markdown",
      "metadata": {
        "id": "view-in-github",
        "colab_type": "text"
      },
      "source": [
        "<a href=\"https://colab.research.google.com/github/codebuzer/Bioactivity-Prediction-App/blob/main/pysam_need_parallelize.ipynb\" target=\"_parent\"><img src=\"https://colab.research.google.com/assets/colab-badge.svg\" alt=\"Open In Colab\"/></a>"
      ]
    },
    {
      "cell_type": "code",
      "execution_count": null,
      "metadata": {
        "colab": {
          "base_uri": "https://localhost:8080/"
        },
        "id": "55ZozpKRXcTE",
        "outputId": "9a7f2ef0-032b-47b3-e73e-4cd5e6398c81"
      },
      "outputs": [
        {
          "name": "stdout",
          "output_type": "stream",
          "text": [
            "Looking in indexes: https://pypi.org/simple, https://us-python.pkg.dev/colab-wheels/public/simple/\n",
            "Requirement already satisfied: pysam in /usr/local/lib/python3.10/dist-packages (0.21.0)\n",
            "Requirement already satisfied: cython in /usr/local/lib/python3.10/dist-packages (from pysam) (0.29.34)\n",
            "Reading package lists... Done\n",
            "Building dependency tree       \n",
            "Reading state information... Done\n",
            "samtools is already the newest version (1.10-3).\n",
            "0 upgraded, 0 newly installed, 0 to remove and 34 not upgraded.\n"
          ]
        }
      ],
      "source": [
        "!pip install pysam\n",
        "!apt-get install samtools"
      ]
    },
    {
      "cell_type": "code",
      "execution_count": null,
      "metadata": {
        "id": "NfLw4cvAXvO7"
      },
      "outputs": [],
      "source": [
        "import pysam\n",
        "import pandas as pd\n",
        "import numpy as np\n",
        "import subprocess\n",
        "import time"
      ]
    },
    {
      "cell_type": "code",
      "execution_count": null,
      "metadata": {
        "id": "jJLd3PVs-Mpu"
      },
      "outputs": [],
      "source": [
        "df.reset_index().to_feather('gtffile.ftr')"
      ]
    },
    {
      "cell_type": "code",
      "execution_count": null,
      "metadata": {
        "id": "e4VtjhdAhLzX"
      },
      "outputs": [],
      "source": [
        "df = pd.read_csv('/content/drive/MyDrive/gene wise coverage/gtffile.csv', index_col = 0, low_memory = False)"
      ]
    },
    {
      "cell_type": "code",
      "execution_count": null,
      "metadata": {
        "colab": {
          "base_uri": "https://localhost:8080/",
          "height": 337
        },
        "id": "ovAUyHr4jziL",
        "outputId": "404d533d-9a79-4fad-d442-34e73151191a"
      },
      "outputs": [
        {
          "data": {
            "text/html": [
              "\n",
              "  <div id=\"df-296ef14e-b1c0-4d6d-828c-04956fdd5a90\">\n",
              "    <div class=\"colab-df-container\">\n",
              "      <div>\n",
              "<style scoped>\n",
              "    .dataframe tbody tr th:only-of-type {\n",
              "        vertical-align: middle;\n",
              "    }\n",
              "\n",
              "    .dataframe tbody tr th {\n",
              "        vertical-align: top;\n",
              "    }\n",
              "\n",
              "    .dataframe thead th {\n",
              "        text-align: right;\n",
              "    }\n",
              "</style>\n",
              "<table border=\"1\" class=\"dataframe\">\n",
              "  <thead>\n",
              "    <tr style=\"text-align: right;\">\n",
              "      <th></th>\n",
              "      <th>Region</th>\n",
              "      <th>Source</th>\n",
              "      <th>Region_name</th>\n",
              "      <th>Start</th>\n",
              "      <th>End</th>\n",
              "      <th>Description</th>\n",
              "      <th>Region_length</th>\n",
              "    </tr>\n",
              "  </thead>\n",
              "  <tbody>\n",
              "    <tr>\n",
              "      <th>0</th>\n",
              "      <td>1</td>\n",
              "      <td>ensembl_havana</td>\n",
              "      <td>gene</td>\n",
              "      <td>1211340</td>\n",
              "      <td>1214153</td>\n",
              "      <td>gene_id \"ENSG00000186827\"; gene_version \"11\"; ...</td>\n",
              "      <td>2813</td>\n",
              "    </tr>\n",
              "    <tr>\n",
              "      <th>1</th>\n",
              "      <td>1</td>\n",
              "      <td>ensembl_havana</td>\n",
              "      <td>transcript</td>\n",
              "      <td>1211340</td>\n",
              "      <td>1214153</td>\n",
              "      <td>gene_id \"ENSG00000186827\"; gene_version \"11\"; ...</td>\n",
              "      <td>2813</td>\n",
              "    </tr>\n",
              "    <tr>\n",
              "      <th>2</th>\n",
              "      <td>1</td>\n",
              "      <td>ensembl_havana</td>\n",
              "      <td>exon</td>\n",
              "      <td>1213983</td>\n",
              "      <td>1214153</td>\n",
              "      <td>gene_id \"ENSG00000186827\"; gene_version \"11\"; ...</td>\n",
              "      <td>170</td>\n",
              "    </tr>\n",
              "    <tr>\n",
              "      <th>3</th>\n",
              "      <td>1</td>\n",
              "      <td>ensembl_havana</td>\n",
              "      <td>CDS</td>\n",
              "      <td>1213983</td>\n",
              "      <td>1214127</td>\n",
              "      <td>gene_id \"ENSG00000186827\"; gene_version \"11\"; ...</td>\n",
              "      <td>144</td>\n",
              "    </tr>\n",
              "    <tr>\n",
              "      <th>4</th>\n",
              "      <td>1</td>\n",
              "      <td>ensembl_havana</td>\n",
              "      <td>start_codon</td>\n",
              "      <td>1214125</td>\n",
              "      <td>1214127</td>\n",
              "      <td>gene_id \"ENSG00000186827\"; gene_version \"11\"; ...</td>\n",
              "      <td>2</td>\n",
              "    </tr>\n",
              "  </tbody>\n",
              "</table>\n",
              "</div>\n",
              "      <button class=\"colab-df-convert\" onclick=\"convertToInteractive('df-296ef14e-b1c0-4d6d-828c-04956fdd5a90')\"\n",
              "              title=\"Convert this dataframe to an interactive table.\"\n",
              "              style=\"display:none;\">\n",
              "        \n",
              "  <svg xmlns=\"http://www.w3.org/2000/svg\" height=\"24px\"viewBox=\"0 0 24 24\"\n",
              "       width=\"24px\">\n",
              "    <path d=\"M0 0h24v24H0V0z\" fill=\"none\"/>\n",
              "    <path d=\"M18.56 5.44l.94 2.06.94-2.06 2.06-.94-2.06-.94-.94-2.06-.94 2.06-2.06.94zm-11 1L8.5 8.5l.94-2.06 2.06-.94-2.06-.94L8.5 2.5l-.94 2.06-2.06.94zm10 10l.94 2.06.94-2.06 2.06-.94-2.06-.94-.94-2.06-.94 2.06-2.06.94z\"/><path d=\"M17.41 7.96l-1.37-1.37c-.4-.4-.92-.59-1.43-.59-.52 0-1.04.2-1.43.59L10.3 9.45l-7.72 7.72c-.78.78-.78 2.05 0 2.83L4 21.41c.39.39.9.59 1.41.59.51 0 1.02-.2 1.41-.59l7.78-7.78 2.81-2.81c.8-.78.8-2.07 0-2.86zM5.41 20L4 18.59l7.72-7.72 1.47 1.35L5.41 20z\"/>\n",
              "  </svg>\n",
              "      </button>\n",
              "      \n",
              "  <style>\n",
              "    .colab-df-container {\n",
              "      display:flex;\n",
              "      flex-wrap:wrap;\n",
              "      gap: 12px;\n",
              "    }\n",
              "\n",
              "    .colab-df-convert {\n",
              "      background-color: #E8F0FE;\n",
              "      border: none;\n",
              "      border-radius: 50%;\n",
              "      cursor: pointer;\n",
              "      display: none;\n",
              "      fill: #1967D2;\n",
              "      height: 32px;\n",
              "      padding: 0 0 0 0;\n",
              "      width: 32px;\n",
              "    }\n",
              "\n",
              "    .colab-df-convert:hover {\n",
              "      background-color: #E2EBFA;\n",
              "      box-shadow: 0px 1px 2px rgba(60, 64, 67, 0.3), 0px 1px 3px 1px rgba(60, 64, 67, 0.15);\n",
              "      fill: #174EA6;\n",
              "    }\n",
              "\n",
              "    [theme=dark] .colab-df-convert {\n",
              "      background-color: #3B4455;\n",
              "      fill: #D2E3FC;\n",
              "    }\n",
              "\n",
              "    [theme=dark] .colab-df-convert:hover {\n",
              "      background-color: #434B5C;\n",
              "      box-shadow: 0px 1px 3px 1px rgba(0, 0, 0, 0.15);\n",
              "      filter: drop-shadow(0px 1px 2px rgba(0, 0, 0, 0.3));\n",
              "      fill: #FFFFFF;\n",
              "    }\n",
              "  </style>\n",
              "\n",
              "      <script>\n",
              "        const buttonEl =\n",
              "          document.querySelector('#df-296ef14e-b1c0-4d6d-828c-04956fdd5a90 button.colab-df-convert');\n",
              "        buttonEl.style.display =\n",
              "          google.colab.kernel.accessAllowed ? 'block' : 'none';\n",
              "\n",
              "        async function convertToInteractive(key) {\n",
              "          const element = document.querySelector('#df-296ef14e-b1c0-4d6d-828c-04956fdd5a90');\n",
              "          const dataTable =\n",
              "            await google.colab.kernel.invokeFunction('convertToInteractive',\n",
              "                                                     [key], {});\n",
              "          if (!dataTable) return;\n",
              "\n",
              "          const docLinkHtml = 'Like what you see? Visit the ' +\n",
              "            '<a target=\"_blank\" href=https://colab.research.google.com/notebooks/data_table.ipynb>data table notebook</a>'\n",
              "            + ' to learn more about interactive tables.';\n",
              "          element.innerHTML = '';\n",
              "          dataTable['output_type'] = 'display_data';\n",
              "          await google.colab.output.renderOutput(dataTable, element);\n",
              "          const docLink = document.createElement('div');\n",
              "          docLink.innerHTML = docLinkHtml;\n",
              "          element.appendChild(docLink);\n",
              "        }\n",
              "      </script>\n",
              "    </div>\n",
              "  </div>\n",
              "  "
            ],
            "text/plain": [
              "  Region          Source  Region_name    Start      End  \\\n",
              "0      1  ensembl_havana         gene  1211340  1214153   \n",
              "1      1  ensembl_havana   transcript  1211340  1214153   \n",
              "2      1  ensembl_havana         exon  1213983  1214153   \n",
              "3      1  ensembl_havana          CDS  1213983  1214127   \n",
              "4      1  ensembl_havana  start_codon  1214125  1214127   \n",
              "\n",
              "                                         Description  Region_length  \n",
              "0  gene_id \"ENSG00000186827\"; gene_version \"11\"; ...           2813  \n",
              "1  gene_id \"ENSG00000186827\"; gene_version \"11\"; ...           2813  \n",
              "2  gene_id \"ENSG00000186827\"; gene_version \"11\"; ...            170  \n",
              "3  gene_id \"ENSG00000186827\"; gene_version \"11\"; ...            144  \n",
              "4  gene_id \"ENSG00000186827\"; gene_version \"11\"; ...              2  "
            ]
          },
          "execution_count": 16,
          "metadata": {},
          "output_type": "execute_result"
        }
      ],
      "source": [
        "df.head()"
      ]
    },
    {
      "cell_type": "code",
      "execution_count": null,
      "metadata": {
        "colab": {
          "background_save": true,
          "base_uri": "https://localhost:8080/"
        },
        "id": "NeUz2dm0YL43",
        "outputId": "d04608d8-682a-454b-c9ad-2da097cf2130"
      },
      "outputs": [
        {
          "name": "stdout",
          "output_type": "stream",
          "text": [
            "Indexing BAM file...\n",
            "Indexing took 32.57274651527405 Seconds\n",
            "Smile Indexing Done...\n",
            "Now  Aligning BAM file...\n",
            "BAM aligning took 0.2102658748626709 seconds\n",
            "Now go and get some coffee or tea because this step to calculate the coverage takes time...\n"
          ]
        }
      ],
      "source": [
        "def calculate_gene_coverage(bam_file, df):\n",
        "    total_time_start = time.time()\n",
        "    print(\"Indexing BAM file...\")\n",
        "    index_start_time = time.time()\n",
        "    subprocess.run([\"samtools\", \"index\", bam_file])\n",
        "    index_end_time = time.time()\n",
        "    print('Indexing took', index_end_time - index_start_time, \"Seconds\")\n",
        "    print('Smile Indexing Done...')\n",
        "    print(\"Now  Aligning BAM file...\")\n",
        "    bam_proc_start = time.time()\n",
        "    bam = pysam.AlignmentFile(bam_file, \"rb\")\n",
        "    bam_proc_end = time.time()\n",
        "    print('BAM aligning took',bam_proc_end - bam_proc_start, 'seconds' )\n",
        "    print('Now go and get some coffee or tea because this step to calculate the coverage takes time...')\n",
        "    coverage_data = []\n",
        "    start_count_coverage = time.time()\n",
        "    \n",
        "    \n",
        "    for _, gene in df.iterrows():\n",
        "        chrom = gene['Region']\n",
        "        start = gene['Start']\n",
        "        end = gene['End']\n",
        "        region = end - start + 1\n",
        "        coverage = bam.count_coverage(chrom, start, end)\n",
        "        \n",
        "        covbases = sum(sum(depth >= 1 for depth in depth_array) for depth_array in coverage)\n",
        "        covpercent = (covbases / region) * 100\n",
        "\n",
        "        gene_name = gene['Description'].split(\";\")[0].split(\" \")[1].replace('\"', '')\n",
        "        \n",
        "        # Adjust covbases and covpercent if necessary\n",
        "        covbases = np.where(covbases > region, region, covbases)\n",
        "        covpercent = np.where(covpercent > 100, 100.0, covpercent)\n",
        "        \n",
        "        coverage_data.append((gene_name, chrom, start, end, covbases, covpercent))\n",
        "    end_count_coverage = time.time()\n",
        "    print('Counting coverage took', end_count_coverage - start_count_coverage, 'seconds')\n",
        "        \n",
        "    df = pd.DataFrame(coverage_data, columns=['Gene', 'Chromosome', 'Start', 'End', 'CovBases', 'CovPercent'])\n",
        "    bam.close()\n",
        "    \n",
        "    print(\"Gene coverage calculation completed.\")\n",
        "    total_time_end = time.time()\n",
        "    print(\"Total time taken to execute this entire process :\", total_time_end - total_time_start, 'seconds')\n",
        "\n",
        "\n",
        "    return df\n",
        "\n",
        "bam_file = \"/content/drive/MyDrive/gene wise coverage/IGIB1130527553V.bam\"\n",
        "\n",
        "result_df = calculate_gene_coverage(bam_file, df)\n"
      ]
    },
    {
      "cell_type": "code",
      "execution_count": null,
      "metadata": {
        "id": "00VZ7wGlynNE"
      },
      "outputs": [],
      "source": [
        "result_df.to_csv('IGIB113023885V_whole_gene_wise_coverage.csv')"
      ]
    },
    {
      "cell_type": "code",
      "execution_count": null,
      "metadata": {
        "colab": {
          "base_uri": "https://localhost:8080/"
        },
        "id": "2zyr8-ZZsVI1",
        "outputId": "601b3b23-2b56-4548-c359-bc740ffc5129"
      },
      "outputs": [
        {
          "name": "stdout",
          "output_type": "stream",
          "text": [
            "0.21.0\n"
          ]
        }
      ],
      "source": [
        "import pysam\n",
        "\n",
        "print(pysam.__version__)"
      ]
    },
    {
      "cell_type": "code",
      "execution_count": null,
      "metadata": {
        "id": "JUhBO7Qayfig"
      },
      "outputs": [],
      "source": []
    }
  ],
  "metadata": {
    "colab": {
      "provenance": [],
      "mount_file_id": "1EY1-KybJK5TOBrq-Spn6rzKgw2m8dlXM",
      "authorship_tag": "ABX9TyP5u5Lyu2P+1JXuBa/W1YRn",
      "include_colab_link": true
    },
    "kernelspec": {
      "display_name": "Python 3",
      "name": "python3"
    },
    "language_info": {
      "name": "python"
    }
  },
  "nbformat": 4,
  "nbformat_minor": 0
}