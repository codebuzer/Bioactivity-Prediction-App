{
 "cells": [
  {
   "cell_type": "code",
   "execution_count": 23,
   "id": "0e003dd9",
   "metadata": {},
   "outputs": [],
   "source": [
    "import pandas as pd\n",
    "import numpy as np\n",
    "import matplotlib.pyplot as plt\n"
   ]
  },
  {
   "cell_type": "code",
   "execution_count": 24,
   "id": "54ea7915",
   "metadata": {},
   "outputs": [],
   "source": [
    "train = pd.read_csv(\"train.csv\", index_col = 0)\n",
    "test= pd.read_csv(\"test.csv\", index_col = 0)"
   ]
  },
  {
   "cell_type": "code",
   "execution_count": 26,
   "id": "157abeec",
   "metadata": {},
   "outputs": [
    {
     "data": {
      "text/plain": [
       "(Index(['V1', 'V2', 'V3', 'V4', 'V5', 'V6', 'V7', 'V8', 'V9', 'V10', 'V11',\n",
       "        'V12', 'V13', 'V14', 'V15', 'V16', 'V17', 'V18', 'V20', 'V21', 'V22',\n",
       "        'V23', 'V24', 'V25', 'V26', 'V27', 'V28', 'V29', 'V30', 'V31', 'V32',\n",
       "        'V33', 'V34', 'V35', 'V36', 'V37', 'V38', 'V39', 'V40', 'V41', 'V42',\n",
       "        'V43', 'V44', 'V45', 'V46', 'V47', 'V48', 'V49', 'V50', 'agenum_random',\n",
       "        'ctnum_random', 'batch_A', 'batch_B', 'batch_C', 'batch_D', 'batch_E',\n",
       "        'batch_F', 'batch_G', 'batch_H', 'batch_I', 'batch_J', 'batch_K',\n",
       "        'batch_L', 'batch_M', 'batch_N', 'batch_O', 'batch_P', 'batch_Q',\n",
       "        'batch_R', 'batch_S', 'batch_T', 'batch_U', 'ctnum_median_status',\n",
       "        'infection'],\n",
       "       dtype='object'),)"
      ]
     },
     "execution_count": 26,
     "metadata": {},
     "output_type": "execute_result"
    }
   ],
   "source": [
    "train.columns,"
   ]
  },
  {
   "cell_type": "code",
   "execution_count": 27,
   "id": "fa10c9f8",
   "metadata": {},
   "outputs": [
    {
     "data": {
      "text/plain": [
       "Index(['V1', 'V2', 'V3', 'V4', 'V5', 'V6', 'V7', 'V8', 'V9', 'V10', 'V11',\n",
       "       'V12', 'V13', 'V14', 'V15', 'V16', 'V17', 'V18', 'V19', 'V20', 'V21',\n",
       "       'V22', 'V23', 'V24', 'V25', 'V26', 'V27', 'V28', 'V29', 'V30', 'V31',\n",
       "       'V32', 'V33', 'V34', 'V35', 'V36', 'V37', 'V38', 'V39', 'V40', 'V41',\n",
       "       'V42', 'V43', 'V44', 'V45', 'V46', 'V47', 'V48', 'V49', 'V50',\n",
       "       'agenum_random', 'ctnum_random', 'batch_A', 'batch_B', 'batch_C',\n",
       "       'batch_E', 'batch_F', 'batch_G', 'batch_H', 'batch_I', 'batch_J',\n",
       "       'batch_K', 'batch_L', 'batch_M', 'batch_N', 'batch_O', 'batch_P',\n",
       "       'batch_Q', 'batch_R', 'batch_S', 'batch_T', 'batch_U',\n",
       "       'ctnum_median_status', 'infection'],\n",
       "      dtype='object')"
      ]
     },
     "execution_count": 27,
     "metadata": {},
     "output_type": "execute_result"
    }
   ],
   "source": [
    "test.columns\n"
   ]
  },
  {
   "cell_type": "code",
   "execution_count": 28,
   "id": "d89cf89f",
   "metadata": {},
   "outputs": [
    {
     "data": {
      "text/plain": [
       "Index(['V1', 'V2', 'V3', 'V4', 'V5', 'V6', 'V7', 'V8', 'V9', 'V10', 'V11',\n",
       "       'V12', 'V13', 'V14', 'V15', 'V16', 'V17', 'V18', 'V20', 'V21', 'V22',\n",
       "       'V23', 'V24', 'V25', 'V26', 'V27', 'V28', 'V29', 'V30', 'V31', 'V32',\n",
       "       'V33', 'V34', 'V35', 'V36', 'V37', 'V38', 'V39', 'V40', 'V41', 'V42',\n",
       "       'V43', 'V44', 'V45', 'V46', 'V47', 'V48', 'V49', 'V50', 'agenum_random',\n",
       "       'ctnum_random', 'batch_A', 'batch_B', 'batch_C', 'batch_D', 'batch_E',\n",
       "       'batch_F', 'batch_G', 'batch_H', 'batch_I', 'batch_J', 'batch_K',\n",
       "       'batch_L', 'batch_M', 'batch_N', 'batch_O', 'batch_P', 'batch_Q',\n",
       "       'batch_R', 'batch_S', 'batch_T', 'batch_U', 'ctnum_median_status',\n",
       "       'infection'],\n",
       "      dtype='object')"
      ]
     },
     "execution_count": 28,
     "metadata": {},
     "output_type": "execute_result"
    }
   ],
   "source": [
    "train.columns"
   ]
  },
  {
   "cell_type": "code",
   "execution_count": 29,
   "id": "1f9547dd",
   "metadata": {},
   "outputs": [],
   "source": [
    "test = test.drop(['V19'], axis = 1)\n",
    "train = train.drop(['batch_D'], axis = 1)"
   ]
  },
  {
   "cell_type": "code",
   "execution_count": 30,
   "id": "2332d7b1",
   "metadata": {},
   "outputs": [],
   "source": [
    "X_train = train.drop(['infection'], axis = 1)\n",
    "y_train = train['infection']\n",
    "X_test = test.drop(['infection'], axis = 1)\n",
    "y_test = test['infection']"
   ]
  },
  {
   "cell_type": "code",
   "execution_count": 31,
   "id": "a7350902",
   "metadata": {},
   "outputs": [
    {
     "data": {
      "text/plain": [
       "((652, 72), (652,), (121, 72), (121,))"
      ]
     },
     "execution_count": 31,
     "metadata": {},
     "output_type": "execute_result"
    }
   ],
   "source": [
    "X_train.shape, y_train.shape,X_test.shape,y_test.shape"
   ]
  },
  {
   "cell_type": "code",
   "execution_count": 32,
   "id": "aa9993ba",
   "metadata": {},
   "outputs": [],
   "source": [
    "from sklearn.preprocessing import StandardScaler"
   ]
  },
  {
   "cell_type": "code",
   "execution_count": 33,
   "id": "26dcc859",
   "metadata": {},
   "outputs": [],
   "source": [
    "scaler = StandardScaler()"
   ]
  },
  {
   "cell_type": "code",
   "execution_count": 34,
   "id": "dc485bc8",
   "metadata": {},
   "outputs": [],
   "source": [
    "X_train = scaler.fit_transform(X_train)"
   ]
  },
  {
   "cell_type": "code",
   "execution_count": 35,
   "id": "4f47da03",
   "metadata": {},
   "outputs": [],
   "source": [
    "X_test = scaler.transform(X_test)"
   ]
  },
  {
   "cell_type": "code",
   "execution_count": 36,
   "id": "c2e2a2d4",
   "metadata": {},
   "outputs": [],
   "source": [
    "# PCA \n",
    "from sklearn.decomposition import PCA\n",
    "pca = PCA(n_components=None)"
   ]
  },
  {
   "cell_type": "code",
   "execution_count": 37,
   "id": "6b3e03fd",
   "metadata": {},
   "outputs": [],
   "source": [
    "X_train_trf = pca.fit_transform(X_train)\n",
    "X_test_trf = pca.transform(X_test)"
   ]
  },
  {
   "cell_type": "code",
   "execution_count": 38,
   "id": "081d546d",
   "metadata": {},
   "outputs": [
    {
     "data": {
      "text/plain": [
       "(652, 72)"
      ]
     },
     "execution_count": 38,
     "metadata": {},
     "output_type": "execute_result"
    }
   ],
   "source": [
    "X_train_trf.shape"
   ]
  },
  {
   "cell_type": "code",
   "execution_count": 40,
   "id": "246a1671",
   "metadata": {},
   "outputs": [],
   "source": [
    "from sklearn.neighbors import KNeighborsClassifier"
   ]
  },
  {
   "cell_type": "code",
   "execution_count": 41,
   "id": "3452f3a2",
   "metadata": {},
   "outputs": [],
   "source": [
    "knn = KNeighborsClassifier()"
   ]
  },
  {
   "cell_type": "code",
   "execution_count": 42,
   "id": "b0d7ce17",
   "metadata": {},
   "outputs": [
    {
     "data": {
      "text/html": [
       "<style>#sk-container-id-1 {color: black;background-color: white;}#sk-container-id-1 pre{padding: 0;}#sk-container-id-1 div.sk-toggleable {background-color: white;}#sk-container-id-1 label.sk-toggleable__label {cursor: pointer;display: block;width: 100%;margin-bottom: 0;padding: 0.3em;box-sizing: border-box;text-align: center;}#sk-container-id-1 label.sk-toggleable__label-arrow:before {content: \"▸\";float: left;margin-right: 0.25em;color: #696969;}#sk-container-id-1 label.sk-toggleable__label-arrow:hover:before {color: black;}#sk-container-id-1 div.sk-estimator:hover label.sk-toggleable__label-arrow:before {color: black;}#sk-container-id-1 div.sk-toggleable__content {max-height: 0;max-width: 0;overflow: hidden;text-align: left;background-color: #f0f8ff;}#sk-container-id-1 div.sk-toggleable__content pre {margin: 0.2em;color: black;border-radius: 0.25em;background-color: #f0f8ff;}#sk-container-id-1 input.sk-toggleable__control:checked~div.sk-toggleable__content {max-height: 200px;max-width: 100%;overflow: auto;}#sk-container-id-1 input.sk-toggleable__control:checked~label.sk-toggleable__label-arrow:before {content: \"▾\";}#sk-container-id-1 div.sk-estimator input.sk-toggleable__control:checked~label.sk-toggleable__label {background-color: #d4ebff;}#sk-container-id-1 div.sk-label input.sk-toggleable__control:checked~label.sk-toggleable__label {background-color: #d4ebff;}#sk-container-id-1 input.sk-hidden--visually {border: 0;clip: rect(1px 1px 1px 1px);clip: rect(1px, 1px, 1px, 1px);height: 1px;margin: -1px;overflow: hidden;padding: 0;position: absolute;width: 1px;}#sk-container-id-1 div.sk-estimator {font-family: monospace;background-color: #f0f8ff;border: 1px dotted black;border-radius: 0.25em;box-sizing: border-box;margin-bottom: 0.5em;}#sk-container-id-1 div.sk-estimator:hover {background-color: #d4ebff;}#sk-container-id-1 div.sk-parallel-item::after {content: \"\";width: 100%;border-bottom: 1px solid gray;flex-grow: 1;}#sk-container-id-1 div.sk-label:hover label.sk-toggleable__label {background-color: #d4ebff;}#sk-container-id-1 div.sk-serial::before {content: \"\";position: absolute;border-left: 1px solid gray;box-sizing: border-box;top: 0;bottom: 0;left: 50%;z-index: 0;}#sk-container-id-1 div.sk-serial {display: flex;flex-direction: column;align-items: center;background-color: white;padding-right: 0.2em;padding-left: 0.2em;position: relative;}#sk-container-id-1 div.sk-item {position: relative;z-index: 1;}#sk-container-id-1 div.sk-parallel {display: flex;align-items: stretch;justify-content: center;background-color: white;position: relative;}#sk-container-id-1 div.sk-item::before, #sk-container-id-1 div.sk-parallel-item::before {content: \"\";position: absolute;border-left: 1px solid gray;box-sizing: border-box;top: 0;bottom: 0;left: 50%;z-index: -1;}#sk-container-id-1 div.sk-parallel-item {display: flex;flex-direction: column;z-index: 1;position: relative;background-color: white;}#sk-container-id-1 div.sk-parallel-item:first-child::after {align-self: flex-end;width: 50%;}#sk-container-id-1 div.sk-parallel-item:last-child::after {align-self: flex-start;width: 50%;}#sk-container-id-1 div.sk-parallel-item:only-child::after {width: 0;}#sk-container-id-1 div.sk-dashed-wrapped {border: 1px dashed gray;margin: 0 0.4em 0.5em 0.4em;box-sizing: border-box;padding-bottom: 0.4em;background-color: white;}#sk-container-id-1 div.sk-label label {font-family: monospace;font-weight: bold;display: inline-block;line-height: 1.2em;}#sk-container-id-1 div.sk-label-container {text-align: center;}#sk-container-id-1 div.sk-container {/* jupyter's `normalize.less` sets `[hidden] { display: none; }` but bootstrap.min.css set `[hidden] { display: none !important; }` so we also need the `!important` here to be able to override the default hidden behavior on the sphinx rendered scikit-learn.org. See: https://github.com/scikit-learn/scikit-learn/issues/21755 */display: inline-block !important;position: relative;}#sk-container-id-1 div.sk-text-repr-fallback {display: none;}</style><div id=\"sk-container-id-1\" class=\"sk-top-container\"><div class=\"sk-text-repr-fallback\"><pre>KNeighborsClassifier()</pre><b>In a Jupyter environment, please rerun this cell to show the HTML representation or trust the notebook. <br />On GitHub, the HTML representation is unable to render, please try loading this page with nbviewer.org.</b></div><div class=\"sk-container\" hidden><div class=\"sk-item\"><div class=\"sk-estimator sk-toggleable\"><input class=\"sk-toggleable__control sk-hidden--visually\" id=\"sk-estimator-id-1\" type=\"checkbox\" checked><label for=\"sk-estimator-id-1\" class=\"sk-toggleable__label sk-toggleable__label-arrow\">KNeighborsClassifier</label><div class=\"sk-toggleable__content\"><pre>KNeighborsClassifier()</pre></div></div></div></div></div>"
      ],
      "text/plain": [
       "KNeighborsClassifier()"
      ]
     },
     "execution_count": 42,
     "metadata": {},
     "output_type": "execute_result"
    }
   ],
   "source": [
    "knn.fit(X_train,y_train)"
   ]
  },
  {
   "cell_type": "code",
   "execution_count": 43,
   "id": "720268e0",
   "metadata": {},
   "outputs": [
    {
     "name": "stdout",
     "output_type": "stream",
     "text": [
      "0.07652902603149414\n"
     ]
    }
   ],
   "source": [
    "import time\n",
    "start = time.time()\n",
    "y_pred = knn.predict(X_test)\n",
    "print(time.time() - start)"
   ]
  },
  {
   "cell_type": "code",
   "execution_count": 44,
   "id": "b0a37d13",
   "metadata": {},
   "outputs": [
    {
     "data": {
      "text/plain": [
       "0.9090909090909091"
      ]
     },
     "execution_count": 44,
     "metadata": {},
     "output_type": "execute_result"
    }
   ],
   "source": [
    "from sklearn.metrics import accuracy_score\n",
    "accuracy_score(y_test,y_pred)"
   ]
  },
  {
   "cell_type": "code",
   "execution_count": 45,
   "id": "9674fc0c",
   "metadata": {},
   "outputs": [],
   "source": [
    "from sklearn.preprocessing import StandardScaler\n",
    "scaler = StandardScaler()"
   ]
  },
  {
   "cell_type": "code",
   "execution_count": 46,
   "id": "f16b5bd5",
   "metadata": {},
   "outputs": [],
   "source": [
    "X_train = scaler.fit_transform(X_train)\n",
    "X_test = scaler.transform(X_test)"
   ]
  },
  {
   "cell_type": "code",
   "execution_count": 47,
   "id": "2805cb35",
   "metadata": {},
   "outputs": [],
   "source": [
    "# PCA \n",
    "from sklearn.decomposition import PCA\n",
    "pca = PCA(n_components=40)"
   ]
  },
  {
   "cell_type": "code",
   "execution_count": 48,
   "id": "0e41d7cd",
   "metadata": {},
   "outputs": [],
   "source": [
    "X_train_trf = pca.fit_transform(X_train)\n",
    "X_test_trf = pca.transform(X_test)"
   ]
  },
  {
   "cell_type": "code",
   "execution_count": 49,
   "id": "0391dcf3",
   "metadata": {},
   "outputs": [
    {
     "data": {
      "text/plain": [
       "(652, 40)"
      ]
     },
     "execution_count": 49,
     "metadata": {},
     "output_type": "execute_result"
    }
   ],
   "source": [
    "X_train_trf.shape"
   ]
  },
  {
   "cell_type": "code",
   "execution_count": 50,
   "id": "5766d4c7",
   "metadata": {},
   "outputs": [],
   "source": [
    "knn = KNeighborsClassifier()"
   ]
  },
  {
   "cell_type": "code",
   "execution_count": 51,
   "id": "ac11aee4",
   "metadata": {},
   "outputs": [
    {
     "data": {
      "text/html": [
       "<style>#sk-container-id-2 {color: black;background-color: white;}#sk-container-id-2 pre{padding: 0;}#sk-container-id-2 div.sk-toggleable {background-color: white;}#sk-container-id-2 label.sk-toggleable__label {cursor: pointer;display: block;width: 100%;margin-bottom: 0;padding: 0.3em;box-sizing: border-box;text-align: center;}#sk-container-id-2 label.sk-toggleable__label-arrow:before {content: \"▸\";float: left;margin-right: 0.25em;color: #696969;}#sk-container-id-2 label.sk-toggleable__label-arrow:hover:before {color: black;}#sk-container-id-2 div.sk-estimator:hover label.sk-toggleable__label-arrow:before {color: black;}#sk-container-id-2 div.sk-toggleable__content {max-height: 0;max-width: 0;overflow: hidden;text-align: left;background-color: #f0f8ff;}#sk-container-id-2 div.sk-toggleable__content pre {margin: 0.2em;color: black;border-radius: 0.25em;background-color: #f0f8ff;}#sk-container-id-2 input.sk-toggleable__control:checked~div.sk-toggleable__content {max-height: 200px;max-width: 100%;overflow: auto;}#sk-container-id-2 input.sk-toggleable__control:checked~label.sk-toggleable__label-arrow:before {content: \"▾\";}#sk-container-id-2 div.sk-estimator input.sk-toggleable__control:checked~label.sk-toggleable__label {background-color: #d4ebff;}#sk-container-id-2 div.sk-label input.sk-toggleable__control:checked~label.sk-toggleable__label {background-color: #d4ebff;}#sk-container-id-2 input.sk-hidden--visually {border: 0;clip: rect(1px 1px 1px 1px);clip: rect(1px, 1px, 1px, 1px);height: 1px;margin: -1px;overflow: hidden;padding: 0;position: absolute;width: 1px;}#sk-container-id-2 div.sk-estimator {font-family: monospace;background-color: #f0f8ff;border: 1px dotted black;border-radius: 0.25em;box-sizing: border-box;margin-bottom: 0.5em;}#sk-container-id-2 div.sk-estimator:hover {background-color: #d4ebff;}#sk-container-id-2 div.sk-parallel-item::after {content: \"\";width: 100%;border-bottom: 1px solid gray;flex-grow: 1;}#sk-container-id-2 div.sk-label:hover label.sk-toggleable__label {background-color: #d4ebff;}#sk-container-id-2 div.sk-serial::before {content: \"\";position: absolute;border-left: 1px solid gray;box-sizing: border-box;top: 0;bottom: 0;left: 50%;z-index: 0;}#sk-container-id-2 div.sk-serial {display: flex;flex-direction: column;align-items: center;background-color: white;padding-right: 0.2em;padding-left: 0.2em;position: relative;}#sk-container-id-2 div.sk-item {position: relative;z-index: 1;}#sk-container-id-2 div.sk-parallel {display: flex;align-items: stretch;justify-content: center;background-color: white;position: relative;}#sk-container-id-2 div.sk-item::before, #sk-container-id-2 div.sk-parallel-item::before {content: \"\";position: absolute;border-left: 1px solid gray;box-sizing: border-box;top: 0;bottom: 0;left: 50%;z-index: -1;}#sk-container-id-2 div.sk-parallel-item {display: flex;flex-direction: column;z-index: 1;position: relative;background-color: white;}#sk-container-id-2 div.sk-parallel-item:first-child::after {align-self: flex-end;width: 50%;}#sk-container-id-2 div.sk-parallel-item:last-child::after {align-self: flex-start;width: 50%;}#sk-container-id-2 div.sk-parallel-item:only-child::after {width: 0;}#sk-container-id-2 div.sk-dashed-wrapped {border: 1px dashed gray;margin: 0 0.4em 0.5em 0.4em;box-sizing: border-box;padding-bottom: 0.4em;background-color: white;}#sk-container-id-2 div.sk-label label {font-family: monospace;font-weight: bold;display: inline-block;line-height: 1.2em;}#sk-container-id-2 div.sk-label-container {text-align: center;}#sk-container-id-2 div.sk-container {/* jupyter's `normalize.less` sets `[hidden] { display: none; }` but bootstrap.min.css set `[hidden] { display: none !important; }` so we also need the `!important` here to be able to override the default hidden behavior on the sphinx rendered scikit-learn.org. See: https://github.com/scikit-learn/scikit-learn/issues/21755 */display: inline-block !important;position: relative;}#sk-container-id-2 div.sk-text-repr-fallback {display: none;}</style><div id=\"sk-container-id-2\" class=\"sk-top-container\"><div class=\"sk-text-repr-fallback\"><pre>KNeighborsClassifier()</pre><b>In a Jupyter environment, please rerun this cell to show the HTML representation or trust the notebook. <br />On GitHub, the HTML representation is unable to render, please try loading this page with nbviewer.org.</b></div><div class=\"sk-container\" hidden><div class=\"sk-item\"><div class=\"sk-estimator sk-toggleable\"><input class=\"sk-toggleable__control sk-hidden--visually\" id=\"sk-estimator-id-2\" type=\"checkbox\" checked><label for=\"sk-estimator-id-2\" class=\"sk-toggleable__label sk-toggleable__label-arrow\">KNeighborsClassifier</label><div class=\"sk-toggleable__content\"><pre>KNeighborsClassifier()</pre></div></div></div></div></div>"
      ],
      "text/plain": [
       "KNeighborsClassifier()"
      ]
     },
     "execution_count": 51,
     "metadata": {},
     "output_type": "execute_result"
    }
   ],
   "source": [
    "knn.fit(X_train_trf,y_train)"
   ]
  },
  {
   "cell_type": "code",
   "execution_count": 52,
   "id": "8ca22b4f",
   "metadata": {},
   "outputs": [],
   "source": [
    "y_pred = knn.predict(X_test_trf)"
   ]
  },
  {
   "cell_type": "code",
   "execution_count": 53,
   "id": "4dd20061",
   "metadata": {},
   "outputs": [
    {
     "data": {
      "text/plain": [
       "0.9338842975206612"
      ]
     },
     "execution_count": 53,
     "metadata": {},
     "output_type": "execute_result"
    }
   ],
   "source": [
    "accuracy_score(y_test,y_pred)"
   ]
  },
  {
   "cell_type": "code",
   "execution_count": 56,
   "id": "c0a754cc",
   "metadata": {},
   "outputs": [
    {
     "name": "stdout",
     "output_type": "stream",
     "text": [
      "65.28925619834712\n",
      "80.99173553719008\n",
      "83.47107438016529\n",
      "77.68595041322314\n",
      "78.51239669421489\n",
      "80.99173553719008\n",
      "82.64462809917356\n",
      "84.29752066115702\n",
      "83.47107438016529\n",
      "85.12396694214877\n",
      "85.9504132231405\n",
      "85.9504132231405\n",
      "83.47107438016529\n",
      "85.12396694214877\n",
      "85.9504132231405\n",
      "83.47107438016529\n",
      "86.77685950413223\n",
      "86.77685950413223\n",
      "90.9090909090909\n",
      "90.9090909090909\n",
      "91.73553719008265\n",
      "92.56198347107438\n",
      "94.21487603305785\n",
      "92.56198347107438\n",
      "92.56198347107438\n",
      "92.56198347107438\n",
      "92.56198347107438\n",
      "94.21487603305785\n",
      "92.56198347107438\n",
      "93.38842975206612\n",
      "93.38842975206612\n",
      "91.73553719008265\n",
      "92.56198347107438\n",
      "92.56198347107438\n",
      "94.21487603305785\n",
      "94.21487603305785\n",
      "93.38842975206612\n",
      "93.38842975206612\n",
      "93.38842975206612\n",
      "93.38842975206612\n",
      "93.38842975206612\n",
      "93.38842975206612\n",
      "93.38842975206612\n",
      "93.38842975206612\n",
      "93.38842975206612\n",
      "93.38842975206612\n",
      "93.38842975206612\n",
      "92.56198347107438\n",
      "93.38842975206612\n",
      "93.38842975206612\n",
      "93.38842975206612\n",
      "92.56198347107438\n",
      "90.9090909090909\n",
      "92.56198347107438\n",
      "92.56198347107438\n",
      "91.73553719008265\n",
      "90.9090909090909\n",
      "90.9090909090909\n",
      "91.73553719008265\n",
      "91.73553719008265\n",
      "90.9090909090909\n",
      "90.9090909090909\n",
      "90.9090909090909\n",
      "90.9090909090909\n",
      "90.9090909090909\n",
      "90.9090909090909\n",
      "90.9090909090909\n",
      "90.9090909090909\n",
      "90.9090909090909\n",
      "90.9090909090909\n",
      "90.9090909090909\n"
     ]
    }
   ],
   "source": [
    "for i in range(1,72):\n",
    "    pca = PCA(n_components=i)\n",
    "    X_train_trf = pca.fit_transform(X_train)\n",
    "    X_test_trf = pca.transform(X_test)\n",
    "    \n",
    "    knn = KNeighborsClassifier()\n",
    "    \n",
    "    knn.fit(X_train_trf,y_train)\n",
    "    \n",
    "    y_pred = knn.predict(X_test_trf)\n",
    "    \n",
    "    print((accuracy_score(y_test,y_pred))*100)\n",
    "    "
   ]
  },
  {
   "cell_type": "code",
   "execution_count": 57,
   "id": "b875b971",
   "metadata": {},
   "outputs": [],
   "source": [
    "# transforming to a 2D coordinate system\n",
    "pca = PCA(n_components=2)\n",
    "X_train_trf = pca.fit_transform(X_train)\n",
    "X_test_trf = pca.transform(X_test)"
   ]
  },
  {
   "cell_type": "code",
   "execution_count": 58,
   "id": "1cb16cdf",
   "metadata": {},
   "outputs": [
    {
     "data": {
      "text/plain": [
       "array([[-0.76596471, -2.00564429],\n",
       "       [ 1.46102019,  3.02702728],\n",
       "       [ 2.24425366,  0.03686951],\n",
       "       ...,\n",
       "       [-4.24568802,  0.71227793],\n",
       "       [ 0.11608827,  0.13413318],\n",
       "       [ 2.55455559,  2.44348819]])"
      ]
     },
     "execution_count": 58,
     "metadata": {},
     "output_type": "execute_result"
    }
   ],
   "source": [
    "X_train_trf"
   ]
  },
  {
   "cell_type": "code",
   "execution_count": 62,
   "id": "55c780d6",
   "metadata": {},
   "outputs": [
    {
     "data": {
      "application/vnd.plotly.v1+json": {
       "config": {
        "plotlyServerURL": "https://plot.ly"
       },
       "data": [
        {
         "hovertemplate": "color=1<br>x=%{x}<br>y=%{y}<extra></extra>",
         "legendgroup": "1",
         "marker": {
          "color": "#3366CC",
          "symbol": "circle"
         },
         "mode": "markers",
         "name": "1",
         "orientation": "v",
         "showlegend": true,
         "type": "scatter",
         "x": [
          -0.7659647102729868,
          1.461020188330676,
          2.2442536607138885,
          6.54095669457018,
          5.625583483289264,
          4.151772403913836,
          -0.12210845714375303,
          7.883318088928975,
          0.5960044089904777,
          -1.3576436710154771,
          8.707700165985386,
          -1.0224082326510424,
          -3.6583575749480692,
          10.458327283455683,
          -4.044555294101882,
          -2.2389837160996575,
          4.449145694237461,
          -1.4335377250357302,
          5.727158401095332,
          2.995607205967823,
          2.0926156151024955,
          6.37097265779617,
          8.085001042548093,
          3.6210930707620106,
          -1.1575726164596685,
          0.011565882514904029,
          10.515512487120334,
          -5.008571126303134,
          8.685329227604395,
          7.354498636977565,
          4.669766715192679,
          10.15846704383512,
          1.0731503886160942,
          2.841435792956329,
          10.843065870681961,
          4.46468069184673,
          4.869640761505625,
          4.673398312307664,
          2.3966125061947428,
          -1.4018907330458945,
          0.47790296883581523,
          3.245071430866047,
          9.843110249710854,
          2.736496824313665,
          -0.1781845387569207,
          0.09583881335130931,
          -3.3825657366502,
          6.567690998230096,
          0.35172108530602064,
          -2.646617512832042,
          7.539461734242607,
          -0.3251005266312225,
          2.002621614625502,
          1.4647198283237077,
          9.598808239666928,
          2.59300321582826,
          6.945631249646332,
          -2.586447494095662,
          -6.848371305254425,
          3.6790491907210847,
          -0.14609154161842317,
          2.167903568995101,
          -1.2222860727374816,
          6.750868197495288,
          3.660604417926805,
          7.62336811711053,
          9.88394500386498,
          -4.136888488486033,
          -0.4641159524667352,
          8.35702041062987,
          1.3964171184429668,
          4.649973304862879,
          4.839083330891262,
          5.7070198313772496,
          -0.9812024771366887,
          -2.046540901191569,
          -1.0458812906345274,
          0.5238534701435479,
          1.2002804342848696,
          -2.0767686514640262,
          1.0151307493093864,
          -2.311640990915431,
          0.902287605902805,
          -0.34520323961074284,
          1.3378418009299058,
          -1.9182881197416137,
          2.0962586056567307,
          -2.794069496831115,
          -0.01728335894315705,
          0.2162538839781857,
          0.9408311469357247,
          -5.614310363759069,
          5.091970516501279,
          0.9667161224736128,
          9.07948748795504,
          -0.6188201615701384,
          -0.24576937509003893,
          -0.3754850102583682,
          -3.695965058613326,
          0.8833290326391565,
          -0.01085352961032054,
          2.0842549317260013,
          -4.512962378027716,
          0.8913394201080512,
          6.120068579543042,
          -3.284014265175782,
          1.377385875815727,
          -2.6449835957375485,
          6.443429083121535,
          2.669487819744049,
          -2.821571763677792,
          -2.7409449724550394,
          7.907669687058335,
          5.00164502115568,
          -2.9164791296713464,
          -0.10686018038703707,
          -1.3626102394202029,
          1.1112233065930541,
          0.34588361163126746,
          0.9269835424462449,
          0.5984089833559153,
          10.167071433285932,
          -0.6291524405852472,
          2.914892766132903,
          1.6093205593487019,
          1.5525802779285227,
          4.147479240897499,
          3.933716457847427,
          3.258260159247478,
          1.9659214747932472,
          -3.6127140116324257,
          -2.290863513695247,
          6.572322316508645,
          2.7531557873082804,
          0.5148031963323708,
          3.0774091130930192,
          5.299409093254206,
          -0.47667061770388586,
          2.214272912121427,
          1.8691666201193728,
          1.156371942005473,
          2.1888794631694783,
          -1.7518576426347499,
          0.24181112827420567,
          7.276523721966908,
          6.853926746698296,
          7.985191237127864,
          -2.225278168149573,
          2.1607451039008114,
          2.1740968276686203,
          2.367181115246178,
          1.211143728310335,
          1.5557672398273288,
          -3.031310637609903,
          2.3963676870388846,
          2.7047905528404295,
          1.540601281855816,
          3.7976122865232025,
          -2.870969998842453,
          -1.6592509180782689,
          3.089121902074657,
          1.8704370265043921,
          3.3399176195044173,
          -1.2834427281923992,
          0.12479297698912441,
          5.784941970908054,
          -0.7942445112065926,
          11.438005438346554,
          7.178603838038994,
          7.767333614865236,
          1.5612291093437105,
          -5.10480102400942,
          -3.9291240424531106,
          0.6762571210453729,
          10.126955826982897,
          -2.2856967144575817,
          -1.2269754605664958,
          0.23667814906159096,
          9.457685972403791,
          0.020816332037277965,
          -3.592890585140015,
          4.318731159386923,
          3.501359559950755,
          -3.600531442607982,
          6.7041660719966885,
          -0.6467583755958727,
          -0.5641797031576236,
          -1.5624061864107193,
          -4.2240396826242605,
          0.1258448737782052,
          2.5214581252213475,
          1.8981292223604314,
          2.0486495366544824,
          11.171845666163362,
          3.8529473958807574,
          5.053766701412292,
          -5.341721327593525,
          6.333648474353257,
          0.6327439659875335,
          -2.4994690931254433,
          -0.6162006728111734,
          7.7270266483319014,
          2.005755057080778,
          3.554820601322671,
          0.26844606850141334,
          4.802733246994662,
          0.9336911749783511,
          -0.5689515867721882,
          0.39214900714014805,
          1.780499029347078,
          1.6133306576898319,
          3.069513273678559,
          2.075362166085197,
          -4.784218437622628,
          4.344439971338515,
          2.7427332122095502,
          0.5858437384669168,
          3.0223695639559742,
          1.4148840094171835,
          3.0958047643817936,
          5.81941186964157,
          -0.850169264472764,
          -0.4307902920696834,
          2.3084747404576507,
          1.7236186224202654,
          8.643023856637978,
          -2.9511758666545758,
          -6.929559008831188,
          -2.087709145059504,
          -2.506414255678852,
          -2.5422233625361783,
          2.6024542301255154,
          1.9333929775366843,
          -3.29376765635453,
          -1.4972205401458776,
          3.379308629640455,
          1.6883378381227974,
          5.697086572135138,
          0.6727261438838837,
          2.9439447028419394,
          1.3825719574898339,
          -4.152271098337814,
          9.251609841312264,
          -1.8267804511244394,
          -3.454486199085258,
          2.4029044375538806,
          0.8272141958441495,
          -0.5847599500244955,
          6.458841726027955,
          -1.4920015381741993,
          2.9146458886934306,
          8.422388441513924,
          3.0536310934724398,
          -4.869180989951898,
          8.86577770134323,
          -3.0645040490635123,
          4.320917798964198,
          0.5802836443359582,
          -2.06810729500938,
          2.0385795297788833,
          8.162573197301239,
          2.6529576434712547,
          0.4538863937909212,
          9.331336177495034,
          0.5034389022566539,
          -5.565054544904729,
          -2.4175214084298804,
          -0.20960726686161224,
          5.205422649268709,
          -3.407248585935784,
          -0.6510128516015121,
          4.207836518087512,
          5.710131747380744,
          -5.4470323593725585,
          5.307586641363757,
          5.116693348837727,
          0.8096451638363298,
          0.7542179168487693,
          8.222137080855237,
          -5.331706475656883,
          2.431973897651676,
          -2.2605660380998707,
          -2.0641520901678496,
          4.837048149105233,
          0.7093255029746158,
          0.6203891129409955,
          -4.229990182879055,
          1.3501027227283904,
          5.778579301589085,
          10.131750810286368,
          -0.9618388040581939,
          -3.2464149009098398,
          1.9547812505626516,
          -4.203801512977326,
          4.910134806018083,
          9.486389785281334,
          -0.23166566867742866,
          -0.4670758494665846,
          1.4907038064784095,
          2.669242526825923,
          9.096449766141776,
          -1.685221112346658,
          -0.05960504786037446,
          5.343191218961785,
          4.076062227809841,
          2.669315334827957,
          2.6629490034946617,
          -1.0363717478745151,
          1.085203723930449,
          0.826433706151748,
          -2.3014512602963486,
          5.083408147080025,
          -1.4078158570484265,
          0.4284983630675822,
          2.048645090251007,
          2.382768923386571,
          0.32096837075134005,
          -2.7504655653319072,
          -2.0554079407919916,
          -0.4761949967407974,
          -1.7735398396993032,
          8.034595450718994,
          -6.816198182564053,
          2.4234965254201186,
          -0.2724761474829103,
          -4.062739490604671
         ],
         "xaxis": "x",
         "y": [
          -2.005644286996749,
          3.0270272788821644,
          0.03686950748527023,
          -1.4888910638534092,
          0.3662254819908292,
          4.667834266841108,
          3.8231791305195424,
          -2.2352169404424442,
          3.7917458453978234,
          1.6328029185087778,
          -5.18937728289005,
          4.323882331295483,
          4.135179069020376,
          -1.9397595672514625,
          1.1336860842152663,
          2.832090278500951,
          -0.36706560307931513,
          3.238218878169446,
          -0.24475955173876673,
          4.729984150288329,
          -0.7722418254768264,
          -1.9744044111838073,
          0.66822535034738,
          -3.0631019894527256,
          3.5951536585402533,
          7.2116262587197575,
          -2.303436090303436,
          2.3840429460676327,
          -2.2450600172486803,
          0.5052508815435379,
          3.1942620233093,
          -5.200302328752597,
          -0.057044397072679554,
          -0.08384164086109308,
          -3.5591346712483185,
          3.7635315663392275,
          -0.819449406845316,
          0.712079633354793,
          0.7232076087159438,
          3.9691092430621366,
          4.604838624315427,
          -1.6951177485392988,
          -2.886365873689731,
          4.435857145382846,
          2.200834405798968,
          5.314269285755507,
          0.5494251249526859,
          -2.8272316857653643,
          6.5001246087440885,
          0.3794400453418767,
          -5.682791396692023,
          6.865946966369916,
          1.8187314424265488,
          5.818898055687526,
          -3.458519584363577,
          1.624497685623198,
          0.3147947074219158,
          3.6864192872797603,
          6.188076164487002,
          -0.8536873029753002,
          3.464726671312834,
          -0.9562777746438536,
          -0.4178247668180071,
          -2.437748665729414,
          5.911213563593297,
          -1.0092384701936865,
          -2.1889590287225222,
          5.282582431164698,
          -0.7784168176092463,
          -1.4270131400531871,
          6.120022572543633,
          -0.6104095535494739,
          1.6744716597468543,
          3.0106267220531753,
          1.2869330721214003,
          0.1895832539522068,
          1.0403833163514824,
          -2.9779672563620587,
          2.906763088236599,
          5.01558880250615,
          7.1925848260981775,
          2.5466586510521614,
          1.8631288602562075,
          6.419383101558633,
          1.2172188272033286,
          7.031326282450332,
          5.3249748848090706,
          5.168262413075804,
          2.109534854665978,
          2.6961190715474426,
          -3.9182527973102137,
          4.010237122335561,
          -1.8467822359522255,
          3.5526888829969065,
          -1.838934018553536,
          3.184706539872423,
          -0.6746689453198033,
          -2.3019103645509262,
          5.930593306334114,
          -0.011194372488990802,
          1.06746491481108,
          4.718153206999583,
          5.5357270358004635,
          6.634685962560737,
          -1.3997572854942384,
          0.34292238048699947,
          5.495903653252271,
          5.502655875391859,
          -2.641484807009327,
          2.688458034133766,
          4.373538990264689,
          0.9612823634873815,
          -1.8489523275734756,
          -3.9896691447320407,
          1.8922283116663858,
          0.8880596718620727,
          4.213355942025334,
          -3.1731866492396605,
          5.678405617395336,
          3.680278252101096,
          0.20305022433428024,
          -6.488203079116947,
          3.7752450165446008,
          -3.3739494485635677,
          0.7613325240485648,
          3.007651802696563,
          0.9176345637110714,
          2.328385073469335,
          1.3726171753494232,
          -3.7503732066002464,
          2.855770092363281,
          4.02950788397862,
          2.084733761142778,
          1.7685971397736615,
          4.138494566222772,
          2.5891096027283296,
          -1.7435831257912178,
          0.9317521801861485,
          2.133322347790476,
          1.3002503214148144,
          0.0796041435882674,
          4.020203861336155,
          4.641330793869076,
          0.17309911326871197,
          -2.018543253018027,
          -0.15898657679519482,
          0.18063967988872448,
          1.5130424469300234,
          3.566249955690013,
          1.1393643584838067,
          -4.54337912930903,
          5.360130491991438,
          2.367847685869784,
          4.998222023526085,
          0.17944482659021818,
          0.6353396133267931,
          2.7398042753826486,
          -3.3669002620258452,
          3.5144111006781533,
          7.912275916200272,
          -1.964061294150981,
          6.914241451641834,
          2.360604879055596,
          3.4562217630331156,
          7.453829154873967,
          -0.7710493952435744,
          3.5401039548474476,
          -2.5250429342545715,
          -2.1228274005800603,
          -5.024535959884513,
          3.9726757501442886,
          5.3246794947244,
          8.60626500574073,
          2.67704579139041,
          -3.603194828090929,
          6.086793893398821,
          6.592546415065137,
          0.8205133366570283,
          -0.49939437296992284,
          3.609714609982895,
          5.782506472145192,
          0.14673597819087802,
          1.732283955250438,
          3.4236777466501453,
          -3.5644983821560037,
          2.847749264594809,
          5.610581460308387,
          3.5900949801379762,
          0.827142492126774,
          1.972066846920484,
          1.7548416441803072,
          5.884260689326617,
          -1.5542651999631778,
          -4.322841724619716,
          -1.1995693821307032,
          4.514760007483295,
          9.430664656172343,
          1.9607942586152567,
          1.549193812552289,
          2.9320983159358103,
          -1.5366222231414637,
          2.4481063601944273,
          2.0277717889318163,
          -1.1263356349941251,
          2.9982177901400804,
          -2.759515132373834,
          -0.1138427488064372,
          -0.1989646929463131,
          2.375018049804583,
          2.1053768691155437,
          5.517799687861937,
          3.2096438243860046,
          4.356698037227523,
          5.600064368919908,
          -1.2958753142852995,
          -2.676338663866888,
          5.4984115573696695,
          -0.960059700486599,
          0.07164219280843043,
          2.094635465342395,
          -0.693465992008744,
          3.650116489669962,
          3.295432651215896,
          3.591272058987302,
          0.5349765591035601,
          -0.8823835323907254,
          4.267397000822613,
          4.198759093171121,
          0.07455080460713785,
          5.690133398867554,
          6.176723614399381,
          2.6589671785375852,
          4.436880615031599,
          5.374155722953791,
          4.660099414263692,
          -3.6955737877169077,
          -3.862039353461546,
          -1.0656452988260101,
          1.0440852100436655,
          0.4213426505541879,
          -3.150270660918137,
          2.497334288390312,
          -2.410417020624802,
          3.4482354003389264,
          2.487075530584861,
          -1.8187773820789013,
          3.736294580752251,
          8.303967727418499,
          -4.325547417932029,
          5.1749495912915755,
          1.544673567070074,
          -2.379150309043975,
          4.721079987921085,
          2.175312292953091,
          -1.1214673081002082,
          5.843658542546856,
          -0.4109891145471484,
          1.5186817924860967,
          3.8506362009847495,
          0.19942903410372462,
          -3.8095284255892516,
          2.1491763470270313,
          -1.5819765659974152,
          -3.9835749078235065,
          3.2290402877589783,
          6.250017947356134,
          7.286796719303157,
          2.7468491843925817,
          -1.0458857726078639,
          2.184901273810037,
          4.388333906622477,
          0.18498380800960706,
          5.646583633810401,
          6.6769478653723615,
          -4.073011496974139,
          0.5363058649356217,
          6.674651435493314,
          -0.176801073876144,
          -0.20325978720259041,
          3.9220366739795844,
          -1.045446889236413,
          1.086871355299811,
          2.9737794276607015,
          0.8434315303968731,
          0.9671738830413426,
          6.852819639977388,
          0.00021116846459537096,
          -0.2502804020853969,
          0.5047990935142862,
          -2.407317021168703,
          2.42816129433454,
          6.436756960703728,
          3.945329532469918,
          2.6286122120068365,
          -2.048098774442331,
          -3.147988744132417,
          4.58771067575168,
          -0.9489096372247535,
          -0.9247002867186432,
          -1.201457469475276,
          -3.620801733852329,
          1.4296794112050828,
          0.34097350067216525,
          -0.6996912523053919,
          2.870769897080838,
          -1.1685333838273049,
          4.9920281138178115,
          7.67837603397342,
          -1.2844936594162428,
          4.139552416517022,
          4.714715912636207,
          -0.1364379403942773,
          6.641868307439545,
          8.892579167519512,
          -1.2008221679757825,
          -1.1260399126492098,
          0.6909505594932804,
          5.592337998876982,
          -2.8852901365154553,
          0.8381134459200055,
          -1.3302071229445036,
          -2.5765592109288424,
          1.1215198979401326,
          0.7412650376700642,
          3.022693624471216,
          5.955111086188683
         ],
         "yaxis": "y"
        },
        {
         "hovertemplate": "color=0<br>x=%{x}<br>y=%{y}<extra></extra>",
         "legendgroup": "0",
         "marker": {
          "color": "#DC3912",
          "symbol": "circle"
         },
         "mode": "markers",
         "name": "0",
         "orientation": "v",
         "showlegend": true,
         "type": "scatter",
         "x": [
          -4.020422586749871,
          -3.759065454318046,
          4.420808888587548,
          -7.653137364439198,
          1.7822094308906777,
          3.394981802423194,
          -6.277225727435631,
          -1.9050868005966293,
          -4.76349236364623,
          8.066299925040106,
          1.993720642525936,
          -0.15193085001985593,
          2.602874517836914,
          4.696195639531689,
          -6.539677559221041,
          -8.270971526727877,
          -7.098691612789894,
          -8.834930753636613,
          0.9734299488297533,
          3.463847915574259,
          -5.662740000266625,
          -0.8421455454356509,
          -7.673600180577415,
          0.13891993095388033,
          11.016988132054228,
          -1.3063657831833722,
          -4.86624349363655,
          -5.9919193990079975,
          -1.3346865109199846,
          -0.28533284593075053,
          -4.14777013911457,
          -9.433105584574385,
          -2.4912915664981647,
          -4.2096339172128365,
          -1.7709280721713248,
          4.583336204665246,
          2.968559246931169,
          -4.297258603683643,
          -2.880408760768349,
          -7.9752985473699045,
          -3.719217172468234,
          -5.462162843505587,
          -0.2679886473817384,
          -6.7525914942328065,
          -2.3219008193562973,
          -4.133292532390747,
          -0.1927652827464865,
          2.0313072293779153,
          -6.367988211783733,
          -3.838516155674723,
          2.480652026132894,
          -7.239156901896142,
          -1.2300346354309377,
          -8.455637122219686,
          1.8431545973155388,
          -1.4518277747384822,
          -8.36219097101911,
          0.7195927639687227,
          -5.44168585268779,
          7.796325318120893,
          -3.9472197674912604,
          -6.608274915037904,
          0.021486835430505762,
          -0.3321087997336108,
          -2.1074132415129765,
          -0.3633030454486847,
          -5.557908849103118,
          0.667746648367597,
          -3.5610937911995317,
          0.5187647399751945,
          2.70221612089009,
          -3.6090291534660737,
          -7.056142225623435,
          -3.8358461193202174,
          -2.3695934727430097,
          -2.4410144675257226,
          -0.26594960922230637,
          0.6738916801486943,
          -4.660159566703821,
          -0.2548168036260072,
          -0.023803413747629842,
          -5.8421474211715125,
          1.9537740802389212,
          -6.209206975705554,
          -3.4364253425653906,
          -6.180802103593222,
          -3.3136211181111657,
          -2.121288080722105,
          -2.140775877187732,
          2.6760723969938627,
          -2.7964573878921715,
          -6.3729191318293354,
          -1.7604587092383857,
          -6.703642273264996,
          2.1141852338245735,
          -0.7664317336539883,
          3.5769008961656064,
          -6.098150445029127,
          -6.121506940756814,
          4.269195279546854,
          -7.69355445762175,
          -1.8740900963422933,
          0.547820878104606,
          -8.435609294973247,
          2.4635650698891243,
          -5.212452097108945,
          -1.279940116778381,
          -0.9621331946833817,
          -0.6574013753459289,
          0.8840710185860582,
          -6.706105564944485,
          2.3617206046148502,
          -8.111708909739036,
          -3.426294155079662,
          -1.764638028955397,
          3.4442294076174025,
          -7.08258646021691,
          -3.537633089685451,
          -1.7854024530038122,
          0.7536011999940788,
          -2.920405480330305,
          0.400949898658061,
          -1.0396514291492418,
          2.008903847173177,
          -6.2397433592700455,
          -2.8690586149848403,
          -1.7601665933041608,
          -6.7819809199652275,
          -2.950562461438617,
          -4.660328258367477,
          1.0605462436970934,
          -6.733995242299903,
          2.887543101873255,
          2.704364941014593,
          0.32833175733318753,
          2.734259973747335,
          4.062162554719877,
          -3.6379529425527863,
          1.5826664960047037,
          -3.3244577475687542,
          -2.8792078592423214,
          -6.7592953520386585,
          0.3404653531517311,
          -1.2705840378167748,
          -1.6944606802198205,
          -7.975491091696095,
          -6.716626509889618,
          -3.6210180055479304,
          -1.0464023860083365,
          -6.588155536833465,
          4.854462155433629,
          2.5442396420136975,
          -0.2480826620091105,
          -5.583966512692992,
          -0.14696425073232247,
          -0.32108714412189626,
          -4.888416147298151,
          -6.4523096466283825,
          -1.7741146451626453,
          -6.191516740804474,
          -4.060603083285869,
          -2.593785659121776,
          0.39559445999179466,
          3.7838007597982144,
          -0.8316131842788634,
          -7.49049520477054,
          3.856868431492027,
          -2.2325956645444185,
          1.9964464095029955,
          9.241992613865547,
          -4.444037576008053,
          -5.312740912104388,
          0.011802668060793138,
          -3.340422277468846,
          5.871447082545463,
          -2.0715379100467444,
          -3.9542109697979217,
          -7.020194622278287,
          6.703588476515069,
          -6.1591938916757485,
          -5.618935230991415,
          -3.0247099138888633,
          -7.069780264890978,
          -2.385248234630015,
          -1.6461628254329002,
          7.293294217014324,
          -0.8541221622446676,
          -4.039516851826902,
          0.3051086376911186,
          5.699666868924649,
          -1.6918067041107137,
          -2.559641309719478,
          -3.4174324056534484,
          -0.17637993527045626,
          0.4251924936108452,
          -0.8491888707842926,
          -0.361271205409659,
          -0.705170862064683,
          1.4914499330515187,
          -3.7284531740537736,
          4.412364208692586,
          8.02621554841119,
          0.6678681925849996,
          -4.969870143741991,
          -1.3151346615355684,
          -5.968164126944437,
          -1.7901053604516557,
          -2.479770708128955,
          6.243510635241437,
          -4.145889954935849,
          -1.2688581013960738,
          -6.551575490198793,
          10.12314866149168,
          1.0771424602776574,
          0.757015390891046,
          -2.125487397853063,
          -2.9798755965082746,
          10.718704557705477,
          -4.9013483921840635,
          -3.7101866084319064,
          -7.9930829349180055,
          0.21297668654981397,
          -6.630198468028244,
          0.006243635624489727,
          -6.1436384035096445,
          -2.6288918371755208,
          -7.529624855520359,
          -3.8485742779173067,
          3.1152918632187814,
          -0.7990044736653711,
          -4.123710999450611,
          -1.4378365462514153,
          2.072658346375038,
          -3.0756924314146787,
          -4.6979970513881275,
          -2.802512698599765,
          1.7448092346265345,
          -7.5729792641790725,
          -1.7075515543842896,
          0.49182906009885957,
          4.2987354861758424,
          -4.463114354027217,
          -0.376385293038607,
          -1.6669223600856493,
          -7.416696305211219,
          5.799836829295576,
          2.3371553505399536,
          -6.506516735981902,
          0.2705088891862139,
          -0.437802777297421,
          -1.3263011554471649,
          8.604487650788315,
          -5.007085410242148,
          -5.212545126613608,
          0.741803717884283,
          -0.2823610499222644,
          -3.7488232382729088,
          3.2249271940664226,
          -3.527253712931859,
          -0.9765968951042886,
          -6.025245647304579,
          -2.093049378422434,
          -1.7639333935208035,
          -4.231808118936935,
          2.1042333084986384,
          0.50707682719147,
          -3.9518850017140976,
          -6.965398110166512,
          -2.9355536348913764,
          -1.647314906565117,
          -6.059794489677722,
          -6.7581008997824,
          -0.8413683366482317,
          -6.301464374635966,
          -4.439470054510825,
          0.38287304263628397,
          -1.2725294470323476,
          0.05419365351592559,
          1.4367085569778373,
          -3.508519910671652,
          -6.3319466401829505,
          1.8359370804426873,
          6.697199559229967,
          -7.668562579343639,
          4.090920123754614,
          -0.5608347905382092,
          2.4034835020933065,
          -1.8461026253702433,
          -2.9207680014503903,
          1.8036209678921231,
          -5.662436546501272,
          -3.3540010039179853,
          5.01964879897179,
          -2.118791654085987,
          1.9623507676999088,
          -1.8419502478424916,
          0.2936929186979927,
          -2.214922690493668,
          -8.257799904516844,
          3.7250052998494643,
          3.8915699429659583,
          -2.1489702088459826,
          -5.183766497141859,
          -4.167912357703214,
          -0.6981968799290499,
          -5.364493984595309,
          -0.42179696460727256,
          -2.322142459495889,
          -3.049025367358029,
          1.9450228702644912,
          -2.4823576364674587,
          -4.97946554286887,
          -6.175396783444025,
          -0.44812109065436695,
          -4.111551130481283,
          -0.2975787044537446,
          0.07963944346953265,
          -4.725369544942911,
          -1.8940228194715043,
          1.3281423829365453,
          4.394502978392962,
          5.739489362588068,
          -0.9036744893223408,
          -4.245688023236041,
          0.1160882723366887,
          2.5545555928225654
         ],
         "xaxis": "x",
         "y": [
          1.9196841753493652,
          -1.6907381229842755,
          2.256566207025306,
          -3.7749992720583188,
          1.072117186563248,
          -3.6542737237415412,
          -4.435588080694988,
          -2.5246611673837784,
          -3.5257771924294197,
          0.017585570458004806,
          2.4116365023457442,
          -3.070829432507288,
          1.5090086827854163,
          0.3425827600038801,
          -0.1894089956178955,
          -3.0572831646373873,
          -3.6560481800662314,
          -2.3116920647588426,
          0.29794527041286223,
          -3.461065140067584,
          -3.579049659858718,
          -0.8882782453488429,
          -2.135921277338968,
          -5.436186221389998,
          -3.96082410474346,
          -5.6189625024576975,
          -2.539396571014882,
          -3.6573040978956235,
          -2.3132346156229553,
          1.8032506936680566,
          -4.793379599786834,
          1.3375568238066589,
          0.7855028813377886,
          -3.2215574799685798,
          -2.2693862785570986,
          -2.872662003964729,
          2.6350992735091587,
          -3.1195410772257066,
          0.0442564361954301,
          -1.343201423783068,
          -3.0632443758496644,
          -3.308019044603985,
          -1.6085890932469615,
          -1.5097618298887625,
          -2.348996385238233,
          -2.487243399938065,
          -3.044673603702745,
          -1.2556302880261003,
          -2.5070563064496008,
          -2.431371862265651,
          1.6881126039526002,
          -1.8198131736444594,
          -2.50929131550927,
          -2.031686493046552,
          0.9078276832918376,
          -2.0193221737732614,
          -0.2168692564104214,
          -0.46191795558047727,
          -2.3958034866845748,
          -3.3857815050983198,
          -4.473644605126627,
          -2.822824857420243,
          1.1330928365881034,
          -1.1790150910494255,
          -0.37348451267082694,
          0.5381024177534011,
          -3.274837317104169,
          1.4659035010072574,
          -2.3615365158318005,
          0.13108942373901664,
          -1.4079390832432872,
          -2.434169998088053,
          -3.3921847371280385,
          -3.7846988547504723,
          -2.3526363306494766,
          -1.3880634416629851,
          2.3180968248907514,
          -0.040923376779568706,
          -4.294890082708692,
          -1.5495410069322488,
          1.428867030408794,
          -1.9082166154367992,
          1.6574880367784166,
          -4.111129006563099,
          -2.5386860964270372,
          -0.3748212937985382,
          -3.578610594580854,
          -2.7006055579474544,
          -2.2623887447623123,
          0.45901864796594694,
          -2.0858998206042867,
          -4.2898135091628165,
          -4.89169086636272,
          -3.2306054966672586,
          1.852021350779415,
          -0.1735181316492543,
          1.3531701169712451,
          -2.8242067599882885,
          -2.3028433327052857,
          0.24527319767845704,
          -1.1873911089041582,
          -2.712886888791056,
          -1.2519734089884442,
          -0.11030300353125562,
          2.2757201761760637,
          -2.9806626356954142,
          1.998376165701875,
          -1.3628470383928444,
          1.5761427696141834,
          2.095477178076777,
          -1.2214865298894462,
          -2.9010604730422425,
          -3.0575488874188457,
          -1.328705380453953,
          -2.090611319163221,
          -0.39902873029447516,
          -3.3215620622791575,
          -2.2788910031228036,
          -3.038423317546361,
          0.634683381386306,
          -2.656205707890645,
          -1.289035884655974,
          1.5634329666256914,
          -2.534314296251026,
          -4.174907026884434,
          0.07280330141028386,
          2.204779593830773,
          -3.481671710833477,
          -1.368383297418518,
          0.6749167149594416,
          2.3544822934640695,
          -3.625831420691234,
          0.37051205576109986,
          1.3967533028887993,
          0.26165030466705175,
          -2.728864970492833,
          -1.604936681973815,
          -2.4831997836178386,
          -2.4708858359891166,
          -1.072575613081051,
          -2.642341981499816,
          -1.5513347671134434,
          -0.41812969791280596,
          -2.085297618653234,
          -4.997392787245671,
          -2.1182022359825146,
          -0.4667647186859699,
          -1.6323714548933037,
          -3.7292058779416477,
          -2.4181449555102947,
          0.5862793164632597,
          1.3061338085599188,
          -3.009240960090544,
          1.8052508561774303,
          0.17168189720694058,
          1.5331390541381895,
          0.4874022520906505,
          -2.5171836663780094,
          -2.2462536247651603,
          -4.074181338590971,
          -2.5205616632766743,
          1.128930915077833,
          -2.294237423413687,
          0.04694431992608302,
          -2.881366549024435,
          -2.641874130186574,
          -0.10773301509096483,
          0.5894603132704502,
          -0.2858712708500088,
          -3.616656884815943,
          -3.1456247068074568,
          -2.8967526094289084,
          0.254128517859922,
          -3.3499939290473852,
          -1.582978478636249,
          -2.329888466970442,
          -4.5168914520988865,
          -2.3195884190733156,
          -3.2796304573895387,
          -2.994829116664764,
          1.8036817801718887,
          -1.9694744452321564,
          -3.0083570597125155,
          -2.1940774161798244,
          -0.6252951666768936,
          -0.04306766556400048,
          0.7602949338330628,
          -2.836524702554215,
          -3.1058950083620056,
          0.4526208922976409,
          1.8165835832928319,
          0.6395707328251204,
          -5.116397096937333,
          -1.6361321188806175,
          0.918840769823853,
          -2.62421219783673,
          -2.7093865652847278,
          -2.716460580618464,
          -1.6195752659487823,
          -3.3427302077724215,
          0.3028619707912824,
          -3.6454442496207737,
          -0.6167557887225221,
          -4.240760817063369,
          -0.1807816312652459,
          -2.3220046162889667,
          -3.3790149943083714,
          0.14537639318583445,
          -3.4347738004578363,
          1.0400502945652015,
          -4.302866318878883,
          -3.1941054715775303,
          -3.954161442249233,
          1.9628138477682644,
          -1.241721804429861,
          -2.1317279874057573,
          -0.7020610159975778,
          -3.9020497883567704,
          -2.7662626908782366,
          -2.5680522012194595,
          -2.781826011019229,
          -1.4716077599713622,
          -3.2960842665258734,
          -0.796235847018515,
          -3.9741830672667873,
          -1.654689499725738,
          -2.6465737662606825,
          -3.863433913892206,
          0.8613070782619064,
          2.2776714369549715,
          -3.061139246310955,
          -2.4774851614837683,
          0.5021098385812904,
          -1.0774867219947848,
          -1.155536543441971,
          1.5642949985233,
          -0.6523729377928871,
          -2.4096873482102654,
          -3.1014433850955836,
          -1.143730050532196,
          0.67416045306153,
          -3.175354463590856,
          -2.9270588057590263,
          -2.8594756017738048,
          -3.058708485860186,
          -1.6388392146322317,
          0.4832214968001064,
          -3.1693499968893906,
          1.4630974465853934,
          0.23713115588509348,
          -2.3186057180864212,
          -3.9117156432033697,
          -2.3030016210584434,
          -2.4645925958967183,
          -3.0391507974451644,
          -2.71140534108601,
          -1.7292816361668453,
          2.36472709752517,
          -1.5836802721023482,
          0.34862200855485903,
          -2.2783274133830553,
          -3.3733440517936826,
          -2.3863227354987324,
          -2.9808262644267094,
          2.0297883308235773,
          0.9289887190110742,
          -2.9226067520762946,
          -2.8294491414972023,
          -0.5284004714026874,
          -2.527872579484186,
          -3.7990674112527443,
          -1.5439275562051216,
          -2.1573624991423697,
          -4.3038169930547,
          0.0758287940627108,
          0.03956055716492662,
          -0.8538851701870023,
          -2.4537944212707616,
          -2.466167644096456,
          -2.0551010987417615,
          -3.0742709656992315,
          1.1518963187853888,
          -3.642949812991384,
          -2.686500264220817,
          2.1814446059057473,
          -3.6555495654590557,
          1.8011947793646674,
          -2.182379891889531,
          2.0770526202104613,
          -2.503766112439273,
          -2.7340103061980523,
          -1.1468801526962773,
          -2.2474375034424128,
          -0.8734454760362368,
          2.4476273744093713,
          -5.085202907147539,
          -5.169256215850237,
          -3.371062651581654,
          -3.055870257530492,
          2.319497796425584,
          -0.08323605523359373,
          -2.564417079655621,
          -3.062434032574291,
          0.9677208884788865,
          -2.2111410868437633,
          -3.505675375951093,
          -5.035644426277029,
          -3.992102617837026,
          -2.7684081017725077,
          2.495015833362961,
          -4.915289473814445,
          -3.4109509380331,
          -4.040513338385826,
          -2.881109612484903,
          -2.9876262285199746,
          -2.9775370786787203,
          -4.672645741051352,
          -4.805026554764181,
          -3.1572549208772864,
          2.1154030362853926,
          0.2953146291006793,
          -1.6859142318649063,
          -0.7927867995119298,
          0.7122779308969205,
          0.13413318335349778,
          2.443488187085562
         ],
         "yaxis": "y"
        }
       ],
       "layout": {
        "legend": {
         "title": {
          "text": "color"
         },
         "tracegroupgap": 0
        },
        "margin": {
         "t": 60
        },
        "template": {
         "data": {
          "bar": [
           {
            "error_x": {
             "color": "#2a3f5f"
            },
            "error_y": {
             "color": "#2a3f5f"
            },
            "marker": {
             "line": {
              "color": "#E5ECF6",
              "width": 0.5
             },
             "pattern": {
              "fillmode": "overlay",
              "size": 10,
              "solidity": 0.2
             }
            },
            "type": "bar"
           }
          ],
          "barpolar": [
           {
            "marker": {
             "line": {
              "color": "#E5ECF6",
              "width": 0.5
             },
             "pattern": {
              "fillmode": "overlay",
              "size": 10,
              "solidity": 0.2
             }
            },
            "type": "barpolar"
           }
          ],
          "carpet": [
           {
            "aaxis": {
             "endlinecolor": "#2a3f5f",
             "gridcolor": "white",
             "linecolor": "white",
             "minorgridcolor": "white",
             "startlinecolor": "#2a3f5f"
            },
            "baxis": {
             "endlinecolor": "#2a3f5f",
             "gridcolor": "white",
             "linecolor": "white",
             "minorgridcolor": "white",
             "startlinecolor": "#2a3f5f"
            },
            "type": "carpet"
           }
          ],
          "choropleth": [
           {
            "colorbar": {
             "outlinewidth": 0,
             "ticks": ""
            },
            "type": "choropleth"
           }
          ],
          "contour": [
           {
            "colorbar": {
             "outlinewidth": 0,
             "ticks": ""
            },
            "colorscale": [
             [
              0,
              "#0d0887"
             ],
             [
              0.1111111111111111,
              "#46039f"
             ],
             [
              0.2222222222222222,
              "#7201a8"
             ],
             [
              0.3333333333333333,
              "#9c179e"
             ],
             [
              0.4444444444444444,
              "#bd3786"
             ],
             [
              0.5555555555555556,
              "#d8576b"
             ],
             [
              0.6666666666666666,
              "#ed7953"
             ],
             [
              0.7777777777777778,
              "#fb9f3a"
             ],
             [
              0.8888888888888888,
              "#fdca26"
             ],
             [
              1,
              "#f0f921"
             ]
            ],
            "type": "contour"
           }
          ],
          "contourcarpet": [
           {
            "colorbar": {
             "outlinewidth": 0,
             "ticks": ""
            },
            "type": "contourcarpet"
           }
          ],
          "heatmap": [
           {
            "colorbar": {
             "outlinewidth": 0,
             "ticks": ""
            },
            "colorscale": [
             [
              0,
              "#0d0887"
             ],
             [
              0.1111111111111111,
              "#46039f"
             ],
             [
              0.2222222222222222,
              "#7201a8"
             ],
             [
              0.3333333333333333,
              "#9c179e"
             ],
             [
              0.4444444444444444,
              "#bd3786"
             ],
             [
              0.5555555555555556,
              "#d8576b"
             ],
             [
              0.6666666666666666,
              "#ed7953"
             ],
             [
              0.7777777777777778,
              "#fb9f3a"
             ],
             [
              0.8888888888888888,
              "#fdca26"
             ],
             [
              1,
              "#f0f921"
             ]
            ],
            "type": "heatmap"
           }
          ],
          "heatmapgl": [
           {
            "colorbar": {
             "outlinewidth": 0,
             "ticks": ""
            },
            "colorscale": [
             [
              0,
              "#0d0887"
             ],
             [
              0.1111111111111111,
              "#46039f"
             ],
             [
              0.2222222222222222,
              "#7201a8"
             ],
             [
              0.3333333333333333,
              "#9c179e"
             ],
             [
              0.4444444444444444,
              "#bd3786"
             ],
             [
              0.5555555555555556,
              "#d8576b"
             ],
             [
              0.6666666666666666,
              "#ed7953"
             ],
             [
              0.7777777777777778,
              "#fb9f3a"
             ],
             [
              0.8888888888888888,
              "#fdca26"
             ],
             [
              1,
              "#f0f921"
             ]
            ],
            "type": "heatmapgl"
           }
          ],
          "histogram": [
           {
            "marker": {
             "pattern": {
              "fillmode": "overlay",
              "size": 10,
              "solidity": 0.2
             }
            },
            "type": "histogram"
           }
          ],
          "histogram2d": [
           {
            "colorbar": {
             "outlinewidth": 0,
             "ticks": ""
            },
            "colorscale": [
             [
              0,
              "#0d0887"
             ],
             [
              0.1111111111111111,
              "#46039f"
             ],
             [
              0.2222222222222222,
              "#7201a8"
             ],
             [
              0.3333333333333333,
              "#9c179e"
             ],
             [
              0.4444444444444444,
              "#bd3786"
             ],
             [
              0.5555555555555556,
              "#d8576b"
             ],
             [
              0.6666666666666666,
              "#ed7953"
             ],
             [
              0.7777777777777778,
              "#fb9f3a"
             ],
             [
              0.8888888888888888,
              "#fdca26"
             ],
             [
              1,
              "#f0f921"
             ]
            ],
            "type": "histogram2d"
           }
          ],
          "histogram2dcontour": [
           {
            "colorbar": {
             "outlinewidth": 0,
             "ticks": ""
            },
            "colorscale": [
             [
              0,
              "#0d0887"
             ],
             [
              0.1111111111111111,
              "#46039f"
             ],
             [
              0.2222222222222222,
              "#7201a8"
             ],
             [
              0.3333333333333333,
              "#9c179e"
             ],
             [
              0.4444444444444444,
              "#bd3786"
             ],
             [
              0.5555555555555556,
              "#d8576b"
             ],
             [
              0.6666666666666666,
              "#ed7953"
             ],
             [
              0.7777777777777778,
              "#fb9f3a"
             ],
             [
              0.8888888888888888,
              "#fdca26"
             ],
             [
              1,
              "#f0f921"
             ]
            ],
            "type": "histogram2dcontour"
           }
          ],
          "mesh3d": [
           {
            "colorbar": {
             "outlinewidth": 0,
             "ticks": ""
            },
            "type": "mesh3d"
           }
          ],
          "parcoords": [
           {
            "line": {
             "colorbar": {
              "outlinewidth": 0,
              "ticks": ""
             }
            },
            "type": "parcoords"
           }
          ],
          "pie": [
           {
            "automargin": true,
            "type": "pie"
           }
          ],
          "scatter": [
           {
            "marker": {
             "colorbar": {
              "outlinewidth": 0,
              "ticks": ""
             }
            },
            "type": "scatter"
           }
          ],
          "scatter3d": [
           {
            "line": {
             "colorbar": {
              "outlinewidth": 0,
              "ticks": ""
             }
            },
            "marker": {
             "colorbar": {
              "outlinewidth": 0,
              "ticks": ""
             }
            },
            "type": "scatter3d"
           }
          ],
          "scattercarpet": [
           {
            "marker": {
             "colorbar": {
              "outlinewidth": 0,
              "ticks": ""
             }
            },
            "type": "scattercarpet"
           }
          ],
          "scattergeo": [
           {
            "marker": {
             "colorbar": {
              "outlinewidth": 0,
              "ticks": ""
             }
            },
            "type": "scattergeo"
           }
          ],
          "scattergl": [
           {
            "marker": {
             "colorbar": {
              "outlinewidth": 0,
              "ticks": ""
             }
            },
            "type": "scattergl"
           }
          ],
          "scattermapbox": [
           {
            "marker": {
             "colorbar": {
              "outlinewidth": 0,
              "ticks": ""
             }
            },
            "type": "scattermapbox"
           }
          ],
          "scatterpolar": [
           {
            "marker": {
             "colorbar": {
              "outlinewidth": 0,
              "ticks": ""
             }
            },
            "type": "scatterpolar"
           }
          ],
          "scatterpolargl": [
           {
            "marker": {
             "colorbar": {
              "outlinewidth": 0,
              "ticks": ""
             }
            },
            "type": "scatterpolargl"
           }
          ],
          "scatterternary": [
           {
            "marker": {
             "colorbar": {
              "outlinewidth": 0,
              "ticks": ""
             }
            },
            "type": "scatterternary"
           }
          ],
          "surface": [
           {
            "colorbar": {
             "outlinewidth": 0,
             "ticks": ""
            },
            "colorscale": [
             [
              0,
              "#0d0887"
             ],
             [
              0.1111111111111111,
              "#46039f"
             ],
             [
              0.2222222222222222,
              "#7201a8"
             ],
             [
              0.3333333333333333,
              "#9c179e"
             ],
             [
              0.4444444444444444,
              "#bd3786"
             ],
             [
              0.5555555555555556,
              "#d8576b"
             ],
             [
              0.6666666666666666,
              "#ed7953"
             ],
             [
              0.7777777777777778,
              "#fb9f3a"
             ],
             [
              0.8888888888888888,
              "#fdca26"
             ],
             [
              1,
              "#f0f921"
             ]
            ],
            "type": "surface"
           }
          ],
          "table": [
           {
            "cells": {
             "fill": {
              "color": "#EBF0F8"
             },
             "line": {
              "color": "white"
             }
            },
            "header": {
             "fill": {
              "color": "#C8D4E3"
             },
             "line": {
              "color": "white"
             }
            },
            "type": "table"
           }
          ]
         },
         "layout": {
          "annotationdefaults": {
           "arrowcolor": "#2a3f5f",
           "arrowhead": 0,
           "arrowwidth": 1
          },
          "autotypenumbers": "strict",
          "coloraxis": {
           "colorbar": {
            "outlinewidth": 0,
            "ticks": ""
           }
          },
          "colorscale": {
           "diverging": [
            [
             0,
             "#8e0152"
            ],
            [
             0.1,
             "#c51b7d"
            ],
            [
             0.2,
             "#de77ae"
            ],
            [
             0.3,
             "#f1b6da"
            ],
            [
             0.4,
             "#fde0ef"
            ],
            [
             0.5,
             "#f7f7f7"
            ],
            [
             0.6,
             "#e6f5d0"
            ],
            [
             0.7,
             "#b8e186"
            ],
            [
             0.8,
             "#7fbc41"
            ],
            [
             0.9,
             "#4d9221"
            ],
            [
             1,
             "#276419"
            ]
           ],
           "sequential": [
            [
             0,
             "#0d0887"
            ],
            [
             0.1111111111111111,
             "#46039f"
            ],
            [
             0.2222222222222222,
             "#7201a8"
            ],
            [
             0.3333333333333333,
             "#9c179e"
            ],
            [
             0.4444444444444444,
             "#bd3786"
            ],
            [
             0.5555555555555556,
             "#d8576b"
            ],
            [
             0.6666666666666666,
             "#ed7953"
            ],
            [
             0.7777777777777778,
             "#fb9f3a"
            ],
            [
             0.8888888888888888,
             "#fdca26"
            ],
            [
             1,
             "#f0f921"
            ]
           ],
           "sequentialminus": [
            [
             0,
             "#0d0887"
            ],
            [
             0.1111111111111111,
             "#46039f"
            ],
            [
             0.2222222222222222,
             "#7201a8"
            ],
            [
             0.3333333333333333,
             "#9c179e"
            ],
            [
             0.4444444444444444,
             "#bd3786"
            ],
            [
             0.5555555555555556,
             "#d8576b"
            ],
            [
             0.6666666666666666,
             "#ed7953"
            ],
            [
             0.7777777777777778,
             "#fb9f3a"
            ],
            [
             0.8888888888888888,
             "#fdca26"
            ],
            [
             1,
             "#f0f921"
            ]
           ]
          },
          "colorway": [
           "#636efa",
           "#EF553B",
           "#00cc96",
           "#ab63fa",
           "#FFA15A",
           "#19d3f3",
           "#FF6692",
           "#B6E880",
           "#FF97FF",
           "#FECB52"
          ],
          "font": {
           "color": "#2a3f5f"
          },
          "geo": {
           "bgcolor": "white",
           "lakecolor": "white",
           "landcolor": "#E5ECF6",
           "showlakes": true,
           "showland": true,
           "subunitcolor": "white"
          },
          "hoverlabel": {
           "align": "left"
          },
          "hovermode": "closest",
          "mapbox": {
           "style": "light"
          },
          "paper_bgcolor": "white",
          "plot_bgcolor": "#E5ECF6",
          "polar": {
           "angularaxis": {
            "gridcolor": "white",
            "linecolor": "white",
            "ticks": ""
           },
           "bgcolor": "#E5ECF6",
           "radialaxis": {
            "gridcolor": "white",
            "linecolor": "white",
            "ticks": ""
           }
          },
          "scene": {
           "xaxis": {
            "backgroundcolor": "#E5ECF6",
            "gridcolor": "white",
            "gridwidth": 2,
            "linecolor": "white",
            "showbackground": true,
            "ticks": "",
            "zerolinecolor": "white"
           },
           "yaxis": {
            "backgroundcolor": "#E5ECF6",
            "gridcolor": "white",
            "gridwidth": 2,
            "linecolor": "white",
            "showbackground": true,
            "ticks": "",
            "zerolinecolor": "white"
           },
           "zaxis": {
            "backgroundcolor": "#E5ECF6",
            "gridcolor": "white",
            "gridwidth": 2,
            "linecolor": "white",
            "showbackground": true,
            "ticks": "",
            "zerolinecolor": "white"
           }
          },
          "shapedefaults": {
           "line": {
            "color": "#2a3f5f"
           }
          },
          "ternary": {
           "aaxis": {
            "gridcolor": "white",
            "linecolor": "white",
            "ticks": ""
           },
           "baxis": {
            "gridcolor": "white",
            "linecolor": "white",
            "ticks": ""
           },
           "bgcolor": "#E5ECF6",
           "caxis": {
            "gridcolor": "white",
            "linecolor": "white",
            "ticks": ""
           }
          },
          "title": {
           "x": 0.05
          },
          "xaxis": {
           "automargin": true,
           "gridcolor": "white",
           "linecolor": "white",
           "ticks": "",
           "title": {
            "standoff": 15
           },
           "zerolinecolor": "white",
           "zerolinewidth": 2
          },
          "yaxis": {
           "automargin": true,
           "gridcolor": "white",
           "linecolor": "white",
           "ticks": "",
           "title": {
            "standoff": 15
           },
           "zerolinecolor": "white",
           "zerolinewidth": 2
          }
         }
        },
        "xaxis": {
         "anchor": "y",
         "domain": [
          0,
          1
         ],
         "title": {
          "text": "x"
         }
        },
        "yaxis": {
         "anchor": "x",
         "domain": [
          0,
          1
         ],
         "title": {
          "text": "y"
         }
        }
       }
      },
      "text/html": [
       "<div>                            <div id=\"3fc68fda-6682-454c-9b0d-a75030861047\" class=\"plotly-graph-div\" style=\"height:525px; width:100%;\"></div>            <script type=\"text/javascript\">                require([\"plotly\"], function(Plotly) {                    window.PLOTLYENV=window.PLOTLYENV || {};                                    if (document.getElementById(\"3fc68fda-6682-454c-9b0d-a75030861047\")) {                    Plotly.newPlot(                        \"3fc68fda-6682-454c-9b0d-a75030861047\",                        [{\"hovertemplate\":\"color=1<br>x=%{x}<br>y=%{y}<extra></extra>\",\"legendgroup\":\"1\",\"marker\":{\"color\":\"#3366CC\",\"symbol\":\"circle\"},\"mode\":\"markers\",\"name\":\"1\",\"orientation\":\"v\",\"showlegend\":true,\"x\":[-0.7659647102729868,1.461020188330676,2.2442536607138885,6.54095669457018,5.625583483289264,4.151772403913836,-0.12210845714375303,7.883318088928975,0.5960044089904777,-1.3576436710154771,8.707700165985386,-1.0224082326510424,-3.6583575749480692,10.458327283455683,-4.044555294101882,-2.2389837160996575,4.449145694237461,-1.4335377250357302,5.727158401095332,2.995607205967823,2.0926156151024955,6.37097265779617,8.085001042548093,3.6210930707620106,-1.1575726164596685,0.011565882514904029,10.515512487120334,-5.008571126303134,8.685329227604395,7.354498636977565,4.669766715192679,10.15846704383512,1.0731503886160942,2.841435792956329,10.843065870681961,4.46468069184673,4.869640761505625,4.673398312307664,2.3966125061947428,-1.4018907330458945,0.47790296883581523,3.245071430866047,9.843110249710854,2.736496824313665,-0.1781845387569207,0.09583881335130931,-3.3825657366502,6.567690998230096,0.35172108530602064,-2.646617512832042,7.539461734242607,-0.3251005266312225,2.002621614625502,1.4647198283237077,9.598808239666928,2.59300321582826,6.945631249646332,-2.586447494095662,-6.848371305254425,3.6790491907210847,-0.14609154161842317,2.167903568995101,-1.2222860727374816,6.750868197495288,3.660604417926805,7.62336811711053,9.88394500386498,-4.136888488486033,-0.4641159524667352,8.35702041062987,1.3964171184429668,4.649973304862879,4.839083330891262,5.7070198313772496,-0.9812024771366887,-2.046540901191569,-1.0458812906345274,0.5238534701435479,1.2002804342848696,-2.0767686514640262,1.0151307493093864,-2.311640990915431,0.902287605902805,-0.34520323961074284,1.3378418009299058,-1.9182881197416137,2.0962586056567307,-2.794069496831115,-0.01728335894315705,0.2162538839781857,0.9408311469357247,-5.614310363759069,5.091970516501279,0.9667161224736128,9.07948748795504,-0.6188201615701384,-0.24576937509003893,-0.3754850102583682,-3.695965058613326,0.8833290326391565,-0.01085352961032054,2.0842549317260013,-4.512962378027716,0.8913394201080512,6.120068579543042,-3.284014265175782,1.377385875815727,-2.6449835957375485,6.443429083121535,2.669487819744049,-2.821571763677792,-2.7409449724550394,7.907669687058335,5.00164502115568,-2.9164791296713464,-0.10686018038703707,-1.3626102394202029,1.1112233065930541,0.34588361163126746,0.9269835424462449,0.5984089833559153,10.167071433285932,-0.6291524405852472,2.914892766132903,1.6093205593487019,1.5525802779285227,4.147479240897499,3.933716457847427,3.258260159247478,1.9659214747932472,-3.6127140116324257,-2.290863513695247,6.572322316508645,2.7531557873082804,0.5148031963323708,3.0774091130930192,5.299409093254206,-0.47667061770388586,2.214272912121427,1.8691666201193728,1.156371942005473,2.1888794631694783,-1.7518576426347499,0.24181112827420567,7.276523721966908,6.853926746698296,7.985191237127864,-2.225278168149573,2.1607451039008114,2.1740968276686203,2.367181115246178,1.211143728310335,1.5557672398273288,-3.031310637609903,2.3963676870388846,2.7047905528404295,1.540601281855816,3.7976122865232025,-2.870969998842453,-1.6592509180782689,3.089121902074657,1.8704370265043921,3.3399176195044173,-1.2834427281923992,0.12479297698912441,5.784941970908054,-0.7942445112065926,11.438005438346554,7.178603838038994,7.767333614865236,1.5612291093437105,-5.10480102400942,-3.9291240424531106,0.6762571210453729,10.126955826982897,-2.2856967144575817,-1.2269754605664958,0.23667814906159096,9.457685972403791,0.020816332037277965,-3.592890585140015,4.318731159386923,3.501359559950755,-3.600531442607982,6.7041660719966885,-0.6467583755958727,-0.5641797031576236,-1.5624061864107193,-4.2240396826242605,0.1258448737782052,2.5214581252213475,1.8981292223604314,2.0486495366544824,11.171845666163362,3.8529473958807574,5.053766701412292,-5.341721327593525,6.333648474353257,0.6327439659875335,-2.4994690931254433,-0.6162006728111734,7.7270266483319014,2.005755057080778,3.554820601322671,0.26844606850141334,4.802733246994662,0.9336911749783511,-0.5689515867721882,0.39214900714014805,1.780499029347078,1.6133306576898319,3.069513273678559,2.075362166085197,-4.784218437622628,4.344439971338515,2.7427332122095502,0.5858437384669168,3.0223695639559742,1.4148840094171835,3.0958047643817936,5.81941186964157,-0.850169264472764,-0.4307902920696834,2.3084747404576507,1.7236186224202654,8.643023856637978,-2.9511758666545758,-6.929559008831188,-2.087709145059504,-2.506414255678852,-2.5422233625361783,2.6024542301255154,1.9333929775366843,-3.29376765635453,-1.4972205401458776,3.379308629640455,1.6883378381227974,5.697086572135138,0.6727261438838837,2.9439447028419394,1.3825719574898339,-4.152271098337814,9.251609841312264,-1.8267804511244394,-3.454486199085258,2.4029044375538806,0.8272141958441495,-0.5847599500244955,6.458841726027955,-1.4920015381741993,2.9146458886934306,8.422388441513924,3.0536310934724398,-4.869180989951898,8.86577770134323,-3.0645040490635123,4.320917798964198,0.5802836443359582,-2.06810729500938,2.0385795297788833,8.162573197301239,2.6529576434712547,0.4538863937909212,9.331336177495034,0.5034389022566539,-5.565054544904729,-2.4175214084298804,-0.20960726686161224,5.205422649268709,-3.407248585935784,-0.6510128516015121,4.207836518087512,5.710131747380744,-5.4470323593725585,5.307586641363757,5.116693348837727,0.8096451638363298,0.7542179168487693,8.222137080855237,-5.331706475656883,2.431973897651676,-2.2605660380998707,-2.0641520901678496,4.837048149105233,0.7093255029746158,0.6203891129409955,-4.229990182879055,1.3501027227283904,5.778579301589085,10.131750810286368,-0.9618388040581939,-3.2464149009098398,1.9547812505626516,-4.203801512977326,4.910134806018083,9.486389785281334,-0.23166566867742866,-0.4670758494665846,1.4907038064784095,2.669242526825923,9.096449766141776,-1.685221112346658,-0.05960504786037446,5.343191218961785,4.076062227809841,2.669315334827957,2.6629490034946617,-1.0363717478745151,1.085203723930449,0.826433706151748,-2.3014512602963486,5.083408147080025,-1.4078158570484265,0.4284983630675822,2.048645090251007,2.382768923386571,0.32096837075134005,-2.7504655653319072,-2.0554079407919916,-0.4761949967407974,-1.7735398396993032,8.034595450718994,-6.816198182564053,2.4234965254201186,-0.2724761474829103,-4.062739490604671],\"xaxis\":\"x\",\"y\":[-2.005644286996749,3.0270272788821644,0.03686950748527023,-1.4888910638534092,0.3662254819908292,4.667834266841108,3.8231791305195424,-2.2352169404424442,3.7917458453978234,1.6328029185087778,-5.18937728289005,4.323882331295483,4.135179069020376,-1.9397595672514625,1.1336860842152663,2.832090278500951,-0.36706560307931513,3.238218878169446,-0.24475955173876673,4.729984150288329,-0.7722418254768264,-1.9744044111838073,0.66822535034738,-3.0631019894527256,3.5951536585402533,7.2116262587197575,-2.303436090303436,2.3840429460676327,-2.2450600172486803,0.5052508815435379,3.1942620233093,-5.200302328752597,-0.057044397072679554,-0.08384164086109308,-3.5591346712483185,3.7635315663392275,-0.819449406845316,0.712079633354793,0.7232076087159438,3.9691092430621366,4.604838624315427,-1.6951177485392988,-2.886365873689731,4.435857145382846,2.200834405798968,5.314269285755507,0.5494251249526859,-2.8272316857653643,6.5001246087440885,0.3794400453418767,-5.682791396692023,6.865946966369916,1.8187314424265488,5.818898055687526,-3.458519584363577,1.624497685623198,0.3147947074219158,3.6864192872797603,6.188076164487002,-0.8536873029753002,3.464726671312834,-0.9562777746438536,-0.4178247668180071,-2.437748665729414,5.911213563593297,-1.0092384701936865,-2.1889590287225222,5.282582431164698,-0.7784168176092463,-1.4270131400531871,6.120022572543633,-0.6104095535494739,1.6744716597468543,3.0106267220531753,1.2869330721214003,0.1895832539522068,1.0403833163514824,-2.9779672563620587,2.906763088236599,5.01558880250615,7.1925848260981775,2.5466586510521614,1.8631288602562075,6.419383101558633,1.2172188272033286,7.031326282450332,5.3249748848090706,5.168262413075804,2.109534854665978,2.6961190715474426,-3.9182527973102137,4.010237122335561,-1.8467822359522255,3.5526888829969065,-1.838934018553536,3.184706539872423,-0.6746689453198033,-2.3019103645509262,5.930593306334114,-0.011194372488990802,1.06746491481108,4.718153206999583,5.5357270358004635,6.634685962560737,-1.3997572854942384,0.34292238048699947,5.495903653252271,5.502655875391859,-2.641484807009327,2.688458034133766,4.373538990264689,0.9612823634873815,-1.8489523275734756,-3.9896691447320407,1.8922283116663858,0.8880596718620727,4.213355942025334,-3.1731866492396605,5.678405617395336,3.680278252101096,0.20305022433428024,-6.488203079116947,3.7752450165446008,-3.3739494485635677,0.7613325240485648,3.007651802696563,0.9176345637110714,2.328385073469335,1.3726171753494232,-3.7503732066002464,2.855770092363281,4.02950788397862,2.084733761142778,1.7685971397736615,4.138494566222772,2.5891096027283296,-1.7435831257912178,0.9317521801861485,2.133322347790476,1.3002503214148144,0.0796041435882674,4.020203861336155,4.641330793869076,0.17309911326871197,-2.018543253018027,-0.15898657679519482,0.18063967988872448,1.5130424469300234,3.566249955690013,1.1393643584838067,-4.54337912930903,5.360130491991438,2.367847685869784,4.998222023526085,0.17944482659021818,0.6353396133267931,2.7398042753826486,-3.3669002620258452,3.5144111006781533,7.912275916200272,-1.964061294150981,6.914241451641834,2.360604879055596,3.4562217630331156,7.453829154873967,-0.7710493952435744,3.5401039548474476,-2.5250429342545715,-2.1228274005800603,-5.024535959884513,3.9726757501442886,5.3246794947244,8.60626500574073,2.67704579139041,-3.603194828090929,6.086793893398821,6.592546415065137,0.8205133366570283,-0.49939437296992284,3.609714609982895,5.782506472145192,0.14673597819087802,1.732283955250438,3.4236777466501453,-3.5644983821560037,2.847749264594809,5.610581460308387,3.5900949801379762,0.827142492126774,1.972066846920484,1.7548416441803072,5.884260689326617,-1.5542651999631778,-4.322841724619716,-1.1995693821307032,4.514760007483295,9.430664656172343,1.9607942586152567,1.549193812552289,2.9320983159358103,-1.5366222231414637,2.4481063601944273,2.0277717889318163,-1.1263356349941251,2.9982177901400804,-2.759515132373834,-0.1138427488064372,-0.1989646929463131,2.375018049804583,2.1053768691155437,5.517799687861937,3.2096438243860046,4.356698037227523,5.600064368919908,-1.2958753142852995,-2.676338663866888,5.4984115573696695,-0.960059700486599,0.07164219280843043,2.094635465342395,-0.693465992008744,3.650116489669962,3.295432651215896,3.591272058987302,0.5349765591035601,-0.8823835323907254,4.267397000822613,4.198759093171121,0.07455080460713785,5.690133398867554,6.176723614399381,2.6589671785375852,4.436880615031599,5.374155722953791,4.660099414263692,-3.6955737877169077,-3.862039353461546,-1.0656452988260101,1.0440852100436655,0.4213426505541879,-3.150270660918137,2.497334288390312,-2.410417020624802,3.4482354003389264,2.487075530584861,-1.8187773820789013,3.736294580752251,8.303967727418499,-4.325547417932029,5.1749495912915755,1.544673567070074,-2.379150309043975,4.721079987921085,2.175312292953091,-1.1214673081002082,5.843658542546856,-0.4109891145471484,1.5186817924860967,3.8506362009847495,0.19942903410372462,-3.8095284255892516,2.1491763470270313,-1.5819765659974152,-3.9835749078235065,3.2290402877589783,6.250017947356134,7.286796719303157,2.7468491843925817,-1.0458857726078639,2.184901273810037,4.388333906622477,0.18498380800960706,5.646583633810401,6.6769478653723615,-4.073011496974139,0.5363058649356217,6.674651435493314,-0.176801073876144,-0.20325978720259041,3.9220366739795844,-1.045446889236413,1.086871355299811,2.9737794276607015,0.8434315303968731,0.9671738830413426,6.852819639977388,0.00021116846459537096,-0.2502804020853969,0.5047990935142862,-2.407317021168703,2.42816129433454,6.436756960703728,3.945329532469918,2.6286122120068365,-2.048098774442331,-3.147988744132417,4.58771067575168,-0.9489096372247535,-0.9247002867186432,-1.201457469475276,-3.620801733852329,1.4296794112050828,0.34097350067216525,-0.6996912523053919,2.870769897080838,-1.1685333838273049,4.9920281138178115,7.67837603397342,-1.2844936594162428,4.139552416517022,4.714715912636207,-0.1364379403942773,6.641868307439545,8.892579167519512,-1.2008221679757825,-1.1260399126492098,0.6909505594932804,5.592337998876982,-2.8852901365154553,0.8381134459200055,-1.3302071229445036,-2.5765592109288424,1.1215198979401326,0.7412650376700642,3.022693624471216,5.955111086188683],\"yaxis\":\"y\",\"type\":\"scatter\"},{\"hovertemplate\":\"color=0<br>x=%{x}<br>y=%{y}<extra></extra>\",\"legendgroup\":\"0\",\"marker\":{\"color\":\"#DC3912\",\"symbol\":\"circle\"},\"mode\":\"markers\",\"name\":\"0\",\"orientation\":\"v\",\"showlegend\":true,\"x\":[-4.020422586749871,-3.759065454318046,4.420808888587548,-7.653137364439198,1.7822094308906777,3.394981802423194,-6.277225727435631,-1.9050868005966293,-4.76349236364623,8.066299925040106,1.993720642525936,-0.15193085001985593,2.602874517836914,4.696195639531689,-6.539677559221041,-8.270971526727877,-7.098691612789894,-8.834930753636613,0.9734299488297533,3.463847915574259,-5.662740000266625,-0.8421455454356509,-7.673600180577415,0.13891993095388033,11.016988132054228,-1.3063657831833722,-4.86624349363655,-5.9919193990079975,-1.3346865109199846,-0.28533284593075053,-4.14777013911457,-9.433105584574385,-2.4912915664981647,-4.2096339172128365,-1.7709280721713248,4.583336204665246,2.968559246931169,-4.297258603683643,-2.880408760768349,-7.9752985473699045,-3.719217172468234,-5.462162843505587,-0.2679886473817384,-6.7525914942328065,-2.3219008193562973,-4.133292532390747,-0.1927652827464865,2.0313072293779153,-6.367988211783733,-3.838516155674723,2.480652026132894,-7.239156901896142,-1.2300346354309377,-8.455637122219686,1.8431545973155388,-1.4518277747384822,-8.36219097101911,0.7195927639687227,-5.44168585268779,7.796325318120893,-3.9472197674912604,-6.608274915037904,0.021486835430505762,-0.3321087997336108,-2.1074132415129765,-0.3633030454486847,-5.557908849103118,0.667746648367597,-3.5610937911995317,0.5187647399751945,2.70221612089009,-3.6090291534660737,-7.056142225623435,-3.8358461193202174,-2.3695934727430097,-2.4410144675257226,-0.26594960922230637,0.6738916801486943,-4.660159566703821,-0.2548168036260072,-0.023803413747629842,-5.8421474211715125,1.9537740802389212,-6.209206975705554,-3.4364253425653906,-6.180802103593222,-3.3136211181111657,-2.121288080722105,-2.140775877187732,2.6760723969938627,-2.7964573878921715,-6.3729191318293354,-1.7604587092383857,-6.703642273264996,2.1141852338245735,-0.7664317336539883,3.5769008961656064,-6.098150445029127,-6.121506940756814,4.269195279546854,-7.69355445762175,-1.8740900963422933,0.547820878104606,-8.435609294973247,2.4635650698891243,-5.212452097108945,-1.279940116778381,-0.9621331946833817,-0.6574013753459289,0.8840710185860582,-6.706105564944485,2.3617206046148502,-8.111708909739036,-3.426294155079662,-1.764638028955397,3.4442294076174025,-7.08258646021691,-3.537633089685451,-1.7854024530038122,0.7536011999940788,-2.920405480330305,0.400949898658061,-1.0396514291492418,2.008903847173177,-6.2397433592700455,-2.8690586149848403,-1.7601665933041608,-6.7819809199652275,-2.950562461438617,-4.660328258367477,1.0605462436970934,-6.733995242299903,2.887543101873255,2.704364941014593,0.32833175733318753,2.734259973747335,4.062162554719877,-3.6379529425527863,1.5826664960047037,-3.3244577475687542,-2.8792078592423214,-6.7592953520386585,0.3404653531517311,-1.2705840378167748,-1.6944606802198205,-7.975491091696095,-6.716626509889618,-3.6210180055479304,-1.0464023860083365,-6.588155536833465,4.854462155433629,2.5442396420136975,-0.2480826620091105,-5.583966512692992,-0.14696425073232247,-0.32108714412189626,-4.888416147298151,-6.4523096466283825,-1.7741146451626453,-6.191516740804474,-4.060603083285869,-2.593785659121776,0.39559445999179466,3.7838007597982144,-0.8316131842788634,-7.49049520477054,3.856868431492027,-2.2325956645444185,1.9964464095029955,9.241992613865547,-4.444037576008053,-5.312740912104388,0.011802668060793138,-3.340422277468846,5.871447082545463,-2.0715379100467444,-3.9542109697979217,-7.020194622278287,6.703588476515069,-6.1591938916757485,-5.618935230991415,-3.0247099138888633,-7.069780264890978,-2.385248234630015,-1.6461628254329002,7.293294217014324,-0.8541221622446676,-4.039516851826902,0.3051086376911186,5.699666868924649,-1.6918067041107137,-2.559641309719478,-3.4174324056534484,-0.17637993527045626,0.4251924936108452,-0.8491888707842926,-0.361271205409659,-0.705170862064683,1.4914499330515187,-3.7284531740537736,4.412364208692586,8.02621554841119,0.6678681925849996,-4.969870143741991,-1.3151346615355684,-5.968164126944437,-1.7901053604516557,-2.479770708128955,6.243510635241437,-4.145889954935849,-1.2688581013960738,-6.551575490198793,10.12314866149168,1.0771424602776574,0.757015390891046,-2.125487397853063,-2.9798755965082746,10.718704557705477,-4.9013483921840635,-3.7101866084319064,-7.9930829349180055,0.21297668654981397,-6.630198468028244,0.006243635624489727,-6.1436384035096445,-2.6288918371755208,-7.529624855520359,-3.8485742779173067,3.1152918632187814,-0.7990044736653711,-4.123710999450611,-1.4378365462514153,2.072658346375038,-3.0756924314146787,-4.6979970513881275,-2.802512698599765,1.7448092346265345,-7.5729792641790725,-1.7075515543842896,0.49182906009885957,4.2987354861758424,-4.463114354027217,-0.376385293038607,-1.6669223600856493,-7.416696305211219,5.799836829295576,2.3371553505399536,-6.506516735981902,0.2705088891862139,-0.437802777297421,-1.3263011554471649,8.604487650788315,-5.007085410242148,-5.212545126613608,0.741803717884283,-0.2823610499222644,-3.7488232382729088,3.2249271940664226,-3.527253712931859,-0.9765968951042886,-6.025245647304579,-2.093049378422434,-1.7639333935208035,-4.231808118936935,2.1042333084986384,0.50707682719147,-3.9518850017140976,-6.965398110166512,-2.9355536348913764,-1.647314906565117,-6.059794489677722,-6.7581008997824,-0.8413683366482317,-6.301464374635966,-4.439470054510825,0.38287304263628397,-1.2725294470323476,0.05419365351592559,1.4367085569778373,-3.508519910671652,-6.3319466401829505,1.8359370804426873,6.697199559229967,-7.668562579343639,4.090920123754614,-0.5608347905382092,2.4034835020933065,-1.8461026253702433,-2.9207680014503903,1.8036209678921231,-5.662436546501272,-3.3540010039179853,5.01964879897179,-2.118791654085987,1.9623507676999088,-1.8419502478424916,0.2936929186979927,-2.214922690493668,-8.257799904516844,3.7250052998494643,3.8915699429659583,-2.1489702088459826,-5.183766497141859,-4.167912357703214,-0.6981968799290499,-5.364493984595309,-0.42179696460727256,-2.322142459495889,-3.049025367358029,1.9450228702644912,-2.4823576364674587,-4.97946554286887,-6.175396783444025,-0.44812109065436695,-4.111551130481283,-0.2975787044537446,0.07963944346953265,-4.725369544942911,-1.8940228194715043,1.3281423829365453,4.394502978392962,5.739489362588068,-0.9036744893223408,-4.245688023236041,0.1160882723366887,2.5545555928225654],\"xaxis\":\"x\",\"y\":[1.9196841753493652,-1.6907381229842755,2.256566207025306,-3.7749992720583188,1.072117186563248,-3.6542737237415412,-4.435588080694988,-2.5246611673837784,-3.5257771924294197,0.017585570458004806,2.4116365023457442,-3.070829432507288,1.5090086827854163,0.3425827600038801,-0.1894089956178955,-3.0572831646373873,-3.6560481800662314,-2.3116920647588426,0.29794527041286223,-3.461065140067584,-3.579049659858718,-0.8882782453488429,-2.135921277338968,-5.436186221389998,-3.96082410474346,-5.6189625024576975,-2.539396571014882,-3.6573040978956235,-2.3132346156229553,1.8032506936680566,-4.793379599786834,1.3375568238066589,0.7855028813377886,-3.2215574799685798,-2.2693862785570986,-2.872662003964729,2.6350992735091587,-3.1195410772257066,0.0442564361954301,-1.343201423783068,-3.0632443758496644,-3.308019044603985,-1.6085890932469615,-1.5097618298887625,-2.348996385238233,-2.487243399938065,-3.044673603702745,-1.2556302880261003,-2.5070563064496008,-2.431371862265651,1.6881126039526002,-1.8198131736444594,-2.50929131550927,-2.031686493046552,0.9078276832918376,-2.0193221737732614,-0.2168692564104214,-0.46191795558047727,-2.3958034866845748,-3.3857815050983198,-4.473644605126627,-2.822824857420243,1.1330928365881034,-1.1790150910494255,-0.37348451267082694,0.5381024177534011,-3.274837317104169,1.4659035010072574,-2.3615365158318005,0.13108942373901664,-1.4079390832432872,-2.434169998088053,-3.3921847371280385,-3.7846988547504723,-2.3526363306494766,-1.3880634416629851,2.3180968248907514,-0.040923376779568706,-4.294890082708692,-1.5495410069322488,1.428867030408794,-1.9082166154367992,1.6574880367784166,-4.111129006563099,-2.5386860964270372,-0.3748212937985382,-3.578610594580854,-2.7006055579474544,-2.2623887447623123,0.45901864796594694,-2.0858998206042867,-4.2898135091628165,-4.89169086636272,-3.2306054966672586,1.852021350779415,-0.1735181316492543,1.3531701169712451,-2.8242067599882885,-2.3028433327052857,0.24527319767845704,-1.1873911089041582,-2.712886888791056,-1.2519734089884442,-0.11030300353125562,2.2757201761760637,-2.9806626356954142,1.998376165701875,-1.3628470383928444,1.5761427696141834,2.095477178076777,-1.2214865298894462,-2.9010604730422425,-3.0575488874188457,-1.328705380453953,-2.090611319163221,-0.39902873029447516,-3.3215620622791575,-2.2788910031228036,-3.038423317546361,0.634683381386306,-2.656205707890645,-1.289035884655974,1.5634329666256914,-2.534314296251026,-4.174907026884434,0.07280330141028386,2.204779593830773,-3.481671710833477,-1.368383297418518,0.6749167149594416,2.3544822934640695,-3.625831420691234,0.37051205576109986,1.3967533028887993,0.26165030466705175,-2.728864970492833,-1.604936681973815,-2.4831997836178386,-2.4708858359891166,-1.072575613081051,-2.642341981499816,-1.5513347671134434,-0.41812969791280596,-2.085297618653234,-4.997392787245671,-2.1182022359825146,-0.4667647186859699,-1.6323714548933037,-3.7292058779416477,-2.4181449555102947,0.5862793164632597,1.3061338085599188,-3.009240960090544,1.8052508561774303,0.17168189720694058,1.5331390541381895,0.4874022520906505,-2.5171836663780094,-2.2462536247651603,-4.074181338590971,-2.5205616632766743,1.128930915077833,-2.294237423413687,0.04694431992608302,-2.881366549024435,-2.641874130186574,-0.10773301509096483,0.5894603132704502,-0.2858712708500088,-3.616656884815943,-3.1456247068074568,-2.8967526094289084,0.254128517859922,-3.3499939290473852,-1.582978478636249,-2.329888466970442,-4.5168914520988865,-2.3195884190733156,-3.2796304573895387,-2.994829116664764,1.8036817801718887,-1.9694744452321564,-3.0083570597125155,-2.1940774161798244,-0.6252951666768936,-0.04306766556400048,0.7602949338330628,-2.836524702554215,-3.1058950083620056,0.4526208922976409,1.8165835832928319,0.6395707328251204,-5.116397096937333,-1.6361321188806175,0.918840769823853,-2.62421219783673,-2.7093865652847278,-2.716460580618464,-1.6195752659487823,-3.3427302077724215,0.3028619707912824,-3.6454442496207737,-0.6167557887225221,-4.240760817063369,-0.1807816312652459,-2.3220046162889667,-3.3790149943083714,0.14537639318583445,-3.4347738004578363,1.0400502945652015,-4.302866318878883,-3.1941054715775303,-3.954161442249233,1.9628138477682644,-1.241721804429861,-2.1317279874057573,-0.7020610159975778,-3.9020497883567704,-2.7662626908782366,-2.5680522012194595,-2.781826011019229,-1.4716077599713622,-3.2960842665258734,-0.796235847018515,-3.9741830672667873,-1.654689499725738,-2.6465737662606825,-3.863433913892206,0.8613070782619064,2.2776714369549715,-3.061139246310955,-2.4774851614837683,0.5021098385812904,-1.0774867219947848,-1.155536543441971,1.5642949985233,-0.6523729377928871,-2.4096873482102654,-3.1014433850955836,-1.143730050532196,0.67416045306153,-3.175354463590856,-2.9270588057590263,-2.8594756017738048,-3.058708485860186,-1.6388392146322317,0.4832214968001064,-3.1693499968893906,1.4630974465853934,0.23713115588509348,-2.3186057180864212,-3.9117156432033697,-2.3030016210584434,-2.4645925958967183,-3.0391507974451644,-2.71140534108601,-1.7292816361668453,2.36472709752517,-1.5836802721023482,0.34862200855485903,-2.2783274133830553,-3.3733440517936826,-2.3863227354987324,-2.9808262644267094,2.0297883308235773,0.9289887190110742,-2.9226067520762946,-2.8294491414972023,-0.5284004714026874,-2.527872579484186,-3.7990674112527443,-1.5439275562051216,-2.1573624991423697,-4.3038169930547,0.0758287940627108,0.03956055716492662,-0.8538851701870023,-2.4537944212707616,-2.466167644096456,-2.0551010987417615,-3.0742709656992315,1.1518963187853888,-3.642949812991384,-2.686500264220817,2.1814446059057473,-3.6555495654590557,1.8011947793646674,-2.182379891889531,2.0770526202104613,-2.503766112439273,-2.7340103061980523,-1.1468801526962773,-2.2474375034424128,-0.8734454760362368,2.4476273744093713,-5.085202907147539,-5.169256215850237,-3.371062651581654,-3.055870257530492,2.319497796425584,-0.08323605523359373,-2.564417079655621,-3.062434032574291,0.9677208884788865,-2.2111410868437633,-3.505675375951093,-5.035644426277029,-3.992102617837026,-2.7684081017725077,2.495015833362961,-4.915289473814445,-3.4109509380331,-4.040513338385826,-2.881109612484903,-2.9876262285199746,-2.9775370786787203,-4.672645741051352,-4.805026554764181,-3.1572549208772864,2.1154030362853926,0.2953146291006793,-1.6859142318649063,-0.7927867995119298,0.7122779308969205,0.13413318335349778,2.443488187085562],\"yaxis\":\"y\",\"type\":\"scatter\"}],                        {\"template\":{\"data\":{\"bar\":[{\"error_x\":{\"color\":\"#2a3f5f\"},\"error_y\":{\"color\":\"#2a3f5f\"},\"marker\":{\"line\":{\"color\":\"#E5ECF6\",\"width\":0.5},\"pattern\":{\"fillmode\":\"overlay\",\"size\":10,\"solidity\":0.2}},\"type\":\"bar\"}],\"barpolar\":[{\"marker\":{\"line\":{\"color\":\"#E5ECF6\",\"width\":0.5},\"pattern\":{\"fillmode\":\"overlay\",\"size\":10,\"solidity\":0.2}},\"type\":\"barpolar\"}],\"carpet\":[{\"aaxis\":{\"endlinecolor\":\"#2a3f5f\",\"gridcolor\":\"white\",\"linecolor\":\"white\",\"minorgridcolor\":\"white\",\"startlinecolor\":\"#2a3f5f\"},\"baxis\":{\"endlinecolor\":\"#2a3f5f\",\"gridcolor\":\"white\",\"linecolor\":\"white\",\"minorgridcolor\":\"white\",\"startlinecolor\":\"#2a3f5f\"},\"type\":\"carpet\"}],\"choropleth\":[{\"colorbar\":{\"outlinewidth\":0,\"ticks\":\"\"},\"type\":\"choropleth\"}],\"contour\":[{\"colorbar\":{\"outlinewidth\":0,\"ticks\":\"\"},\"colorscale\":[[0.0,\"#0d0887\"],[0.1111111111111111,\"#46039f\"],[0.2222222222222222,\"#7201a8\"],[0.3333333333333333,\"#9c179e\"],[0.4444444444444444,\"#bd3786\"],[0.5555555555555556,\"#d8576b\"],[0.6666666666666666,\"#ed7953\"],[0.7777777777777778,\"#fb9f3a\"],[0.8888888888888888,\"#fdca26\"],[1.0,\"#f0f921\"]],\"type\":\"contour\"}],\"contourcarpet\":[{\"colorbar\":{\"outlinewidth\":0,\"ticks\":\"\"},\"type\":\"contourcarpet\"}],\"heatmap\":[{\"colorbar\":{\"outlinewidth\":0,\"ticks\":\"\"},\"colorscale\":[[0.0,\"#0d0887\"],[0.1111111111111111,\"#46039f\"],[0.2222222222222222,\"#7201a8\"],[0.3333333333333333,\"#9c179e\"],[0.4444444444444444,\"#bd3786\"],[0.5555555555555556,\"#d8576b\"],[0.6666666666666666,\"#ed7953\"],[0.7777777777777778,\"#fb9f3a\"],[0.8888888888888888,\"#fdca26\"],[1.0,\"#f0f921\"]],\"type\":\"heatmap\"}],\"heatmapgl\":[{\"colorbar\":{\"outlinewidth\":0,\"ticks\":\"\"},\"colorscale\":[[0.0,\"#0d0887\"],[0.1111111111111111,\"#46039f\"],[0.2222222222222222,\"#7201a8\"],[0.3333333333333333,\"#9c179e\"],[0.4444444444444444,\"#bd3786\"],[0.5555555555555556,\"#d8576b\"],[0.6666666666666666,\"#ed7953\"],[0.7777777777777778,\"#fb9f3a\"],[0.8888888888888888,\"#fdca26\"],[1.0,\"#f0f921\"]],\"type\":\"heatmapgl\"}],\"histogram\":[{\"marker\":{\"pattern\":{\"fillmode\":\"overlay\",\"size\":10,\"solidity\":0.2}},\"type\":\"histogram\"}],\"histogram2d\":[{\"colorbar\":{\"outlinewidth\":0,\"ticks\":\"\"},\"colorscale\":[[0.0,\"#0d0887\"],[0.1111111111111111,\"#46039f\"],[0.2222222222222222,\"#7201a8\"],[0.3333333333333333,\"#9c179e\"],[0.4444444444444444,\"#bd3786\"],[0.5555555555555556,\"#d8576b\"],[0.6666666666666666,\"#ed7953\"],[0.7777777777777778,\"#fb9f3a\"],[0.8888888888888888,\"#fdca26\"],[1.0,\"#f0f921\"]],\"type\":\"histogram2d\"}],\"histogram2dcontour\":[{\"colorbar\":{\"outlinewidth\":0,\"ticks\":\"\"},\"colorscale\":[[0.0,\"#0d0887\"],[0.1111111111111111,\"#46039f\"],[0.2222222222222222,\"#7201a8\"],[0.3333333333333333,\"#9c179e\"],[0.4444444444444444,\"#bd3786\"],[0.5555555555555556,\"#d8576b\"],[0.6666666666666666,\"#ed7953\"],[0.7777777777777778,\"#fb9f3a\"],[0.8888888888888888,\"#fdca26\"],[1.0,\"#f0f921\"]],\"type\":\"histogram2dcontour\"}],\"mesh3d\":[{\"colorbar\":{\"outlinewidth\":0,\"ticks\":\"\"},\"type\":\"mesh3d\"}],\"parcoords\":[{\"line\":{\"colorbar\":{\"outlinewidth\":0,\"ticks\":\"\"}},\"type\":\"parcoords\"}],\"pie\":[{\"automargin\":true,\"type\":\"pie\"}],\"scatter\":[{\"marker\":{\"colorbar\":{\"outlinewidth\":0,\"ticks\":\"\"}},\"type\":\"scatter\"}],\"scatter3d\":[{\"line\":{\"colorbar\":{\"outlinewidth\":0,\"ticks\":\"\"}},\"marker\":{\"colorbar\":{\"outlinewidth\":0,\"ticks\":\"\"}},\"type\":\"scatter3d\"}],\"scattercarpet\":[{\"marker\":{\"colorbar\":{\"outlinewidth\":0,\"ticks\":\"\"}},\"type\":\"scattercarpet\"}],\"scattergeo\":[{\"marker\":{\"colorbar\":{\"outlinewidth\":0,\"ticks\":\"\"}},\"type\":\"scattergeo\"}],\"scattergl\":[{\"marker\":{\"colorbar\":{\"outlinewidth\":0,\"ticks\":\"\"}},\"type\":\"scattergl\"}],\"scattermapbox\":[{\"marker\":{\"colorbar\":{\"outlinewidth\":0,\"ticks\":\"\"}},\"type\":\"scattermapbox\"}],\"scatterpolar\":[{\"marker\":{\"colorbar\":{\"outlinewidth\":0,\"ticks\":\"\"}},\"type\":\"scatterpolar\"}],\"scatterpolargl\":[{\"marker\":{\"colorbar\":{\"outlinewidth\":0,\"ticks\":\"\"}},\"type\":\"scatterpolargl\"}],\"scatterternary\":[{\"marker\":{\"colorbar\":{\"outlinewidth\":0,\"ticks\":\"\"}},\"type\":\"scatterternary\"}],\"surface\":[{\"colorbar\":{\"outlinewidth\":0,\"ticks\":\"\"},\"colorscale\":[[0.0,\"#0d0887\"],[0.1111111111111111,\"#46039f\"],[0.2222222222222222,\"#7201a8\"],[0.3333333333333333,\"#9c179e\"],[0.4444444444444444,\"#bd3786\"],[0.5555555555555556,\"#d8576b\"],[0.6666666666666666,\"#ed7953\"],[0.7777777777777778,\"#fb9f3a\"],[0.8888888888888888,\"#fdca26\"],[1.0,\"#f0f921\"]],\"type\":\"surface\"}],\"table\":[{\"cells\":{\"fill\":{\"color\":\"#EBF0F8\"},\"line\":{\"color\":\"white\"}},\"header\":{\"fill\":{\"color\":\"#C8D4E3\"},\"line\":{\"color\":\"white\"}},\"type\":\"table\"}]},\"layout\":{\"annotationdefaults\":{\"arrowcolor\":\"#2a3f5f\",\"arrowhead\":0,\"arrowwidth\":1},\"autotypenumbers\":\"strict\",\"coloraxis\":{\"colorbar\":{\"outlinewidth\":0,\"ticks\":\"\"}},\"colorscale\":{\"diverging\":[[0,\"#8e0152\"],[0.1,\"#c51b7d\"],[0.2,\"#de77ae\"],[0.3,\"#f1b6da\"],[0.4,\"#fde0ef\"],[0.5,\"#f7f7f7\"],[0.6,\"#e6f5d0\"],[0.7,\"#b8e186\"],[0.8,\"#7fbc41\"],[0.9,\"#4d9221\"],[1,\"#276419\"]],\"sequential\":[[0.0,\"#0d0887\"],[0.1111111111111111,\"#46039f\"],[0.2222222222222222,\"#7201a8\"],[0.3333333333333333,\"#9c179e\"],[0.4444444444444444,\"#bd3786\"],[0.5555555555555556,\"#d8576b\"],[0.6666666666666666,\"#ed7953\"],[0.7777777777777778,\"#fb9f3a\"],[0.8888888888888888,\"#fdca26\"],[1.0,\"#f0f921\"]],\"sequentialminus\":[[0.0,\"#0d0887\"],[0.1111111111111111,\"#46039f\"],[0.2222222222222222,\"#7201a8\"],[0.3333333333333333,\"#9c179e\"],[0.4444444444444444,\"#bd3786\"],[0.5555555555555556,\"#d8576b\"],[0.6666666666666666,\"#ed7953\"],[0.7777777777777778,\"#fb9f3a\"],[0.8888888888888888,\"#fdca26\"],[1.0,\"#f0f921\"]]},\"colorway\":[\"#636efa\",\"#EF553B\",\"#00cc96\",\"#ab63fa\",\"#FFA15A\",\"#19d3f3\",\"#FF6692\",\"#B6E880\",\"#FF97FF\",\"#FECB52\"],\"font\":{\"color\":\"#2a3f5f\"},\"geo\":{\"bgcolor\":\"white\",\"lakecolor\":\"white\",\"landcolor\":\"#E5ECF6\",\"showlakes\":true,\"showland\":true,\"subunitcolor\":\"white\"},\"hoverlabel\":{\"align\":\"left\"},\"hovermode\":\"closest\",\"mapbox\":{\"style\":\"light\"},\"paper_bgcolor\":\"white\",\"plot_bgcolor\":\"#E5ECF6\",\"polar\":{\"angularaxis\":{\"gridcolor\":\"white\",\"linecolor\":\"white\",\"ticks\":\"\"},\"bgcolor\":\"#E5ECF6\",\"radialaxis\":{\"gridcolor\":\"white\",\"linecolor\":\"white\",\"ticks\":\"\"}},\"scene\":{\"xaxis\":{\"backgroundcolor\":\"#E5ECF6\",\"gridcolor\":\"white\",\"gridwidth\":2,\"linecolor\":\"white\",\"showbackground\":true,\"ticks\":\"\",\"zerolinecolor\":\"white\"},\"yaxis\":{\"backgroundcolor\":\"#E5ECF6\",\"gridcolor\":\"white\",\"gridwidth\":2,\"linecolor\":\"white\",\"showbackground\":true,\"ticks\":\"\",\"zerolinecolor\":\"white\"},\"zaxis\":{\"backgroundcolor\":\"#E5ECF6\",\"gridcolor\":\"white\",\"gridwidth\":2,\"linecolor\":\"white\",\"showbackground\":true,\"ticks\":\"\",\"zerolinecolor\":\"white\"}},\"shapedefaults\":{\"line\":{\"color\":\"#2a3f5f\"}},\"ternary\":{\"aaxis\":{\"gridcolor\":\"white\",\"linecolor\":\"white\",\"ticks\":\"\"},\"baxis\":{\"gridcolor\":\"white\",\"linecolor\":\"white\",\"ticks\":\"\"},\"bgcolor\":\"#E5ECF6\",\"caxis\":{\"gridcolor\":\"white\",\"linecolor\":\"white\",\"ticks\":\"\"}},\"title\":{\"x\":0.05},\"xaxis\":{\"automargin\":true,\"gridcolor\":\"white\",\"linecolor\":\"white\",\"ticks\":\"\",\"title\":{\"standoff\":15},\"zerolinecolor\":\"white\",\"zerolinewidth\":2},\"yaxis\":{\"automargin\":true,\"gridcolor\":\"white\",\"linecolor\":\"white\",\"ticks\":\"\",\"title\":{\"standoff\":15},\"zerolinecolor\":\"white\",\"zerolinewidth\":2}}},\"xaxis\":{\"anchor\":\"y\",\"domain\":[0.0,1.0],\"title\":{\"text\":\"x\"}},\"yaxis\":{\"anchor\":\"x\",\"domain\":[0.0,1.0],\"title\":{\"text\":\"y\"}},\"legend\":{\"title\":{\"text\":\"color\"},\"tracegroupgap\":0},\"margin\":{\"t\":60}},                        {\"responsive\": true}                    ).then(function(){\n",
       "                            \n",
       "var gd = document.getElementById('3fc68fda-6682-454c-9b0d-a75030861047');\n",
       "var x = new MutationObserver(function (mutations, observer) {{\n",
       "        var display = window.getComputedStyle(gd).display;\n",
       "        if (!display || display === 'none') {{\n",
       "            console.log([gd, 'removed!']);\n",
       "            Plotly.purge(gd);\n",
       "            observer.disconnect();\n",
       "        }}\n",
       "}});\n",
       "\n",
       "// Listen for the removal of the full notebook cells\n",
       "var notebookContainer = gd.closest('#notebook-container');\n",
       "if (notebookContainer) {{\n",
       "    x.observe(notebookContainer, {childList: true});\n",
       "}}\n",
       "\n",
       "// Listen for the clearing of the current output cell\n",
       "var outputEl = gd.closest('.output');\n",
       "if (outputEl) {{\n",
       "    x.observe(outputEl, {childList: true});\n",
       "}}\n",
       "\n",
       "                        })                };                });            </script>        </div>"
      ]
     },
     "metadata": {},
     "output_type": "display_data"
    }
   ],
   "source": [
    "import plotly.express as px\n",
    "y_train_trf = y_train.astype(str)\n",
    "fig = px.scatter(x=X_train_trf[:,0],\n",
    "                 y=X_train_trf[:,1],\n",
    "                 color=y_train_trf,\n",
    "                 color_discrete_sequence=px.colors.qualitative.G10\n",
    "                )\n",
    "fig.show()"
   ]
  },
  {
   "cell_type": "code",
   "execution_count": 63,
   "id": "da89b33e",
   "metadata": {},
   "outputs": [],
   "source": [
    "# transforming in 3D\n",
    "pca = PCA(n_components=3)\n",
    "X_train_trf = pca.fit_transform(X_train)\n",
    "X_test_trf = pca.transform(X_test)"
   ]
  },
  {
   "cell_type": "code",
   "execution_count": 64,
   "id": "c9c198c1",
   "metadata": {},
   "outputs": [
    {
     "data": {
      "text/plain": [
       "array([[-0.76596471, -2.00564443, -0.44791768],\n",
       "       [ 1.46102019,  3.02702717, -3.73462091],\n",
       "       [ 2.24425366,  0.03686942,  7.1577357 ],\n",
       "       ...,\n",
       "       [-4.24568802,  0.71227782, -2.55288058],\n",
       "       [ 0.11608827,  0.13413336,  1.00991667],\n",
       "       [ 2.55455559,  2.4434882 ,  3.99135747]])"
      ]
     },
     "execution_count": 64,
     "metadata": {},
     "output_type": "execute_result"
    }
   ],
   "source": [
    "X_train_trf"
   ]
  },
  {
   "cell_type": "code",
   "execution_count": 73,
   "id": "8c30cd5d",
   "metadata": {},
   "outputs": [
    {
     "data": {
      "application/vnd.plotly.v1+json": {
       "config": {
        "plotlyServerURL": "https://plot.ly"
       },
       "data": [
        {
         "hovertemplate": "color=1<br>x=%{x}<br>y=%{y}<br>z=%{z}<extra></extra>",
         "legendgroup": "1",
         "marker": {
          "color": "#636efa",
          "symbol": "circle"
         },
         "mode": "markers",
         "name": "1",
         "scene": "scene",
         "showlegend": true,
         "type": "scatter3d",
         "x": [
          -0.7659647080204457,
          1.4610201888599923,
          2.244253660912803,
          6.540956692312505,
          5.625583474928343,
          4.1517724018071505,
          -0.12210846413872468,
          7.883318088267622,
          0.5960043965240455,
          -1.357643673618728,
          8.707700169023195,
          -1.0224082303563962,
          -3.658357577387596,
          10.458327297276282,
          -4.0445552924347625,
          -2.2389837154269125,
          4.449145692804175,
          -1.433537706505331,
          5.727158398430868,
          2.9956072055135436,
          2.0926156290601967,
          6.370972648065334,
          8.08500104468466,
          3.6210930717338274,
          -1.1575726245065532,
          0.011565884002900137,
          10.515512487700843,
          -5.00857112723144,
          8.685329224968214,
          7.354498655225569,
          4.6697667146350215,
          10.158467049683763,
          1.0731503853395399,
          2.8414357950563685,
          10.843065873778809,
          4.46468068879001,
          4.8696407777978505,
          4.673398311909565,
          2.3966125087355468,
          -1.401890740057758,
          0.4779029598653182,
          3.2450714261589244,
          9.843110252720285,
          2.736496819516202,
          -0.17818454387980967,
          0.09583880812454408,
          -3.382565737200611,
          6.567690988936207,
          0.3517210719336771,
          -2.6466174953263635,
          7.539461732108128,
          -0.3251005242684759,
          2.002621613655242,
          1.464719830144792,
          9.598808240630918,
          2.5930032117518746,
          6.945631251787348,
          -2.586447494311316,
          -6.8483713045966805,
          3.679049183938911,
          -0.14609153772499103,
          2.1679035840025125,
          -1.222286054929829,
          6.750868211155862,
          3.6606044111561875,
          7.623368104906316,
          9.883944991338653,
          -4.136888487079642,
          -0.4641159551210818,
          8.357020409846152,
          1.396417120507582,
          4.64997330817988,
          4.839083336161788,
          5.707019833682132,
          -0.9812024619783568,
          -2.0465409021469436,
          -1.0458812940991113,
          0.5238534867672755,
          1.2002804333240433,
          -2.07676864606873,
          1.0151307524485684,
          -2.311640994678147,
          0.902287596791155,
          -0.34520322662719055,
          1.3378417955294342,
          -1.9182881333566457,
          2.0962586075120733,
          -2.7940695032333664,
          -0.01728336232436073,
          0.21625388867633777,
          0.9408311398694359,
          -5.614310366149132,
          5.091970514184665,
          0.9667161362227669,
          9.079487485801069,
          -0.6188201589136415,
          -0.24576937701662768,
          -0.37548501375345095,
          -3.6959650428184907,
          0.8833290223630968,
          -0.010853523026129108,
          2.0842549333185776,
          -4.512962376186592,
          0.8913394240264333,
          6.120068596398636,
          -3.2840142661951695,
          1.3773858738542826,
          -2.6449835953439162,
          6.443429087461711,
          2.6694878177098804,
          -2.8215717618791354,
          -2.7409449744942256,
          7.907669678749473,
          5.001645019632656,
          -2.9164791335293327,
          -0.1068601791386775,
          -1.3626102327195435,
          1.1112233221837535,
          0.34588360115087846,
          0.9269835401699497,
          0.5984089826393476,
          10.167071429480346,
          -0.6291524287430269,
          2.914892767888854,
          1.6093205577941068,
          1.5525802786097733,
          4.14747925114188,
          3.93371646585804,
          3.258260149238156,
          1.9659214770190356,
          -3.6127140129462934,
          -2.290863512714642,
          6.5723223168014115,
          2.7531557885821765,
          0.5148032029937919,
          3.0774091187724983,
          5.299409087486577,
          -0.4766706238239977,
          2.2142729098216916,
          1.8691666233158097,
          1.1563719307219815,
          2.188879470916739,
          -1.751857656180219,
          0.24181112728246124,
          7.276523718177068,
          6.85392674355048,
          7.985191224088566,
          -2.2252781519776623,
          2.160745096837592,
          2.1740968270432166,
          2.3671811124893445,
          1.2111437269474903,
          1.5557672338018005,
          -3.0313106396334843,
          2.3963676996549523,
          2.704790542602508,
          1.540601281564994,
          3.7976122873648115,
          -2.8709699984987043,
          -1.6592509232023605,
          3.089121914669997,
          1.8704370277652533,
          3.339917619790184,
          -1.283442720669764,
          0.12479298209827308,
          5.784941966388331,
          -0.7942445178738015,
          11.438005439088947,
          7.178603839526379,
          7.7673336182275925,
          1.5612290977436798,
          -5.104801021135682,
          -3.929124044666156,
          0.6762571201394098,
          10.12695581856916,
          -2.2856967164779864,
          -1.2269754709948626,
          0.2366781473696921,
          9.457685975550742,
          0.020816346202259,
          -3.5928905851879596,
          4.318731157355297,
          3.501359562552126,
          -3.600531436527818,
          6.704166074025415,
          -0.6467583793435261,
          -0.5641797096168744,
          -1.562406189038134,
          -4.224039687315823,
          0.12584487864775962,
          2.5214581304736123,
          1.8981292182949023,
          2.048649534411909,
          11.17184566030362,
          3.8529473955414595,
          5.053766702030821,
          -5.341721330340616,
          6.333648469377967,
          0.6327439654840519,
          -2.4994690947006917,
          -0.6162006715355142,
          7.727026651322186,
          2.005755076603852,
          3.554820597544567,
          0.2684460754143597,
          4.802733263287813,
          0.9336911787081632,
          -0.5689515718756374,
          0.3921490077928472,
          1.7804990309150932,
          1.6133306560000311,
          3.0695132734685333,
          2.075362152652841,
          -4.784218439202852,
          4.344439977842378,
          2.7427332082857356,
          0.5858437416338356,
          3.0223695659482246,
          1.414884004206848,
          3.095804764564165,
          5.819411884146202,
          -0.8501692677085338,
          -0.43079029336432184,
          2.3084747373665984,
          1.7236186183873679,
          8.643023841220517,
          -2.951175868342759,
          -6.929559010948751,
          -2.0877091426270082,
          -2.5064142533209695,
          -2.542223372134143,
          2.6024542291787554,
          1.933392982273438,
          -3.29376764233141,
          -1.497220540808093,
          3.379308633954563,
          1.6883378368210944,
          5.6970865872833825,
          0.6727261393055183,
          2.943944700452895,
          1.382571963578492,
          -4.152271101694181,
          9.251609839316313,
          -1.826780451380712,
          -3.454486203399727,
          2.4029044385666114,
          0.8272141904444448,
          -0.5847599475912795,
          6.458841720514063,
          -1.492001541208246,
          2.914645887650062,
          8.422388446239244,
          3.053631095795804,
          -4.869180975965988,
          8.865777694863887,
          -3.064504050351975,
          4.320917800295734,
          0.5802836431491185,
          -2.0681072801830402,
          2.0385795284504633,
          8.162573189660167,
          2.6529576453429096,
          0.45388639904336614,
          9.331336178749277,
          0.5034388898193212,
          -5.565054544555325,
          -2.4175214053494267,
          -0.2096072684009727,
          5.205422648586874,
          -3.407248581483584,
          -0.6510128465991313,
          4.207836517812657,
          5.710131738097381,
          -5.447032364569946,
          5.307586644028283,
          5.116693340882927,
          0.8096451575377774,
          0.7542179200172372,
          8.222137081545233,
          -5.331706482777278,
          2.431973888697001,
          -2.2605660353689405,
          -2.064152092555262,
          4.837048152761406,
          0.7093254985426127,
          0.6203891113506065,
          -4.229990178886551,
          1.3501027176882907,
          5.7785792997045915,
          10.131750812498893,
          -0.9618388025421785,
          -3.2464149009479546,
          1.9547812675593597,
          -4.203801512496847,
          4.910134806917413,
          9.486389777353626,
          -0.23166565829650085,
          -0.46707585790887324,
          1.4907038204331289,
          2.6692425238411346,
          9.096449780095448,
          -1.6852211155334706,
          -0.05960504668858222,
          5.343191217693101,
          4.07606222811434,
          2.6693153412013593,
          2.6629490118190033,
          -1.0363717529980316,
          1.085203713691479,
          0.8264337203643974,
          -2.30145125798899,
          5.083408166826723,
          -1.4078158658413298,
          0.42849836744872394,
          2.0486450887580263,
          2.3827689291197305,
          0.3209683615390792,
          -2.7504655470257533,
          -2.0554079397102383,
          -0.4761949969435989,
          -1.7735398403464724,
          8.03459544050053,
          -6.816198174201655,
          2.423496523103617,
          -0.2724761558626136,
          -4.0627394844453795
         ],
         "y": [
          -2.0056444331505303,
          3.02702716796002,
          0.03686941674339107,
          -1.4888916225873872,
          0.3662267475687361,
          4.667834630823014,
          3.8231804659411064,
          -2.2352169330047666,
          3.7917463155457765,
          1.6328028150922098,
          -5.1893777933814675,
          4.323882143577383,
          4.1351793156624055,
          -1.9397604351163618,
          1.1336863996247897,
          2.8320897190046135,
          -0.36706542799352704,
          3.238218723878208,
          -0.24475940634945678,
          4.729984010571093,
          -0.7722416117148959,
          -1.974403753414593,
          0.6682246696810236,
          -3.0631021098679154,
          3.5951538711165645,
          7.211626599509514,
          -2.3034361684817752,
          2.3840424011204493,
          -2.2450599367798003,
          0.5052510625429351,
          3.194262162516927,
          -5.200303254868376,
          -0.05704393531566144,
          -0.08384127520405757,
          -3.5591348719818754,
          3.7635315348746703,
          -0.8194492360885562,
          0.712079611512292,
          0.7232076566254124,
          3.96910920107249,
          4.604838870860912,
          -1.6951172361570044,
          -2.886366139220687,
          4.435857016513641,
          2.200833902984512,
          5.314269300358197,
          0.549425044354363,
          -2.827231015123657,
          6.500125272997757,
          0.3794388956997452,
          -5.6827910933297145,
          6.865946219514955,
          1.8187315172283678,
          5.8188984246561635,
          -3.458519712106174,
          1.6244977016750308,
          0.3147949637413438,
          3.6864193028785004,
          6.188075914221316,
          -0.8536866938036907,
          3.464726692879902,
          -0.9562785106607898,
          -0.4178247462568727,
          -2.4377494046691326,
          5.911214127542364,
          -1.0092379217616096,
          -2.1889585139127528,
          5.28258213666006,
          -0.7784168261436151,
          -1.4270132352262417,
          6.120022185465887,
          -0.6104092729930107,
          1.674471812470505,
          3.0106266508346926,
          1.286933433046762,
          0.18958312284241613,
          1.040383042149508,
          -2.977967095258005,
          2.906762932818057,
          5.015589037745813,
          7.192584645801586,
          2.546658295390722,
          1.8631296811583533,
          6.4193822873591,
          1.2172187756298738,
          7.031326990311412,
          5.324974926737428,
          5.16826244501334,
          2.109534694139601,
          2.696118424437857,
          -3.91825226301218,
          4.0102371391120055,
          -1.8467819439716184,
          3.5526892082656327,
          -1.8389337675380688,
          3.1847058062546307,
          -0.6746690846302014,
          -2.3019103344503775,
          5.930593686818557,
          -0.011192935477306142,
          1.067464608253558,
          4.718153511986291,
          5.535726706046907,
          6.634686212196455,
          -1.3997585169540163,
          0.3429224733200073,
          5.495903791901438,
          5.502655880428567,
          -2.6414853915632457,
          2.688457913520066,
          4.373539225651825,
          0.961282029062766,
          -1.8489510190566387,
          -3.989668832031524,
          1.8922282209947638,
          0.8880599128615588,
          4.213356054844075,
          -3.173187805138339,
          5.678406165715822,
          3.680278106068944,
          0.2030502977788118,
          -6.4882026275521305,
          3.7752441441033295,
          -3.3739501248765786,
          0.7613326102856756,
          3.007651410781369,
          0.9176338264756642,
          2.3283843304937877,
          1.3726185511101672,
          -3.750373599158127,
          2.855769908291976,
          4.02950817662731,
          2.0847341477791135,
          1.768597500385209,
          4.138494374907559,
          2.5891096736573522,
          -1.7435827448518346,
          0.9317522398297651,
          2.133322625307148,
          1.3002499600413528,
          0.07960561927045032,
          4.020203434677221,
          4.641332323377863,
          0.1730989924925888,
          -2.0185432815114184,
          -0.15898610273415203,
          0.1806402831340037,
          1.5130414298432016,
          3.566250726215282,
          1.1393644645780925,
          -4.543379269592101,
          5.360130860535549,
          2.3678477981729382,
          4.998221942090025,
          0.1794441075130675,
          0.6353401984560433,
          2.739804439004202,
          -3.3669003789692775,
          3.514411011567301,
          7.912275975722568,
          -1.9640619930673069,
          6.914241523555551,
          2.3606049409755294,
          3.456221709458808,
          7.453828857953218,
          -0.7710482772372667,
          3.5401045305150687,
          -2.525042980366701,
          -2.1228271553090554,
          -5.024536078887081,
          3.9726771500016063,
          5.324679184434071,
          8.606264817275829,
          2.6770458705699176,
          -3.6031942550039977,
          6.086793772684722,
          6.592546967109814,
          0.8205133457502095,
          -0.4993943507990075,
          3.6097138270465017,
          5.782506348787165,
          0.14673625964077924,
          1.7322832551773693,
          3.4236777107445895,
          -3.5644981163534952,
          2.847749511694416,
          5.610581510259557,
          3.5900949432915543,
          0.8271423569067242,
          1.9720665918838907,
          1.7548412652600192,
          5.884260720003994,
          -1.5542651078572665,
          -4.322841314676765,
          -1.1995690791040912,
          4.51476037559035,
          9.43066463442386,
          1.9607946744276739,
          1.5491937658183446,
          2.932098486609002,
          -1.5366221780457625,
          2.448105636564797,
          2.0277718335339006,
          -1.126335626808994,
          2.9982174476986803,
          -2.759516112001179,
          -0.11384330390140014,
          -0.19896450090250548,
          2.3750180613618084,
          2.105376788266717,
          5.517800110877173,
          3.20964391970258,
          4.356698698322984,
          5.600064262467655,
          -1.295875292198915,
          -2.676338800531942,
          5.498411697717096,
          -0.9600600045309714,
          0.07164273846563504,
          2.0946356284517758,
          -0.6934669604852133,
          3.65011647545735,
          3.295432787313552,
          3.5912725217729253,
          0.5349762869940496,
          -0.8823829636155894,
          4.267396464734145,
          4.1987593243103625,
          0.07455122252076832,
          5.690133627381616,
          6.176724032107248,
          2.6589675710036884,
          4.436879872395764,
          5.374154686831083,
          4.660099194490037,
          -3.6955747030831936,
          -3.8620394065317987,
          -1.0656450501698473,
          1.0440852083359302,
          0.4213423112278683,
          -3.150271298146618,
          2.497334297596623,
          -2.4104169206961727,
          3.4482352510926018,
          2.4870759955169373,
          -1.8187770378138735,
          3.7362942240851424,
          8.303967984285068,
          -4.325546797419453,
          5.1749496055568365,
          1.5446734580799972,
          -2.379151080655506,
          4.72107982391703,
          2.1753112350913413,
          -1.121466179606473,
          5.843658476709782,
          -0.4109888750738987,
          1.5186815497764932,
          3.850635445414245,
          0.19942882577352603,
          -3.809527196709562,
          2.149176842943876,
          -1.5819771872574129,
          -3.9835752325484393,
          3.2290409007971785,
          6.250017632644901,
          7.286796982639104,
          2.746848966908638,
          -1.045885383224723,
          2.1849015844196193,
          4.388334105328657,
          0.18498367487284045,
          5.646584282687537,
          6.67694785751373,
          -4.073011611387426,
          0.5363071128693009,
          6.674651604020189,
          -0.1768010041556241,
          -0.20325953110723122,
          3.9220366737008354,
          -1.045445510299005,
          1.086871566237043,
          2.9737789959373617,
          0.8434317433981766,
          0.9671738551302328,
          6.8528197991199455,
          0.00021072923120753545,
          -0.25027985706276634,
          0.5047990838276608,
          -2.4073178025486737,
          2.42816102640298,
          6.436756854895445,
          3.94532842476211,
          2.6286126073463456,
          -2.0480989468523543,
          -3.147988277557983,
          4.58771013299897,
          -0.9489098826481298,
          -0.9247000918179875,
          -1.2014575378694774,
          -3.6208014730599314,
          1.4296792975715853,
          0.3409732820996735,
          -0.6996912727288813,
          2.8707701898211853,
          -1.1685340585706199,
          4.992027981317262,
          7.678376050083953,
          -1.2844930614272814,
          4.139551563069686,
          4.714715971906149,
          -0.13643793651617622,
          6.641869082275368,
          8.892578930396402,
          -1.200821944999608,
          -1.1260399153888472,
          0.6909505301567612,
          5.592338033621649,
          -2.885290044817585,
          0.838113710715588,
          -1.3302072048695919,
          -2.576558791684732,
          1.1215195066130588,
          0.7412647498137281,
          3.0226942395763428,
          5.955110779016498
         ],
         "z": [
          -0.4479176817420426,
          -3.734620911062324,
          7.15773570199817,
          1.5979194000829913,
          -1.5946079077272974,
          -0.6393339117429644,
          0.41192442511106714,
          -1.4824707969685262,
          8.39148297040787,
          4.276446683624313,
          -0.4576977312258732,
          -1.1240222229981596,
          -1.852343338490181,
          -1.097370002974075,
          4.794347139303887,
          0.9938681619638305,
          5.6584826288516465,
          8.118125098895737,
          1.562226156814512,
          0.10493474623714091,
          4.189276747036291,
          -0.289242631308316,
          1.4756525220208923,
          0.8900768616802743,
          2.281211976790591,
          -1.4662871367035208,
          -1.14857562067205,
          6.763173799332543,
          -1.2164981307809513,
          -0.7390115315197298,
          -4.662533792000096,
          1.5942021366644863,
          1.9599879809357919,
          0.12549820814006302,
          0.18169363348854028,
          -0.016592725059858166,
          -1.6642092438171143,
          -3.477785905303396,
          1.4810097380477882,
          -3.865091473841956,
          -0.17552920925799528,
          1.3711619980070806,
          -0.6141623778872679,
          -1.6939870673971746,
          1.5342169973364468,
          -1.283957533275733,
          2.3527653883170556,
          1.49491391800544,
          1.8816156243512692,
          8.527966203700169,
          2.1997277065557546,
          0.8065270728113882,
          0.5427894777921229,
          -3.2656743448940437,
          0.09556370127188611,
          1.0413704184428043,
          -0.6215060646868215,
          -0.18333987017776782,
          1.5110033955429099,
          1.3361842792616998,
          2.3135374441908123,
          7.877581102065373,
          1.4884679240461904,
          3.1541817197970325,
          -2.3340267130379164,
          2.2040447208001397,
          1.70394890548338,
          -2.948959477344051,
          3.439775413709981,
          -2.3336613130997326,
          -1.5136862914199216,
          3.5683907477306898,
          -3.2529202689175394,
          -3.6037197441860327,
          0.8284832685027756,
          2.4752311584305127,
          4.545979712888091,
          6.697071291448769,
          1.6260747240420006,
          1.5570392364753558,
          -3.333030364623803,
          3.930412470327557,
          4.127684044123772,
          1.1164828980670143,
          0.11790569834673795,
          1.9342437218523603,
          -7.654054404636687,
          3.0502565469426512,
          -3.0117645158343356,
          2.8766541047894516,
          3.938252826537928,
          0.47946713445598915,
          1.3424893835232274,
          -1.6637972703583805,
          0.43276670312545695,
          -1.215877171522395,
          2.1112317058622314,
          0.6082287491365397,
          -2.3252577197840467,
          3.252820648792751,
          1.854185062542133,
          -4.1815231848744325,
          4.605615375660651,
          -2.8912044271231876,
          -0.8573364044635432,
          3.4918300414536585,
          -1.4587047810972888,
          -4.225898667663882,
          -2.6238719359952722,
          -0.2171633609482388,
          0.18753850557584908,
          2.2962740329977445,
          0.28729180035165364,
          5.271489726920039,
          2.991859177248695,
          5.479437165938339,
          -0.917832799523213,
          1.3511468202069368,
          -6.705282160183911,
          -0.7170238330425485,
          -3.2452196166934293,
          1.438225233696731,
          -3.0589717615780248,
          0.17348764240075223,
          -0.2459646397548695,
          1.0881784236633396,
          -2.3364892516345526,
          -4.364721521666601,
          1.2769150840213153,
          -3.664629748966469,
          -1.805034656123337,
          4.242181756990115,
          -1.2610784537773456,
          3.705879198480468,
          1.4336837503326265,
          -4.236353640662754,
          -1.6402932926403573,
          -0.7116576741354267,
          -0.9345103317787382,
          -0.9523071164140753,
          2.230375060744421,
          -4.048913732730835,
          -3.8503253373067734,
          1.4240898528425407,
          -3.7000964226959576,
          3.484904157231389,
          1.05092320230547,
          4.1827911541487435,
          2.0975641243041263,
          -3.901650337374819,
          0.49360287731461483,
          3.8198748619776786,
          -1.4382981521161107,
          3.2516529527294997,
          4.332222143940737,
          3.8296365078733974,
          -4.131648404438748,
          -1.673447101105729,
          -1.0811775342413779,
          -1.7650953522502058,
          2.804396238398493,
          -2.701066584976047,
          -0.8161306882727698,
          4.427064338819551,
          -4.53242660539685,
          -1.3841166963241318,
          -0.7561718872743578,
          -1.4800269975689102,
          1.9260711958667647,
          -0.4576397309354817,
          0.9406471172645116,
          -0.8725318997193896,
          2.090662299975236,
          -5.7159826682687305,
          1.1467010538286286,
          -6.400084259721251,
          -2.6584531742178283,
          6.343770125348214,
          -1.1090034286587136,
          -0.5033196850655061,
          -0.401907067783343,
          5.948802404267175,
          5.040186029513323,
          1.267742568665435,
          1.0926373051632567,
          -0.17244695390733086,
          -1.9553877011490277,
          -0.026713262883598904,
          0.15039306050617726,
          1.2120768256550591,
          -3.7333753805085976,
          2.0996852777532182,
          0.4048159116027733,
          -0.11837068303029151,
          4.375606358048205,
          -2.3452346348546858,
          -2.1479100570586134,
          -0.6126557222284412,
          -2.849382911484536,
          2.1705481390561103,
          1.90844166641127,
          -3.7241206564117437,
          -3.5841495508112096,
          -1.024836624622094,
          -3.976944612827065,
          2.5774148259838863,
          -4.430927701337418,
          2.391745403162045,
          -0.8366051099642043,
          0.13128055880790837,
          4.9694880678796505,
          -4.8715681777821285,
          3.234320038644431,
          -3.2105710406742363,
          1.8201410683344272,
          0.7908137852419748,
          -0.48651637986080437,
          -3.447728431230668,
          5.290591386224756,
          1.6659983097818152,
          -1.2112960559173358,
          2.4288209647232515,
          5.9556654235888855,
          2.262397017655653,
          2.8239523813904235,
          1.798279576216099,
          -0.26247894345711664,
          1.1207123543845978,
          1.0852816719946417,
          0.773511358258736,
          6.517803289596047,
          4.301030501410274,
          1.1595131149467655,
          2.53003782858783,
          0.9398509947739517,
          0.007127668685775817,
          4.5257336549042275,
          -0.0601208423548423,
          -0.7947408152407958,
          5.58381662617516,
          -0.7588612810579844,
          1.4534742725568013,
          1.3736186785308546,
          -2.4971405130565274,
          4.7111482300899015,
          6.394978786752265,
          -2.3953206084839276,
          -2.9085964956737347,
          3.3730405230995992,
          4.0846479762088785,
          0.3016675232981942,
          -0.5074465631865955,
          -4.042392929933614,
          6.623130585803879,
          -2.819099316152263,
          -3.076923969327807,
          -1.0354250553398494,
          2.5232566538686383,
          -2.895108376410107,
          -2.970046659857013,
          1.483219802694008,
          -0.026996816468105568,
          -2.996837476385743,
          -0.28007768652229503,
          3.6621816008241006,
          5.500758821232264,
          -3.9171403185727676,
          0.26845155322676967,
          0.9633086768586068,
          3.235362631023761,
          1.9995554563365419,
          1.4605076737034701,
          1.6748385954269356,
          0.8803134932603638,
          5.101591651912349,
          -1.0325487693542132,
          -1.6625942012081183,
          -1.4301070041496553,
          -0.19797234077466583,
          2.248720254333526,
          1.3891562294979216,
          2.589784643582483,
          6.4355167679533825,
          0.7894114653759325,
          1.0057687410597174,
          -3.2126684954429074,
          3.9900849004211882,
          5.227050041968638,
          -1.4555368298709925,
          -1.4804025751729575,
          1.8494213402007924,
          -4.65862746975069,
          -5.330330594253974,
          4.446818052110705,
          1.1566925519318294,
          1.1909942409896235,
          -1.5799054007340845,
          3.3300506776223027,
          1.5875398439559023,
          -0.12485814335313751,
          -0.5959413575515442,
          -6.28540643620728,
          1.2070389756993762,
          -2.1952173088664075,
          -0.7690027171653516,
          -3.202858646230453,
          -0.8893843731651897,
          0.8172645163507716,
          1.2331278865019089,
          2.969279315506815,
          -4.479048685665496,
          -0.4356441311832846,
          -2.104279201539586,
          -2.8158575147980347,
          1.0754192587325622,
          1.5962192994528441,
          -0.03382203936966206,
          -1.2152516015022614,
          0.5687260154697648,
          5.072507010048003,
          -5.4150918676319995,
          1.8488618175151055,
          3.6742606098553567,
          0.7130589435102808,
          -4.735409834894755,
          -1.313182849218983
         ]
        },
        {
         "hovertemplate": "color=0<br>x=%{x}<br>y=%{y}<br>z=%{z}<extra></extra>",
         "legendgroup": "0",
         "marker": {
          "color": "#EF553B",
          "symbol": "circle"
         },
         "mode": "markers",
         "name": "0",
         "scene": "scene",
         "showlegend": true,
         "type": "scatter3d",
         "x": [
          -4.02042258462719,
          -3.7590654542333106,
          4.420808887964341,
          -7.653137361432691,
          1.7822094298648337,
          3.3949818034353267,
          -6.277225731610782,
          -1.9050867969491339,
          -4.763492364578103,
          8.066299926018344,
          1.9937206411511945,
          -0.15193085139691287,
          2.6028745124540613,
          4.696195639299372,
          -6.5396775609517634,
          -8.270971526786713,
          -7.098691615571581,
          -8.834930753632884,
          0.9734299456849,
          3.4638479180630153,
          -5.662740002187818,
          -0.8421455489614642,
          -7.673600181908972,
          0.138919928559679,
          11.016988131807224,
          -1.3063657816327388,
          -4.866243488443,
          -5.991919403346018,
          -1.3346865096358702,
          -0.285332847739307,
          -4.147770139839557,
          -9.433105584452324,
          -2.4912915511573503,
          -4.209633920498797,
          -1.7709280766678692,
          4.58333620352965,
          2.968559243606945,
          -4.297258606508424,
          -2.880408757660179,
          -7.975298549905389,
          -3.7192171712033475,
          -5.462162843789749,
          -0.26798864712325554,
          -6.752591496363819,
          -2.321900818989409,
          -4.1332925316427716,
          -0.19276528403166693,
          2.031307229112837,
          -6.367988210649118,
          -3.838516154504482,
          2.480652021238518,
          -7.239156903026991,
          -1.230034635143742,
          -8.455637120671094,
          1.8431545964170686,
          -1.4518277775535684,
          -8.362190972285049,
          0.7195927612226152,
          -5.441685851073525,
          7.796325316749275,
          -3.947219766567115,
          -6.608274914623589,
          0.02148683297671405,
          -0.33210880037330914,
          -2.1074132397176246,
          -0.3633030466313708,
          -5.557908851889106,
          0.6677466471336484,
          -3.5610937909415306,
          0.5187647387162647,
          2.70221612178705,
          -3.6090291544474815,
          -7.056142228325128,
          -3.835846118229629,
          -2.369593472366086,
          -2.441014466595777,
          -0.2659496108408722,
          0.673891677578614,
          -4.6601595699672265,
          -0.25481680321585354,
          -0.02380341350930803,
          -5.842147422229321,
          1.9537740773263776,
          -6.209206980808133,
          -3.4364253416882007,
          -6.180802104278195,
          -3.3136211145114736,
          -2.121288080793976,
          -2.140775878140679,
          2.6760723962349857,
          -2.7964573883450607,
          -6.372919137285926,
          -1.7604587079591485,
          -6.70364227075439,
          2.114185230903015,
          -0.766431735518667,
          3.5769008961517628,
          -6.098150444667284,
          -6.121506938908416,
          4.269195279686918,
          -7.693554459754305,
          -1.8740900967384702,
          0.5478208807663787,
          -8.435609296144023,
          2.463565066947932,
          -5.212452099836147,
          -1.27994011622625,
          -0.9621331949825732,
          -0.657401374749465,
          0.8840710188190796,
          -6.7061055669881,
          2.361720603635808,
          -8.111708909823731,
          -3.426294153355065,
          -1.7646380287987076,
          3.4442294077811764,
          -7.082586457309227,
          -3.5376330894590304,
          -1.785402453169562,
          0.7536011992887134,
          -2.920405484066199,
          0.4009498990300345,
          -1.0396514309137461,
          2.008903845575702,
          -6.239743364480067,
          -2.869058611847901,
          -1.760166594361348,
          -6.781980915510293,
          -2.950562462725404,
          -4.660328257013922,
          1.0605462415778135,
          -6.733995247098266,
          2.8875431021267133,
          2.7043649403801426,
          0.3283317528945008,
          2.734259972932494,
          4.062162555093934,
          -3.6379529468020024,
          1.5826664942572612,
          -3.32445774558605,
          -2.879207863005476,
          -6.759295354182272,
          0.3404653512214524,
          -1.2705840352761595,
          -1.694460678901139,
          -7.975491090499753,
          -6.716626511589156,
          -3.621018004220413,
          -1.0464023853129814,
          -6.588155535426787,
          4.854462154726781,
          2.5442396413388138,
          -0.2480826631698279,
          -5.5839665115061825,
          -0.1469642507358701,
          -0.3210871442451196,
          -4.888416147851227,
          -6.452309645537429,
          -1.774114644115554,
          -6.191516745844805,
          -4.06060308548556,
          -2.593785660397105,
          0.39559445782669816,
          3.783800759950948,
          -0.8316131838189632,
          -7.490495204217171,
          3.856868431644161,
          -2.23259566493218,
          1.996446409922831,
          9.24199261238774,
          -4.444037577002462,
          -5.312740911051241,
          0.011802667996414856,
          -3.340422276985789,
          5.871447083516217,
          -2.071537909732527,
          -3.9542109688842246,
          -7.02019462176868,
          6.703588474745818,
          -6.159193892777717,
          -5.618935229799448,
          -3.0247099150518335,
          -7.069780269077211,
          -2.385248236644444,
          -1.6461628262759453,
          7.293294216963744,
          -0.8541221627308869,
          -4.039516855058111,
          0.30510864023064865,
          5.6996668683055525,
          -1.69180670292955,
          -2.5596413061572765,
          -3.417432406534488,
          -0.17637993282841719,
          0.42519249303324896,
          -0.8491888705925356,
          -0.3612712051411966,
          -0.7051708621969636,
          1.4914499338463156,
          -3.7284531737105184,
          4.412364208859495,
          8.026215548551715,
          0.6678681899201442,
          -4.9698701471608935,
          -1.31513466152551,
          -5.968164125079549,
          -1.7901053594100476,
          -2.479770704431863,
          6.2435106353952055,
          -4.145889953175325,
          -1.2688580981556608,
          -6.551575487847534,
          10.123148661778101,
          1.0771424578790119,
          0.7570153928703021,
          -2.1254874001396833,
          -2.979875593511628,
          10.718704556467486,
          -4.901348393197646,
          -3.7101866076077217,
          -7.99308293335798,
          0.21297668879880757,
          -6.630198465899284,
          0.006243634335538076,
          -6.1436384083815065,
          -2.628891838461482,
          -7.529624854987252,
          -3.848574276845738,
          3.1152918623313504,
          -0.7990044750836671,
          -4.123711002390237,
          -1.4378365458258462,
          2.072658345316866,
          -3.0756924286227942,
          -4.697997052441056,
          -2.8025127005843595,
          1.744809233950043,
          -7.572979263172433,
          -1.7075515559689531,
          0.49182905771053864,
          4.298735485411294,
          -4.463114356742246,
          -0.37638529391064696,
          -1.6669223577581949,
          -7.416696305408754,
          5.799836830311483,
          2.337155349612973,
          -6.506516736503198,
          0.2705088920813079,
          -0.4378027786637574,
          -1.3263011541819167,
          8.604487651449206,
          -5.007085408422315,
          -5.212545125117001,
          0.7418037187602773,
          -0.2823610508604127,
          -3.7488232392365903,
          3.2249271924268514,
          -3.527253711640269,
          -0.9765968976102176,
          -6.025245645962607,
          -2.0930493774899728,
          -1.7639333932220955,
          -4.231808120275872,
          2.1042333054873543,
          0.5070768266080249,
          -3.9518850019672573,
          -6.965398112697602,
          -2.9355536318000137,
          -1.6473149069560709,
          -6.059794494254573,
          -6.758100901923765,
          -0.8413683338347193,
          -6.301464380063161,
          -4.439470053203544,
          0.38287304142966644,
          -1.2725294486709986,
          0.054193651815073775,
          1.4367085545151455,
          -3.508519912758581,
          -6.331946640432015,
          1.8359370803615505,
          6.697199557879787,
          -7.668562577812762,
          4.090920123470279,
          -0.5608347876173058,
          2.4034834975073447,
          -1.8461026219121321,
          -2.9207679979025114,
          1.8036209662224207,
          -5.6624365475747425,
          -3.3540010020101603,
          5.019648800479609,
          -2.1187916549561496,
          1.9623507648769865,
          -1.841950245342233,
          0.2936929180097073,
          -2.214922689605115,
          -8.257799904573135,
          3.7250052986349047,
          3.8915699431171165,
          -2.148970208677446,
          -5.183766497701945,
          -4.1679123559766875,
          -0.6981968771666556,
          -5.364493986796618,
          -0.42179696574270437,
          -2.322142458552354,
          -3.049025371220121,
          1.945022867706453,
          -2.4823576344484968,
          -4.979465545431797,
          -6.175396788427634,
          -0.4481210913650032,
          -4.111551129957759,
          -0.29757870550309734,
          0.07963944297557218,
          -4.725369547330521,
          -1.8940228181091054,
          1.328142383104083,
          4.3945029785687275,
          5.739489363642021,
          -0.9036744910414644,
          -4.245688021629588,
          0.11608826795759401,
          2.5545555898489503
         ],
         "y": [
          1.9196840879705916,
          -1.6907379973510965,
          2.2565658169972984,
          -3.7749993123177874,
          1.0721168480988355,
          -3.6542740697311027,
          -4.4355879668847065,
          -2.524661677337773,
          -3.525777087769231,
          0.01758499052853036,
          2.4116359112725587,
          -3.0708294717020705,
          1.5090084975560136,
          0.342582205041368,
          -0.1894088034637985,
          -3.057283103431219,
          -3.656048017356147,
          -2.311691985143998,
          0.29794549224099326,
          -3.4610655946437032,
          -3.579049624069751,
          -0.8882781820716237,
          -2.1359212414173916,
          -5.436186127317473,
          -3.9608245010165257,
          -5.6189624620424015,
          -2.5393970038494227,
          -3.6573038845749566,
          -2.3132346501714443,
          1.8032507553932642,
          -4.793379490090053,
          1.337556773032775,
          0.7855021064259645,
          -3.221557338062295,
          -2.269386055559739,
          -2.872662273898427,
          2.635098901517476,
          -3.1195409757527885,
          0.0442564233027882,
          -1.3432013813276158,
          -3.0632443347757072,
          -3.3080190763646913,
          -1.6085891855855592,
          -1.509761648949125,
          -2.348996444445452,
          -2.4872434424852057,
          -3.0446736427371137,
          -1.2556301852593523,
          -2.507056285851906,
          -2.4313718674064027,
          1.6881123501630604,
          -1.8198131851173636,
          -2.5092913946574122,
          -2.0316864998842874,
          0.9078273406193579,
          -2.01932201920129,
          -0.2168692249967412,
          -0.46191779262885935,
          -2.3958034697192314,
          -3.385781821649583,
          -4.473644562936501,
          -2.8228248796296405,
          1.1330927296511768,
          -1.179015014235472,
          -0.37348450980231124,
          0.5381024050999198,
          -3.2748371886441827,
          1.4659033245542001,
          -2.3615365564556337,
          0.1310895624840457,
          -1.4079394852311906,
          -2.434169950982855,
          -3.392184572176819,
          -3.7846988131055688,
          -2.352636389418049,
          -1.3880635234426824,
          2.318096655454095,
          -0.04092318822298557,
          -4.294890028522191,
          -1.5495410789839323,
          1.4288670183521224,
          -1.9082166146913746,
          1.657488132579531,
          -4.111128835320456,
          -2.538686101961251,
          -0.3748212229358883,
          -3.5786106962204998,
          -2.700605501320792,
          -2.2623887041896236,
          0.45901865236982076,
          -2.0858998118303753,
          -4.289813364232373,
          -4.891690810170181,
          -3.230605559549571,
          1.852021428991713,
          -0.1735181017955913,
          1.3531701071897508,
          -2.824206728777677,
          -2.302843352816444,
          0.2452730268255193,
          -1.1873910261758305,
          -2.712886835025198,
          -1.2519735082385661,
          -0.11030297775208135,
          2.2757202160794456,
          -2.98066252749322,
          1.9983761038663392,
          -1.362847028303853,
          1.5761427359634748,
          2.0954771368915392,
          -1.2214863465013335,
          -2.90106037110448,
          -3.0575488281821364,
          -1.3287053426694582,
          -2.090611363484457,
          -0.3990288889642142,
          -3.3215621413108543,
          -2.278891045888949,
          -3.038423265031135,
          0.6346834285144795,
          -2.656205540186762,
          -1.2890359708982622,
          1.5634330235324025,
          -2.5343141678588523,
          -4.1749068615552,
          0.07280328746395372,
          2.204779429924,
          -3.4816718335783428,
          -1.3683832101400484,
          0.6749166424845706,
          2.3544823026466584,
          -3.625831298852249,
          0.3705120456942415,
          1.396753314122206,
          0.26165048264748275,
          -2.7288648774640905,
          -1.6049371351115862,
          -2.4831996840620953,
          -2.470885704372536,
          -1.0725755847505143,
          -2.642341811814201,
          -1.5513345865269075,
          -0.4181295463919251,
          -2.0852977148431866,
          -4.997392733346201,
          -2.1182022324454524,
          -0.4667645361621241,
          -1.632371434118419,
          -3.729205832100673,
          -2.418144981736464,
          0.5862788755798631,
          1.306133822012406,
          -3.0092409989076048,
          1.8052507532702793,
          0.1716819322318305,
          1.5331390357667305,
          0.4874023581473518,
          -2.5171836454496606,
          -2.2462536980825023,
          -4.074181163922589,
          -2.520561694048252,
          1.1289309918313493,
          -2.2942372828171256,
          0.04694415747272333,
          -2.881366533737519,
          -2.6418741051871457,
          -0.10773318006559497,
          0.5894603949701726,
          -0.285871412072247,
          -3.6166572223425306,
          -3.1456246052100836,
          -2.8967526130354733,
          0.2541285535360482,
          -3.349993971085326,
          -1.582978981686523,
          -2.329888528480349,
          -4.516891409874537,
          -2.3195883984241163,
          -3.279630394286881,
          -2.994829026114362,
          1.8036816769310453,
          -1.9694744016731531,
          -3.0083569593475765,
          -2.19407729502605,
          -0.6252951044747741,
          -0.043067822333158465,
          0.760295001131476,
          -2.836524654652599,
          -3.105895065495829,
          0.4526204232378449,
          1.816583514387925,
          0.6395706974267331,
          -5.116397025352035,
          -1.6361322333473634,
          0.9188408237568974,
          -2.6242122342924277,
          -2.709386663247096,
          -2.7164606176399158,
          -1.6195752765935607,
          -3.3427302479229386,
          0.30286179717343314,
          -3.6454442706090604,
          -0.6167556377682104,
          -4.240760761165544,
          -0.18078164632677063,
          -2.322004637283509,
          -3.3790150438872275,
          0.14537635589196365,
          -3.4347738248034396,
          1.0400501792580168,
          -4.302866362843223,
          -3.194105527979246,
          -3.95416146212515,
          1.9628136974390054,
          -1.241721930928518,
          -2.13172785518181,
          -0.7020610315422205,
          -3.9020497702490142,
          -2.766262632274334,
          -2.56805220297443,
          -2.781826018066358,
          -1.4716078794571006,
          -3.29608432110384,
          -0.7962357326216858,
          -3.9741828833267014,
          -1.654689458568929,
          -2.6465737411078134,
          -3.8634338721849892,
          0.8613066953568289,
          2.2776712694910746,
          -3.0611391364898544,
          -2.4774852125446762,
          0.5021099028979762,
          -1.0774867318649122,
          -1.1555364171222418,
          1.5642950441622605,
          -0.6523728179479666,
          -2.4096873623924817,
          -3.101443319485328,
          -1.1437299404094536,
          0.6741600307042661,
          -3.175354370096123,
          -2.927058844072069,
          -2.859475647547085,
          -3.058708435218077,
          -1.6388397162407176,
          0.48322153485495806,
          -3.1693499183137206,
          1.4630972643104443,
          0.23713114543256322,
          -2.3186057526678514,
          -3.911715672320453,
          -2.3030016041604555,
          -2.464592571262604,
          -3.0391508080807905,
          -2.7114054092110322,
          -1.7292815607570153,
          2.3647266268789,
          -1.5836802509428582,
          0.34862194264379487,
          -2.2783274471497514,
          -3.373344099898983,
          -2.3863228030845893,
          -2.980826200578836,
          2.0297883432767936,
          0.9289887720886496,
          -2.9226067990912017,
          -2.8294489717663716,
          -0.5284004895721881,
          -2.5278725280803847,
          -3.7990672110761787,
          -1.543927375555669,
          -2.1573625916419448,
          -4.303816839677822,
          0.07582869729216268,
          0.03956069262994559,
          -0.8538851038401848,
          -2.4537944126557902,
          -2.4661675222159696,
          -2.05510114652314,
          -3.074270894400834,
          1.151896334769616,
          -3.6429497795104147,
          -2.6865002759742658,
          2.181444597923711,
          -3.655549650347795,
          1.8011944822878019,
          -2.1823799326740465,
          2.0770524451583356,
          -2.5037659824941736,
          -2.734010218767999,
          -1.1468801216230997,
          -2.247437989342736,
          -0.8734454108653338,
          2.447626829881147,
          -5.0852029275241755,
          -5.1692561902866965,
          -3.371062699094151,
          -3.055870196506157,
          2.3194973594912,
          -0.08323622073844232,
          -2.564417114720494,
          -3.0624340095448392,
          0.9677207745621964,
          -2.211141174817048,
          -3.5056753183818397,
          -5.035644395509898,
          -3.992102542129053,
          -2.7684079212740333,
          2.4950158421952975,
          -4.915289475220516,
          -3.4109508523460157,
          -4.040513160595793,
          -2.8811096505161418,
          -2.9876262015366253,
          -2.977537117301341,
          -4.672645716894474,
          -4.805026463867125,
          -3.1572549183092984,
          2.115402999337751,
          0.2953144557130706,
          -1.6859147322583687,
          -0.792786802168118,
          0.7122778218909833,
          0.13413335954834205,
          2.4434881967908533
         ],
         "z": [
          -4.125897484744814,
          -2.2164802688139598,
          -1.0901873646004199,
          -0.15764211741700804,
          -3.0351862538208816,
          6.272789980261624,
          -2.0032879104536834,
          -6.076321896817292,
          -0.9692740036990625,
          -2.8092833848770304,
          4.15202498213161,
          -2.3905985042795592,
          2.7447235695965486,
          0.6057118941216537,
          1.094892254645738,
          -1.4824454487731156,
          1.1841997003911302,
          4.548448335961901,
          -3.6213794705032663,
          5.726741312399162,
          0.6935560218864105,
          0.5724181960318077,
          0.5915200814514788,
          -3.6671135590532207,
          0.8189824051542076,
          -1.0897569115634442,
          3.2632636625703344,
          -3.1081171371791214,
          -0.7392976720064848,
          -4.213587982254493,
          -0.7392244546926225,
          4.642524233648205,
          0.07697001755495399,
          -3.852708085133133,
          -2.938164319262449,
          1.8152936215949773,
          4.3601392099712095,
          -0.5806696228912857,
          -0.6528306437005277,
          1.5523164652419603,
          -1.2531641515249228,
          0.8888455741847849,
          -4.081024747184786,
          1.1289071413522649,
          -5.529927715631544,
          -4.1941687309817635,
          -2.3335876313021524,
          0.6732487979259207,
          1.4801518203936679,
          2.2723406855926642,
          3.017097489456819,
          0.5745709663474567,
          -4.380915790208124,
          4.608692958301246,
          -2.7176405157865062,
          -2.6471754858403234,
          2.230485285200868,
          -3.343763637460092,
          2.894247127951844,
          1.3491837097137689,
          -0.5663108585437023,
          2.308192218072847,
          2.4340966194424007,
          -1.9911889969797991,
          -0.6162142032444379,
          -1.280454869572777,
          -2.8797962592225486,
          3.1379684515528212,
          -0.06969086377057553,
          -3.1243961647446747,
          1.7583719643293791,
          -0.14405652234561656,
          1.1774020589694019,
          -0.9018217635397018,
          -5.4947581331471635,
          -0.5167711878777048,
          4.179237947816857,
          -3.2473542394659547,
          -2.147946586034961,
          -0.2370238046642453,
          -3.422407708103663,
          0.9174952311445196,
          0.5195583866238925,
          -2.355525455954758,
          -0.9644762130441993,
          0.7141343983069776,
          0.13162946593571945,
          -2.529936369462553,
          1.1778075446137022,
          -1.6681754120689578,
          -0.13041695703175987,
          -1.8443507146155083,
          -1.2983585239702824,
          -0.2752074373302066,
          1.2571875857597927,
          1.7889959340040578,
          -1.223046543327526,
          -1.2496512149006462,
          4.867163691013304,
          0.2279351868808605,
          0.724504049858217,
          -0.6786298789462292,
          1.9067230583665047,
          2.3958466078175955,
          2.8637639547335323,
          -2.5208073873774945,
          1.2220809002544044,
          -4.974803376466302,
          -3.505135629572343,
          0.23827899774021075,
          1.1214806024641342,
          0.3711630650286595,
          -1.500259724868725,
          -2.0192131740609147,
          -5.559769440648991,
          -0.1840643748011199,
          -0.09292412040302188,
          0.7155547226641275,
          -2.658607430862067,
          -2.7755884749506716,
          -1.8655070166920424,
          -0.14518269750204468,
          2.9773107735627677,
          -0.09912869400821889,
          -2.2497604205367367,
          -0.6244205761712494,
          4.281784022568704,
          0.006927257008017108,
          -2.2826961362973726,
          -2.399636471907121,
          -0.7938006692851408,
          -1.0789543534470598,
          -1.1710996254844663,
          -1.5268187725854476,
          1.155416606104363,
          1.520662036664031,
          3.3670681742002646,
          -0.5543900359346191,
          -0.41295618306497417,
          -1.7643107904697346,
          -1.903951381752971,
          1.1299781420068244,
          -2.8310139182839893,
          -1.298616086257093,
          -1.2680402906770432,
          3.6780815878903566,
          0.8464784272944669,
          2.172284878358353,
          -1.8851100365301132,
          -1.0817398827871996,
          -2.8888546037732983,
          -1.5542589440087042,
          -2.2563564351766408,
          3.178775709987448,
          -1.4377502428034032,
          -3.7613397911817374,
          1.7556391141587573,
          1.351426524414968,
          -4.270982564352593,
          -2.4167969001293605,
          -0.423852790520483,
          2.4839987935620034,
          -1.2869664859400296,
          -0.23304359896875473,
          -2.108899742860495,
          -0.23346993161513802,
          0.059468065365985784,
          -1.0520919962233064,
          0.08774803114788125,
          1.1394600436711075,
          -1.2007109654577865,
          -0.944271965461009,
          -1.6027316142422583,
          2.028979687013256,
          1.2457942650263936,
          -5.714550678807779,
          -0.5452500003295927,
          1.9082552061958886,
          -0.4215076245597975,
          0.9763341618531838,
          3.194673175129039,
          0.2532982819206068,
          -0.3671691453613548,
          -2.3524821819111446,
          -1.4731154737131782,
          -2.772106979430702,
          -1.8375659255273158,
          -1.6876864190904277,
          5.333454006106509,
          -2.8485974337282998,
          -3.6401963589171302,
          0.00984703314324908,
          -1.477722941984168,
          -0.3753618783336673,
          -2.566537725039299,
          -1.4171237722954932,
          -2.8847173919324227,
          -1.6181940909782317,
          -1.0658962931329565,
          1.8217060323830392,
          0.41453263763835446,
          0.6538123848752329,
          -3.2871936751775577,
          -2.0659486525985,
          0.5052349811258695,
          4.878289651185816,
          2.857109240750664,
          -0.10004354895696238,
          0.6633307011704012,
          -2.8335285812480024,
          -0.7892576845332382,
          -0.34835603959461153,
          0.6147381882412212,
          3.43347249157151,
          -0.2146896276615834,
          -2.477434796480456,
          -0.1563156990352753,
          0.7023208092787191,
          -2.017217227571174,
          -0.9938067661615907,
          -1.3478767489985686,
          -0.30833903925517214,
          -0.7835159010575619,
          -2.413680414734506,
          -2.5826270819859953,
          0.5224665785374775,
          -0.29320534626496475,
          -0.8634784383459059,
          -2.971691427886262,
          4.215820776521354,
          -0.7426189606536616,
          -4.413326552697791,
          -2.3695713928417477,
          -0.19415423664314688,
          -1.0769150314091518,
          3.566522039213045,
          -0.6828685864921427,
          3.5095284047032114,
          -2.9720699631838126,
          -3.0946637649514677,
          -2.915323910753908,
          -0.4258980888736935,
          -2.0772270947678284,
          5.190371081026841,
          -1.5780001680504119,
          1.3790729923426817,
          -2.062125559491565,
          1.8416178110037886,
          -3.639797425299834,
          -0.7472578673520123,
          -0.7510048613516062,
          0.5601358997053392,
          3.554266012154738,
          3.3295176256083696,
          0.5496379813520776,
          -1.8134629034880643,
          -0.3318955914759134,
          1.4705600348898884,
          2.074850465034807,
          1.4892233338901077,
          -1.0050541707933531,
          2.695286266585972,
          -5.3004048468272345,
          -3.4193075312474033,
          3.5559664013116397,
          -2.61319659018158,
          0.4550646045604153,
          1.1629048828856434,
          -0.13881273921476164,
          -0.7007068898933883,
          -2.8730267128817015,
          1.129787317680693,
          -0.07925969084280776,
          -2.035985093722885,
          -2.0079347634434996,
          -3.0615276659529678,
          -2.2083267193064553,
          -2.616032086010401,
          -1.8962277204177642,
          -0.007973745354993492,
          2.0423508188180524,
          -1.4946953645315353,
          -0.48682101465599814,
          -1.2289246895195842,
          -1.289209149748925,
          0.23060378099115933,
          3.1890682379618753,
          -0.46070789209164553,
          -3.9137902605574153,
          -0.25027314527347283,
          0.7067188899345004,
          -1.8382592598485048,
          2.831134157188881,
          -1.2165959649595528,
          4.172136496268847,
          -0.8297690041012908,
          -3.3988251608104934,
          2.6301854536939637,
          -1.4810342521829771,
          0.3997403084965028,
          0.0799482993665904,
          0.33115626360187783,
          -1.8277639158472547,
          -2.7715980907131885,
          0.14068713670474944,
          -0.2395521468293729,
          -3.2700812507592842,
          -1.5563853049297371,
          -3.417466042291407,
          1.8104563621954384,
          -0.7424411403852677,
          -1.444172377393631,
          -2.4726295712629254,
          -1.9770733722174523,
          -0.9822416887356592,
          -2.187252681303382,
          -3.1750649406627716,
          -1.718092040035769,
          0.7957005218740674,
          0.036395446421742965,
          0.4114580517779178,
          1.4913897793183237,
          0.6635810148888501,
          -2.552880579776684,
          1.0099166684526106,
          3.991357467195943
         ]
        }
       ],
       "layout": {
        "legend": {
         "title": {
          "text": "color"
         },
         "tracegroupgap": 0
        },
        "margin": {
         "b": 20,
         "l": 20,
         "r": 20,
         "t": 20
        },
        "paper_bgcolor": "LightSteelBlue",
        "scene": {
         "domain": {
          "x": [
           0,
           1
          ],
          "y": [
           0,
           1
          ]
         },
         "xaxis": {
          "title": {
           "text": "x"
          }
         },
         "yaxis": {
          "title": {
           "text": "y"
          }
         },
         "zaxis": {
          "title": {
           "text": "z"
          }
         }
        },
        "template": {
         "data": {
          "bar": [
           {
            "error_x": {
             "color": "#2a3f5f"
            },
            "error_y": {
             "color": "#2a3f5f"
            },
            "marker": {
             "line": {
              "color": "#E5ECF6",
              "width": 0.5
             },
             "pattern": {
              "fillmode": "overlay",
              "size": 10,
              "solidity": 0.2
             }
            },
            "type": "bar"
           }
          ],
          "barpolar": [
           {
            "marker": {
             "line": {
              "color": "#E5ECF6",
              "width": 0.5
             },
             "pattern": {
              "fillmode": "overlay",
              "size": 10,
              "solidity": 0.2
             }
            },
            "type": "barpolar"
           }
          ],
          "carpet": [
           {
            "aaxis": {
             "endlinecolor": "#2a3f5f",
             "gridcolor": "white",
             "linecolor": "white",
             "minorgridcolor": "white",
             "startlinecolor": "#2a3f5f"
            },
            "baxis": {
             "endlinecolor": "#2a3f5f",
             "gridcolor": "white",
             "linecolor": "white",
             "minorgridcolor": "white",
             "startlinecolor": "#2a3f5f"
            },
            "type": "carpet"
           }
          ],
          "choropleth": [
           {
            "colorbar": {
             "outlinewidth": 0,
             "ticks": ""
            },
            "type": "choropleth"
           }
          ],
          "contour": [
           {
            "colorbar": {
             "outlinewidth": 0,
             "ticks": ""
            },
            "colorscale": [
             [
              0,
              "#0d0887"
             ],
             [
              0.1111111111111111,
              "#46039f"
             ],
             [
              0.2222222222222222,
              "#7201a8"
             ],
             [
              0.3333333333333333,
              "#9c179e"
             ],
             [
              0.4444444444444444,
              "#bd3786"
             ],
             [
              0.5555555555555556,
              "#d8576b"
             ],
             [
              0.6666666666666666,
              "#ed7953"
             ],
             [
              0.7777777777777778,
              "#fb9f3a"
             ],
             [
              0.8888888888888888,
              "#fdca26"
             ],
             [
              1,
              "#f0f921"
             ]
            ],
            "type": "contour"
           }
          ],
          "contourcarpet": [
           {
            "colorbar": {
             "outlinewidth": 0,
             "ticks": ""
            },
            "type": "contourcarpet"
           }
          ],
          "heatmap": [
           {
            "colorbar": {
             "outlinewidth": 0,
             "ticks": ""
            },
            "colorscale": [
             [
              0,
              "#0d0887"
             ],
             [
              0.1111111111111111,
              "#46039f"
             ],
             [
              0.2222222222222222,
              "#7201a8"
             ],
             [
              0.3333333333333333,
              "#9c179e"
             ],
             [
              0.4444444444444444,
              "#bd3786"
             ],
             [
              0.5555555555555556,
              "#d8576b"
             ],
             [
              0.6666666666666666,
              "#ed7953"
             ],
             [
              0.7777777777777778,
              "#fb9f3a"
             ],
             [
              0.8888888888888888,
              "#fdca26"
             ],
             [
              1,
              "#f0f921"
             ]
            ],
            "type": "heatmap"
           }
          ],
          "heatmapgl": [
           {
            "colorbar": {
             "outlinewidth": 0,
             "ticks": ""
            },
            "colorscale": [
             [
              0,
              "#0d0887"
             ],
             [
              0.1111111111111111,
              "#46039f"
             ],
             [
              0.2222222222222222,
              "#7201a8"
             ],
             [
              0.3333333333333333,
              "#9c179e"
             ],
             [
              0.4444444444444444,
              "#bd3786"
             ],
             [
              0.5555555555555556,
              "#d8576b"
             ],
             [
              0.6666666666666666,
              "#ed7953"
             ],
             [
              0.7777777777777778,
              "#fb9f3a"
             ],
             [
              0.8888888888888888,
              "#fdca26"
             ],
             [
              1,
              "#f0f921"
             ]
            ],
            "type": "heatmapgl"
           }
          ],
          "histogram": [
           {
            "marker": {
             "pattern": {
              "fillmode": "overlay",
              "size": 10,
              "solidity": 0.2
             }
            },
            "type": "histogram"
           }
          ],
          "histogram2d": [
           {
            "colorbar": {
             "outlinewidth": 0,
             "ticks": ""
            },
            "colorscale": [
             [
              0,
              "#0d0887"
             ],
             [
              0.1111111111111111,
              "#46039f"
             ],
             [
              0.2222222222222222,
              "#7201a8"
             ],
             [
              0.3333333333333333,
              "#9c179e"
             ],
             [
              0.4444444444444444,
              "#bd3786"
             ],
             [
              0.5555555555555556,
              "#d8576b"
             ],
             [
              0.6666666666666666,
              "#ed7953"
             ],
             [
              0.7777777777777778,
              "#fb9f3a"
             ],
             [
              0.8888888888888888,
              "#fdca26"
             ],
             [
              1,
              "#f0f921"
             ]
            ],
            "type": "histogram2d"
           }
          ],
          "histogram2dcontour": [
           {
            "colorbar": {
             "outlinewidth": 0,
             "ticks": ""
            },
            "colorscale": [
             [
              0,
              "#0d0887"
             ],
             [
              0.1111111111111111,
              "#46039f"
             ],
             [
              0.2222222222222222,
              "#7201a8"
             ],
             [
              0.3333333333333333,
              "#9c179e"
             ],
             [
              0.4444444444444444,
              "#bd3786"
             ],
             [
              0.5555555555555556,
              "#d8576b"
             ],
             [
              0.6666666666666666,
              "#ed7953"
             ],
             [
              0.7777777777777778,
              "#fb9f3a"
             ],
             [
              0.8888888888888888,
              "#fdca26"
             ],
             [
              1,
              "#f0f921"
             ]
            ],
            "type": "histogram2dcontour"
           }
          ],
          "mesh3d": [
           {
            "colorbar": {
             "outlinewidth": 0,
             "ticks": ""
            },
            "type": "mesh3d"
           }
          ],
          "parcoords": [
           {
            "line": {
             "colorbar": {
              "outlinewidth": 0,
              "ticks": ""
             }
            },
            "type": "parcoords"
           }
          ],
          "pie": [
           {
            "automargin": true,
            "type": "pie"
           }
          ],
          "scatter": [
           {
            "marker": {
             "colorbar": {
              "outlinewidth": 0,
              "ticks": ""
             }
            },
            "type": "scatter"
           }
          ],
          "scatter3d": [
           {
            "line": {
             "colorbar": {
              "outlinewidth": 0,
              "ticks": ""
             }
            },
            "marker": {
             "colorbar": {
              "outlinewidth": 0,
              "ticks": ""
             }
            },
            "type": "scatter3d"
           }
          ],
          "scattercarpet": [
           {
            "marker": {
             "colorbar": {
              "outlinewidth": 0,
              "ticks": ""
             }
            },
            "type": "scattercarpet"
           }
          ],
          "scattergeo": [
           {
            "marker": {
             "colorbar": {
              "outlinewidth": 0,
              "ticks": ""
             }
            },
            "type": "scattergeo"
           }
          ],
          "scattergl": [
           {
            "marker": {
             "colorbar": {
              "outlinewidth": 0,
              "ticks": ""
             }
            },
            "type": "scattergl"
           }
          ],
          "scattermapbox": [
           {
            "marker": {
             "colorbar": {
              "outlinewidth": 0,
              "ticks": ""
             }
            },
            "type": "scattermapbox"
           }
          ],
          "scatterpolar": [
           {
            "marker": {
             "colorbar": {
              "outlinewidth": 0,
              "ticks": ""
             }
            },
            "type": "scatterpolar"
           }
          ],
          "scatterpolargl": [
           {
            "marker": {
             "colorbar": {
              "outlinewidth": 0,
              "ticks": ""
             }
            },
            "type": "scatterpolargl"
           }
          ],
          "scatterternary": [
           {
            "marker": {
             "colorbar": {
              "outlinewidth": 0,
              "ticks": ""
             }
            },
            "type": "scatterternary"
           }
          ],
          "surface": [
           {
            "colorbar": {
             "outlinewidth": 0,
             "ticks": ""
            },
            "colorscale": [
             [
              0,
              "#0d0887"
             ],
             [
              0.1111111111111111,
              "#46039f"
             ],
             [
              0.2222222222222222,
              "#7201a8"
             ],
             [
              0.3333333333333333,
              "#9c179e"
             ],
             [
              0.4444444444444444,
              "#bd3786"
             ],
             [
              0.5555555555555556,
              "#d8576b"
             ],
             [
              0.6666666666666666,
              "#ed7953"
             ],
             [
              0.7777777777777778,
              "#fb9f3a"
             ],
             [
              0.8888888888888888,
              "#fdca26"
             ],
             [
              1,
              "#f0f921"
             ]
            ],
            "type": "surface"
           }
          ],
          "table": [
           {
            "cells": {
             "fill": {
              "color": "#EBF0F8"
             },
             "line": {
              "color": "white"
             }
            },
            "header": {
             "fill": {
              "color": "#C8D4E3"
             },
             "line": {
              "color": "white"
             }
            },
            "type": "table"
           }
          ]
         },
         "layout": {
          "annotationdefaults": {
           "arrowcolor": "#2a3f5f",
           "arrowhead": 0,
           "arrowwidth": 1
          },
          "autotypenumbers": "strict",
          "coloraxis": {
           "colorbar": {
            "outlinewidth": 0,
            "ticks": ""
           }
          },
          "colorscale": {
           "diverging": [
            [
             0,
             "#8e0152"
            ],
            [
             0.1,
             "#c51b7d"
            ],
            [
             0.2,
             "#de77ae"
            ],
            [
             0.3,
             "#f1b6da"
            ],
            [
             0.4,
             "#fde0ef"
            ],
            [
             0.5,
             "#f7f7f7"
            ],
            [
             0.6,
             "#e6f5d0"
            ],
            [
             0.7,
             "#b8e186"
            ],
            [
             0.8,
             "#7fbc41"
            ],
            [
             0.9,
             "#4d9221"
            ],
            [
             1,
             "#276419"
            ]
           ],
           "sequential": [
            [
             0,
             "#0d0887"
            ],
            [
             0.1111111111111111,
             "#46039f"
            ],
            [
             0.2222222222222222,
             "#7201a8"
            ],
            [
             0.3333333333333333,
             "#9c179e"
            ],
            [
             0.4444444444444444,
             "#bd3786"
            ],
            [
             0.5555555555555556,
             "#d8576b"
            ],
            [
             0.6666666666666666,
             "#ed7953"
            ],
            [
             0.7777777777777778,
             "#fb9f3a"
            ],
            [
             0.8888888888888888,
             "#fdca26"
            ],
            [
             1,
             "#f0f921"
            ]
           ],
           "sequentialminus": [
            [
             0,
             "#0d0887"
            ],
            [
             0.1111111111111111,
             "#46039f"
            ],
            [
             0.2222222222222222,
             "#7201a8"
            ],
            [
             0.3333333333333333,
             "#9c179e"
            ],
            [
             0.4444444444444444,
             "#bd3786"
            ],
            [
             0.5555555555555556,
             "#d8576b"
            ],
            [
             0.6666666666666666,
             "#ed7953"
            ],
            [
             0.7777777777777778,
             "#fb9f3a"
            ],
            [
             0.8888888888888888,
             "#fdca26"
            ],
            [
             1,
             "#f0f921"
            ]
           ]
          },
          "colorway": [
           "#636efa",
           "#EF553B",
           "#00cc96",
           "#ab63fa",
           "#FFA15A",
           "#19d3f3",
           "#FF6692",
           "#B6E880",
           "#FF97FF",
           "#FECB52"
          ],
          "font": {
           "color": "#2a3f5f"
          },
          "geo": {
           "bgcolor": "white",
           "lakecolor": "white",
           "landcolor": "#E5ECF6",
           "showlakes": true,
           "showland": true,
           "subunitcolor": "white"
          },
          "hoverlabel": {
           "align": "left"
          },
          "hovermode": "closest",
          "mapbox": {
           "style": "light"
          },
          "paper_bgcolor": "white",
          "plot_bgcolor": "#E5ECF6",
          "polar": {
           "angularaxis": {
            "gridcolor": "white",
            "linecolor": "white",
            "ticks": ""
           },
           "bgcolor": "#E5ECF6",
           "radialaxis": {
            "gridcolor": "white",
            "linecolor": "white",
            "ticks": ""
           }
          },
          "scene": {
           "xaxis": {
            "backgroundcolor": "#E5ECF6",
            "gridcolor": "white",
            "gridwidth": 2,
            "linecolor": "white",
            "showbackground": true,
            "ticks": "",
            "zerolinecolor": "white"
           },
           "yaxis": {
            "backgroundcolor": "#E5ECF6",
            "gridcolor": "white",
            "gridwidth": 2,
            "linecolor": "white",
            "showbackground": true,
            "ticks": "",
            "zerolinecolor": "white"
           },
           "zaxis": {
            "backgroundcolor": "#E5ECF6",
            "gridcolor": "white",
            "gridwidth": 2,
            "linecolor": "white",
            "showbackground": true,
            "ticks": "",
            "zerolinecolor": "white"
           }
          },
          "shapedefaults": {
           "line": {
            "color": "#2a3f5f"
           }
          },
          "ternary": {
           "aaxis": {
            "gridcolor": "white",
            "linecolor": "white",
            "ticks": ""
           },
           "baxis": {
            "gridcolor": "white",
            "linecolor": "white",
            "ticks": ""
           },
           "bgcolor": "#E5ECF6",
           "caxis": {
            "gridcolor": "white",
            "linecolor": "white",
            "ticks": ""
           }
          },
          "title": {
           "x": 0.05
          },
          "xaxis": {
           "automargin": true,
           "gridcolor": "white",
           "linecolor": "white",
           "ticks": "",
           "title": {
            "standoff": 15
           },
           "zerolinecolor": "white",
           "zerolinewidth": 2
          },
          "yaxis": {
           "automargin": true,
           "gridcolor": "white",
           "linecolor": "white",
           "ticks": "",
           "title": {
            "standoff": 15
           },
           "zerolinecolor": "white",
           "zerolinewidth": 2
          }
         }
        }
       }
      },
      "text/html": [
       "<div>                            <div id=\"61b17d78-98e1-4c93-a7c2-bf5315f3a757\" class=\"plotly-graph-div\" style=\"height:525px; width:100%;\"></div>            <script type=\"text/javascript\">                require([\"plotly\"], function(Plotly) {                    window.PLOTLYENV=window.PLOTLYENV || {};                                    if (document.getElementById(\"61b17d78-98e1-4c93-a7c2-bf5315f3a757\")) {                    Plotly.newPlot(                        \"61b17d78-98e1-4c93-a7c2-bf5315f3a757\",                        [{\"hovertemplate\":\"color=1<br>x=%{x}<br>y=%{y}<br>z=%{z}<extra></extra>\",\"legendgroup\":\"1\",\"marker\":{\"color\":\"#636efa\",\"symbol\":\"circle\"},\"mode\":\"markers\",\"name\":\"1\",\"scene\":\"scene\",\"showlegend\":true,\"x\":[-0.7659647080204457,1.4610201888599923,2.244253660912803,6.540956692312505,5.625583474928343,4.1517724018071505,-0.12210846413872468,7.883318088267622,0.5960043965240455,-1.357643673618728,8.707700169023195,-1.0224082303563962,-3.658357577387596,10.458327297276282,-4.0445552924347625,-2.2389837154269125,4.449145692804175,-1.433537706505331,5.727158398430868,2.9956072055135436,2.0926156290601967,6.370972648065334,8.08500104468466,3.6210930717338274,-1.1575726245065532,0.011565884002900137,10.515512487700843,-5.00857112723144,8.685329224968214,7.354498655225569,4.6697667146350215,10.158467049683763,1.0731503853395399,2.8414357950563685,10.843065873778809,4.46468068879001,4.8696407777978505,4.673398311909565,2.3966125087355468,-1.401890740057758,0.4779029598653182,3.2450714261589244,9.843110252720285,2.736496819516202,-0.17818454387980967,0.09583880812454408,-3.382565737200611,6.567690988936207,0.3517210719336771,-2.6466174953263635,7.539461732108128,-0.3251005242684759,2.002621613655242,1.464719830144792,9.598808240630918,2.5930032117518746,6.945631251787348,-2.586447494311316,-6.8483713045966805,3.679049183938911,-0.14609153772499103,2.1679035840025125,-1.222286054929829,6.750868211155862,3.6606044111561875,7.623368104906316,9.883944991338653,-4.136888487079642,-0.4641159551210818,8.357020409846152,1.396417120507582,4.64997330817988,4.839083336161788,5.707019833682132,-0.9812024619783568,-2.0465409021469436,-1.0458812940991113,0.5238534867672755,1.2002804333240433,-2.07676864606873,1.0151307524485684,-2.311640994678147,0.902287596791155,-0.34520322662719055,1.3378417955294342,-1.9182881333566457,2.0962586075120733,-2.7940695032333664,-0.01728336232436073,0.21625388867633777,0.9408311398694359,-5.614310366149132,5.091970514184665,0.9667161362227669,9.079487485801069,-0.6188201589136415,-0.24576937701662768,-0.37548501375345095,-3.6959650428184907,0.8833290223630968,-0.010853523026129108,2.0842549333185776,-4.512962376186592,0.8913394240264333,6.120068596398636,-3.2840142661951695,1.3773858738542826,-2.6449835953439162,6.443429087461711,2.6694878177098804,-2.8215717618791354,-2.7409449744942256,7.907669678749473,5.001645019632656,-2.9164791335293327,-0.1068601791386775,-1.3626102327195435,1.1112233221837535,0.34588360115087846,0.9269835401699497,0.5984089826393476,10.167071429480346,-0.6291524287430269,2.914892767888854,1.6093205577941068,1.5525802786097733,4.14747925114188,3.93371646585804,3.258260149238156,1.9659214770190356,-3.6127140129462934,-2.290863512714642,6.5723223168014115,2.7531557885821765,0.5148032029937919,3.0774091187724983,5.299409087486577,-0.4766706238239977,2.2142729098216916,1.8691666233158097,1.1563719307219815,2.188879470916739,-1.751857656180219,0.24181112728246124,7.276523718177068,6.85392674355048,7.985191224088566,-2.2252781519776623,2.160745096837592,2.1740968270432166,2.3671811124893445,1.2111437269474903,1.5557672338018005,-3.0313106396334843,2.3963676996549523,2.704790542602508,1.540601281564994,3.7976122873648115,-2.8709699984987043,-1.6592509232023605,3.089121914669997,1.8704370277652533,3.339917619790184,-1.283442720669764,0.12479298209827308,5.784941966388331,-0.7942445178738015,11.438005439088947,7.178603839526379,7.7673336182275925,1.5612290977436798,-5.104801021135682,-3.929124044666156,0.6762571201394098,10.12695581856916,-2.2856967164779864,-1.2269754709948626,0.2366781473696921,9.457685975550742,0.020816346202259,-3.5928905851879596,4.318731157355297,3.501359562552126,-3.600531436527818,6.704166074025415,-0.6467583793435261,-0.5641797096168744,-1.562406189038134,-4.224039687315823,0.12584487864775962,2.5214581304736123,1.8981292182949023,2.048649534411909,11.17184566030362,3.8529473955414595,5.053766702030821,-5.341721330340616,6.333648469377967,0.6327439654840519,-2.4994690947006917,-0.6162006715355142,7.727026651322186,2.005755076603852,3.554820597544567,0.2684460754143597,4.802733263287813,0.9336911787081632,-0.5689515718756374,0.3921490077928472,1.7804990309150932,1.6133306560000311,3.0695132734685333,2.075362152652841,-4.784218439202852,4.344439977842378,2.7427332082857356,0.5858437416338356,3.0223695659482246,1.414884004206848,3.095804764564165,5.819411884146202,-0.8501692677085338,-0.43079029336432184,2.3084747373665984,1.7236186183873679,8.643023841220517,-2.951175868342759,-6.929559010948751,-2.0877091426270082,-2.5064142533209695,-2.542223372134143,2.6024542291787554,1.933392982273438,-3.29376764233141,-1.497220540808093,3.379308633954563,1.6883378368210944,5.6970865872833825,0.6727261393055183,2.943944700452895,1.382571963578492,-4.152271101694181,9.251609839316313,-1.826780451380712,-3.454486203399727,2.4029044385666114,0.8272141904444448,-0.5847599475912795,6.458841720514063,-1.492001541208246,2.914645887650062,8.422388446239244,3.053631095795804,-4.869180975965988,8.865777694863887,-3.064504050351975,4.320917800295734,0.5802836431491185,-2.0681072801830402,2.0385795284504633,8.162573189660167,2.6529576453429096,0.45388639904336614,9.331336178749277,0.5034388898193212,-5.565054544555325,-2.4175214053494267,-0.2096072684009727,5.205422648586874,-3.407248581483584,-0.6510128465991313,4.207836517812657,5.710131738097381,-5.447032364569946,5.307586644028283,5.116693340882927,0.8096451575377774,0.7542179200172372,8.222137081545233,-5.331706482777278,2.431973888697001,-2.2605660353689405,-2.064152092555262,4.837048152761406,0.7093254985426127,0.6203891113506065,-4.229990178886551,1.3501027176882907,5.7785792997045915,10.131750812498893,-0.9618388025421785,-3.2464149009479546,1.9547812675593597,-4.203801512496847,4.910134806917413,9.486389777353626,-0.23166565829650085,-0.46707585790887324,1.4907038204331289,2.6692425238411346,9.096449780095448,-1.6852211155334706,-0.05960504668858222,5.343191217693101,4.07606222811434,2.6693153412013593,2.6629490118190033,-1.0363717529980316,1.085203713691479,0.8264337203643974,-2.30145125798899,5.083408166826723,-1.4078158658413298,0.42849836744872394,2.0486450887580263,2.3827689291197305,0.3209683615390792,-2.7504655470257533,-2.0554079397102383,-0.4761949969435989,-1.7735398403464724,8.03459544050053,-6.816198174201655,2.423496523103617,-0.2724761558626136,-4.0627394844453795],\"y\":[-2.0056444331505303,3.02702716796002,0.03686941674339107,-1.4888916225873872,0.3662267475687361,4.667834630823014,3.8231804659411064,-2.2352169330047666,3.7917463155457765,1.6328028150922098,-5.1893777933814675,4.323882143577383,4.1351793156624055,-1.9397604351163618,1.1336863996247897,2.8320897190046135,-0.36706542799352704,3.238218723878208,-0.24475940634945678,4.729984010571093,-0.7722416117148959,-1.974403753414593,0.6682246696810236,-3.0631021098679154,3.5951538711165645,7.211626599509514,-2.3034361684817752,2.3840424011204493,-2.2450599367798003,0.5052510625429351,3.194262162516927,-5.200303254868376,-0.05704393531566144,-0.08384127520405757,-3.5591348719818754,3.7635315348746703,-0.8194492360885562,0.712079611512292,0.7232076566254124,3.96910920107249,4.604838870860912,-1.6951172361570044,-2.886366139220687,4.435857016513641,2.200833902984512,5.314269300358197,0.549425044354363,-2.827231015123657,6.500125272997757,0.3794388956997452,-5.6827910933297145,6.865946219514955,1.8187315172283678,5.8188984246561635,-3.458519712106174,1.6244977016750308,0.3147949637413438,3.6864193028785004,6.188075914221316,-0.8536866938036907,3.464726692879902,-0.9562785106607898,-0.4178247462568727,-2.4377494046691326,5.911214127542364,-1.0092379217616096,-2.1889585139127528,5.28258213666006,-0.7784168261436151,-1.4270132352262417,6.120022185465887,-0.6104092729930107,1.674471812470505,3.0106266508346926,1.286933433046762,0.18958312284241613,1.040383042149508,-2.977967095258005,2.906762932818057,5.015589037745813,7.192584645801586,2.546658295390722,1.8631296811583533,6.4193822873591,1.2172187756298738,7.031326990311412,5.324974926737428,5.16826244501334,2.109534694139601,2.696118424437857,-3.91825226301218,4.0102371391120055,-1.8467819439716184,3.5526892082656327,-1.8389337675380688,3.1847058062546307,-0.6746690846302014,-2.3019103344503775,5.930593686818557,-0.011192935477306142,1.067464608253558,4.718153511986291,5.535726706046907,6.634686212196455,-1.3997585169540163,0.3429224733200073,5.495903791901438,5.502655880428567,-2.6414853915632457,2.688457913520066,4.373539225651825,0.961282029062766,-1.8489510190566387,-3.989668832031524,1.8922282209947638,0.8880599128615588,4.213356054844075,-3.173187805138339,5.678406165715822,3.680278106068944,0.2030502977788118,-6.4882026275521305,3.7752441441033295,-3.3739501248765786,0.7613326102856756,3.007651410781369,0.9176338264756642,2.3283843304937877,1.3726185511101672,-3.750373599158127,2.855769908291976,4.02950817662731,2.0847341477791135,1.768597500385209,4.138494374907559,2.5891096736573522,-1.7435827448518346,0.9317522398297651,2.133322625307148,1.3002499600413528,0.07960561927045032,4.020203434677221,4.641332323377863,0.1730989924925888,-2.0185432815114184,-0.15898610273415203,0.1806402831340037,1.5130414298432016,3.566250726215282,1.1393644645780925,-4.543379269592101,5.360130860535549,2.3678477981729382,4.998221942090025,0.1794441075130675,0.6353401984560433,2.739804439004202,-3.3669003789692775,3.514411011567301,7.912275975722568,-1.9640619930673069,6.914241523555551,2.3606049409755294,3.456221709458808,7.453828857953218,-0.7710482772372667,3.5401045305150687,-2.525042980366701,-2.1228271553090554,-5.024536078887081,3.9726771500016063,5.324679184434071,8.606264817275829,2.6770458705699176,-3.6031942550039977,6.086793772684722,6.592546967109814,0.8205133457502095,-0.4993943507990075,3.6097138270465017,5.782506348787165,0.14673625964077924,1.7322832551773693,3.4236777107445895,-3.5644981163534952,2.847749511694416,5.610581510259557,3.5900949432915543,0.8271423569067242,1.9720665918838907,1.7548412652600192,5.884260720003994,-1.5542651078572665,-4.322841314676765,-1.1995690791040912,4.51476037559035,9.43066463442386,1.9607946744276739,1.5491937658183446,2.932098486609002,-1.5366221780457625,2.448105636564797,2.0277718335339006,-1.126335626808994,2.9982174476986803,-2.759516112001179,-0.11384330390140014,-0.19896450090250548,2.3750180613618084,2.105376788266717,5.517800110877173,3.20964391970258,4.356698698322984,5.600064262467655,-1.295875292198915,-2.676338800531942,5.498411697717096,-0.9600600045309714,0.07164273846563504,2.0946356284517758,-0.6934669604852133,3.65011647545735,3.295432787313552,3.5912725217729253,0.5349762869940496,-0.8823829636155894,4.267396464734145,4.1987593243103625,0.07455122252076832,5.690133627381616,6.176724032107248,2.6589675710036884,4.436879872395764,5.374154686831083,4.660099194490037,-3.6955747030831936,-3.8620394065317987,-1.0656450501698473,1.0440852083359302,0.4213423112278683,-3.150271298146618,2.497334297596623,-2.4104169206961727,3.4482352510926018,2.4870759955169373,-1.8187770378138735,3.7362942240851424,8.303967984285068,-4.325546797419453,5.1749496055568365,1.5446734580799972,-2.379151080655506,4.72107982391703,2.1753112350913413,-1.121466179606473,5.843658476709782,-0.4109888750738987,1.5186815497764932,3.850635445414245,0.19942882577352603,-3.809527196709562,2.149176842943876,-1.5819771872574129,-3.9835752325484393,3.2290409007971785,6.250017632644901,7.286796982639104,2.746848966908638,-1.045885383224723,2.1849015844196193,4.388334105328657,0.18498367487284045,5.646584282687537,6.67694785751373,-4.073011611387426,0.5363071128693009,6.674651604020189,-0.1768010041556241,-0.20325953110723122,3.9220366737008354,-1.045445510299005,1.086871566237043,2.9737789959373617,0.8434317433981766,0.9671738551302328,6.8528197991199455,0.00021072923120753545,-0.25027985706276634,0.5047990838276608,-2.4073178025486737,2.42816102640298,6.436756854895445,3.94532842476211,2.6286126073463456,-2.0480989468523543,-3.147988277557983,4.58771013299897,-0.9489098826481298,-0.9247000918179875,-1.2014575378694774,-3.6208014730599314,1.4296792975715853,0.3409732820996735,-0.6996912727288813,2.8707701898211853,-1.1685340585706199,4.992027981317262,7.678376050083953,-1.2844930614272814,4.139551563069686,4.714715971906149,-0.13643793651617622,6.641869082275368,8.892578930396402,-1.200821944999608,-1.1260399153888472,0.6909505301567612,5.592338033621649,-2.885290044817585,0.838113710715588,-1.3302072048695919,-2.576558791684732,1.1215195066130588,0.7412647498137281,3.0226942395763428,5.955110779016498],\"z\":[-0.4479176817420426,-3.734620911062324,7.15773570199817,1.5979194000829913,-1.5946079077272974,-0.6393339117429644,0.41192442511106714,-1.4824707969685262,8.39148297040787,4.276446683624313,-0.4576977312258732,-1.1240222229981596,-1.852343338490181,-1.097370002974075,4.794347139303887,0.9938681619638305,5.6584826288516465,8.118125098895737,1.562226156814512,0.10493474623714091,4.189276747036291,-0.289242631308316,1.4756525220208923,0.8900768616802743,2.281211976790591,-1.4662871367035208,-1.14857562067205,6.763173799332543,-1.2164981307809513,-0.7390115315197298,-4.662533792000096,1.5942021366644863,1.9599879809357919,0.12549820814006302,0.18169363348854028,-0.016592725059858166,-1.6642092438171143,-3.477785905303396,1.4810097380477882,-3.865091473841956,-0.17552920925799528,1.3711619980070806,-0.6141623778872679,-1.6939870673971746,1.5342169973364468,-1.283957533275733,2.3527653883170556,1.49491391800544,1.8816156243512692,8.527966203700169,2.1997277065557546,0.8065270728113882,0.5427894777921229,-3.2656743448940437,0.09556370127188611,1.0413704184428043,-0.6215060646868215,-0.18333987017776782,1.5110033955429099,1.3361842792616998,2.3135374441908123,7.877581102065373,1.4884679240461904,3.1541817197970325,-2.3340267130379164,2.2040447208001397,1.70394890548338,-2.948959477344051,3.439775413709981,-2.3336613130997326,-1.5136862914199216,3.5683907477306898,-3.2529202689175394,-3.6037197441860327,0.8284832685027756,2.4752311584305127,4.545979712888091,6.697071291448769,1.6260747240420006,1.5570392364753558,-3.333030364623803,3.930412470327557,4.127684044123772,1.1164828980670143,0.11790569834673795,1.9342437218523603,-7.654054404636687,3.0502565469426512,-3.0117645158343356,2.8766541047894516,3.938252826537928,0.47946713445598915,1.3424893835232274,-1.6637972703583805,0.43276670312545695,-1.215877171522395,2.1112317058622314,0.6082287491365397,-2.3252577197840467,3.252820648792751,1.854185062542133,-4.1815231848744325,4.605615375660651,-2.8912044271231876,-0.8573364044635432,3.4918300414536585,-1.4587047810972888,-4.225898667663882,-2.6238719359952722,-0.2171633609482388,0.18753850557584908,2.2962740329977445,0.28729180035165364,5.271489726920039,2.991859177248695,5.479437165938339,-0.917832799523213,1.3511468202069368,-6.705282160183911,-0.7170238330425485,-3.2452196166934293,1.438225233696731,-3.0589717615780248,0.17348764240075223,-0.2459646397548695,1.0881784236633396,-2.3364892516345526,-4.364721521666601,1.2769150840213153,-3.664629748966469,-1.805034656123337,4.242181756990115,-1.2610784537773456,3.705879198480468,1.4336837503326265,-4.236353640662754,-1.6402932926403573,-0.7116576741354267,-0.9345103317787382,-0.9523071164140753,2.230375060744421,-4.048913732730835,-3.8503253373067734,1.4240898528425407,-3.7000964226959576,3.484904157231389,1.05092320230547,4.1827911541487435,2.0975641243041263,-3.901650337374819,0.49360287731461483,3.8198748619776786,-1.4382981521161107,3.2516529527294997,4.332222143940737,3.8296365078733974,-4.131648404438748,-1.673447101105729,-1.0811775342413779,-1.7650953522502058,2.804396238398493,-2.701066584976047,-0.8161306882727698,4.427064338819551,-4.53242660539685,-1.3841166963241318,-0.7561718872743578,-1.4800269975689102,1.9260711958667647,-0.4576397309354817,0.9406471172645116,-0.8725318997193896,2.090662299975236,-5.7159826682687305,1.1467010538286286,-6.400084259721251,-2.6584531742178283,6.343770125348214,-1.1090034286587136,-0.5033196850655061,-0.401907067783343,5.948802404267175,5.040186029513323,1.267742568665435,1.0926373051632567,-0.17244695390733086,-1.9553877011490277,-0.026713262883598904,0.15039306050617726,1.2120768256550591,-3.7333753805085976,2.0996852777532182,0.4048159116027733,-0.11837068303029151,4.375606358048205,-2.3452346348546858,-2.1479100570586134,-0.6126557222284412,-2.849382911484536,2.1705481390561103,1.90844166641127,-3.7241206564117437,-3.5841495508112096,-1.024836624622094,-3.976944612827065,2.5774148259838863,-4.430927701337418,2.391745403162045,-0.8366051099642043,0.13128055880790837,4.9694880678796505,-4.8715681777821285,3.234320038644431,-3.2105710406742363,1.8201410683344272,0.7908137852419748,-0.48651637986080437,-3.447728431230668,5.290591386224756,1.6659983097818152,-1.2112960559173358,2.4288209647232515,5.9556654235888855,2.262397017655653,2.8239523813904235,1.798279576216099,-0.26247894345711664,1.1207123543845978,1.0852816719946417,0.773511358258736,6.517803289596047,4.301030501410274,1.1595131149467655,2.53003782858783,0.9398509947739517,0.007127668685775817,4.5257336549042275,-0.0601208423548423,-0.7947408152407958,5.58381662617516,-0.7588612810579844,1.4534742725568013,1.3736186785308546,-2.4971405130565274,4.7111482300899015,6.394978786752265,-2.3953206084839276,-2.9085964956737347,3.3730405230995992,4.0846479762088785,0.3016675232981942,-0.5074465631865955,-4.042392929933614,6.623130585803879,-2.819099316152263,-3.076923969327807,-1.0354250553398494,2.5232566538686383,-2.895108376410107,-2.970046659857013,1.483219802694008,-0.026996816468105568,-2.996837476385743,-0.28007768652229503,3.6621816008241006,5.500758821232264,-3.9171403185727676,0.26845155322676967,0.9633086768586068,3.235362631023761,1.9995554563365419,1.4605076737034701,1.6748385954269356,0.8803134932603638,5.101591651912349,-1.0325487693542132,-1.6625942012081183,-1.4301070041496553,-0.19797234077466583,2.248720254333526,1.3891562294979216,2.589784643582483,6.4355167679533825,0.7894114653759325,1.0057687410597174,-3.2126684954429074,3.9900849004211882,5.227050041968638,-1.4555368298709925,-1.4804025751729575,1.8494213402007924,-4.65862746975069,-5.330330594253974,4.446818052110705,1.1566925519318294,1.1909942409896235,-1.5799054007340845,3.3300506776223027,1.5875398439559023,-0.12485814335313751,-0.5959413575515442,-6.28540643620728,1.2070389756993762,-2.1952173088664075,-0.7690027171653516,-3.202858646230453,-0.8893843731651897,0.8172645163507716,1.2331278865019089,2.969279315506815,-4.479048685665496,-0.4356441311832846,-2.104279201539586,-2.8158575147980347,1.0754192587325622,1.5962192994528441,-0.03382203936966206,-1.2152516015022614,0.5687260154697648,5.072507010048003,-5.4150918676319995,1.8488618175151055,3.6742606098553567,0.7130589435102808,-4.735409834894755,-1.313182849218983],\"type\":\"scatter3d\"},{\"hovertemplate\":\"color=0<br>x=%{x}<br>y=%{y}<br>z=%{z}<extra></extra>\",\"legendgroup\":\"0\",\"marker\":{\"color\":\"#EF553B\",\"symbol\":\"circle\"},\"mode\":\"markers\",\"name\":\"0\",\"scene\":\"scene\",\"showlegend\":true,\"x\":[-4.02042258462719,-3.7590654542333106,4.420808887964341,-7.653137361432691,1.7822094298648337,3.3949818034353267,-6.277225731610782,-1.9050867969491339,-4.763492364578103,8.066299926018344,1.9937206411511945,-0.15193085139691287,2.6028745124540613,4.696195639299372,-6.5396775609517634,-8.270971526786713,-7.098691615571581,-8.834930753632884,0.9734299456849,3.4638479180630153,-5.662740002187818,-0.8421455489614642,-7.673600181908972,0.138919928559679,11.016988131807224,-1.3063657816327388,-4.866243488443,-5.991919403346018,-1.3346865096358702,-0.285332847739307,-4.147770139839557,-9.433105584452324,-2.4912915511573503,-4.209633920498797,-1.7709280766678692,4.58333620352965,2.968559243606945,-4.297258606508424,-2.880408757660179,-7.975298549905389,-3.7192171712033475,-5.462162843789749,-0.26798864712325554,-6.752591496363819,-2.321900818989409,-4.1332925316427716,-0.19276528403166693,2.031307229112837,-6.367988210649118,-3.838516154504482,2.480652021238518,-7.239156903026991,-1.230034635143742,-8.455637120671094,1.8431545964170686,-1.4518277775535684,-8.362190972285049,0.7195927612226152,-5.441685851073525,7.796325316749275,-3.947219766567115,-6.608274914623589,0.02148683297671405,-0.33210880037330914,-2.1074132397176246,-0.3633030466313708,-5.557908851889106,0.6677466471336484,-3.5610937909415306,0.5187647387162647,2.70221612178705,-3.6090291544474815,-7.056142228325128,-3.835846118229629,-2.369593472366086,-2.441014466595777,-0.2659496108408722,0.673891677578614,-4.6601595699672265,-0.25481680321585354,-0.02380341350930803,-5.842147422229321,1.9537740773263776,-6.209206980808133,-3.4364253416882007,-6.180802104278195,-3.3136211145114736,-2.121288080793976,-2.140775878140679,2.6760723962349857,-2.7964573883450607,-6.372919137285926,-1.7604587079591485,-6.70364227075439,2.114185230903015,-0.766431735518667,3.5769008961517628,-6.098150444667284,-6.121506938908416,4.269195279686918,-7.693554459754305,-1.8740900967384702,0.5478208807663787,-8.435609296144023,2.463565066947932,-5.212452099836147,-1.27994011622625,-0.9621331949825732,-0.657401374749465,0.8840710188190796,-6.7061055669881,2.361720603635808,-8.111708909823731,-3.426294153355065,-1.7646380287987076,3.4442294077811764,-7.082586457309227,-3.5376330894590304,-1.785402453169562,0.7536011992887134,-2.920405484066199,0.4009498990300345,-1.0396514309137461,2.008903845575702,-6.239743364480067,-2.869058611847901,-1.760166594361348,-6.781980915510293,-2.950562462725404,-4.660328257013922,1.0605462415778135,-6.733995247098266,2.8875431021267133,2.7043649403801426,0.3283317528945008,2.734259972932494,4.062162555093934,-3.6379529468020024,1.5826664942572612,-3.32445774558605,-2.879207863005476,-6.759295354182272,0.3404653512214524,-1.2705840352761595,-1.694460678901139,-7.975491090499753,-6.716626511589156,-3.621018004220413,-1.0464023853129814,-6.588155535426787,4.854462154726781,2.5442396413388138,-0.2480826631698279,-5.5839665115061825,-0.1469642507358701,-0.3210871442451196,-4.888416147851227,-6.452309645537429,-1.774114644115554,-6.191516745844805,-4.06060308548556,-2.593785660397105,0.39559445782669816,3.783800759950948,-0.8316131838189632,-7.490495204217171,3.856868431644161,-2.23259566493218,1.996446409922831,9.24199261238774,-4.444037577002462,-5.312740911051241,0.011802667996414856,-3.340422276985789,5.871447083516217,-2.071537909732527,-3.9542109688842246,-7.02019462176868,6.703588474745818,-6.159193892777717,-5.618935229799448,-3.0247099150518335,-7.069780269077211,-2.385248236644444,-1.6461628262759453,7.293294216963744,-0.8541221627308869,-4.039516855058111,0.30510864023064865,5.6996668683055525,-1.69180670292955,-2.5596413061572765,-3.417432406534488,-0.17637993282841719,0.42519249303324896,-0.8491888705925356,-0.3612712051411966,-0.7051708621969636,1.4914499338463156,-3.7284531737105184,4.412364208859495,8.026215548551715,0.6678681899201442,-4.9698701471608935,-1.31513466152551,-5.968164125079549,-1.7901053594100476,-2.479770704431863,6.2435106353952055,-4.145889953175325,-1.2688580981556608,-6.551575487847534,10.123148661778101,1.0771424578790119,0.7570153928703021,-2.1254874001396833,-2.979875593511628,10.718704556467486,-4.901348393197646,-3.7101866076077217,-7.99308293335798,0.21297668879880757,-6.630198465899284,0.006243634335538076,-6.1436384083815065,-2.628891838461482,-7.529624854987252,-3.848574276845738,3.1152918623313504,-0.7990044750836671,-4.123711002390237,-1.4378365458258462,2.072658345316866,-3.0756924286227942,-4.697997052441056,-2.8025127005843595,1.744809233950043,-7.572979263172433,-1.7075515559689531,0.49182905771053864,4.298735485411294,-4.463114356742246,-0.37638529391064696,-1.6669223577581949,-7.416696305408754,5.799836830311483,2.337155349612973,-6.506516736503198,0.2705088920813079,-0.4378027786637574,-1.3263011541819167,8.604487651449206,-5.007085408422315,-5.212545125117001,0.7418037187602773,-0.2823610508604127,-3.7488232392365903,3.2249271924268514,-3.527253711640269,-0.9765968976102176,-6.025245645962607,-2.0930493774899728,-1.7639333932220955,-4.231808120275872,2.1042333054873543,0.5070768266080249,-3.9518850019672573,-6.965398112697602,-2.9355536318000137,-1.6473149069560709,-6.059794494254573,-6.758100901923765,-0.8413683338347193,-6.301464380063161,-4.439470053203544,0.38287304142966644,-1.2725294486709986,0.054193651815073775,1.4367085545151455,-3.508519912758581,-6.331946640432015,1.8359370803615505,6.697199557879787,-7.668562577812762,4.090920123470279,-0.5608347876173058,2.4034834975073447,-1.8461026219121321,-2.9207679979025114,1.8036209662224207,-5.6624365475747425,-3.3540010020101603,5.019648800479609,-2.1187916549561496,1.9623507648769865,-1.841950245342233,0.2936929180097073,-2.214922689605115,-8.257799904573135,3.7250052986349047,3.8915699431171165,-2.148970208677446,-5.183766497701945,-4.1679123559766875,-0.6981968771666556,-5.364493986796618,-0.42179696574270437,-2.322142458552354,-3.049025371220121,1.945022867706453,-2.4823576344484968,-4.979465545431797,-6.175396788427634,-0.4481210913650032,-4.111551129957759,-0.29757870550309734,0.07963944297557218,-4.725369547330521,-1.8940228181091054,1.328142383104083,4.3945029785687275,5.739489363642021,-0.9036744910414644,-4.245688021629588,0.11608826795759401,2.5545555898489503],\"y\":[1.9196840879705916,-1.6907379973510965,2.2565658169972984,-3.7749993123177874,1.0721168480988355,-3.6542740697311027,-4.4355879668847065,-2.524661677337773,-3.525777087769231,0.01758499052853036,2.4116359112725587,-3.0708294717020705,1.5090084975560136,0.342582205041368,-0.1894088034637985,-3.057283103431219,-3.656048017356147,-2.311691985143998,0.29794549224099326,-3.4610655946437032,-3.579049624069751,-0.8882781820716237,-2.1359212414173916,-5.436186127317473,-3.9608245010165257,-5.6189624620424015,-2.5393970038494227,-3.6573038845749566,-2.3132346501714443,1.8032507553932642,-4.793379490090053,1.337556773032775,0.7855021064259645,-3.221557338062295,-2.269386055559739,-2.872662273898427,2.635098901517476,-3.1195409757527885,0.0442564233027882,-1.3432013813276158,-3.0632443347757072,-3.3080190763646913,-1.6085891855855592,-1.509761648949125,-2.348996444445452,-2.4872434424852057,-3.0446736427371137,-1.2556301852593523,-2.507056285851906,-2.4313718674064027,1.6881123501630604,-1.8198131851173636,-2.5092913946574122,-2.0316864998842874,0.9078273406193579,-2.01932201920129,-0.2168692249967412,-0.46191779262885935,-2.3958034697192314,-3.385781821649583,-4.473644562936501,-2.8228248796296405,1.1330927296511768,-1.179015014235472,-0.37348450980231124,0.5381024050999198,-3.2748371886441827,1.4659033245542001,-2.3615365564556337,0.1310895624840457,-1.4079394852311906,-2.434169950982855,-3.392184572176819,-3.7846988131055688,-2.352636389418049,-1.3880635234426824,2.318096655454095,-0.04092318822298557,-4.294890028522191,-1.5495410789839323,1.4288670183521224,-1.9082166146913746,1.657488132579531,-4.111128835320456,-2.538686101961251,-0.3748212229358883,-3.5786106962204998,-2.700605501320792,-2.2623887041896236,0.45901865236982076,-2.0858998118303753,-4.289813364232373,-4.891690810170181,-3.230605559549571,1.852021428991713,-0.1735181017955913,1.3531701071897508,-2.824206728777677,-2.302843352816444,0.2452730268255193,-1.1873910261758305,-2.712886835025198,-1.2519735082385661,-0.11030297775208135,2.2757202160794456,-2.98066252749322,1.9983761038663392,-1.362847028303853,1.5761427359634748,2.0954771368915392,-1.2214863465013335,-2.90106037110448,-3.0575488281821364,-1.3287053426694582,-2.090611363484457,-0.3990288889642142,-3.3215621413108543,-2.278891045888949,-3.038423265031135,0.6346834285144795,-2.656205540186762,-1.2890359708982622,1.5634330235324025,-2.5343141678588523,-4.1749068615552,0.07280328746395372,2.204779429924,-3.4816718335783428,-1.3683832101400484,0.6749166424845706,2.3544823026466584,-3.625831298852249,0.3705120456942415,1.396753314122206,0.26165048264748275,-2.7288648774640905,-1.6049371351115862,-2.4831996840620953,-2.470885704372536,-1.0725755847505143,-2.642341811814201,-1.5513345865269075,-0.4181295463919251,-2.0852977148431866,-4.997392733346201,-2.1182022324454524,-0.4667645361621241,-1.632371434118419,-3.729205832100673,-2.418144981736464,0.5862788755798631,1.306133822012406,-3.0092409989076048,1.8052507532702793,0.1716819322318305,1.5331390357667305,0.4874023581473518,-2.5171836454496606,-2.2462536980825023,-4.074181163922589,-2.520561694048252,1.1289309918313493,-2.2942372828171256,0.04694415747272333,-2.881366533737519,-2.6418741051871457,-0.10773318006559497,0.5894603949701726,-0.285871412072247,-3.6166572223425306,-3.1456246052100836,-2.8967526130354733,0.2541285535360482,-3.349993971085326,-1.582978981686523,-2.329888528480349,-4.516891409874537,-2.3195883984241163,-3.279630394286881,-2.994829026114362,1.8036816769310453,-1.9694744016731531,-3.0083569593475765,-2.19407729502605,-0.6252951044747741,-0.043067822333158465,0.760295001131476,-2.836524654652599,-3.105895065495829,0.4526204232378449,1.816583514387925,0.6395706974267331,-5.116397025352035,-1.6361322333473634,0.9188408237568974,-2.6242122342924277,-2.709386663247096,-2.7164606176399158,-1.6195752765935607,-3.3427302479229386,0.30286179717343314,-3.6454442706090604,-0.6167556377682104,-4.240760761165544,-0.18078164632677063,-2.322004637283509,-3.3790150438872275,0.14537635589196365,-3.4347738248034396,1.0400501792580168,-4.302866362843223,-3.194105527979246,-3.95416146212515,1.9628136974390054,-1.241721930928518,-2.13172785518181,-0.7020610315422205,-3.9020497702490142,-2.766262632274334,-2.56805220297443,-2.781826018066358,-1.4716078794571006,-3.29608432110384,-0.7962357326216858,-3.9741828833267014,-1.654689458568929,-2.6465737411078134,-3.8634338721849892,0.8613066953568289,2.2776712694910746,-3.0611391364898544,-2.4774852125446762,0.5021099028979762,-1.0774867318649122,-1.1555364171222418,1.5642950441622605,-0.6523728179479666,-2.4096873623924817,-3.101443319485328,-1.1437299404094536,0.6741600307042661,-3.175354370096123,-2.927058844072069,-2.859475647547085,-3.058708435218077,-1.6388397162407176,0.48322153485495806,-3.1693499183137206,1.4630972643104443,0.23713114543256322,-2.3186057526678514,-3.911715672320453,-2.3030016041604555,-2.464592571262604,-3.0391508080807905,-2.7114054092110322,-1.7292815607570153,2.3647266268789,-1.5836802509428582,0.34862194264379487,-2.2783274471497514,-3.373344099898983,-2.3863228030845893,-2.980826200578836,2.0297883432767936,0.9289887720886496,-2.9226067990912017,-2.8294489717663716,-0.5284004895721881,-2.5278725280803847,-3.7990672110761787,-1.543927375555669,-2.1573625916419448,-4.303816839677822,0.07582869729216268,0.03956069262994559,-0.8538851038401848,-2.4537944126557902,-2.4661675222159696,-2.05510114652314,-3.074270894400834,1.151896334769616,-3.6429497795104147,-2.6865002759742658,2.181444597923711,-3.655549650347795,1.8011944822878019,-2.1823799326740465,2.0770524451583356,-2.5037659824941736,-2.734010218767999,-1.1468801216230997,-2.247437989342736,-0.8734454108653338,2.447626829881147,-5.0852029275241755,-5.1692561902866965,-3.371062699094151,-3.055870196506157,2.3194973594912,-0.08323622073844232,-2.564417114720494,-3.0624340095448392,0.9677207745621964,-2.211141174817048,-3.5056753183818397,-5.035644395509898,-3.992102542129053,-2.7684079212740333,2.4950158421952975,-4.915289475220516,-3.4109508523460157,-4.040513160595793,-2.8811096505161418,-2.9876262015366253,-2.977537117301341,-4.672645716894474,-4.805026463867125,-3.1572549183092984,2.115402999337751,0.2953144557130706,-1.6859147322583687,-0.792786802168118,0.7122778218909833,0.13413335954834205,2.4434881967908533],\"z\":[-4.125897484744814,-2.2164802688139598,-1.0901873646004199,-0.15764211741700804,-3.0351862538208816,6.272789980261624,-2.0032879104536834,-6.076321896817292,-0.9692740036990625,-2.8092833848770304,4.15202498213161,-2.3905985042795592,2.7447235695965486,0.6057118941216537,1.094892254645738,-1.4824454487731156,1.1841997003911302,4.548448335961901,-3.6213794705032663,5.726741312399162,0.6935560218864105,0.5724181960318077,0.5915200814514788,-3.6671135590532207,0.8189824051542076,-1.0897569115634442,3.2632636625703344,-3.1081171371791214,-0.7392976720064848,-4.213587982254493,-0.7392244546926225,4.642524233648205,0.07697001755495399,-3.852708085133133,-2.938164319262449,1.8152936215949773,4.3601392099712095,-0.5806696228912857,-0.6528306437005277,1.5523164652419603,-1.2531641515249228,0.8888455741847849,-4.081024747184786,1.1289071413522649,-5.529927715631544,-4.1941687309817635,-2.3335876313021524,0.6732487979259207,1.4801518203936679,2.2723406855926642,3.017097489456819,0.5745709663474567,-4.380915790208124,4.608692958301246,-2.7176405157865062,-2.6471754858403234,2.230485285200868,-3.343763637460092,2.894247127951844,1.3491837097137689,-0.5663108585437023,2.308192218072847,2.4340966194424007,-1.9911889969797991,-0.6162142032444379,-1.280454869572777,-2.8797962592225486,3.1379684515528212,-0.06969086377057553,-3.1243961647446747,1.7583719643293791,-0.14405652234561656,1.1774020589694019,-0.9018217635397018,-5.4947581331471635,-0.5167711878777048,4.179237947816857,-3.2473542394659547,-2.147946586034961,-0.2370238046642453,-3.422407708103663,0.9174952311445196,0.5195583866238925,-2.355525455954758,-0.9644762130441993,0.7141343983069776,0.13162946593571945,-2.529936369462553,1.1778075446137022,-1.6681754120689578,-0.13041695703175987,-1.8443507146155083,-1.2983585239702824,-0.2752074373302066,1.2571875857597927,1.7889959340040578,-1.223046543327526,-1.2496512149006462,4.867163691013304,0.2279351868808605,0.724504049858217,-0.6786298789462292,1.9067230583665047,2.3958466078175955,2.8637639547335323,-2.5208073873774945,1.2220809002544044,-4.974803376466302,-3.505135629572343,0.23827899774021075,1.1214806024641342,0.3711630650286595,-1.500259724868725,-2.0192131740609147,-5.559769440648991,-0.1840643748011199,-0.09292412040302188,0.7155547226641275,-2.658607430862067,-2.7755884749506716,-1.8655070166920424,-0.14518269750204468,2.9773107735627677,-0.09912869400821889,-2.2497604205367367,-0.6244205761712494,4.281784022568704,0.006927257008017108,-2.2826961362973726,-2.399636471907121,-0.7938006692851408,-1.0789543534470598,-1.1710996254844663,-1.5268187725854476,1.155416606104363,1.520662036664031,3.3670681742002646,-0.5543900359346191,-0.41295618306497417,-1.7643107904697346,-1.903951381752971,1.1299781420068244,-2.8310139182839893,-1.298616086257093,-1.2680402906770432,3.6780815878903566,0.8464784272944669,2.172284878358353,-1.8851100365301132,-1.0817398827871996,-2.8888546037732983,-1.5542589440087042,-2.2563564351766408,3.178775709987448,-1.4377502428034032,-3.7613397911817374,1.7556391141587573,1.351426524414968,-4.270982564352593,-2.4167969001293605,-0.423852790520483,2.4839987935620034,-1.2869664859400296,-0.23304359896875473,-2.108899742860495,-0.23346993161513802,0.059468065365985784,-1.0520919962233064,0.08774803114788125,1.1394600436711075,-1.2007109654577865,-0.944271965461009,-1.6027316142422583,2.028979687013256,1.2457942650263936,-5.714550678807779,-0.5452500003295927,1.9082552061958886,-0.4215076245597975,0.9763341618531838,3.194673175129039,0.2532982819206068,-0.3671691453613548,-2.3524821819111446,-1.4731154737131782,-2.772106979430702,-1.8375659255273158,-1.6876864190904277,5.333454006106509,-2.8485974337282998,-3.6401963589171302,0.00984703314324908,-1.477722941984168,-0.3753618783336673,-2.566537725039299,-1.4171237722954932,-2.8847173919324227,-1.6181940909782317,-1.0658962931329565,1.8217060323830392,0.41453263763835446,0.6538123848752329,-3.2871936751775577,-2.0659486525985,0.5052349811258695,4.878289651185816,2.857109240750664,-0.10004354895696238,0.6633307011704012,-2.8335285812480024,-0.7892576845332382,-0.34835603959461153,0.6147381882412212,3.43347249157151,-0.2146896276615834,-2.477434796480456,-0.1563156990352753,0.7023208092787191,-2.017217227571174,-0.9938067661615907,-1.3478767489985686,-0.30833903925517214,-0.7835159010575619,-2.413680414734506,-2.5826270819859953,0.5224665785374775,-0.29320534626496475,-0.8634784383459059,-2.971691427886262,4.215820776521354,-0.7426189606536616,-4.413326552697791,-2.3695713928417477,-0.19415423664314688,-1.0769150314091518,3.566522039213045,-0.6828685864921427,3.5095284047032114,-2.9720699631838126,-3.0946637649514677,-2.915323910753908,-0.4258980888736935,-2.0772270947678284,5.190371081026841,-1.5780001680504119,1.3790729923426817,-2.062125559491565,1.8416178110037886,-3.639797425299834,-0.7472578673520123,-0.7510048613516062,0.5601358997053392,3.554266012154738,3.3295176256083696,0.5496379813520776,-1.8134629034880643,-0.3318955914759134,1.4705600348898884,2.074850465034807,1.4892233338901077,-1.0050541707933531,2.695286266585972,-5.3004048468272345,-3.4193075312474033,3.5559664013116397,-2.61319659018158,0.4550646045604153,1.1629048828856434,-0.13881273921476164,-0.7007068898933883,-2.8730267128817015,1.129787317680693,-0.07925969084280776,-2.035985093722885,-2.0079347634434996,-3.0615276659529678,-2.2083267193064553,-2.616032086010401,-1.8962277204177642,-0.007973745354993492,2.0423508188180524,-1.4946953645315353,-0.48682101465599814,-1.2289246895195842,-1.289209149748925,0.23060378099115933,3.1890682379618753,-0.46070789209164553,-3.9137902605574153,-0.25027314527347283,0.7067188899345004,-1.8382592598485048,2.831134157188881,-1.2165959649595528,4.172136496268847,-0.8297690041012908,-3.3988251608104934,2.6301854536939637,-1.4810342521829771,0.3997403084965028,0.0799482993665904,0.33115626360187783,-1.8277639158472547,-2.7715980907131885,0.14068713670474944,-0.2395521468293729,-3.2700812507592842,-1.5563853049297371,-3.417466042291407,1.8104563621954384,-0.7424411403852677,-1.444172377393631,-2.4726295712629254,-1.9770733722174523,-0.9822416887356592,-2.187252681303382,-3.1750649406627716,-1.718092040035769,0.7957005218740674,0.036395446421742965,0.4114580517779178,1.4913897793183237,0.6635810148888501,-2.552880579776684,1.0099166684526106,3.991357467195943],\"type\":\"scatter3d\"}],                        {\"template\":{\"data\":{\"bar\":[{\"error_x\":{\"color\":\"#2a3f5f\"},\"error_y\":{\"color\":\"#2a3f5f\"},\"marker\":{\"line\":{\"color\":\"#E5ECF6\",\"width\":0.5},\"pattern\":{\"fillmode\":\"overlay\",\"size\":10,\"solidity\":0.2}},\"type\":\"bar\"}],\"barpolar\":[{\"marker\":{\"line\":{\"color\":\"#E5ECF6\",\"width\":0.5},\"pattern\":{\"fillmode\":\"overlay\",\"size\":10,\"solidity\":0.2}},\"type\":\"barpolar\"}],\"carpet\":[{\"aaxis\":{\"endlinecolor\":\"#2a3f5f\",\"gridcolor\":\"white\",\"linecolor\":\"white\",\"minorgridcolor\":\"white\",\"startlinecolor\":\"#2a3f5f\"},\"baxis\":{\"endlinecolor\":\"#2a3f5f\",\"gridcolor\":\"white\",\"linecolor\":\"white\",\"minorgridcolor\":\"white\",\"startlinecolor\":\"#2a3f5f\"},\"type\":\"carpet\"}],\"choropleth\":[{\"colorbar\":{\"outlinewidth\":0,\"ticks\":\"\"},\"type\":\"choropleth\"}],\"contour\":[{\"colorbar\":{\"outlinewidth\":0,\"ticks\":\"\"},\"colorscale\":[[0.0,\"#0d0887\"],[0.1111111111111111,\"#46039f\"],[0.2222222222222222,\"#7201a8\"],[0.3333333333333333,\"#9c179e\"],[0.4444444444444444,\"#bd3786\"],[0.5555555555555556,\"#d8576b\"],[0.6666666666666666,\"#ed7953\"],[0.7777777777777778,\"#fb9f3a\"],[0.8888888888888888,\"#fdca26\"],[1.0,\"#f0f921\"]],\"type\":\"contour\"}],\"contourcarpet\":[{\"colorbar\":{\"outlinewidth\":0,\"ticks\":\"\"},\"type\":\"contourcarpet\"}],\"heatmap\":[{\"colorbar\":{\"outlinewidth\":0,\"ticks\":\"\"},\"colorscale\":[[0.0,\"#0d0887\"],[0.1111111111111111,\"#46039f\"],[0.2222222222222222,\"#7201a8\"],[0.3333333333333333,\"#9c179e\"],[0.4444444444444444,\"#bd3786\"],[0.5555555555555556,\"#d8576b\"],[0.6666666666666666,\"#ed7953\"],[0.7777777777777778,\"#fb9f3a\"],[0.8888888888888888,\"#fdca26\"],[1.0,\"#f0f921\"]],\"type\":\"heatmap\"}],\"heatmapgl\":[{\"colorbar\":{\"outlinewidth\":0,\"ticks\":\"\"},\"colorscale\":[[0.0,\"#0d0887\"],[0.1111111111111111,\"#46039f\"],[0.2222222222222222,\"#7201a8\"],[0.3333333333333333,\"#9c179e\"],[0.4444444444444444,\"#bd3786\"],[0.5555555555555556,\"#d8576b\"],[0.6666666666666666,\"#ed7953\"],[0.7777777777777778,\"#fb9f3a\"],[0.8888888888888888,\"#fdca26\"],[1.0,\"#f0f921\"]],\"type\":\"heatmapgl\"}],\"histogram\":[{\"marker\":{\"pattern\":{\"fillmode\":\"overlay\",\"size\":10,\"solidity\":0.2}},\"type\":\"histogram\"}],\"histogram2d\":[{\"colorbar\":{\"outlinewidth\":0,\"ticks\":\"\"},\"colorscale\":[[0.0,\"#0d0887\"],[0.1111111111111111,\"#46039f\"],[0.2222222222222222,\"#7201a8\"],[0.3333333333333333,\"#9c179e\"],[0.4444444444444444,\"#bd3786\"],[0.5555555555555556,\"#d8576b\"],[0.6666666666666666,\"#ed7953\"],[0.7777777777777778,\"#fb9f3a\"],[0.8888888888888888,\"#fdca26\"],[1.0,\"#f0f921\"]],\"type\":\"histogram2d\"}],\"histogram2dcontour\":[{\"colorbar\":{\"outlinewidth\":0,\"ticks\":\"\"},\"colorscale\":[[0.0,\"#0d0887\"],[0.1111111111111111,\"#46039f\"],[0.2222222222222222,\"#7201a8\"],[0.3333333333333333,\"#9c179e\"],[0.4444444444444444,\"#bd3786\"],[0.5555555555555556,\"#d8576b\"],[0.6666666666666666,\"#ed7953\"],[0.7777777777777778,\"#fb9f3a\"],[0.8888888888888888,\"#fdca26\"],[1.0,\"#f0f921\"]],\"type\":\"histogram2dcontour\"}],\"mesh3d\":[{\"colorbar\":{\"outlinewidth\":0,\"ticks\":\"\"},\"type\":\"mesh3d\"}],\"parcoords\":[{\"line\":{\"colorbar\":{\"outlinewidth\":0,\"ticks\":\"\"}},\"type\":\"parcoords\"}],\"pie\":[{\"automargin\":true,\"type\":\"pie\"}],\"scatter\":[{\"marker\":{\"colorbar\":{\"outlinewidth\":0,\"ticks\":\"\"}},\"type\":\"scatter\"}],\"scatter3d\":[{\"line\":{\"colorbar\":{\"outlinewidth\":0,\"ticks\":\"\"}},\"marker\":{\"colorbar\":{\"outlinewidth\":0,\"ticks\":\"\"}},\"type\":\"scatter3d\"}],\"scattercarpet\":[{\"marker\":{\"colorbar\":{\"outlinewidth\":0,\"ticks\":\"\"}},\"type\":\"scattercarpet\"}],\"scattergeo\":[{\"marker\":{\"colorbar\":{\"outlinewidth\":0,\"ticks\":\"\"}},\"type\":\"scattergeo\"}],\"scattergl\":[{\"marker\":{\"colorbar\":{\"outlinewidth\":0,\"ticks\":\"\"}},\"type\":\"scattergl\"}],\"scattermapbox\":[{\"marker\":{\"colorbar\":{\"outlinewidth\":0,\"ticks\":\"\"}},\"type\":\"scattermapbox\"}],\"scatterpolar\":[{\"marker\":{\"colorbar\":{\"outlinewidth\":0,\"ticks\":\"\"}},\"type\":\"scatterpolar\"}],\"scatterpolargl\":[{\"marker\":{\"colorbar\":{\"outlinewidth\":0,\"ticks\":\"\"}},\"type\":\"scatterpolargl\"}],\"scatterternary\":[{\"marker\":{\"colorbar\":{\"outlinewidth\":0,\"ticks\":\"\"}},\"type\":\"scatterternary\"}],\"surface\":[{\"colorbar\":{\"outlinewidth\":0,\"ticks\":\"\"},\"colorscale\":[[0.0,\"#0d0887\"],[0.1111111111111111,\"#46039f\"],[0.2222222222222222,\"#7201a8\"],[0.3333333333333333,\"#9c179e\"],[0.4444444444444444,\"#bd3786\"],[0.5555555555555556,\"#d8576b\"],[0.6666666666666666,\"#ed7953\"],[0.7777777777777778,\"#fb9f3a\"],[0.8888888888888888,\"#fdca26\"],[1.0,\"#f0f921\"]],\"type\":\"surface\"}],\"table\":[{\"cells\":{\"fill\":{\"color\":\"#EBF0F8\"},\"line\":{\"color\":\"white\"}},\"header\":{\"fill\":{\"color\":\"#C8D4E3\"},\"line\":{\"color\":\"white\"}},\"type\":\"table\"}]},\"layout\":{\"annotationdefaults\":{\"arrowcolor\":\"#2a3f5f\",\"arrowhead\":0,\"arrowwidth\":1},\"autotypenumbers\":\"strict\",\"coloraxis\":{\"colorbar\":{\"outlinewidth\":0,\"ticks\":\"\"}},\"colorscale\":{\"diverging\":[[0,\"#8e0152\"],[0.1,\"#c51b7d\"],[0.2,\"#de77ae\"],[0.3,\"#f1b6da\"],[0.4,\"#fde0ef\"],[0.5,\"#f7f7f7\"],[0.6,\"#e6f5d0\"],[0.7,\"#b8e186\"],[0.8,\"#7fbc41\"],[0.9,\"#4d9221\"],[1,\"#276419\"]],\"sequential\":[[0.0,\"#0d0887\"],[0.1111111111111111,\"#46039f\"],[0.2222222222222222,\"#7201a8\"],[0.3333333333333333,\"#9c179e\"],[0.4444444444444444,\"#bd3786\"],[0.5555555555555556,\"#d8576b\"],[0.6666666666666666,\"#ed7953\"],[0.7777777777777778,\"#fb9f3a\"],[0.8888888888888888,\"#fdca26\"],[1.0,\"#f0f921\"]],\"sequentialminus\":[[0.0,\"#0d0887\"],[0.1111111111111111,\"#46039f\"],[0.2222222222222222,\"#7201a8\"],[0.3333333333333333,\"#9c179e\"],[0.4444444444444444,\"#bd3786\"],[0.5555555555555556,\"#d8576b\"],[0.6666666666666666,\"#ed7953\"],[0.7777777777777778,\"#fb9f3a\"],[0.8888888888888888,\"#fdca26\"],[1.0,\"#f0f921\"]]},\"colorway\":[\"#636efa\",\"#EF553B\",\"#00cc96\",\"#ab63fa\",\"#FFA15A\",\"#19d3f3\",\"#FF6692\",\"#B6E880\",\"#FF97FF\",\"#FECB52\"],\"font\":{\"color\":\"#2a3f5f\"},\"geo\":{\"bgcolor\":\"white\",\"lakecolor\":\"white\",\"landcolor\":\"#E5ECF6\",\"showlakes\":true,\"showland\":true,\"subunitcolor\":\"white\"},\"hoverlabel\":{\"align\":\"left\"},\"hovermode\":\"closest\",\"mapbox\":{\"style\":\"light\"},\"paper_bgcolor\":\"white\",\"plot_bgcolor\":\"#E5ECF6\",\"polar\":{\"angularaxis\":{\"gridcolor\":\"white\",\"linecolor\":\"white\",\"ticks\":\"\"},\"bgcolor\":\"#E5ECF6\",\"radialaxis\":{\"gridcolor\":\"white\",\"linecolor\":\"white\",\"ticks\":\"\"}},\"scene\":{\"xaxis\":{\"backgroundcolor\":\"#E5ECF6\",\"gridcolor\":\"white\",\"gridwidth\":2,\"linecolor\":\"white\",\"showbackground\":true,\"ticks\":\"\",\"zerolinecolor\":\"white\"},\"yaxis\":{\"backgroundcolor\":\"#E5ECF6\",\"gridcolor\":\"white\",\"gridwidth\":2,\"linecolor\":\"white\",\"showbackground\":true,\"ticks\":\"\",\"zerolinecolor\":\"white\"},\"zaxis\":{\"backgroundcolor\":\"#E5ECF6\",\"gridcolor\":\"white\",\"gridwidth\":2,\"linecolor\":\"white\",\"showbackground\":true,\"ticks\":\"\",\"zerolinecolor\":\"white\"}},\"shapedefaults\":{\"line\":{\"color\":\"#2a3f5f\"}},\"ternary\":{\"aaxis\":{\"gridcolor\":\"white\",\"linecolor\":\"white\",\"ticks\":\"\"},\"baxis\":{\"gridcolor\":\"white\",\"linecolor\":\"white\",\"ticks\":\"\"},\"bgcolor\":\"#E5ECF6\",\"caxis\":{\"gridcolor\":\"white\",\"linecolor\":\"white\",\"ticks\":\"\"}},\"title\":{\"x\":0.05},\"xaxis\":{\"automargin\":true,\"gridcolor\":\"white\",\"linecolor\":\"white\",\"ticks\":\"\",\"title\":{\"standoff\":15},\"zerolinecolor\":\"white\",\"zerolinewidth\":2},\"yaxis\":{\"automargin\":true,\"gridcolor\":\"white\",\"linecolor\":\"white\",\"ticks\":\"\",\"title\":{\"standoff\":15},\"zerolinecolor\":\"white\",\"zerolinewidth\":2}}},\"scene\":{\"domain\":{\"x\":[0.0,1.0],\"y\":[0.0,1.0]},\"xaxis\":{\"title\":{\"text\":\"x\"}},\"yaxis\":{\"title\":{\"text\":\"y\"}},\"zaxis\":{\"title\":{\"text\":\"z\"}}},\"legend\":{\"title\":{\"text\":\"color\"},\"tracegroupgap\":0},\"margin\":{\"t\":20,\"l\":20,\"r\":20,\"b\":20},\"paper_bgcolor\":\"LightSteelBlue\"},                        {\"responsive\": true}                    ).then(function(){\n",
       "                            \n",
       "var gd = document.getElementById('61b17d78-98e1-4c93-a7c2-bf5315f3a757');\n",
       "var x = new MutationObserver(function (mutations, observer) {{\n",
       "        var display = window.getComputedStyle(gd).display;\n",
       "        if (!display || display === 'none') {{\n",
       "            console.log([gd, 'removed!']);\n",
       "            Plotly.purge(gd);\n",
       "            observer.disconnect();\n",
       "        }}\n",
       "}});\n",
       "\n",
       "// Listen for the removal of the full notebook cells\n",
       "var notebookContainer = gd.closest('#notebook-container');\n",
       "if (notebookContainer) {{\n",
       "    x.observe(notebookContainer, {childList: true});\n",
       "}}\n",
       "\n",
       "// Listen for the clearing of the current output cell\n",
       "var outputEl = gd.closest('.output');\n",
       "if (outputEl) {{\n",
       "    x.observe(outputEl, {childList: true});\n",
       "}}\n",
       "\n",
       "                        })                };                });            </script>        </div>"
      ]
     },
     "metadata": {},
     "output_type": "display_data"
    }
   ],
   "source": [
    "import plotly.express as px\n",
    "y_train_trf = y_train.astype(str)\n",
    "fig = px.scatter_3d(train, x=X_train_trf[:,0], y=X_train_trf[:,1], z=X_train_trf[:,2],\n",
    "              color=y_train_trf)\n",
    "fig.update_layout(\n",
    "    margin=dict(l=20, r=20, t=20, b=20),\n",
    "    paper_bgcolor=\"LightSteelBlue\",\n",
    ")\n",
    "fig.show()"
   ]
  },
  {
   "cell_type": "code",
   "execution_count": 67,
   "id": "7aaeb255",
   "metadata": {},
   "outputs": [
    {
     "data": {
      "text/plain": [
       "array([18.35651492,  9.5840929 ,  7.22719328])"
      ]
     },
     "execution_count": 67,
     "metadata": {},
     "output_type": "execute_result"
    }
   ],
   "source": [
    "pca.explained_variance_\n",
    "# Eigen values"
   ]
  },
  {
   "cell_type": "code",
   "execution_count": 78,
   "id": "ea660a88",
   "metadata": {},
   "outputs": [
    {
     "data": {
      "text/plain": [
       "0     -0.330218\n",
       "1      0.426675\n",
       "2     -0.449942\n",
       "3     -0.385247\n",
       "4      0.008941\n",
       "         ...   \n",
       "647   -0.161713\n",
       "648   -0.296854\n",
       "649    0.115255\n",
       "650   -0.082016\n",
       "651   -0.078275\n",
       "Name: V1, Length: 652, dtype: float64"
      ]
     },
     "execution_count": 78,
     "metadata": {},
     "output_type": "execute_result"
    }
   ],
   "source": [
    "train.iloc[:,0]"
   ]
  },
  {
   "cell_type": "code",
   "execution_count": null,
   "id": "6c1a6d6a",
   "metadata": {},
   "outputs": [],
   "source": []
  }
 ],
 "metadata": {
  "kernelspec": {
   "display_name": "Python 3 (ipykernel)",
   "language": "python",
   "name": "python3"
  },
  "language_info": {
   "codemirror_mode": {
    "name": "ipython",
    "version": 3
   },
   "file_extension": ".py",
   "mimetype": "text/x-python",
   "name": "python",
   "nbconvert_exporter": "python",
   "pygments_lexer": "ipython3",
   "version": "3.9.12"
  }
 },
 "nbformat": 4,
 "nbformat_minor": 5
}
