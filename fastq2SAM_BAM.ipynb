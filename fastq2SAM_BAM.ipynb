{
  "nbformat": 4,
  "nbformat_minor": 0,
  "metadata": {
    "colab": {
      "provenance": [],
      "authorship_tag": "ABX9TyMbJrhRH6pUQlVd3Y/iMLQ6",
      "include_colab_link": true
    },
    "kernelspec": {
      "name": "python3",
      "display_name": "Python 3"
    },
    "language_info": {
      "name": "python"
    }
  },
  "cells": [
    {
      "cell_type": "markdown",
      "metadata": {
        "id": "view-in-github",
        "colab_type": "text"
      },
      "source": [
        "<a href=\"https://colab.research.google.com/github/codebuzer/Bioactivity-Prediction-App/blob/main/fastq2SAM_BAM.ipynb\" target=\"_parent\"><img src=\"https://colab.research.google.com/assets/colab-badge.svg\" alt=\"Open In Colab\"/></a>"
      ]
    },
    {
      "cell_type": "markdown",
      "source": [
        "#Md AbuZar Khan \n",
        "To convert a FASTQ file to SAM or BAM format without using Galaxy, you can use a command-line tool called samtools. samtools is a widely-used software package that provides tools for working with next-generation sequencing data, including the ability to convert FASTQ files to SAM or BAM format.\n",
        "\n",
        "Here is an example of how to use samtools to convert a FASTQ file to SAM format:"
      ],
      "metadata": {
        "id": "Eh1lwvltmSoX"
      }
    },
    {
      "cell_type": "code",
      "source": [
        "# install samtools if you don't have it already\n",
        "!pip install samtools\n",
        "\n",
        "# import the necessary modules\n",
        "import pysam\n",
        "\n",
        "# open the FASTQ file and the output SAM file\n",
        "with pysam.FastxFile(\"input.fastq\") as fastq_file, pysam.AlignmentFile(\"output.sam\", \"w\", template=fastq_file) as sam_file:\n",
        "  # iterate over the records in the FASTQ file\n",
        "  for record in fastq_file:\n",
        "    # convert the FASTQ record to a SAM record\n",
        "    sam_record = pysam.AlignedSegment.from_fastq_record(record)\n",
        "\n",
        "    # write the SAM record to the output file\n",
        "    sam_file.write(sam_record)\n"
      ],
      "metadata": {
        "id": "wYC9dzHQrm9X"
      },
      "execution_count": null,
      "outputs": []
    },
    {
      "cell_type": "markdown",
      "source": [
        "This code uses the pysam library to open the input FASTQ file and the output SAM file, and then iterate over the records in the FASTQ file. For each record, it uses the from_fastq_record method to convert the FASTQ record to a SAM record, and then writes the SAM record to the output file.\n",
        "\n",
        "To convert the FASTQ file to BAM format, you can use the bam_file method of the AlignmentFile class to open the output file in BAM format, like this:"
      ],
      "metadata": {
        "id": "Pi1FFyJHmlkh"
      }
    },
    {
      "cell_type": "code",
      "source": [
        "# open the FASTQ file and the output BAM file\n",
        "with pysam.FastxFile(\"input.fastq\") as fastq_file, pysam.AlignmentFile(\"output.bam\", \"wb\", template=fastq_file) as bam_file:\n",
        "  # iterate over the records in the FASTQ file\n",
        "  for record in fastq_file:\n",
        "    # convert the FASTQ record to a SAM record\n",
        "    sam_record = pysam.AlignedSegment.from_fastq_record(record)\n",
        "\n",
        "    # write the SAM record to the output file\n",
        "    bam_file.write(sam_record)\n"
      ],
      "metadata": {
        "id": "7xR70YUomqfn"
      },
      "execution_count": null,
      "outputs": []
    },
    {
      "cell_type": "code",
      "source": [],
      "metadata": {
        "id": "FnkFza6imz46"
      },
      "execution_count": null,
      "outputs": []
    },
    {
      "cell_type": "markdown",
      "source": [
        "This code is similar to the previous example, but it uses the bam_file method to open the output file in BAM format, and it uses the wb mode to indicate that the file is being opened for writing in binary mode.\n",
        "\n",
        "I hope this helps!"
      ],
      "metadata": {
        "id": "ieW18zTQm4n9"
      }
    },
    {
      "cell_type": "code",
      "source": [],
      "metadata": {
        "id": "KmVfAtv6m5rY"
      },
      "execution_count": null,
      "outputs": []
    }
  ]
}